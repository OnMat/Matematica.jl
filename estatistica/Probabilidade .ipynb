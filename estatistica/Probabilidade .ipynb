{
 "cells": [
  {
   "cell_type": "markdown",
   "id": "35971ce6",
   "metadata": {},
   "source": [
    "<center><h1>Probabilidade</h1>"
   ]
  },
  {
   "cell_type": "markdown",
   "id": "3a85b946",
   "metadata": {},
   "source": [
    "<h2>Espaço amostral</h2>"
   ]
  },
  {
   "cell_type": "markdown",
   "id": "7640da78",
   "metadata": {},
   "source": [
    "exmplo 1: o lançamento de um dados"
   ]
  },
  {
   "cell_type": "code",
   "execution_count": 60,
   "id": "6590b13f",
   "metadata": {},
   "outputs": [
    {
     "data": {
      "text/html": [
       "<div style=\"font-size: 60px;\">\n",
       "    ⚁ &nbsp;&nbsp; ⚁\n",
       "</div>\n"
      ],
      "text/plain": [
       "HTML{String}(\"<div style=\\\"font-size: 60px;\\\">\\n    ⚁ &nbsp;&nbsp; ⚁\\n</div>\\n\")"
      ]
     },
     "metadata": {},
     "output_type": "display_data"
    }
   ],
   "source": [
    "using IJulia\n",
    "\n",
    "a = rand([\"\\U2680\", \"\\U2681\", \"\\U2682\", \"\\U2683\", \"\\U2684\", \"\\U2685\"])\n",
    "b = rand([\"\\U2680\", \"\\U2681\", \"\\U2682\", \"\\U2683\", \"\\U2684\", \"\\U2685\"])\n",
    "\n",
    "# Exibe os dois símbolos com fonte maior\n",
    "display(HTML(\"\"\"\n",
    "<div style=\"font-size: 60px;\">\n",
    "    $a &nbsp;&nbsp; $b\n",
    "</div>\n",
    "\"\"\"))\n"
   ]
  },
  {
   "cell_type": "markdown",
   "id": "81a01854",
   "metadata": {},
   "source": [
    "Como exmplo de espaço amostral usaremos um codigo que gera os naipes e as cartas de um baralho"
   ]
  },
  {
   "cell_type": "code",
   "execution_count": 27,
   "id": "5a3c80aa",
   "metadata": {},
   "outputs": [
    {
     "data": {
      "text/plain": [
       "\"♦\""
      ]
     },
     "execution_count": 27,
     "metadata": {},
     "output_type": "execute_result"
    }
   ],
   "source": [
    "rand([\"\\u2665\", \"\\u2660\",\"\\u2666\",\"\\u2663\"])"
   ]
  },
  {
   "cell_type": "code",
   "execution_count": null,
   "id": "d89a43b3",
   "metadata": {},
   "outputs": [],
   "source": []
  }
 ],
 "metadata": {
  "kernelspec": {
   "display_name": "Julia 1.10.5",
   "language": "julia",
   "name": "julia-1.10"
  },
  "language_info": {
   "file_extension": ".jl",
   "mimetype": "application/julia",
   "name": "julia",
   "version": "1.10.5"
  }
 },
 "nbformat": 4,
 "nbformat_minor": 5
}
