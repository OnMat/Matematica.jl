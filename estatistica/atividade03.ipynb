{
 "cells": [
  {
   "cell_type": "markdown",
   "id": "33c1bb5d",
   "metadata": {},
   "source": [
    "# Implementação da mediana\n",
    "___"
   ]
  },
  {
   "cell_type": "code",
   "execution_count": 7,
   "id": "7cbf40d3",
   "metadata": {},
   "outputs": [
    {
     "name": "stdout",
     "output_type": "stream",
     "text": [
      "Mediana da sequência: 6.0\n"
     ]
    }
   ],
   "source": [
    "# 2º passo\n",
    "if n % 2 == 1\n",
    "    # para n ímpar, mediana é o elemento do meio (no vetor ordenado)\n",
    "    mediana = x_ordenado[(n + 1) ÷ 2]\n",
    "else\n",
    "    # para n par, mediana é a média dos dois elementos centrais\n",
    "    mediana = (x_ordenado[n ÷ 2] + x_ordenado[(n ÷ 2) + 1]) / 2\n",
    "end\n",
    "println(\"Mediana da sequência: \", mediana)"
   ]
  },
  {
   "cell_type": "markdown",
   "id": "94722311",
   "metadata": {},
   "source": [
    "# Versão completa do código\n",
    "___"
   ]
  },
  {
   "cell_type": "code",
   "execution_count": 10,
   "id": "903cf849",
   "metadata": {},
   "outputs": [
    {
     "name": "stdout",
     "output_type": "stream",
     "text": [
      "**************************************\n",
      "* Calculadora de Tendências Centrais *\n",
      "**************************************\n",
      "Informe a quantidade de números:\n",
      "stdin> 5\n",
      "Informe o 1º número:\n",
      "stdin> 34\n",
      "Informe o 2º número:\n",
      "stdin> 56\n",
      "Informe o 3º número:\n",
      "stdin> 7\n",
      "Informe o 4º número:\n",
      "stdin> 8\n",
      "Informe o 5º número:\n",
      "stdin> 90\n",
      "\n",
      "--- Resultados ---\n",
      "Números informados em ordem crescente: [7.0, 8.0, 34.0, 56.0, 90.0]\n",
      "Quantidade de números informados: 5\n",
      "Soma dos números da sequência: 195.0\n",
      "Média da sequência: 39.0\n",
      "Mediana da sequência: 34.0\n"
     ]
    }
   ],
   "source": [
    "# Primeira etapa da construção do código\n",
    "println(repeat(\"*\", 38))\n",
    "println(\"* Calculadora de Tendências Centrais *\")\n",
    "println(repeat(\"*\", 38))\n",
    "\n",
    "# Coleta e armazena os dados no vetor\n",
    "println(\"Informe a quantidade de números:\")\n",
    "n = parse(Int, readline())\n",
    "x = Vector{Float64}(undef, n)  # Cria um vetor com n posições não inicializadas\n",
    "\n",
    "for i in 1:n\n",
    "    println(\"Informe o $(i)º número:\")\n",
    "    x[i] = parse(Float64, readline())\n",
    "end\n",
    "\n",
    "# Ordena o vetor e calcula soma e média\n",
    "x_ordenado = sort(x)\n",
    "total = sum(x)\n",
    "media = round(total / n, digits=2)\n",
    "\n",
    "# Cálculo da mediana\n",
    "if n % 2 == 1\n",
    "    # Para n ímpar: mediana é o elemento do meio\n",
    "    mediana = x_ordenado[(n + 1) ÷ 2]\n",
    "else\n",
    "    # Para n par: mediana é a média dos dois elementos centrais\n",
    "    mediana = (x_ordenado[n ÷ 2] + x_ordenado[(n ÷ 2) + 1]) / 2\n",
    "end\n",
    "\n",
    "# Exibe os resultados\n",
    "println(\"\\n--- Resultados ---\")\n",
    "println(\"Números informados em ordem crescente: \", x_ordenado)\n",
    "println(\"Quantidade de números informados: \", length(x))\n",
    "println(\"Soma dos números da sequência: \", total)\n",
    "println(\"Média da sequência: \", media)\n",
    "println(\"Mediana da sequência: \", mediana)"
   ]
  }
 ],
 "metadata": {
  "kernelspec": {
   "display_name": "Julia 1.10.5",
   "language": "julia",
   "name": "julia-1.10"
  },
  "language_info": {
   "file_extension": ".jl",
   "mimetype": "application/julia",
   "name": "julia",
   "version": "1.10.5"
  }
 },
 "nbformat": 4,
 "nbformat_minor": 5
}
