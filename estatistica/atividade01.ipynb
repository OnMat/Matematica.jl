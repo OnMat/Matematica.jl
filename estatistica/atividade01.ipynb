{
 "cells": [
  {
   "cell_type": "markdown",
   "id": "35971ce6",
   "metadata": {},
   "source": [
    "# Dois M's da estatística\n",
    "___"
   ]
  },
  {
   "cell_type": "markdown",
   "id": "3a7d7850",
   "metadata": {},
   "source": [
    "### Definições:\n",
    "\n",
    "**Média**  \n",
    "A média é o valor obtido pela soma de todos os elementos de um conjunto de dados dividida pelo número total de elementos. Também conhecida como média aritmética, ela representa o valor “central” ou “equilíbrio” dos dados.\n",
    "\n",
    "Fórmula da média para um conjunto com $n$ elementos $x_1, x_2, \\ldots, x_n$:  \n",
    "$$\n",
    "\\bar{x} = \\frac{x_1 + x_2 + \\cdots + x_n}{n}\n",
    "$$\n",
    "\n",
    "---\n",
    "\n",
    "**Mediana**  \n",
    "A mediana é o valor que ocupa a posição central quando os dados são ordenados em ordem crescente ou decrescente. Se o número de elementos for ímpar, a mediana é o elemento do meio; se for par, é a média dos dois elementos centrais.\n"
   ]
  }
 ],
 "metadata": {
  "kernelspec": {
   "display_name": "Julia 1.10.5",
   "language": "julia",
   "name": "julia-1.10"
  },
  "language_info": {
   "file_extension": ".jl",
   "mimetype": "application/julia",
   "name": "julia",
   "version": "1.10.5"
  }
 },
 "nbformat": 4,
 "nbformat_minor": 5
}
