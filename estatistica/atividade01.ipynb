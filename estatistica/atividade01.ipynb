{
 "cells": [
  {
   "cell_type": "markdown",
   "id": "35971ce6",
   "metadata": {},
   "source": [
    "# Os tres M da estatistica\n",
    "___"
   ]
  },
  {
   "cell_type": "markdown",
   "id": "3a7d7850",
   "metadata": {},
   "source": [
    "## Objetos de conhecimento abordado\n",
    "- Medidas de tendencia central: média, moda e mediana."
   ]
  },
  {
   "cell_type": "markdown",
   "id": "c0d2fd08",
   "metadata": {},
   "source": [
    "### Objetivo Geral:\n",
    "Compreender e aplicar as medidas de tendência central — média, moda e mediana — em contextos reais, desenvolvendo habilidades de interpretação de dados e raciocínio estatístico, com o apoio de ferramentas digitais."
   ]
  },
  {
   "cell_type": "markdown",
   "id": "3a85b946",
   "metadata": {},
   "source": [
    "## Descritor do SPAECE relacionado: \n",
    "- **D77:** Resolver problema usando a média aritmética. \n"
   ]
  },
  {
   "cell_type": "markdown",
   "id": "7640da78",
   "metadata": {},
   "source": [
    "### Explorando os Três M da Estatística\n",
    "\n",
    "Elabore um código que receba uma amostra de valores numéricos e exiba os valores da média, moda e mediana;\n",
    "\n",
    "- **Média**: valor que representa o centro dos dados, calculado pela soma dos valores dividida pelo número de elementos.  \n",
    "- **Mediana**: valor que divide a amostra em duas partes iguais, onde 50% dos valores são menores e 50% são maiores.  \n",
    "- **Moda**: valor ou valores que aparecem com maior frequência na amostra.\n",
    "____"
   ]
  },
  {
   "cell_type": "code",
   "execution_count": null,
   "id": "6590b13f",
   "metadata": {},
   "outputs": [
    {
     "data": {
      "text/plain": [
       "3.5"
      ]
     },
     "execution_count": 2,
     "metadata": {},
     "output_type": "execute_result"
    }
   ],
   "source": [
    "n = 6\n",
    "x = Vector{Int}(undef, n)  # cria um vetor com n posições não inicializadas\n",
    "\n",
    "for i in 1:n\n",
    "    println(\"Informe o número $(i)º:\")\n",
    "    x[i] = parse(Int, readline())\n",
    "end\n",
    "total=sum(x)\n",
    "println(\"Números digitados: \", x)\n",
    "println(\"Quantidade de elementos: \", length(x))\n",
    "println(\"Soma total: \", total)\n",
    "println(\"A média é: \", total/n)\n",
    "\n",
    "if n%2==1\n",
    "        println(\"A Mediana é: \", x[(n+1)÷2])\n",
    "else\n",
    "        println((x[n÷2]+x[n÷2+1]/2))\n",
    "end"
   ]
  },
  {
   "cell_type": "code",
   "execution_count": null,
   "id": "d89a43b3",
   "metadata": {},
   "outputs": [],
   "source": []
  }
 ],
 "metadata": {
  "kernelspec": {
   "display_name": "Julia 1.10.5",
   "language": "julia",
   "name": "julia-1.10"
  },
  "language_info": {
   "file_extension": ".jl",
   "mimetype": "application/julia",
   "name": "julia",
   "version": "1.10.5"
  }
 },
 "nbformat": 4,
 "nbformat_minor": 5
}
