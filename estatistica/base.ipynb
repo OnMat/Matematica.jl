{
 "cells": [
  {
   "cell_type": "markdown",
   "id": "35971ce6",
   "metadata": {},
   "source": [
    "# Os dois M's da estatística\n",
    "___"
   ]
  },
  {
   "cell_type": "markdown",
   "id": "3a7d7850",
   "metadata": {},
   "source": [
    "## Objetos de conhecimento abordados  \n",
    "> Medidas de tendência central: média e mediana.\n",
    "___\n",
    "### Definições:\n",
    "\n",
    "**Média**  \n",
    "A média é o valor obtido pela soma de todos os elementos de um conjunto de dados dividida pelo número total de elementos. Também conhecida como média aritmética, ela representa o valor “central” ou “equilíbrio” dos dados.\n",
    "\n",
    "Fórmula da média para um conjunto com $n$ elementos $x_1, x_2, \\ldots, x_n$:  \n",
    "$$\n",
    "\\bar{x} = \\frac{x_1 + x_2 + \\cdots + x_n}{n}\n",
    "$$\n",
    "\n",
    "---\n",
    "\n",
    "**Mediana**  \n",
    "A mediana é o valor que ocupa a posição central quando os dados são ordenados em ordem crescente ou decrescente. Se o número de elementos for ímpar, a mediana é o elemento do meio; se for par, é a média dos dois elementos centrais.\n"
   ]
  },
  {
   "cell_type": "markdown",
   "id": "c0d2fd08",
   "metadata": {},
   "source": [
    "## Objetivo Geral:\n",
    "Compreender e aplicar as medidas de tendência central — média e mediana — em contextos reais, desenvolvendo habilidades de interpretação de dados e raciocínio estatístico, com o apoio de ferramentas digitais."
   ]
  },
  {
   "cell_type": "markdown",
   "id": "3a85b946",
   "metadata": {},
   "source": [
    "## Descritor do SPAECE relacionado: \n",
    "- **D77:** Resolver problema usando a média aritmética. \n"
   ]
  },
  {
   "cell_type": "markdown",
   "id": "64e09471",
   "metadata": {},
   "source": [
    "# Problema norteador\n",
    "\n",
    "Desenvolva um código que receba uma amostra quantitativa (uma lista de números) e realize as seguintes tarefas:\n",
    "\n",
    "- Exiba os elementos dessa amostra em ordem crescente;\n",
    "- Calcule e exiba o valor da **média**;\n",
    "- Calcule e exiba o valor da **mediana**;\n",
    "\n",
    "---"
   ]
  },
  {
   "cell_type": "markdown",
   "id": "c0a5ac50",
   "metadata": {},
   "source": [
    "### Definição das funções e estruturas necessárias\n",
    "\n",
    "- `println`  \n",
    "  Função usada para exibir mensagens ou resultados na tela, imprimindo texto ou valores e pulando para a linha seguinte.\n",
    "\n",
    "- `readline()`  \n",
    "  Função que lê uma linha de entrada digitada pelo usuário no terminal, retornando uma string.\n",
    "\n",
    "- `parse`  \n",
    "  Função que converte uma string (texto) em outro tipo de dado, como um número inteiro ou decimal. Útil para transformar a entrada do usuário, que é texto, em números para cálculos.\n",
    "\n",
    "- `Vector`  \n",
    "  Estrutura de dados que armazena uma sequência ordenada de elementos do mesmo tipo (como números). No problema, será usada para guardar os valores da amostra quantitativa.  \n",
    "- `undef` indica que o vetor é criado com posições não inicializadas, que serão preenchidas posteriormente.\n",
    "\n",
    "- `sort()`  \n",
    "  Função que ordena os elementos de um vetor, geralmente em ordem crescente.\n",
    "\n",
    "- `sum()`  \n",
    "  Função que calcula a soma de todos os elementos de um vetor numérico.\n",
    "\n",
    "- `length()`  \n",
    "  Função que retorna a quantidade de elementos existentes em um vetor.\n",
    "\n",
    "- `for`  \n",
    "  Comando que permite executar repetidamente um bloco de código para cada elemento de uma coleção ou intervalo, muito útil para percorrer os valores da amostra e realizar operações, como contagem de frequências.\n"
   ]
  },
  {
   "cell_type": "markdown",
   "id": "2e68b637",
   "metadata": {},
   "source": [
    "## Código que calculo da média\n",
    "___"
   ]
  },
  {
   "cell_type": "code",
   "execution_count": 6,
   "id": "6590b13f",
   "metadata": {},
   "outputs": [
    {
     "name": "stdout",
     "output_type": "stream",
     "text": [
      "**************************************\n",
      "*  Calculadora de Tendências Centrais  *\n",
      "**************************************\n",
      "Informe a quantidade de números:\n",
      "stdin> 3\n",
      "Informe o 1º número:\n",
      "stdin> 4\n",
      "Informe o 2º número:\n",
      "stdin> 6\n",
      "Informe o 3º número:\n",
      "stdin> 7\n",
      "\n",
      "--- Resultados ---\n",
      "Números informados em ordem crescente: [4.0, 6.0, 7.0]\n",
      "Quantidade de números informados: 3\n",
      "Soma dos números da sequência: 17.0\n",
      "Média da sequência: 5.67\n"
     ]
    }
   ],
   "source": [
    "# Primeira etapa da construção do código\n",
    "println(repeat(\"*\", 40))\n",
    "println(\"* Calculadora de Tendências Centrais *\")\n",
    "println(repeat(\"*\", 40))\n",
    "\n",
    "# Coleta e armazena os dados no vetor\n",
    "println(\"Informe a quantidade de números:\")\n",
    "n = parse(Int, readline())\n",
    "x = Vector{Float64}(undef, n)  # Cria um vetor com n posições não inicializadas\n",
    "\n",
    "for i in 1:n\n",
    "    println(\"Informe o $(i)º número:\")\n",
    "    x[i] = parse(Float64, readline())\n",
    "end\n",
    "\n",
    "# Calcula e exibi os resultados\n",
    "x_ordenado = sort(x)\n",
    "total = sum(x)\n",
    "media = round(total / n, digits=2)\n",
    "\n",
    "println(\"\\n--- Resultados ---\")\n",
    "println(\"Números informados em ordem crescente: \", x_ordenado)\n",
    "println(\"Quantidade de números informados: \", length(x))\n",
    "println(\"Soma dos números da sequência: \", total)\n",
    "println(\"Média da sequência: \", media)\n"
   ]
  },
  {
   "cell_type": "markdown",
   "id": "33c1bb5d",
   "metadata": {},
   "source": [
    "# Implementação da mediana\n",
    "___"
   ]
  },
  {
   "cell_type": "code",
   "execution_count": 7,
   "id": "7cbf40d3",
   "metadata": {},
   "outputs": [
    {
     "name": "stdout",
     "output_type": "stream",
     "text": [
      "Mediana da sequência: 6.0\n"
     ]
    }
   ],
   "source": [
    "# 2º passo\n",
    "if n % 2 == 1\n",
    "    # para n ímpar, mediana é o elemento do meio (no vetor ordenado)\n",
    "    mediana = x_ordenado[(n + 1) ÷ 2]\n",
    "else\n",
    "    # para n par, mediana é a média dos dois elementos centrais\n",
    "    mediana = (x_ordenado[n ÷ 2] + x_ordenado[(n ÷ 2) + 1]) / 2\n",
    "end\n",
    "println(\"Mediana da sequência: \", mediana)"
   ]
  },
  {
   "cell_type": "markdown",
   "id": "94722311",
   "metadata": {},
   "source": [
    "# Versão completa do código\n",
    "___"
   ]
  },
  {
   "cell_type": "code",
   "execution_count": 10,
   "id": "903cf849",
   "metadata": {},
   "outputs": [
    {
     "name": "stdout",
     "output_type": "stream",
     "text": [
      "**************************************\n",
      "* Calculadora de Tendências Centrais *\n",
      "**************************************\n",
      "Informe a quantidade de números:\n",
      "stdin> 5\n",
      "Informe o 1º número:\n",
      "stdin> 34\n",
      "Informe o 2º número:\n",
      "stdin> 56\n",
      "Informe o 3º número:\n",
      "stdin> 7\n",
      "Informe o 4º número:\n",
      "stdin> 8\n",
      "Informe o 5º número:\n",
      "stdin> 90\n",
      "\n",
      "--- Resultados ---\n",
      "Números informados em ordem crescente: [7.0, 8.0, 34.0, 56.0, 90.0]\n",
      "Quantidade de números informados: 5\n",
      "Soma dos números da sequência: 195.0\n",
      "Média da sequência: 39.0\n",
      "Mediana da sequência: 34.0\n"
     ]
    }
   ],
   "source": [
    "# Primeira etapa da construção do código\n",
    "println(repeat(\"*\", 38))\n",
    "println(\"* Calculadora de Tendências Centrais *\")\n",
    "println(repeat(\"*\", 38))\n",
    "\n",
    "# Coleta e armazena os dados no vetor\n",
    "println(\"Informe a quantidade de números:\")\n",
    "n = parse(Int, readline())\n",
    "x = Vector{Float64}(undef, n)  # Cria um vetor com n posições não inicializadas\n",
    "\n",
    "for i in 1:n\n",
    "    println(\"Informe o $(i)º número:\")\n",
    "    x[i] = parse(Float64, readline())\n",
    "end\n",
    "\n",
    "# Ordena o vetor e calcula soma e média\n",
    "x_ordenado = sort(x)\n",
    "total = sum(x)\n",
    "media = round(total / n, digits=2)\n",
    "\n",
    "# Cálculo da mediana\n",
    "if n % 2 == 1\n",
    "    # Para n ímpar: mediana é o elemento do meio\n",
    "    mediana = x_ordenado[(n + 1) ÷ 2]\n",
    "else\n",
    "    # Para n par: mediana é a média dos dois elementos centrais\n",
    "    mediana = (x_ordenado[n ÷ 2] + x_ordenado[(n ÷ 2) + 1]) / 2\n",
    "end\n",
    "\n",
    "# Exibe os resultados\n",
    "println(\"\\n--- Resultados ---\")\n",
    "println(\"Números informados em ordem crescente: \", x_ordenado)\n",
    "println(\"Quantidade de números informados: \", length(x))\n",
    "println(\"Soma dos números da sequência: \", total)\n",
    "println(\"Média da sequência: \", media)\n",
    "println(\"Mediana da sequência: \", mediana)"
   ]
  }
 ],
 "metadata": {
  "kernelspec": {
   "display_name": "Julia 1.10.5",
   "language": "julia",
   "name": "julia-1.10"
  },
  "language_info": {
   "file_extension": ".jl",
   "mimetype": "application/julia",
   "name": "julia",
   "version": "1.10.5"
  }
 },
 "nbformat": 4,
 "nbformat_minor": 5
}
