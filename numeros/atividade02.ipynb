{
 "cells": [
  {
   "cell_type": "markdown",
   "id": "ac92d128",
   "metadata": {},
   "source": [
    "# Construção de uma Calculadora de Frações\n",
    "---"
   ]
  },
  {
   "cell_type": "markdown",
   "id": "bd571282",
   "metadata": {},
   "source": [
    "## Unidade Temática: Números\n",
    "---\n",
    "\n",
    "## Justificativa\n",
    "\n",
    "Grande parte dos estudantes do Ensino Fundamental apresenta dificuldades ao realizar operações com frações. Utilizar a linguagem de programação Julia como ferramenta para desenvolver uma calculadora de frações proporciona aos alunos uma forma alternativa e significativa de compreender essas operações.\n",
    "\n",
    "## Objetivo Geral\n",
    "Desenvolver com os alunos uma calculadora que realize as quatro operações com frações, promovendo a aprendizagem integrada de Matemática e Programação com a linguagem Julia.\n",
    "___"
   ]
  },
  {
   "cell_type": "markdown",
   "id": "51835c76",
   "metadata": {},
   "source": [
    "## Descritores do SPAECE relacionados\n",
    "- **D22:** Identificar fração como representação que pode estar associada a diferentes significados;\n",
    "- **D25:** Efetuar cálculos que envolvam operações com números racionais (adição, subtração, multiplicação, divisão, potenciação).\n",
    "- **D22:** Identificar fração como representação que pode estar associada a diferentes significados.\n",
    "- **D23:** Identificar frações equivalentes."
   ]
  },
  {
   "cell_type": "markdown",
   "id": "3d34c0c2",
   "metadata": {},
   "source": [
    "## Levantamento dos comandos necessários\n",
    "\n",
    "### Atividade proposta:\n",
    "\n",
    "> Em equipes, listem quais comandos e estruturas vocês acham que serão necessários para criar uma **calculadora de frações** em Julia.\n",
    "\n",
    "---\n",
    "\n",
    "### Espera-se que apareçam, por exemplo:\n",
    "\n",
    "- **Operadores básicos** (`+`, `-`, `*`, `/`): para realizar as operações entre frações.\n",
    "\n",
    "- `println()` → para exibir mensagens na tela.\n",
    "\n",
    "- `readline()` → para ler dados digitados pelo usuário.\n",
    "\n",
    "- `parse(Int, ...)` → para converter o texto lido em números inteiros.\n",
    "\n",
    "- **Variáveis** → para armazenar os numeradores e denominadores das frações.\n",
    "\n",
    "- `gcd(a, b)` → para calcular o **Máximo Divisor Comum**, útil na **simplificação** das frações.\n",
    "\n",
    "- `lcm(a, b)` → para calcular o **Mínimo Múltiplo Comum**, necessário para **soma** e **diferença** de frações com denominadores diferentes.\n",
    "\n",
    "- Estruturas condicionais `if`, `elseif`, `else` → para permitir que o programa **escolha** qual operação executar com base na escolha do usuário.\n",
    "\n",
    "---\n",
    "\n",
    "Essa etapa é fundamental para que os estudantes compreendam quais ferramentas da linguagem Julia são úteis na criação de um algoritmo funcional e organizado.\n"
   ]
  },
  {
   "cell_type": "markdown",
   "id": "02a33c4f",
   "metadata": {},
   "source": [
    "## Construção dos códigos separados para cada operação\n",
    "\n",
    "Ainda em grupos, utilizando frações fixas como $\\dfrac{2}{3}$ e $\\dfrac{1}{2}$, implementem o código para as operações com frações.\n",
    "\n",
    "###  Operações:\n",
    "\n",
    "- **Produto:**  \n",
    "  $\\dfrac{a}{b} \\times \\dfrac{c}{d} = \\dfrac{a \\times c}{b \\times d}$\n",
    "\n",
    "- **Quociente:**  \n",
    "  $\\dfrac{a}{b} \\div \\dfrac{c}{d} = \\dfrac{a \\times d}{b \\times c}$\n",
    "\n",
    "- **Soma e Diferença:**  \n",
    "  Para somar ou subtrair, use o **mínimo múltiplo comum (MMC)** dos denominadores:  \n",
    "  $$\\dfrac{a}{b} \\pm \\dfrac{c}{d} = \\dfrac{a \\times \\dfrac{\\mathrm{MMC}}{b} \\pm c \\times \\dfrac{\\mathrm{MMC}}{d}}{\\mathrm{MMC}}$$\n",
    "\n",
    "---"
   ]
  },
  {
   "cell_type": "markdown",
   "id": "739b0419",
   "metadata": {},
   "source": [
    "---\n",
    "\n",
    "### Espera-se que cada equipe apresente\n",
    "\n",
    "Abaixo está um exemplo de código completo que realiza as quatro operações com duas frações quaisquer:\n",
    "\n",
    "---"
   ]
  },
  {
   "cell_type": "code",
   "execution_count": 84,
   "id": "f8b08fe1",
   "metadata": {},
   "outputs": [
    {
     "name": "stdout",
     "output_type": "stream",
     "text": [
      "----------------------------------------\n",
      "As frações informadas foram: 2/3 e 1/2\n",
      "✅ Produto: 2/6\n",
      "✅ Quociente: 4/3\n",
      "✅ Soma: 7/6\n",
      "✅ Diferença: 1/6\n"
     ]
    }
   ],
   "source": [
    "#Frações fixas para teste:\n",
    "num₁ = 2\n",
    "den₁ = 3\n",
    "num₂ = 1\n",
    "den₂ = 2\n",
    "\n",
    "# Fraçoes informadas pelo usuário\n",
    "println(repeat(\"-\", 40))\n",
    "println(\"As frações informadas foram: $(num₁)/$(den₁) e $(num₂)/$(den₂)\")\n",
    "# Produto\n",
    "prod_num = num₁ * num₂\n",
    "prod_den = den₁ * den₂\n",
    "println(\"✅ Produto: $(prod_num)/$(prod_den)\")\n",
    "\n",
    "# Quociente\n",
    "div_num = num₁ * den₂\n",
    "div_den = den₁ * num₂\n",
    "println(\"✅ Quociente: $(div_num)/$(div_den)\")\n",
    "\n",
    "# Soma\n",
    "m = lcm(den₁, den₂)\n",
    "soma_num = m ÷ den₁ * num₁ + m ÷ den₂ * num₂\n",
    "\n",
    "println(\"✅ Soma: $(soma_num)/$(m)\")\n",
    "\n",
    "# Diferença\n",
    "sub_num = m ÷ den₁ * num₁ - m ÷ den₂ * num₂\n",
    "println(\"✅ Diferença: $(sub_num)/$(m)\")"
   ]
  },
  {
   "cell_type": "markdown",
   "id": "b18b3fd5",
   "metadata": {},
   "source": [
    "## Simplificar os resultados\n",
    "\n",
    "### Discussão em sala:\n",
    "\n",
    "**Como podemos simplificar uma fração usando o MDC (Máximo Divisor Comum)?**\n",
    "\n",
    "Relembre com os alunos o comando `gcd(a, b)` em Julia, que calcula o **máximo divisor comum** entre dois números.\n",
    "\n",
    "Mostre o seguinte exemplo de simplificação:\n",
    "\n",
    "Se temos a fração $\\dfrac{a}{b}$, podemos simplificá-la da seguinte forma:\n",
    "\n",
    "- Calcular $d = \\mathrm{gcd}(a, b)$\n",
    "- Reescrever como:  \n",
    "$\\dfrac{a}{b} = \\dfrac{a \\div d}{b \\div d}$\n",
    "\n",
    "---\n",
    "\n",
    "###  Atividade:\n",
    "\n",
    "Cada grupo deve **modificar os códigos anteriores** de suas operações para incluir a simplificação da fração **ao final do cálculo**.\n",
    "\n",
    "### Dica de código:\n",
    "\n",
    "```julia\n",
    "d = gcd(num, den)\n",
    "println(\"Fração simplificada: $(num ÷ d)/$(den ÷ d)\")\n"
   ]
  },
  {
   "cell_type": "markdown",
   "id": "3c8dfd98",
   "metadata": {},
   "source": [
    "---\n",
    "\n",
    "### Espera-se que cada equipe apresente\n",
    "\n",
    "Abaixo está um exemplo de código completo que realiza as quatro operações com duas frações quaisquer:\n",
    "\n"
   ]
  },
  {
   "cell_type": "code",
   "execution_count": 81,
   "id": "02f6b1d1",
   "metadata": {},
   "outputs": [
    {
     "name": "stdout",
     "output_type": "stream",
     "text": [
      "✅ Produto: 3/8\n",
      "✅ Quociente: 3/2\n",
      "✅ Soma: 5/4\n",
      "✅ Diferença: 1/4\n"
     ]
    }
   ],
   "source": [
    "# Frações fixas para teste:\n",
    "num₁ = 3\n",
    "den₁ = 4\n",
    "num₂ = 1\n",
    "den₂ = 2\n",
    "\n",
    "# Produto\n",
    "prod_num = num₁ * num₂\n",
    "prod_den = den₁ * den₂\n",
    "d1 = gcd(prod_num, prod_den) #MDC entre o numerador e o denominador\n",
    "println(\"✅ Produto: $(prod_num ÷ d1)/$(prod_den ÷ d1)\")\n",
    "\n",
    "# Quociente\n",
    "div_num = num₁ * den₂\n",
    "div_den = den₁ * num₂\n",
    "d2 = gcd(div_num, div_den)\n",
    "println(\"✅ Quociente: $(div_num ÷ d2)/$(div_den ÷ d2)\")\n",
    "\n",
    "# Soma\n",
    "m = lcm(den₁, den₂)\n",
    "soma_num = m ÷ den₁ * num₁ + m ÷ den₂ * num₂\n",
    "d3 = gcd(soma_num, m)\n",
    "println(\"✅ Soma: $(soma_num ÷ d3)/$(m ÷ d3)\")\n",
    "\n",
    "# Diferença\n",
    "sub_num = m ÷ den₁ * num₁ - m ÷ den₂ * num₂\n",
    "d4 = gcd(sub_num, m)\n",
    "println(\"✅ Diferença: $(sub_num ÷ d4)/$(m ÷ d4)\")"
   ]
  },
  {
   "cell_type": "markdown",
   "id": "f5399834",
   "metadata": {},
   "source": [
    "## Transformar o código em uma função reutilizável\n",
    "\n",
    "### Objetivo:\n",
    "\n",
    "Transformar todo o código construído em **uma função reutilizável**, tornando o programa mais organizado e modular.\n",
    "\n",
    "### Tarefa do grupo:\n",
    "\n",
    "- Crie uma função em Julia que receba como parâmetros os numeradores e denominadores de duas frações e exiba a operação realizada.\n",
    "- Dentro da função, organize o código de forma que:\n",
    "  - As frações sejam capturadas ou recebidas como parâmetros;\n",
    "  - O resultado final seja exibido ao usuário.\n"
   ]
  },
  {
   "cell_type": "markdown",
   "id": "84e200f6",
   "metadata": {},
   "source": [
    "---\n",
    "\n",
    "### Espera-se que cada equipe apresente\n",
    "\n",
    "Abaixo está um exemplo de código completo tranformado em uma função reutilizavel que realiza as quatro operações com duas frações quaisquer:\n",
    "\n"
   ]
  },
  {
   "cell_type": "code",
   "execution_count": 5,
   "id": "8bd9439c",
   "metadata": {},
   "outputs": [
    {
     "data": {
      "text/plain": [
       "calc_frac (generic function with 1 method)"
      ]
     },
     "execution_count": 5,
     "metadata": {},
     "output_type": "execute_result"
    }
   ],
   "source": [
    "function calc_frac(num₁,den₁,num₂,den₂)\n",
    "    # Produto\n",
    "    prod_num = num₁ * num₂\n",
    "    prod_den = den₁ * den₂\n",
    "    d1 = gcd(prod_num, prod_den) #MDC entre o numerador e o denominador\n",
    "    println(\"✅ Produto: $(prod_num ÷ d1)/$(prod_den ÷ d1)\")\n",
    "\n",
    "    # Quociente\n",
    "    div_num = num₁ * den₂\n",
    "    div_den = den₁ * num₂\n",
    "    d2 = gcd(div_num, div_den)\n",
    "    println(\"✅ Quociente: $(div_num ÷ d2)/$(div_den ÷ d2)\")\n",
    "\n",
    "    # Soma\n",
    "    m = lcm(den₁, den₂)\n",
    "    soma_num = m ÷ den₁ * num₁ + m ÷ den₂ * num₂\n",
    "    d3 = gcd(soma_num, m)\n",
    "    println(\"✅ Soma: $(soma_num ÷ d3)/$(m ÷ d3)\")\n",
    "\n",
    "    # Diferença\n",
    "    sub_num = m ÷ den₁ * num₁ - m ÷ den₂ * num₂\n",
    "    d4 = gcd(sub_num, m)\n",
    "    println(\"✅ Diferença: $(sub_num ÷ d4)/$(m ÷ d4)\")\n",
    "end"
   ]
  },
  {
   "cell_type": "code",
   "execution_count": 11,
   "id": "89d6c389",
   "metadata": {},
   "outputs": [
    {
     "name": "stdout",
     "output_type": "stream",
     "text": [
      "✅ Produto: 1/1\n",
      "✅ Quociente: 1/1\n",
      "✅ Soma: 2/1\n",
      "✅ Diferença: 0/1\n"
     ]
    }
   ],
   "source": [
    "calc_frac(1,1,1,1)"
   ]
  },
  {
   "cell_type": "markdown",
   "id": "784ac956",
   "metadata": {},
   "source": [
    "## Implementação da operação escolhida pelo usuário\n",
    "\n",
    "### Tarefa do grupo:\n",
    "\n",
    "Cada grupo deverá atualizar o código anterior acrescentando:\n",
    "\n",
    "- Uma variável para armazenar a operação escolhida pelo usuário;\n",
    "- Utilize estruturas condicionais (`if`, `elseif`, `else`) para decidir qual operação (produto, quociente, soma ou diferença) será realizada, conforme a escolha do usuário;\n",
    "- Exiba as frações informadas para conferência;\n",
    "- Caso o usuário informe uma operação inválida, exiba a mensagem:  \n",
    "  `println(\"Operação inválida\")`.\n",
    "\n",
    "---"
   ]
  },
  {
   "cell_type": "markdown",
   "id": "eea88787",
   "metadata": {},
   "source": [
    "---\n",
    "\n",
    "### Espera-se que cada equipe apresente\n",
    "\n",
    "Abaixo está um exemplo de código completo que realiza as quatro operações com duas frações quaisquer:\n",
    "\n"
   ]
  },
  {
   "cell_type": "code",
   "execution_count": 33,
   "id": "ca9ea067",
   "metadata": {},
   "outputs": [
    {
     "data": {
      "text/plain": [
       "calc_frac1 (generic function with 1 method)"
      ]
     },
     "execution_count": 33,
     "metadata": {},
     "output_type": "execute_result"
    }
   ],
   "source": [
    "function calc_frac1(num₁,den₁,op,num₂,den₂)\n",
    "# Produto\n",
    "println(repeat(\"-\", 40))\n",
    "println(\"As frações informadas foram: $(num₁)/$(den₁) e $(num₂)/$(den₂)\")\n",
    "if op == *\n",
    "        # Produto\n",
    "        prod_num = num₁ * num₂\n",
    "        prod_den = den₁ * den₂\n",
    "        d1 = gcd(prod_num, prod_den)\n",
    "        println(\"$num₁/$den₁ $op $num₂/$den₂ = $(prod_num ÷ d1)/$(prod_den ÷ d1)\")\n",
    "\n",
    "    elseif op == /\n",
    "        # Quociente\n",
    "        div_num = num₁ * den₂\n",
    "        div_den = den₁ * num₂\n",
    "        d2 = gcd(div_num, div_den)\n",
    "        println(\"$num₁/$den₁ $op $num₂/$den₂ = $(div_num ÷ d2)/$(div_den ÷ d2)\")\n",
    "\n",
    "    elseif op == +\n",
    "        # Soma\n",
    "        m = lcm(den₁, den₂)\n",
    "        soma_num = m ÷ den₁ * num₁ + m ÷ den₂ * num₂\n",
    "        d3 = gcd(soma_num, m)\n",
    "        println(\"$num₁/$den₁ $op $num₂/$den₂ = $(soma_num ÷ d3)/$(m ÷ d3)\")\n",
    "\n",
    "    elseif op == -\n",
    "        # Diferença\n",
    "        m = lcm(den₁, den₂)\n",
    "        sub_num = m ÷ den₁ * num₁ - m ÷ den₂ * num₂\n",
    "        d4 = gcd(sub_num, m)\n",
    "        println(\"$num₁/$den₁ $op $num₂/$den₂ = $(sub_num ÷ d4)/$(m ÷ d4)\")\n",
    "\n",
    "    else\n",
    "        println(\"⚠️ Operação inválida.\")\n",
    "    end\n",
    "end"
   ]
  },
  {
   "cell_type": "code",
   "execution_count": 39,
   "id": "a99d1beb",
   "metadata": {},
   "outputs": [
    {
     "name": "stdout",
     "output_type": "stream",
     "text": [
      "----------------------------------------\n",
      "As frações informadas foram: 1/2 e 1/4\n",
      "1/2 - 1/4 = 1/4\n"
     ]
    }
   ],
   "source": [
    "calc_frac1(1,2,-,1,4)"
   ]
  }
 ],
 "metadata": {
  "@webio": {
   "lastCommId": null,
   "lastKernelId": null
  },
  "kernelspec": {
   "display_name": "Julia 1.10.5",
   "language": "julia",
   "name": "julia-1.10"
  },
  "language_info": {
   "file_extension": ".jl",
   "mimetype": "application/julia",
   "name": "julia",
   "version": "1.10.5"
  }
 },
 "nbformat": 4,
 "nbformat_minor": 5
}
