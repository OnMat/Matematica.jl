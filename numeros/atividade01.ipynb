{
 "cells": [
  {
   "cell_type": "markdown",
   "id": "3d34c0c2",
   "metadata": {},
   "source": [
    "# Levantamento dos comandos necessários\n",
    "\n",
    "---"
   ]
  },
  {
   "cell_type": "markdown",
   "id": "5311bcc3",
   "metadata": {},
   "source": [
    "### Atividade 01:\n",
    "\n",
    "> Solicite aos estudantes que, de forma colaborativa, listem os objetos de conhecimento matemático envolvidos na construção da calculadora, assim como os comandos e estruturas básicas da linguagem de programação necessários para o desenvolvimento do código.\n",
    "\n",
    "---"
   ]
  },
  {
   "cell_type": "markdown",
   "id": "ea21b938",
   "metadata": {},
   "source": [
    "### Espera-se que os estudantes apresentem, por exemplo:"
   ]
  },
  {
   "cell_type": "markdown",
   "id": "c3f89048",
   "metadata": {},
   "source": [
    "#### Definição de números racionais\n",
    "\n",
    "$$\n",
    "\\mathbb{Q} = \\left\\{ \\dfrac{a}{b} \\,\\middle|\\, a \\in \\mathbb{Z},\\ b \\in \\mathbb{Z},\\ b \\neq 0 \\right\\}\n",
    "$$\n",
    "\n",
    "---\n",
    "\n",
    "#### Operações com frações\n",
    "\n",
    "- **Produto:**\n",
    "\n",
    "  $$\n",
    "  \\dfrac{a}{b} \\cdot \\dfrac{c}{d} = \\dfrac{a \\cdot c}{b \\cdot d}\n",
    "  $$\n",
    "\n",
    "- **Quociente:**\n",
    "\n",
    "  $$\n",
    "  \\dfrac{a}{b} \\div \\dfrac{c}{d} = \\dfrac{a \\cdot d}{b \\cdot c}\n",
    "  $$\n",
    "\n",
    "- **Soma e subtração (com MMC):**\n",
    "\n",
    "  $$\n",
    "  \\dfrac{a}{b} \\pm \\dfrac{c}{d} =\n",
    "  \\dfrac{a \\cdot \\dfrac{\\mathrm{MMC}}{b} \\pm c \\cdot \\dfrac{\\mathrm{MMC}}{d}}{\\mathrm{MMC}}\n",
    "  $$\n",
    "\n",
    "> Onde $\\mathrm{MMC}$ é o mínimo múltiplo comum entre os denominadores $b$ e $d$.\n"
   ]
  },
  {
   "cell_type": "markdown",
   "id": "5536e1b7",
   "metadata": {},
   "source": [
    "- **Operadores básicos** (`+`, `-`, `*`, `/`): para realizar as operações entre frações.\n",
    "\n",
    "- `println()` → para exibir mensagens na tela.\n",
    "\n",
    "- `readline()` → para ler dados digitados pelo usuário.\n",
    "\n",
    "- `parse(Int, ...)` → para converter o texto lido em números inteiros.\n",
    "\n",
    "- **Variáveis** → para armazenar os numeradores e denominadores das frações.\n",
    "\n",
    "- `gcd(a, b)` → para calcular o **Máximo Divisor Comum**, útil na **simplificação** das frações.\n",
    "\n",
    "- `lcm(a, b)` → para calcular o **Mínimo Múltiplo Comum**, necessário para **soma** e **diferença** de frações com denominadores diferentes.\n",
    "\n",
    "- Estruturas condicionais `if`, `elseif`, `else` → para permitir que o programa **escolha** qual operação executar com base na escolha do usuário.\n",
    "- function → usada para encapsular o código em funções reutilizáveis, deixando o programa mais modular e organizado.\n",
    "\n",
    "---\n",
    "\n",
    "Essa etapa é fundamental para que os estudantes compreendam quais ferramentas da linguagem Julia são úteis na criação de um algorítmo funcional e organizado.\n"
   ]
  }
 ],
 "metadata": {
  "@webio": {
   "lastCommId": null,
   "lastKernelId": null
  },
  "kernelspec": {
   "display_name": "Julia 1.10.5",
   "language": "julia",
   "name": "julia-1.10"
  },
  "language_info": {
   "file_extension": ".jl",
   "mimetype": "application/julia",
   "name": "julia",
   "version": "1.10.5"
  }
 },
 "nbformat": 4,
 "nbformat_minor": 5
}
