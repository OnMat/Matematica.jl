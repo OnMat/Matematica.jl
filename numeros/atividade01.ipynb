{
 "cells": [
  {
   "cell_type": "markdown",
   "id": "437f8837",
   "metadata": {},
   "source": [
    "<hr style=\"border: none; height: 3px; background-color: blue; width: 900px;\">\n",
    "<center><h1>TESTE DE PRIMALIDADE</h1>\n",
    "<hr style=\"border: none; height: 3px; background-color: blue; width: 900px;\">"
   ]
  },
  {
   "cell_type": "markdown",
   "id": "040135d8",
   "metadata": {},
   "source": [
    "<hr style=\"border: none; height: 2px; background-color: black; width: 970px\">\n",
    "<h2> Teste de Primalidade </h2>\n",
    "Crie um código que informe ao usuário se um determiado numero é primo ou composto"
   ]
  },
  {
   "cell_type": "code",
   "execution_count": 121,
   "id": "ae8747fb",
   "metadata": {},
   "outputs": [
    {
     "data": {
      "text/plain": [
       "16"
      ]
     },
     "execution_count": 121,
     "metadata": {},
     "output_type": "execute_result"
    }
   ],
   "source": [
    "a=5"
   ]
  },
  {
   "cell_type": "code",
   "execution_count": 3,
   "id": "60782577",
   "metadata": {
    "slideshow": {
     "slide_type": "slide"
    }
   },
   "outputs": [
    {
     "name": "stdout",
     "output_type": "stream",
     "text": [
      "Os divisores do 2 são:\n",
      "2.0\n",
      "O número 2 é primo pois possui apenas 2 divisores\n"
     ]
    }
   ],
   "source": [
    "a=2\n",
    "n=isqrt(a) #Usa a parte inteira da raiz do número informado\n",
    "println(\"Os divisores do $a são:\")\n",
    "cont =0 # Contador\n",
    "for i in 1:n \n",
    "    if a%n==0\n",
    "       println(a/n)\n",
    "       cont=cont+1 \n",
    "    end\n",
    "n=n-1\n",
    "end\n",
    "if cont ==1\n",
    "    println(\"O número $a é primo pois possui apenas $(cont+1) divisores\")\n",
    "else \n",
    "    println(\"O número $a é composto pois possui mais de 2 divisores\")\n",
    "end"
   ]
  },
  {
   "cell_type": "markdown",
   "id": "94b0f6f8",
   "metadata": {},
   "source": [
    "<h2> Caculo de MDC e MMC </h2>\n",
    "Crie um código que, dado dois numeros, ele calculase o MMC e MDC entre eles."
   ]
  },
  {
   "cell_type": "markdown",
   "id": "18382f10",
   "metadata": {},
   "source": [
    "<h2> Equações Diofantinas </h2>\n",
    "Crie um código que calcula as soluçoes inteiras e naturais de uma equação diofantina."
   ]
  },
  {
   "cell_type": "code",
   "execution_count": null,
   "id": "d573253b",
   "metadata": {},
   "outputs": [],
   "source": []
  }
 ],
 "metadata": {
  "kernelspec": {
   "display_name": "Julia 1.10.5",
   "language": "julia",
   "name": "julia-1.10"
  },
  "language_info": {
   "file_extension": ".jl",
   "mimetype": "application/julia",
   "name": "julia",
   "version": "1.10.5"
  }
 },
 "nbformat": 4,
 "nbformat_minor": 5
}
