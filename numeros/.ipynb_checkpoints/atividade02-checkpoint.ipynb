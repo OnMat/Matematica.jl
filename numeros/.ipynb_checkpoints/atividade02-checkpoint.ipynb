{
 "cells": [
  {
   "cell_type": "markdown",
   "id": "ac92d128",
   "metadata": {},
   "source": [
    "# Construção de uma Calculadora de Frações\n",
    "---"
   ]
  },
  {
   "cell_type": "markdown",
   "id": "bd571282",
   "metadata": {},
   "source": [
    "## Unidade Temática: Números\n",
    "---\n",
    "\n",
    "## Justificativa\n",
    "\n",
    "Grande parte dos estudantes do Ensino Fundamental apresenta dificuldades ao realizar operações com frações. Utilizar a linguagem de programação Julia como ferramenta para desenvolver uma calculadora de frações proporciona aos alunos uma forma alternativa e significativa de compreender essas operações.\n",
    "\n",
    "## Objetivo Geral\n",
    "Desenvolver com os alunos uma calculadora que realize as quatro operações com frações, promovendo a aprendizagem integrada de Matemática e Programação com a linguagem Julia.\n",
    "___"
   ]
  },
  {
   "cell_type": "markdown",
   "id": "51835c76",
   "metadata": {},
   "source": [
    "## Descritores do SPAECE relacionados\n",
    "- **D22:** Identificar fração como representação que pode estar associada a diferentes significados;\n",
    "- **D23:** Identificar frações equivalentes.\n",
    "- **D25:** Efetuar cálculos que envolvam operações com números racionais (adição, subtração, multiplicação, divisão, potenciação).\n",
    "___\n"
   ]
  },
  {
   "cell_type": "markdown",
   "id": "3d34c0c2",
   "metadata": {},
   "source": [
    "## Levantamento dos comandos necessários\n",
    "\n",
    "### Atividade 01:\n",
    "\n",
    "> Solicite aos estudantes que, de forma colaborativa, listem os objetos de conhecimento matemático envolvidos na construção da calculadora, assim como os comandos e estruturas básicas da linguagem de programação necessários para o desenvolvimento do código.\n",
    "\n",
    "---"
   ]
  },
  {
   "cell_type": "markdown",
   "id": "c3f89048",
   "metadata": {},
   "source": [
    "### Definição de números racionais\n",
    "\n",
    "$$\n",
    "\\mathbb{Q} = \\left\\{ \\dfrac{a}{b} \\,\\middle|\\, a \\in \\mathbb{Z},\\ b \\in \\mathbb{Z},\\ b \\neq 0 \\right\\}\n",
    "$$\n",
    "\n",
    "---\n",
    "\n",
    "### Operações com frações\n",
    "\n",
    "- **Produto:**\n",
    "\n",
    "  $$\n",
    "  \\dfrac{a}{b} \\cdot \\dfrac{c}{d} = \\dfrac{a \\cdot c}{b \\cdot d}\n",
    "  $$\n",
    "\n",
    "- **Quociente:**\n",
    "\n",
    "  $$\n",
    "  \\dfrac{a}{b} \\div \\dfrac{c}{d} = \\dfrac{a \\cdot d}{b \\cdot c}\n",
    "  $$\n",
    "\n",
    "- **Soma e subtração (com MMC):**\n",
    "\n",
    "  $$\n",
    "  \\dfrac{a}{b} \\pm \\dfrac{c}{d} =\n",
    "  \\dfrac{a \\cdot \\dfrac{\\mathrm{MMC}}{b} \\pm c \\cdot \\dfrac{\\mathrm{MMC}}{d}}{\\mathrm{MMC}}\n",
    "  $$\n",
    "\n",
    "> Onde $\\mathrm{MMC}$ é o mínimo múltiplo comum entre os denominadores $b$ e $d$.\n"
   ]
  },
  {
   "cell_type": "markdown",
   "id": "5536e1b7",
   "metadata": {},
   "source": [
    "### Espera-se que apareçam, por exemplo:\n",
    "\n",
    "- **Operadores básicos** (`+`, `-`, `*`, `/`): para realizar as operações entre frações.\n",
    "\n",
    "- `println()` → para exibir mensagens na tela.\n",
    "\n",
    "- `readline()` → para ler dados digitados pelo usuário.\n",
    "\n",
    "- `parse(Int, ...)` → para converter o texto lido em números inteiros.\n",
    "\n",
    "- **Variáveis** → para armazenar os numeradores e denominadores das frações.\n",
    "\n",
    "- `gcd(a, b)` → para calcular o **Máximo Divisor Comum**, útil na **simplificação** das frações.\n",
    "\n",
    "- `lcm(a, b)` → para calcular o **Mínimo Múltiplo Comum**, necessário para **soma** e **diferença** de frações com denominadores diferentes.\n",
    "\n",
    "- Estruturas condicionais `if`, `elseif`, `else` → para permitir que o programa **escolha** qual operação executar com base na escolha do usuário.\n",
    "- function → usada para encapsular o código em funções reutilizáveis, deixando o programa mais modular e organizado.\n",
    "\n",
    "---\n",
    "\n",
    "Essa etapa é fundamental para que os estudantes compreendam quais ferramentas da linguagem Julia são úteis na criação de um algorítmo funcional e organizado.\n"
   ]
  },
  {
   "cell_type": "markdown",
   "id": "02a33c4f",
   "metadata": {},
   "source": [
    "## Atividade 02\n",
    "\n",
    "Desenvolva um código que exiba as operações de adição, subtração, multiplicação e divisão, a partir das frações $\\dfrac{2}{3}$ e $\\dfrac{1}{2}$.\n",
    "___\n"
   ]
  },
  {
   "cell_type": "markdown",
   "id": "739b0419",
   "metadata": {},
   "source": [
    "---\n",
    "\n",
    "### Espera-se que cada equipe apresente\n",
    "\n",
    "Abaixo está um exemplo de código completo que realiza as quatro operações com duas frações quaisquer:\n",
    "\n",
    "---"
   ]
  },
  {
   "cell_type": "code",
   "execution_count": null,
   "id": "f8b08fe1",
   "metadata": {
    "scrolled": true
   },
   "outputs": [],
   "source": [
    "# Frações fixas para teste:\n",
    "num_1 = 2\n",
    "den_1 = 3\n",
    "num_2 = 1\n",
    "den_2 = 2\n",
    "\n",
    "# Produto\n",
    "prod_num = num_1 * num_2\n",
    "prod_den = den_1 * den_2\n",
    "println(\"Produto: $(prod_num)/$(prod_den)\")\n",
    "\n",
    "# Quociente\n",
    "div_num = num_1 * den_2\n",
    "div_den = den_1 * num_2\n",
    "println(\"Quociente: $(div_num)/$(div_den)\")\n",
    "\n",
    "# Soma\n",
    "m = lcm(den_1, den_2)\n",
    "soma_num = m ÷ den_1 * num_1 + m ÷ den_2 * num_2\n",
    "println(\"Soma: $(soma_num)/$(m)\")\n",
    "\n",
    "# Diferença\n",
    "sub_num = m ÷ den_1 * num_1 - m ÷ den_2 * num_2\n",
    "println(\"Diferença: $(sub_num)/$(m)\")"
   ]
  },
  {
   "cell_type": "markdown",
   "id": "b18b3fd5",
   "metadata": {},
   "source": [
    "###  Atividade 03:\n",
    "\n",
    "Implemente o Código para que ele simplifique os resultados obtidos nas operações com frações.\n",
    "___"
   ]
  },
  {
   "cell_type": "markdown",
   "id": "85ca6b0d",
   "metadata": {},
   "source": [
    "## Simplificar os resultados\n",
    "\n",
    "### Discussão em sala:\n",
    "\n",
    "**Como podemos simplificar uma fração usando o MDC (Máximo Divisor Comum)?**\n",
    "\n",
    "Relembre com os alunos o comando `gcd(a, b)` em Julia, que calcula o **máximo divisor comum** entre dois números.\n",
    "\n",
    "Mostre o seguinte exemplo de simplificação:\n",
    "\n",
    "Se temos a fração $\\dfrac{a}{b}$, podemos simplificá-la da seguinte forma:\n",
    "\n",
    "- Calcular $d = \\mathrm{gcd}(a, b)$\n",
    "- Reescrever como:  \n",
    "$\\dfrac{a}{b} = \\dfrac{a \\div d}{b \\div d}$\n",
    "\n",
    "\n",
    "### Dica de código:\n",
    "\n",
    "```julia\n",
    "d = gcd(num, den)\n",
    "println(\"Fração simplificada: $(num ÷ d)/$(den ÷ d)\")\n"
   ]
  },
  {
   "cell_type": "markdown",
   "id": "3c8dfd98",
   "metadata": {},
   "source": [
    "---\n",
    "\n",
    "### Espera-se que cada equipe apresente\n",
    "\n",
    "Abaixo está um exemplo de código completo que realiza as quatro operações com duas frações quaisquer:\n",
    "\n"
   ]
  },
  {
   "cell_type": "code",
   "execution_count": null,
   "id": "02f6b1d1",
   "metadata": {},
   "outputs": [],
   "source": [
    "# Frações fixas para teste:\n",
    "num_1 = 2\n",
    "den_1 = 3\n",
    "num_2 = 1\n",
    "den_2 = 2\n",
    "\n",
    "# Produto\n",
    "prod_num = num_1 * num_2\n",
    "prod_den = den_1 * den_2\n",
    "d_1 = gcd(prod_num, prod_den)\n",
    "println(\"Produto: $(prod_num ÷ d_1)/$(prod_den ÷ d_1)\")\n",
    "\n",
    "# Quociente\n",
    "div_num = num_1 * den_2\n",
    "div_den = den_1 * num_2\n",
    "d_2 = gcd(div_num, div_den)\n",
    "println(\"Quociente: $(div_num ÷ d_2)/$(div_den ÷ d_2)\")\n",
    "\n",
    "# Soma\n",
    "m = lcm(den_1, den_2)\n",
    "soma_num = m ÷ den_1 * num_1 + m ÷ den_2 * num_2\n",
    "d_3 = gcd(soma_num, m)\n",
    "println(\"Soma: $(soma_num ÷ d_3)/$(m ÷ d_3)\")\n",
    "\n",
    "# Diferença\n",
    "sub_num = m ÷ den_1 * num_1 - m ÷ den_2 * num_2\n",
    "d_4 = gcd(sub_num, m)\n",
    "println(\"Diferença: $(sub_num ÷ d_4)/$(m ÷ d_4)\")"
   ]
  },
  {
   "cell_type": "markdown",
   "id": "f5399834",
   "metadata": {},
   "source": [
    "## Transformar o código em uma função reutilizável\n"
   ]
  },
  {
   "cell_type": "markdown",
   "id": "99092296",
   "metadata": {},
   "source": [
    "### Atividade 04 — Encapsulamento da calculadora em uma função\n",
    "\n",
    "Nesta atividade, transformamos o código construído anteriormente em uma **função reutilizável**, chamada `calculadora`. Essa abordagem torna o programa mais modular, organizado e fácil de manter.\n",
    "\n",
    "A função recebe como **parâmetros** os numeradores e denominadores de duas frações e realiza as seguintes ações:\n",
    "\n",
    "- **Exibe** ao usuário as frações fornecidas como entrada;\n",
    "- **Exibe** os resultados das operações na forma irredutível.\n",
    "\n",
    "Essa organização permite reutilizar o mesmo código para diferentes pares de frações, bastando apenas modificar os valores de entrada.\n",
    "\n",
    "#### Exemplo de chamada da função:\n",
    "\n",
    "```julia\n",
    "calculadora(2, 3, 1, 2)\n"
   ]
  },
  {
   "cell_type": "markdown",
   "id": "84e200f6",
   "metadata": {},
   "source": [
    "---\n",
    "\n",
    "### Espera-se que cada equipe apresente\n",
    "\n",
    "Abaixo está um exemplo de código completo tranformado em uma função reutilizavel que realiza as quatro operações com duas frações quaisquer:\n",
    "\n"
   ]
  },
  {
   "cell_type": "code",
   "execution_count": 12,
   "id": "8bd9439c",
   "metadata": {},
   "outputs": [
    {
     "data": {
      "text/plain": [
       "calculadora (generic function with 1 method)"
      ]
     },
     "execution_count": 12,
     "metadata": {},
     "output_type": "execute_result"
    }
   ],
   "source": [
    "function calculadora(num_1, den_1, num_2, den_2)\n",
    "    println(\"As frações informadas foram: $(num_1)/$(den_1) e $(num_2)/$(den_2)\")\n",
    "    # Produto\n",
    "    prod_num = num_1 * num_2\n",
    "    prod_den = den_1 * den_2\n",
    "    d_1 = gcd(prod_num, prod_den)\n",
    "    println(\"Produto: $(prod_num ÷ d_1)/$(prod_den ÷ d_1)\")\n",
    "\n",
    "    # Quociente\n",
    "    div_num = num_1 * den_2\n",
    "    div_den = den_1 * num_2\n",
    "    d_2 = gcd(div_num, div_den)\n",
    "    println(\"Quociente: $(div_num ÷ d_2)/$(div_den ÷ d_2)\")\n",
    "\n",
    "    # Soma\n",
    "    m = lcm(den_1, den_2)\n",
    "    soma_num = m ÷ den_1 * num_1 + m ÷ den_2 * num_2\n",
    "    d_3 = gcd(soma_num, m)\n",
    "    println(\"Soma: $(soma_num ÷ d_3)/$(m ÷ d_3)\")\n",
    "\n",
    "    # Diferença\n",
    "    sub_num = m ÷ den_1 * num_1 - m ÷ den_2 * num_2\n",
    "    d_4 = gcd(sub_num, m)\n",
    "    println(\"Diferença: $(sub_num ÷ d_4)/$(m ÷ d_4)\")\n",
    "end"
   ]
  },
  {
   "cell_type": "code",
   "execution_count": 14,
   "id": "89d6c389",
   "metadata": {},
   "outputs": [
    {
     "name": "stdout",
     "output_type": "stream",
     "text": [
      "As frações informadas foram: 2/4 e 5/15\n",
      "Produto: 1/6\n",
      "Quociente: 3/2\n",
      "Soma: 5/6\n",
      "Diferença: 1/6\n"
     ]
    }
   ],
   "source": [
    "calculadora(2,4,5,15)"
   ]
  },
  {
   "cell_type": "markdown",
   "id": "784ac956",
   "metadata": {},
   "source": [
    "## Implementação da operação escolhida pelo usuário\n",
    "\n",
    "### Tarefa do grupo:\n",
    "\n",
    "Cada grupo deverá atualizar o código anterior acrescentando:\n",
    "\n",
    "- Uma variável para armazenar a operação escolhida pelo usuário;\n",
    "- Utilize estruturas condicionais (`if`, `elseif`, `else`) para decidir qual operação (produto, quociente, soma ou diferença) será realizada, conforme a escolha do usuário;\n",
    "- Exiba as frações informadas para conferência;\n",
    "- Caso o usuário informe uma operação inválida, exiba a mensagem:  \n",
    "  `println(\"Operação inválida\")`.\n",
    "\n",
    "---"
   ]
  },
  {
   "cell_type": "markdown",
   "id": "eea88787",
   "metadata": {},
   "source": [
    "---\n",
    "\n",
    "### Espera-se que cada equipe apresente\n",
    "\n",
    "Abaixo está um exemplo de código completo que realiza as quatro operações com duas frações quaisquer:\n",
    "\n"
   ]
  },
  {
   "cell_type": "code",
   "execution_count": 20,
   "id": "ca9ea067",
   "metadata": {},
   "outputs": [
    {
     "data": {
      "text/plain": [
       "calculadora (generic function with 2 methods)"
      ]
     },
     "execution_count": 20,
     "metadata": {},
     "output_type": "execute_result"
    }
   ],
   "source": [
    "function calculadora(num_1, den_1, op, num_2, den_2)\n",
    "    println(\"As frações informadas foram: $(num_1)/$(den_1) e $(num_2)/$(den_2)\")\n",
    "    # Produto\n",
    "    if op == *\n",
    "        prod_num = num_1 * num_2\n",
    "        prod_den = den_1 * den_2\n",
    "        d_1 = gcd(prod_num, prod_den)\n",
    "        println(\"Produto: $(prod_num ÷ d_1)/$(prod_den ÷ d_1)\")\n",
    "    \n",
    "    # Quociente\n",
    "    elseif op == /\n",
    "        div_num = num_1 * den_2\n",
    "        div_den = den_1 * num_2\n",
    "        d_2 = gcd(div_num, div_den)\n",
    "        println(\"Quociente: $(div_num ÷ d_2)/$(div_den ÷ d_2)\")\n",
    "\n",
    "    # Soma\n",
    "    elseif op == +\n",
    "        m = lcm(den_1, den_2)\n",
    "        soma_num = m ÷ den_1 * num_1 + m ÷ den_2 * num_2\n",
    "        d_3 = gcd(soma_num, m)\n",
    "        println(\"Soma: $(soma_num ÷ d_3)/$(m ÷ d_3)\")\n",
    "\n",
    "    # Diferença\n",
    "     elseif op== -\n",
    "        sub_num = m ÷ den_1 * num_1 - m ÷ den_2 * num_2\n",
    "        d_4 = gcd(sub_num, m)\n",
    "        println(\"Diferença: $(sub_num ÷ d_4)/$(m ÷ d_4)\")\n",
    "    else\n",
    "        println(\"Operação inválida.\")\n",
    "    end\n",
    "end"
   ]
  },
  {
   "cell_type": "code",
   "execution_count": 21,
   "id": "8d7f5bca",
   "metadata": {},
   "outputs": [
    {
     "name": "stdout",
     "output_type": "stream",
     "text": [
      "As frações informadas foram: 1/2 e 3/4\n",
      "Soma: 5/4\n"
     ]
    }
   ],
   "source": [
    "calculadora(1,2,+,3,4)"
   ]
  }
 ],
 "metadata": {
  "@webio": {
   "lastCommId": null,
   "lastKernelId": null
  },
  "kernelspec": {
   "display_name": "Julia 1.10.5",
   "language": "julia",
   "name": "julia-1.10"
  },
  "language_info": {
   "file_extension": ".jl",
   "mimetype": "application/julia",
   "name": "julia",
   "version": "1.10.5"
  }
 },
 "nbformat": 4,
 "nbformat_minor": 5
}
