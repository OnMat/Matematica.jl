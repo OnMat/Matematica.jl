{
 "cells": [
  {
   "cell_type": "markdown",
   "id": "ac92d128",
   "metadata": {},
   "source": [
    "# Iniciar a cosntrução Calculadora\n",
    "---"
   ]
  },
  {
   "cell_type": "markdown",
   "id": "02a33c4f",
   "metadata": {},
   "source": [
    "## Atividade 02\n",
    "\n",
    "Desenvolva um código que exiba as operações de adição, subtração, multiplicação e divisão, a partir das frações $\\dfrac{2}{3}$ e $\\dfrac{1}{2}$.\n",
    "___\n"
   ]
  },
  {
   "cell_type": "markdown",
   "id": "739b0419",
   "metadata": {},
   "source": [
    "---\n",
    "\n",
    "## Espera-se que cada equipe apresente\n",
    "\n",
    "Abaixo está um exemplo de código completo que realiza as quatro operações com duas frações quaisquer:\n",
    "\n",
    "---"
   ]
  },
  {
   "cell_type": "code",
   "execution_count": null,
   "id": "f8b08fe1",
   "metadata": {
    "scrolled": true
   },
   "outputs": [],
   "source": [
    "# Frações fixas para teste:\n",
    "num_1 = 2\n",
    "den_1 = 3\n",
    "num_2 = 1\n",
    "den_2 = 2\n",
    "\n",
    "# Produto\n",
    "prod_num = num_1 * num_2\n",
    "prod_den = den_1 * den_2\n",
    "println(\"Produto: $(prod_num)/$(prod_den)\")\n",
    "\n",
    "# Quociente\n",
    "div_num = num_1 * den_2\n",
    "div_den = den_1 * num_2\n",
    "println(\"Quociente: $(div_num)/$(div_den)\")\n",
    "\n",
    "# Soma\n",
    "m = lcm(den_1, den_2)\n",
    "soma_num = m ÷ den_1 * num_1 + m ÷ den_2 * num_2\n",
    "println(\"Soma: $(soma_num)/$(m)\")\n",
    "\n",
    "# Diferença\n",
    "sub_num = m ÷ den_1 * num_1 - m ÷ den_2 * num_2\n",
    "println(\"Diferença: $(sub_num)/$(m)\")"
   ]
  }
 ],
 "metadata": {
  "@webio": {
   "lastCommId": null,
   "lastKernelId": null
  },
  "kernelspec": {
   "display_name": "Julia 1.10.5",
   "language": "julia",
   "name": "julia-1.10"
  },
  "language_info": {
   "file_extension": ".jl",
   "mimetype": "application/julia",
   "name": "julia",
   "version": "1.10.5"
  }
 },
 "nbformat": 4,
 "nbformat_minor": 5
}
