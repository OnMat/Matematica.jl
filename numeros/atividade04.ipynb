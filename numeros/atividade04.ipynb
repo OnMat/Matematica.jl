{
 "cells": [
  {
   "cell_type": "markdown",
   "id": "f5399834",
   "metadata": {},
   "source": [
    "# Transformar o código em uma função reutilizável\n"
   ]
  },
  {
   "cell_type": "markdown",
   "id": "99092296",
   "metadata": {},
   "source": [
    "## Atividade 4 — Encapsulamento da calculadora em uma função\n",
    "\n",
    "Nesta atividade, transformamos o código construído anteriormente em uma **função reutilizável**, chamada `calculadora`. Essa abordagem torna o programa mais modular, organizado e fácil de manter.\n",
    "\n",
    "A função recebe como **parâmetros** os numeradores e denominadores de duas frações e realiza as seguintes ações:\n",
    "\n",
    "- **Exibe** ao usuário as frações fornecidas como entrada;\n",
    "- **Exibe** os resultados das operações na forma irredutível.\n",
    "\n",
    "Essa organização permite reutilizar o mesmo código para diferentes pares de frações, bastando apenas modificar os valores de entrada.\n",
    "\n",
    "#### Exemplo de chamada da função:\n",
    "\n",
    "```julia\n",
    "calculadora(2, 3, 1, 2)\n"
   ]
  },
  {
   "cell_type": "markdown",
   "id": "84e200f6",
   "metadata": {},
   "source": [
    "---\n",
    "\n",
    "## Solução esperada\n",
    "\n",
    "Abaixo está um exemplo de código completo tranformado em uma função reutilizavel que realiza as quatro operações com duas frações quaisquer:\n",
    "\n"
   ]
  },
  {
   "cell_type": "code",
   "execution_count": 2,
   "id": "8bd9439c",
   "metadata": {},
   "outputs": [
    {
     "data": {
      "text/plain": [
       "calculadora (generic function with 1 method)"
      ]
     },
     "execution_count": 2,
     "metadata": {},
     "output_type": "execute_result"
    }
   ],
   "source": [
    "function calculadora(num_1, den_1, num_2, den_2)\n",
    "    println(\"As frações informadas foram: $(num_1)/$(den_1) e $(num_2)/$(den_2)\")\n",
    "    # Produto\n",
    "    prod_num = num_1 * num_2\n",
    "    prod_den = den_1 * den_2\n",
    "    d_1 = gcd(prod_num, prod_den)\n",
    "    println(\"Produto: $(prod_num ÷ d_1)/$(prod_den ÷ d_1)\")\n",
    "\n",
    "    # Quociente\n",
    "    div_num = num_1 * den_2\n",
    "    div_den = den_1 * num_2\n",
    "    d_2 = gcd(div_num, div_den)\n",
    "    println(\"Quociente: $(div_num ÷ d_2)/$(div_den ÷ d_2)\")\n",
    "\n",
    "    # Soma\n",
    "    m = lcm(den_1, den_2)\n",
    "    soma_num = m ÷ den_1 * num_1 + m ÷ den_2 * num_2\n",
    "    d_3 = gcd(soma_num, m)\n",
    "    println(\"Soma: $(soma_num ÷ d_3)/$(m ÷ d_3)\")\n",
    "\n",
    "    # Diferença\n",
    "    sub_num = m ÷ den_1 * num_1 - m ÷ den_2 * num_2\n",
    "    d_4 = gcd(sub_num, m)\n",
    "    println(\"Diferença: $(sub_num ÷ d_4)/$(m ÷ d_4)\")\n",
    "end"
   ]
  },
  {
   "cell_type": "markdown",
   "id": "1b9f9de8",
   "metadata": {},
   "source": [
    "### Exemplo:\n",
    "Calcule as operações entre as frações $\\dfrac{2}{4}$ e $\\dfrac{5}{15}$\n",
    "___"
   ]
  },
  {
   "cell_type": "code",
   "execution_count": 3,
   "id": "89d6c389",
   "metadata": {},
   "outputs": [
    {
     "name": "stdout",
     "output_type": "stream",
     "text": [
      "As frações informadas foram: 2/4 e 5/15\n",
      "Produto: 1/6\n",
      "Quociente: 3/2\n",
      "Soma: 5/6\n",
      "Diferença: 1/6\n"
     ]
    }
   ],
   "source": [
    "calculadora(2,4,5,15)"
   ]
  }
 ],
 "metadata": {
  "@webio": {
   "lastCommId": null,
   "lastKernelId": null
  },
  "kernelspec": {
   "display_name": "Julia 1.10.5",
   "language": "julia",
   "name": "julia-1.10"
  },
  "language_info": {
   "file_extension": ".jl",
   "mimetype": "application/julia",
   "name": "julia",
   "version": "1.10.5"
  }
 },
 "nbformat": 4,
 "nbformat_minor": 5
}
