{
 "cells": [
  {
   "cell_type": "markdown",
   "id": "ac92d128",
   "metadata": {},
   "source": [
    "# Construção de uma Calculadora de Frações\n",
    "---"
   ]
  },
  {
   "cell_type": "markdown",
   "id": "bd571282",
   "metadata": {},
   "source": [
    "## Unidade Temática: Números\n",
    "---\n",
    "\n",
    "## Justificativa\n",
    "\n",
    "Grande parte dos estudantes do Ensino Fundamental apresenta dificuldades ao realizar operações com frações. Utilizar a linguagem de programação Julia como ferramenta para desenvolver uma calculadora de frações proporciona aos alunos uma forma alternativa e significativa de compreender essas operações.\n",
    "\n",
    "## Objetivo Geral\n",
    "Desenvolver com os alunos uma calculadora que realize as quatro operações com frações, promovendo a aprendizagem integrada de Matemática e Programação com a linguagem Julia.\n",
    "___"
   ]
  },
  {
   "cell_type": "markdown",
   "id": "51835c76",
   "metadata": {},
   "source": [
    "## Descritores do SPAECE relacionados\n",
    "- **D22:** Identificar fração como representação que pode estar associada a diferentes significados;\n",
    "- **D23:** Identificar frações equivalentes.\n",
    "- **D25:** Efetuar cálculos que envolvam operações com números racionais (adição, subtração, multiplicação, divisão, potenciação).\n",
    "___\n"
   ]
  }
 ],
 "metadata": {
  "@webio": {
   "lastCommId": null,
   "lastKernelId": null
  },
  "kernelspec": {
   "display_name": "Julia 1.10.5",
   "language": "julia",
   "name": "julia-1.10"
  },
  "language_info": {
   "file_extension": ".jl",
   "mimetype": "application/julia",
   "name": "julia",
   "version": "1.10.5"
  }
 },
 "nbformat": 4,
 "nbformat_minor": 5
}
