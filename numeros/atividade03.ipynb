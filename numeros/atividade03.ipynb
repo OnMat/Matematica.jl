{
 "cells": [
  {
   "cell_type": "markdown",
   "id": "f3b8c69e",
   "metadata": {},
   "source": [
    "# Simplificação  os resultados"
   ]
  },
  {
   "cell_type": "markdown",
   "id": "b18b3fd5",
   "metadata": {},
   "source": [
    "##  Atividade 3\n",
    "\n",
    "Implemente o Código para que ele simplifique os resultados obtidos nas operações com frações.\n",
    "___"
   ]
  },
  {
   "cell_type": "markdown",
   "id": "85ca6b0d",
   "metadata": {},
   "source": [
    "\n",
    "\n",
    "## Discussão em sala:\n",
    "\n",
    "**Como podemos simplificar uma fração usando o MDC (Máximo Divisor Comum)?**\n",
    "\n",
    "Relembre com os alunos o comando `gcd(a, b)` em Julia, que calcula o **máximo divisor comum** entre dois números.\n",
    "\n",
    "Mostre o seguinte exemplo de simplificação:\n",
    "\n",
    "Se temos a fração $\\dfrac{a}{b}$, podemos simplificá-la da seguinte forma:\n",
    "\n",
    "- Calcular $d = \\mathrm{gcd}(a, b)$\n",
    "- Reescrever como:  \n",
    "$\\dfrac{a}{b} = \\dfrac{a \\div d}{b \\div d}$\n",
    "\n",
    "\n",
    "### Dica de código:\n",
    "\n",
    "```julia\n",
    "d = gcd(num, den)\n",
    "println(\"Fração simplificada: $(num ÷ d)/$(den ÷ d)\")\n"
   ]
  },
  {
   "cell_type": "markdown",
   "id": "3c8dfd98",
   "metadata": {},
   "source": [
    "---\n",
    "\n",
    "## Solução esperada\n",
    "\n",
    "Abaixo está um exemplo de código completo que realiza as quatro operações com duas frações quaisquer:\n",
    "\n"
   ]
  },
  {
   "cell_type": "code",
   "execution_count": null,
   "id": "02f6b1d1",
   "metadata": {},
   "outputs": [],
   "source": [
    "# Frações fixas para teste:\n",
    "num_1 = 2\n",
    "den_1 = 3\n",
    "num_2 = 1\n",
    "den_2 = 2\n",
    "\n",
    "# Produto\n",
    "prod_num = num_1 * num_2\n",
    "prod_den = den_1 * den_2\n",
    "d_1 = gcd(prod_num, prod_den)\n",
    "println(\"Produto: $(prod_num ÷ d_1)/$(prod_den ÷ d_1)\")\n",
    "\n",
    "# Quociente\n",
    "div_num = num_1 * den_2\n",
    "div_den = den_1 * num_2\n",
    "d_2 = gcd(div_num, div_den)\n",
    "println(\"Quociente: $(div_num ÷ d_2)/$(div_den ÷ d_2)\")\n",
    "\n",
    "# Soma\n",
    "m = lcm(den_1, den_2)\n",
    "soma_num = m ÷ den_1 * num_1 + m ÷ den_2 * num_2\n",
    "d_3 = gcd(soma_num, m)\n",
    "println(\"Soma: $(soma_num ÷ d_3)/$(m ÷ d_3)\")\n",
    "\n",
    "# Diferença\n",
    "sub_num = m ÷ den_1 * num_1 - m ÷ den_2 * num_2\n",
    "d_4 = gcd(sub_num, m)\n",
    "println(\"Diferença: $(sub_num ÷ d_4)/$(m ÷ d_4)\")"
   ]
  }
 ],
 "metadata": {
  "@webio": {
   "lastCommId": null,
   "lastKernelId": null
  },
  "kernelspec": {
   "display_name": "Julia 1.10.5",
   "language": "julia",
   "name": "julia-1.10"
  },
  "language_info": {
   "file_extension": ".jl",
   "mimetype": "application/julia",
   "name": "julia",
   "version": "1.10.5"
  }
 },
 "nbformat": 4,
 "nbformat_minor": 5
}
