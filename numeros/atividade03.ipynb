{
 "cells": [
  {
   "cell_type": "markdown",
   "id": "0b164e33",
   "metadata": {},
   "source": [
    "# 📘 Sequência Didática: Resolução de Problemas com Porcentagem\n",
    "\n",
    "## Objetivos da Aula\n",
    "- Compreender e resolver problemas envolvendo porcentagens em diferentes contextos do cotidiano;\n",
    "- Entender o processo de representação de frações em números decimais;\n",
    "- Utilizar estratégias matemáticas e tecnológicas para calcular porcentagens, aumentos, descontos e proporções;\n",
    "- Desenvolver autonomia e pensamento crítico por meio da resolução de problemas contextualizados.\n",
    "---"
   ]
  },
  {
   "cell_type": "markdown",
   "id": "b49a7c7a",
   "metadata": {},
   "source": [
    "## 📌 Justificativa\n",
    "\n",
    "A porcentagem aparece em diversas situações da vida real: promoções, impostos, pesquisas, juros, entre outras.  \n",
    "Nesta atividade, resolveremos problemas típicos do SPAECE usando a linguagem **Julia** como ferramenta de apoio aos cálculos, mas sempre focando na **interpretação e no raciocínio matemático**.\n"
   ]
  },
  {
   "cell_type": "markdown",
   "id": "c5a9a00b",
   "metadata": {},
   "source": [
    "### 🧮 Problema 01) \n",
    "*(SAETHE)*  \n",
    "Observe no quadro abaixo a promoção de uma loja de calçados:\n",
    "\n",
    "<img src=\"quest01.png\" alt=\"Promoção Tênis Esportivo - R$ 250,00 com 20% de desconto à vista\" style=\"max-width: 400px;\">\n",
    "\n",
    "Ao comprar esse tênis à vista, o valor do desconto oferecido por essa loja é de:\n",
    "\n",
    "A) R$ 250,00  \n",
    "                            \n",
    "B) R$ 150,00  \n",
    "\n",
    "C) R$ 50,00  \n",
    "                            \n",
    "D) R$ 15,00\n",
    "\n",
    "___"
   ]
  },
  {
   "cell_type": "code",
   "execution_count": 8,
   "id": "4f14b831",
   "metadata": {},
   "outputs": [
    {
     "name": "stdout",
     "output_type": "stream",
     "text": [
      "Solução 1:\n",
      "O valor do desconto é: 150.0\n"
     ]
    }
   ],
   "source": [
    "println(\"Solução 1:\")\n",
    "valor=300\n",
    "per=0.5\n",
    "println(\"O valor do desconto é: \", valor*per)"
   ]
  },
  {
   "cell_type": "code",
   "execution_count": 9,
   "id": "c38e4869",
   "metadata": {},
   "outputs": [
    {
     "name": "stdout",
     "output_type": "stream",
     "text": [
      "O valor apos o desconto é: 150.0\n"
     ]
    }
   ],
   "source": [
    "println(\"O valor apos o desconto é: \",valor- valor*per)"
   ]
  },
  {
   "cell_type": "markdown",
   "id": "1c672221",
   "metadata": {},
   "source": [
    "### Resposta: \n",
    "letra d)"
   ]
  },
  {
   "cell_type": "markdown",
   "id": "06a67bac",
   "metadata": {},
   "source": [
    "### 🧮 Problema 2\n",
    "\n",
    "*(Adaptado – 2024)*  \n",
    "Numa sala de aula do 9º ano há 30 alunos. 40% são meninas. O número de meninos dessa sala é:\n",
    "\n",
    "A) 18 meninos  \n",
    "B) 12 meninos  \n",
    "C) 10 meninos  \n",
    "D) 8 meninos\n"
   ]
  },
  {
   "cell_type": "code",
   "execution_count": 10,
   "id": "845fd8a4",
   "metadata": {},
   "outputs": [
    {
     "name": "stdout",
     "output_type": "stream",
     "text": [
      "Solução 2:\n",
      "O total de meninas é: 12.0\n"
     ]
    }
   ],
   "source": [
    "println(\"Solução 2:\")\n",
    "alunos=30\n",
    "per=0.4\n",
    "println(\"O total de meninas é: \", alunos*per)"
   ]
  },
  {
   "cell_type": "code",
   "execution_count": 11,
   "id": "e63ccab0",
   "metadata": {},
   "outputs": [
    {
     "name": "stdout",
     "output_type": "stream",
     "text": [
      "O total de meninas é: 18.0\n"
     ]
    }
   ],
   "source": [
    "println(\"O total de meninas é: \",alunos- alunos*per)"
   ]
  },
  {
   "cell_type": "markdown",
   "id": "ba5cff74",
   "metadata": {},
   "source": [
    "### 🧮 Problema 3\n",
    "\n",
    "*Notícia fictícia – 2024*  \n",
    "A enchente desabrigou cerca de 30% da população de uma cidade que tem aproximadamente 50.000 habitantes.\n",
    "\n",
    "De acordo com a notícia, o número de habitantes desabrigados é:\n",
    "\n",
    "A) 15.000 habitantes  \n",
    "B) 30.000 habitantes  \n",
    "C) 10.000 habitantes  \n",
    "D) 20.000 habitantes\n",
    "\n",
    "---\n",
    "\n",
    "### 🧮 Problema 4\n",
    "\n",
    "*(Contextualizado – 2024)*  \n",
    "Numa gaveta havia 48 chocolates “BIS”. Sandra retirou sem olhar e percebeu que na sua mão tinha exatamente 75% da quantidade de chocolates que estavam na gaveta.  \n",
    "\n",
    "Depois da retirada de Sandra, ainda restaram na gaveta:\n",
    "\n",
    "A) 12 chocolates  \n",
    "B) 24 chocolates  \n",
    "C) 36 chocolates  \n",
    "D) 48 chocolates\n",
    "\n",
    "---\n",
    "\n",
    "### 🧮 Problema 5\n",
    "\n",
    "*(SEPR – 2024)*  \n",
    "Marcos participou de uma olimpíada de matemática da escola. Ele acertou 72% das 150 questões.  \n",
    "\n",
    "O número de questões que ele **errou** foi de:\n",
    "\n",
    "A) 28  \n",
    "B) 42  \n",
    "C) 78  \n",
    "D) 108\n",
    "\n",
    "---\n",
    "\n",
    "### 🧮 Problema 6\n",
    "\n",
    "*(Situação financeira – 2024)*  \n",
    "Arnaldo pensou em comprar uma calça jeans e verificou que havia na sua carteira um total de R$ 150,00.  \n",
    "Na loja a calça estava com um preço de R$ 250,00, mas se Arnaldo comprasse à vista, a loja daria um desconto de 30%.  \n",
    "\n",
    "Então Arnaldo concluiu que:\n",
    "\n",
    "A) Conseguiu comprar a calça e ainda sobraram R$ 25,00  \n",
    "B) Conseguiu comprar a calça e não sobrou nada na carteira  \n",
    "C) O valor que tinha na carteira foi insuficiente, pois ainda faltariam R$ 25,00  \n",
    "D) O valor que tinha na carteira foi insuficiente, pois ainda faltariam R$ 30,00  \n",
    "\n",
    "---\n",
    "\n",
    "### 🧮 Problema 7\n",
    "\n",
    "*(SIMAVE – 2024)*  \n",
    "Uma turma tem 40 alunos. Num dia de chuva, 30% dos alunos dessa turma estavam ausentes.  \n",
    "\n",
    "Quantos alunos dessa turma estiveram ausentes nesse dia?\n",
    "\n",
    "A) 10  \n",
    "B) 12  \n",
    "C) 22  \n",
    "D) 28\n",
    "\n",
    "---\n",
    "\n",
    "### 🧮 Problema 8\n",
    "\n",
    "*(SPAECE – 2024)*  \n",
    "Beto levou R$ 20,00 para uma festa. Ele gastou 25% do seu dinheiro.  \n",
    "\n",
    "Quanto Beto gastou nessa festa?\n",
    "\n",
    "A) R$ 5,00  \n",
    "B) R$ 10,00  \n",
    "C) R$ 15,00  \n",
    "D) R$ 25,00\n",
    "\n",
    "---\n",
    "\n",
    "### 🧮 Problema 9\n",
    "\n",
    "*(PROEB – 2024)*  \n",
    "Paulo tem R$ 3.600,00, o que corresponde a 30% do que ele precisa para comprar uma moto.  \n",
    "\n",
    "Quanto custa a moto que Paulo quer comprar?\n",
    "\n",
    "A) R$ 3.630,00  \n",
    "B) R$ 12.000,00  \n",
    "C) R$ 108.000,00  \n",
    "D) R$ 120.000,00\n"
   ]
  },
  {
   "cell_type": "markdown",
   "id": "800c5c65",
   "metadata": {},
   "source": [
    "### 🧮 Problema 10\n",
    "\n",
    "*(Problema de porcentagem – 2024)*  \n",
    "Comprei uma bicicleta em prestações. De entrada, dei R$ 75,00, que correspondia a **25% do preço da bicicleta**.\n",
    "\n",
    "<img src=\"bicicleta.png\" alt=\"bicicleta ilustrativa\" style=\"max-width: 400px;\">\n",
    "\n",
    "Quanto custou a bicicleta?\n",
    "\n",
    "A) R$ 150,00  \n",
    "B) R$ 250,00  \n",
    "C) R$ 200,00  \n",
    "D) R$ 300,00\n"
   ]
  },
  {
   "cell_type": "markdown",
   "id": "65fb8211",
   "metadata": {},
   "source": [
    "## 📊 Bloco 02: Encontrar o Valor Percentual\n",
    "\n",
    "### Objetivos\n",
    "- Compreender o conceito de valor percentual.\n",
    "- Aprender a calcular a porcentagem de um valor dado.\n",
    "- Resolver problemas contextualizados envolvendo porcentagem."
   ]
  },
  {
   "cell_type": "markdown",
   "id": "f7134558",
   "metadata": {},
   "source": [
    "### 🧮 Problema 13\n",
    "\n",
    "*(SAEB – 2012)*  \n",
    "Seu Jaime está colocando cerâmica em uma parede, como mostra a figura abaixo.\n",
    "\n",
    "<img src=\"ceramica.png\" alt=\"parede a ser revestida faltando colocar 15 peças de um total de 25\" style=\"max-width: 200px;\">\n",
    "\n",
    "Para completar o trabalho com o mesmo tipo de cerâmica, seu Jaime ainda teve que recobrir:\n",
    "\n",
    "A) 10% dessa parede  \n",
    "B) 20% dessa parede  \n",
    "C) 40% dessa parede  \n",
    "D) 50% dessa parede\n",
    "\n",
    "---"
   ]
  },
  {
   "cell_type": "markdown",
   "id": "365bd125",
   "metadata": {},
   "source": [
    "### 🧮 Problema 14\n",
    "*(Prof. WRN – 2024)*  \n",
    "Um usuário da internet estava fazendo um download de um arquivo em PDF.  \n",
    "Durante o download, apareceu um ícone que mostrava a quantidade em Kb já baixada, como mostra a figura abaixo.\n",
    "\n",
    "<img src=\"carregando.png\" alt=\"Ícone de progresso do download mostrando seis oitavos kb baixados\" style=\"max-width: 200px;\">\n",
    "\n",
    "De acordo com a figura, a quantidade de arquivo já baixado é:\n",
    "\n",
    "A) 25%  \n",
    "B) 50%  \n",
    "C) 60%  \n",
    "D) 75%\n",
    "\n",
    "---\n"
   ]
  },
  {
   "cell_type": "markdown",
   "id": "91bddd31",
   "metadata": {},
   "source": [
    "### 🧮 Problema 15\n",
    "\n",
    "*(2ª P.D – Seduc-GO – 2012)*  \n",
    "O número de alunos de uma escola passou de 900 para 1350.  \n",
    "\n",
    "Em relação ao número inicial, o aumento no número de alunos foi de:\n",
    "\n",
    "A) 50%  \n",
    "B) 55%  \n",
    "C) 60%  \n",
    "D) 65%\n",
    "\n",
    "---"
   ]
  },
  {
   "cell_type": "markdown",
   "id": "f67adff9",
   "metadata": {},
   "source": [
    "### 🧮 Problema 16\n",
    "\n",
    "*(Prova Brasil – 2024)*  \n",
    "Veja abaixo a oferta no preço de uma bolsa.\n",
    "\n",
    "<img src=\"oferta_bolsa.png\" alt=\"Promoção bolsa: de R$ 120,00 por 90\" style=\"max-width: 200px;\">\n",
    "\n",
    "Nessa oferta, o desconto é de:\n",
    "\n",
    "A) 90%  \n",
    "B) 30%  \n",
    "C) 27%  \n",
    "D) 25%\n",
    "\n",
    "---\n"
   ]
  },
  {
   "cell_type": "markdown",
   "id": "46069e10",
   "metadata": {},
   "source": [
    "### 🧮 Problema 17\n",
    "\n",
    "*(Prova Brasil – 2024)*  \n",
    "Distribuímos 120 cadernos entre as 20 crianças da 1ª série de uma escola.  \n",
    "\n",
    "O número de cadernos que cada criança recebeu corresponde a que porcentagem do total de cadernos?\n",
    "\n",
    "A) 5%  \n",
    "B) 10%  \n",
    "C) 15%  \n",
    "D) 20%\n",
    "\n",
    "---"
   ]
  },
  {
   "cell_type": "markdown",
   "id": "6cb75a5f",
   "metadata": {},
   "source": [
    "### 🧮 Problema 18\n",
    "\n",
    "*(Projeto (con)seguir – DC)*  \n",
    "Lucas tem um celular e, quando coloca-o para carregar, aparece uma imagem demonstrando o nível de carregamento da bateria.\n",
    "<img src = \"celular.png\" alt=\"Celular com nível de bateria carregando mostrando 2 barras de 5\" style=\"max-width: 200px;\">\n",
    "O nível de carregamento mostrado na bateria (A) é:\n",
    "\n",
    "A) 10%  \n",
    "B) 20%  \n",
    "C) 40%  \n",
    "D) 60%\n",
    "\n",
    "---\n"
   ]
  },
  {
   "cell_type": "markdown",
   "id": "040141b9",
   "metadata": {},
   "source": [
    "### 🧮 Problema 19\n",
    "\n",
    "*(Centroeducacional – 2024)*  \n",
    "Uma pesquisa do MEC constatou que, a cada 800 alunos da EJA, 200 são mulheres.  \n",
    "\n",
    "O número de mulheres em relação ao total de alunos da EJA corresponde a:\n",
    "\n",
    "A) 50%  \n",
    "B) 25%  \n",
    "C) 20%  \n",
    "D) 10%\n",
    "\n",
    "---\n"
   ]
  },
  {
   "cell_type": "markdown",
   "id": "089249db",
   "metadata": {},
   "source": [
    "### 🧮 Problema 20\n",
    "\n",
    "*(1ª P.D – 2013)*  \n",
    "Veja a oferta a seguir:\n",
    "<img src=\"oferta_tenis.png\" alt=\"Promoção tênis: de R$ 150,00 por 99\" style=\"max-width: 400px;\">\n",
    "O percentual de desconto foi de:\n",
    "\n",
    "A) 34%  \n",
    "B) 51%  \n",
    "C) 66%  \n",
    "D) 99%\n",
    "___"
   ]
  },
  {
   "cell_type": "markdown",
   "id": "728db6d7",
   "metadata": {},
   "source": [
    "# 📊 Bloco 03: Calcular Aumento e Desconto\n",
    "\n",
    "## Objetivos\n",
    "- Compreender o conceito de aumento percentual e desconto percentual.\n",
    "- Aprender a calcular o preço final após um aumento ou desconto.\n",
    "- Resolver problemas contextualizados envolvendo porcentagem, aumento e desconto.\n"
   ]
  },
  {
   "cell_type": "markdown",
   "id": "72291262",
   "metadata": {},
   "source": [
    "### 🧮 Problema 21\n",
    "\n",
    "*(Prova Rio)*  \n",
    "A taxa de condomínio do prédio de Vânia é R$ 420,00.  \n",
    "O vencimento é sempre no dia 10 de cada mês. Após a data do vencimento, o condômino terá que pagar juros de 10% sobre o valor da taxa.  \n",
    "<img src=\"condominio.png\" alt=\"Ilustração de uma mulher preocupada, olhando uma conta de condomínio atrasada, imaginando quanto terá que pagar a mais devido aos juros.\" style=\"max-width: 400px;\">\n",
    "\n",
    "O valor a ser pago após o vencimento é:\n",
    "\n",
    "A) R$ 424,20  \n",
    "\n",
    "B) R$ 430,00  \n",
    "\n",
    "C) R$ 450,00  \n",
    "\n",
    "D) R$ 462,00  \n",
    "\n",
    "---"
   ]
  },
  {
   "cell_type": "markdown",
   "id": "8df83307",
   "metadata": {},
   "source": [
    "### 🧮 Problema 22\n",
    "\n",
    "*(Prova da Cidade 2011)*  \n",
    "Em uma determinada loja, encontramos a seguinte promoção:  \n",
    "<img src=\"promo_cel.png\" alt=\"Anúncio de celular com preço original de R$ 250,00 e 10% de desconto para pagamento à vista.\" style=\"max-width: 300px;\"> \n",
    "\n",
    "Qual o preço desse celular, em reais, para o pagamento à vista?\n",
    "\n",
    "A) R$ 275,00  \n",
    "B) R$ 240,00  \n",
    "C) R$ 260,00  \n",
    "D) R$ 225,00  \n",
    "\n",
    "---"
   ]
  },
  {
   "cell_type": "markdown",
   "id": "2946c81e",
   "metadata": {},
   "source": [
    "### 🧮 Problema 23\n",
    "*(SPAECE)*  \n",
    "Alda entrou em uma loja de informática e viu o cartaz abaixo.  \n",
    "<img src=\"promoção_arrasa.png\" alt=\"Cartaz promocional destacando 50% de desconto em produtos selecionados.\" style=\"max-width: 400px;\">\n",
    "\n",
    "Alda aproveitou essa promoção e comprou um computador cujo preço marcado em sua etiqueta era **R$ 2.680,00**.  \n",
    "Quanto Alda pagou por esse computador?\n",
    "\n",
    "A) R$ 1.340,00  \n",
    "\n",
    "B) R$ 2.530,00  \n",
    "\n",
    "C) R$ 2.630,00  \n",
    "\n",
    "D) R$ 2.730,00  \n",
    "\n",
    "---"
   ]
  },
  {
   "cell_type": "markdown",
   "id": "89dcb042",
   "metadata": {},
   "source": [
    "### 🧮 Problema 24\n",
    "\n",
    "*(SPAECE)*  \n",
    "No próximo mês, a mesada de Mariana será aumentada em 25%.  \n",
    "Se ela ganha R$ 50,00 de mesada, quanto passará a ganhar após esse aumento?\n",
    "\n",
    "A) R$ 25,00  \n",
    "\n",
    "B) R$ 50,00  \n",
    "\n",
    "C) R$ 62,50  \n",
    "\n",
    "D) R$ 75,00\n"
   ]
  },
  {
   "cell_type": "markdown",
   "id": "e6680f01",
   "metadata": {},
   "source": [
    "### 🧮 Problema 25\n",
    "\n",
    "Na vitrine de uma loja estava expresso o seguinte anúncio:  \n",
    "<img src=\"oferta_blusa.png\" alt=\"Anúncio: uma blusa por R$ 40,00 em duas vezes ou com desconto de 35%.\" style=\"max-width: 400px;\">\n",
    "\n",
    "Diante da propaganda, na compra à vista, o valor pago é:\n",
    "\n",
    "A) R$ 30,00 \n",
    "                                 \n",
    "B) R$ 14,00  \n",
    "\n",
    "C) R$ 80,00  \n",
    "                                 \n",
    "D) R$ 26,00  \n",
    "\n",
    "---\n"
   ]
  },
  {
   "cell_type": "markdown",
   "id": "0a3654b7",
   "metadata": {},
   "source": [
    "### 🧮 Problema 26\n",
    "\n",
    "Camila comprou uma bicicleta que custa R$ 120,00. Ela pagou à vista e ganhou um desconto de 15%. Quanto Camila pagou por essa bicicleta?\n",
    "\n",
    "A) R$ 102,00  \n",
    "\n",
    "B) R$ 112,00  \n",
    "\n",
    "C) R$ 108,00  \n",
    "\n",
    "D) R$ 138,00\n",
    "___"
   ]
  },
  {
   "cell_type": "markdown",
   "id": "681f42ee",
   "metadata": {},
   "source": [
    "### 🧮 Problema 27\n",
    "\n",
    "*(scribd)*  \n",
    "Natália comprou um tênis por R$ 64,00 e recebeu um desconto de 25% por pagar em dinheiro. Quanto Natália pagou pelo tênis?\n",
    "\n",
    "A) R$ 32,00  \n",
    "\n",
    "B) R$ 48,00  \n",
    "\n",
    "C) R$ 25,00  \n",
    "\n",
    "D) R$ 80,00\n",
    "___\n"
   ]
  },
  {
   "cell_type": "markdown",
   "id": "de60064e",
   "metadata": {},
   "source": [
    "### 🧮 Problema 28\n",
    "\n",
    "*(SPAECE-CE)*  \n",
    "Priscila fez um empréstimo de R$ 4.500,00 para trocar seu carro. Após 6 meses, ela pagou esse empréstimo a uma taxa de juros simples de 1% ao mês.  \n",
    "\n",
    "Qual foi o valor total que Priscila pagou por esse empréstimo?\n",
    "\n",
    "A) R$ 4.770,00  \n",
    "\n",
    "B) R$ 4.545,00  \n",
    "\n",
    "C) R$ 270,00  \n",
    "\n",
    "D) R$ 45,00\n"
   ]
  },
  {
   "cell_type": "markdown",
   "id": "04602562",
   "metadata": {},
   "source": [
    "### 🧮 Problema 29\n",
    "\n",
    "*(PROEB)*\n",
    "\n",
    "Julia borda bolsas para vender. Em cada bolsa vendida, ela recebe **8%** do valor da mesma.  \n",
    "Se a bolsa é vendida por **R\\$ 150,00**, para que Julia ganhe **R\\$ 1.200,00**, quantas bolsas ela deve bordar?\n",
    "\n",
    "A) 8  \n",
    "B) 10  \n",
    "C) 100  \n",
    "D) 1.000  \n",
    "\n",
    "---\n"
   ]
  },
  {
   "cell_type": "markdown",
   "id": "4b8626fb",
   "metadata": {},
   "source": [
    "### 🧮 Problema 30\n",
    "\n",
    "*(Prova da Cidade 2011)*  \n",
    "Em uma loja do shopping, Carlos foi informado que se comprasse um tênis à vista teria um desconto de **R\\$ 50,00**.  \n",
    "Qual o valor total do tênis, sabendo que **R\\$ 50,00 corresponde a um desconto de 20%**?\n",
    "\n",
    "A) R$ 250  \n",
    "\n",
    "B) R$ 200  \n",
    "\n",
    "C) R$ 70  \n",
    "\n",
    "D) R$ 50  \n",
    "\n",
    "---"
   ]
  }
 ],
 "metadata": {
  "kernelspec": {
   "display_name": "Julia 1.10.5",
   "language": "julia",
   "name": "julia-1.10"
  },
  "language_info": {
   "file_extension": ".jl",
   "mimetype": "application/julia",
   "name": "julia",
   "version": "1.10.5"
  }
 },
 "nbformat": 4,
 "nbformat_minor": 5
}
