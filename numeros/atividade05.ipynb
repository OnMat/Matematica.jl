{
 "cells": [
  {
   "cell_type": "markdown",
   "id": "3a4380c2",
   "metadata": {},
   "source": [
    "# Implementação da operação escolhida pelo usuário\n",
    "___"
   ]
  },
  {
   "cell_type": "markdown",
   "id": "784ac956",
   "metadata": {},
   "source": [
    "## Atividade 5\n",
    "\n",
    "Cada grupo deverá atualizar o código anterior acrescentando:\n",
    "\n",
    "- Uma variável para armazenar a operação escolhida pelo usuário;\n",
    "- Utilize estruturas condicionais (`if`, `elseif`, `else`) para decidir qual operação (produto, quociente, soma ou diferença) será realizada, conforme a escolha do usuário;\n",
    "- Exiba as frações informadas para conferência;\n",
    "- Caso o usuário informe uma operação inválida, exiba a mensagem:  \n",
    "  `println(\"Operação inválida\")`.\n",
    "\n",
    "---"
   ]
  },
  {
   "cell_type": "markdown",
   "id": "eea88787",
   "metadata": {},
   "source": [
    "---\n",
    "\n",
    "## Solução esperada\n",
    "\n",
    "Abaixo está um exemplo de código completo que realiza as quatro operações com duas frações quaisquer:\n",
    "\n"
   ]
  },
  {
   "cell_type": "code",
   "execution_count": 2,
   "id": "ca9ea067",
   "metadata": {},
   "outputs": [
    {
     "data": {
      "text/plain": [
       "calculadora (generic function with 1 method)"
      ]
     },
     "execution_count": 2,
     "metadata": {},
     "output_type": "execute_result"
    }
   ],
   "source": [
    "function calculadora(num_1, den_1, op, num_2, den_2)\n",
    "    println(\"As frações informadas foram: $(num_1)/$(den_1) e $(num_2)/$(den_2)\")\n",
    "    # Produto\n",
    "    if op == *\n",
    "        prod_num = num_1 * num_2\n",
    "        prod_den = den_1 * den_2\n",
    "        d_1 = gcd(prod_num, prod_den)\n",
    "        println(\"Produto: $(prod_num ÷ d_1)/$(prod_den ÷ d_1)\")\n",
    "    \n",
    "    # Quociente\n",
    "    elseif op == /\n",
    "        div_num = num_1 * den_2\n",
    "        div_den = den_1 * num_2\n",
    "        d_2 = gcd(div_num, div_den)\n",
    "        println(\"Quociente: $(div_num ÷ d_2)/$(div_den ÷ d_2)\")\n",
    "\n",
    "    # Soma\n",
    "    elseif op == +\n",
    "        m = lcm(den_1, den_2)\n",
    "        soma_num = m ÷ den_1 * num_1 + m ÷ den_2 * num_2\n",
    "        d_3 = gcd(soma_num, m)\n",
    "        println(\"Soma: $(soma_num ÷ d_3)/$(m ÷ d_3)\")\n",
    "\n",
    "    # Diferença\n",
    "     elseif op== -\n",
    "        sub_num = m ÷ den_1 * num_1 - m ÷ den_2 * num_2\n",
    "        d_4 = gcd(sub_num, m)\n",
    "        println(\"Diferença: $(sub_num ÷ d_4)/$(m ÷ d_4)\")\n",
    "    else\n",
    "        println(\"Operação inválida.\")\n",
    "    end\n",
    "end"
   ]
  },
  {
   "cell_type": "markdown",
   "id": "be5f6561",
   "metadata": {},
   "source": [
    "### Exemplo:\n",
    "*(IV - UFG - 2025)*\n",
    "\n",
    "Se $a = \\dfrac{1}{2}$ e $b = \\dfrac{1}{4}$, então $a^2 + b^2 + a + b$ vale:\n",
    "\n",
    "A) $\\dfrac{9}{16}$  \n",
    "\n",
    "B) $\\dfrac{13}{16}$  \n",
    "\n",
    "C) $\\dfrac{17}{16}$  \n",
    "\n",
    "D) $\\dfrac{25}{16}$  \n",
    "\n",
    "E) $\\dfrac{49}{16}$\n",
    "\n"
   ]
  },
  {
   "cell_type": "markdown",
   "id": "339f4d75",
   "metadata": {},
   "source": [
    "---\n",
    "### Passo 1: \n",
    "- Calcular $a^2$"
   ]
  },
  {
   "cell_type": "code",
   "execution_count": 5,
   "id": "8d7f5bca",
   "metadata": {},
   "outputs": [
    {
     "name": "stdout",
     "output_type": "stream",
     "text": [
      "As frações informadas foram: 1/2 e 1/2\n",
      "Produto: 1/4\n"
     ]
    }
   ],
   "source": [
    "calculadora(1,2,*,1,2)"
   ]
  },
  {
   "cell_type": "markdown",
   "id": "6485c8ec",
   "metadata": {},
   "source": [
    "---\n",
    "### Passo 2: \n",
    "- Calcular $b^2$"
   ]
  },
  {
   "cell_type": "code",
   "execution_count": 6,
   "id": "80592b53",
   "metadata": {
    "scrolled": true
   },
   "outputs": [
    {
     "name": "stdout",
     "output_type": "stream",
     "text": [
      "As frações informadas foram: 1/4 e 1/4\n",
      "Produto: 1/16\n"
     ]
    }
   ],
   "source": [
    "calculadora(1,4,*,1,4)"
   ]
  },
  {
   "cell_type": "markdown",
   "id": "a5b433a9",
   "metadata": {},
   "source": [
    "---\n",
    "### Passo 3: \n",
    "- somar os resultados obtidos nos passos 1 e 2."
   ]
  },
  {
   "cell_type": "code",
   "execution_count": 7,
   "id": "a780e0a4",
   "metadata": {
    "scrolled": true
   },
   "outputs": [
    {
     "name": "stdout",
     "output_type": "stream",
     "text": [
      "As frações informadas foram: 1/4 e 1/16\n",
      "Soma: 5/16\n"
     ]
    }
   ],
   "source": [
    "calculadora(1,4,+,1,16)"
   ]
  },
  {
   "cell_type": "markdown",
   "id": "2671f510",
   "metadata": {},
   "source": [
    "---\n",
    "### Passo 4: \n",
    "- somar valor de $a$  ao resultados do passo 3. "
   ]
  },
  {
   "cell_type": "code",
   "execution_count": 10,
   "id": "b3525877",
   "metadata": {
    "scrolled": true
   },
   "outputs": [
    {
     "name": "stdout",
     "output_type": "stream",
     "text": [
      "As frações informadas foram: 1/2 e 5/16\n",
      "Soma: 13/16\n"
     ]
    }
   ],
   "source": [
    "calculadora(1,2,+,5,16)"
   ]
  },
  {
   "cell_type": "markdown",
   "id": "c7378904",
   "metadata": {},
   "source": [
    "---\n",
    "### Passo 5: \n",
    "- somar valor de $b$ ao resultados do passo 4. "
   ]
  },
  {
   "cell_type": "code",
   "execution_count": 9,
   "id": "73278ce7",
   "metadata": {
    "scrolled": true
   },
   "outputs": [
    {
     "name": "stdout",
     "output_type": "stream",
     "text": [
      "As frações informadas foram: 1/4 e 13/16\n",
      "Soma: 17/16\n"
     ]
    }
   ],
   "source": [
    "calculadora(1,4,+,13,16)"
   ]
  },
  {
   "cell_type": "markdown",
   "id": "dd4efd1b",
   "metadata": {},
   "source": [
    "---\n",
    "#### Portanto, C é a alternativa correta."
   ]
  }
 ],
 "metadata": {
  "@webio": {
   "lastCommId": null,
   "lastKernelId": null
  },
  "kernelspec": {
   "display_name": "Julia 1.10.5",
   "language": "julia",
   "name": "julia-1.10"
  },
  "language_info": {
   "file_extension": ".jl",
   "mimetype": "application/julia",
   "name": "julia",
   "version": "1.10.5"
  }
 },
 "nbformat": 4,
 "nbformat_minor": 5
}
