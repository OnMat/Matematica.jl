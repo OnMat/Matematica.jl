{
 "cells": [
  {
   "cell_type": "markdown",
   "id": "a79fae49",
   "metadata": {},
   "source": [
    "# Representação algébrica para o padrão ou a regularidade de uma sequência\n",
    "\n",
    "---"
   ]
  },
  {
   "cell_type": "markdown",
   "id": "ee4e8842",
   "metadata": {},
   "source": [
    "## Definição\n",
    "\n",
    "Uma **sequência numérica** é uma lista ordenada de números que seguem uma **regra** ou **padrão**.  \n",
    "Podemos usar a **álgebra** para descrever esse padrão por meio de uma **expressão algébrica** que relaciona a posição do termo na sequência (geralmente representada por $n$) com seu valor.\n",
    "\n",
    "---\n"
   ]
  },
  {
   "cell_type": "markdown",
   "id": "ce7c9e82",
   "metadata": {},
   "source": [
    "### Justificativa\n",
    "\n",
    "Neste ponto, observa-se que muitos estudantes têm dificuldades em identificar e generalizar padrões em sequências numéricas.  \n",
    "A simples observação dos termos não é suficiente: é fundamental que o aluno compreenda **como a posição $n$ se relaciona com o valor de cada termo**, desenvolvendo assim uma **expressão algébrica** que represente essa regularidade.  \n",
    "\n",
    "Essa habilidade é essencial para resolver problemas que envolvem **regularidades, fórmulas e funções**, favorecendo o raciocínio algébrico e a modelagem de situações matemáticas.\n",
    "\n",
    "---\n"
   ]
  },
  {
   "cell_type": "markdown",
   "id": "86b1ace5",
   "metadata": {},
   "source": [
    "## Verificar as regularidades\n",
    "\n",
    "> Neste passo, além dos operadores básicos e do operador `%` (módulo), utilizaremos o comando `for` da linguagem **Julia** para identificar ciclos e repetições, analisando padrões presentes em sequências numéricas.\n",
    "\n"
   ]
  },
  {
   "cell_type": "markdown",
   "id": "6dc628da",
   "metadata": {},
   "source": [
    "#### Solução: "
   ]
  },
  {
   "cell_type": "markdown",
   "id": "ebd074ca",
   "metadata": {},
   "source": [
    "### Problema 01\n",
    "\n",
    "(Supletivo 2014). Na festa junina da escola, a professora de Artes resolveu fazer as bandeirinhas de São João conforme a sequência periódica de quatro cores.  A cor da primeira bandeira é verde, a segunda é vermelha, a terceira é azul e a quarta é cinza.  A partir daí, segue a sequência: verde, vermelho, azul, cinza, verde, vermelho, azul, cinza, e assim sucessivamente.\n",
    "<div style=\"text-align:center\">\n",
    "  <img src=\"bandeiras.png\" alt=\"Sequência de figuras de Rita\" width=\"500px\"/>\n",
    "</div>\n",
    "\n",
    "\n",
    "**Qual é a cor da 55ª bandeira?**\n",
    "\n",
    "A) Verde &nbsp;&nbsp;&nbsp; B) Vermelho &nbsp;&nbsp;&nbsp; C) Azul &nbsp;&nbsp;&nbsp; D) Cinza\n",
    "\n",
    "---\n"
   ]
  },
  {
   "cell_type": "markdown",
   "id": "f3c09598",
   "metadata": {},
   "source": [
    "#### Solução: \n",
    "\n",
    "_As cores se repetem a cada quatro bandeiras. Logo, a cor de uma bandeira em uma determinada posição depende do resto da divisão dessa possição por 4. Assim, bandeiras de resto:_\n",
    " - _1 são verdes;_\n",
    " - _2 sao vermalhas;_\n",
    " - _3 são azuis e_\n",
    " - _0 sao cinzas_"
   ]
  },
  {
   "cell_type": "code",
   "execution_count": 1,
   "id": "708c034b",
   "metadata": {},
   "outputs": [
    {
     "data": {
      "text/plain": [
       "3"
      ]
     },
     "execution_count": 1,
     "metadata": {},
     "output_type": "execute_result"
    }
   ],
   "source": [
    "55%4"
   ]
  },
  {
   "cell_type": "markdown",
   "id": "62a5e59e",
   "metadata": {},
   "source": [
    "_Portanto, a 55ª bandeira é azul._"
   ]
  },
  {
   "cell_type": "markdown",
   "id": "6ddf6a67",
   "metadata": {},
   "source": [
    "___\n",
    "\n",
    "Para resolver as questões de 02 a 05, utilizaremos o laço `for` para analisar cada alternativa e verificar as expressões apresentadas. O procedimento pode ser seguido nos seguintes passos:\n",
    "\n",
    "1. **Definir variáveis e expressões** correspondentes aos termos da sequência;\n",
    "2. **Observar os padrões numéricos** gerados por cada alternativa;\n",
    "3. **Comparar e representar os padrões** por meio das expressões algébricas indicadas nas alternativas;\n",
    "4. **Testar e validar** qual alternativa corresponde corretamente à sequência.\n"
   ]
  },
  {
   "cell_type": "markdown",
   "id": "0763c160",
   "metadata": {},
   "source": [
    "### Problema 02\n",
    "\n",
    "*(Supletivo 2010)*\n",
    "\n",
    "Observe a quantidade de figuras em cada coluna no quadro abaixo:\n",
    "\n",
    "| Coluna 1 | Coluna 2 | Coluna 3 | Coluna 4 |$\\cdots$|\n",
    "|----------|----------|----------|----------|--------|\n",
    "|🙂🙂🙂   |🙂🙂🙂  |🙂🙂🙂   | 🙂🙂🙂 |         |\n",
    "|          |🙂🙂🙂   |🙂🙂🙂  | 🙂🙂🙂  |$\\cdots$|\n",
    "|          |          |🙂🙂🙂   | 🙂🙂🙂 |         |\n",
    "|          |          |          | 🙂🙂🙂 |         |\n",
    "\n",
    "Mantendo esse mesmo padrão, a expressão algébrica que representa o número de figuras $(F)$ na ordem $n$ $(n = 1, 2, 3, \\cdots)$ é: \n",
    "\n",
    "A) $F(n) = 3n + 1$  \n",
    "B) $F(n) = 3n$  \n",
    "C) $F(n) = 2n + 1$  \n",
    "D) $F(n) = 4n - 1$\n",
    "\n",
    "---\n"
   ]
  },
  {
   "cell_type": "markdown",
   "id": "1f15cc6e",
   "metadata": {},
   "source": [
    "### Solução:"
   ]
  },
  {
   "cell_type": "code",
   "execution_count": 9,
   "id": "72d75a08",
   "metadata": {},
   "outputs": [
    {
     "name": "stdout",
     "output_type": "stream",
     "text": [
      "1 → 3\n",
      "2 → 6\n",
      "3 → 9\n",
      "4 → 12\n",
      "5 → 15\n"
     ]
    }
   ],
   "source": [
    "for n in 1:5\n",
    "    println(\"$n → \",3n) \n",
    "end"
   ]
  },
  {
   "cell_type": "markdown",
   "id": "581fd41f",
   "metadata": {},
   "source": [
    "### Problema 03\n",
    "\n",
    "**(Prova Brasil).**  \n",
    "As variáveis $n$ e $P$ assumem valores conforme mostra o quadro abaixo:\n",
    "\n",
    "| n  | 5  | 6  | 7  | 8  | 9  | 10 |\n",
    "|----|----|----|----|----|----|----|\n",
    "| P  | 8  | 10 | 12 | 14 | 16 | 18 |\n",
    "\n",
    "A relação entre $P$ e $n$ é dada pela expressão:\n",
    "\n",
    "A) $P = n + 1$\\\n",
    "B) $P = n + 2$\\\n",
    "C) $P = 2n - 2$\\\n",
    "D) $P = n - 2$\n",
    "\n",
    "---\n",
    "\n"
   ]
  },
  {
   "cell_type": "markdown",
   "id": "a4857d9b",
   "metadata": {},
   "source": [
    "### Solução:"
   ]
  },
  {
   "cell_type": "code",
   "execution_count": 11,
   "id": "f9e67423",
   "metadata": {},
   "outputs": [
    {
     "name": "stdout",
     "output_type": "stream",
     "text": [
      "5 → 8\n",
      "6 → 10\n",
      "7 → 12\n",
      "8 → 14\n",
      "9 → 16\n",
      "10 → 18\n"
     ]
    }
   ],
   "source": [
    "for n in 5:10\n",
    "    println(\"$n → \",2n-2) \n",
    "end"
   ]
  },
  {
   "cell_type": "markdown",
   "id": "a51051b1",
   "metadata": {},
   "source": [
    "### Problema 04\n",
    "\n",
    "*(SAEPE)*\n",
    "\n",
    "Observe a sequência numérica abaixo:\n",
    "\n",
    "| $n$ | 1 | 2 | 3 | 4 | 5 | $\\cdots$ |\n",
    "|-----|---|---|---|---|---|---|\n",
    "| $a_n$ | 0 | 3 | 8 | 15 | 24 |$\\cdots$ |\n",
    "\n",
    "A **expressão algébrica** que permite calcular o enésimo termo dessa sequência ($a_n$) em função da posição $n$ é:\n",
    "\n",
    "A) $2n - 1$  \n",
    "B) $2n + 2$  \n",
    "C) $n^2 - 1$  \n",
    "D) $n^2 + 2$\n",
    "\n",
    "---\n"
   ]
  },
  {
   "cell_type": "markdown",
   "id": "e885637a",
   "metadata": {},
   "source": [
    "### Solução:"
   ]
  },
  {
   "cell_type": "code",
   "execution_count": 12,
   "id": "caee2081",
   "metadata": {},
   "outputs": [
    {
     "name": "stdout",
     "output_type": "stream",
     "text": [
      "1 → 0\n",
      "2 → 3\n",
      "3 → 8\n",
      "4 → 15\n",
      "5 → 24\n"
     ]
    }
   ],
   "source": [
    "for n in 1:5\n",
    "    println(\"$n → \",n^2 - 1) \n",
    "end"
   ]
  },
  {
   "cell_type": "markdown",
   "id": "e3c455db",
   "metadata": {},
   "source": [
    "### Problema 05\n",
    "\n",
    "*(P. Wr)*\n",
    "\n",
    "As figuras mostradas abaixo estão organizadas dentro de um **padrão que se repete**:\n",
    "\n",
    "<div style=\"text-align:center\">\n",
    "  <img src=\"figuras_quadradinhos.png\" alt=\"Sequência de figuras com quadradinhos\" width=\"400px\"/>\n",
    "</div>\n",
    "\n",
    "Mantendo essa disposição, a **expressão algébrica que representa o número de quadradinhos $Q$ em função da ordem $n$** ($n = 1, 2, 3, \\dots$) é:\n",
    "\n",
    "A) $Q = n$  \n",
    "B) $Q = n^2$  \n",
    "C) $Q = n^2 + 1$  \n",
    "D) $Q = n^2 + 2$\n",
    "\n",
    "---\n",
    "\n"
   ]
  },
  {
   "cell_type": "markdown",
   "id": "6dcdeb89",
   "metadata": {},
   "source": [
    "### Solução:"
   ]
  },
  {
   "cell_type": "code",
   "execution_count": 13,
   "id": "41f79702",
   "metadata": {},
   "outputs": [
    {
     "name": "stdout",
     "output_type": "stream",
     "text": [
      "1 → 1\n",
      "2 → 4\n",
      "3 → 9\n",
      "4 → 16\n",
      "5 → 25\n"
     ]
    }
   ],
   "source": [
    "for n in 1:5\n",
    "    println(\"$n → \",n^2) \n",
    "end"
   ]
  }
 ],
 "metadata": {
  "kernelspec": {
   "display_name": "Julia 1.11.5",
   "language": "julia",
   "name": "julia-1.11"
  },
  "language_info": {
   "file_extension": ".jl",
   "mimetype": "application/julia",
   "name": "julia",
   "version": "1.11.5"
  }
 },
 "nbformat": 4,
 "nbformat_minor": 5
}
