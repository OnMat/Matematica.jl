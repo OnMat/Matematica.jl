{
 "cells": [
  {
   "cell_type": "markdown",
   "id": "40e5436c",
   "metadata": {},
   "source": [
    "<hr style=\"border: none; height: 3px; background-color: blue; \">\n",
    "<center> <h1>Calculadora de Sistemas 2x2, versão inical</h1></center> \n",
    "<hr style=\"border: none; height: 3px; background-color: blue; \">"
   ]
  },
  {
   "cell_type": "markdown",
   "id": "c148187e",
   "metadata": {},
   "source": [
    "<h2> Definição das variáveis</h2>\n",
    "\n",
    "Insira, na célula de código abaixo, as variáveis $a1$, $a2$, $b1$, $b2$, $c1$ e $c2$, \n",
    "das quais três estarão associadas à primeira equação \n",
    "do sistema $a_1x + b_1y = c_1$\n",
    "e as demais à segunda equação $a_2x + b_2y = c_2$."
   ]
  },
  {
   "cell_type": "code",
   "execution_count": 70,
   "id": "4cb6b8e4",
   "metadata": {},
   "outputs": [],
   "source": [
    "a1 =1 ;    b1 = -1;    c1 = 3;\n",
    "a2 =2 ;    b2 = 1;    c2 = 12;"
   ]
  },
  {
   "cell_type": "markdown",
   "id": "a75beabc",
   "metadata": {},
   "source": [
    "<h2> Cálculo dos determinantes</h2>\n",
    "\n",
    "Realize os cálculos dos determinantes $detA$, $detX$ e $detY$, \n",
    "onde $A$, $X$ e $Y$ são as matrizes associadas ao sistema linear. \n",
    "\n",
    "- $A$ é a matriz dos coeficientes;\n",
    "- $X$ é a matriz obtida substituindo a coluna das incógnitas x \n",
    "  pelos termos independentes;\n",
    "- $Y$ é a matriz obtida substituindo a coluna das incógnitas y \n",
    "  pelos termos independentes."
   ]
  },
  {
   "cell_type": "code",
   "execution_count": 22,
   "id": "9fd226fd",
   "metadata": {},
   "outputs": [
    {
     "name": "stdout",
     "output_type": "stream",
     "text": [
      "O determinante da matriz A é: detA = 3\n",
      "O determinante da matriz X é: detX = 15\n",
      "O determinante da matriz Y é: detY = 6\n"
     ]
    }
   ],
   "source": [
    "detA = a1*b2 - a2*b1\n",
    "detX = c1*b2 - c2*b1\n",
    "detY = a1*c2 - a2*c1\n",
    "\n",
    "println(\"O determinante da matriz A é: detA = $(detA)\")\n",
    "println(\"O determinante da matriz X é: detX = $(detX)\")\n",
    "println(\"O determinante da matriz Y é: detY = $(detY)\")"
   ]
  },
  {
   "cell_type": "markdown",
   "id": "2a6b92a7",
   "metadata": {},
   "source": [
    "<h2> Classificação do Sistema </h2>\n",
    "\n",
    "De acordo com os resultados dos determinantes $detA$, $detX$ e $detY$, \n",
    "imprima:\n",
    "\n",
    "- Se $detA \\neq 0$, **Sistema Possível e Determinado (SPD)**;\n",
    "- Se $detA = 0$ e $detX = 0$ e $detY = 0$,  **Sistema Possível \n",
    "e Indeterminado (SPI)**;\n",
    "- Se $detA = 0$ e pelo menos um entre $detX\\neq 0$ ou $detY \\neq 0$, \n",
    "**Sistema Impossível (SI)**."
   ]
  },
  {
   "cell_type": "code",
   "execution_count": 23,
   "id": "d3613616",
   "metadata": {},
   "outputs": [
    {
     "name": "stdout",
     "output_type": "stream",
     "text": [
      "O Sistema Possível e Determinado (SPD)\n"
     ]
    }
   ],
   "source": [
    "if detA != 0\n",
    "    println(\"O Sistema Possível e Determinado (SPD)\")\n",
    "elseif detA==0 && detX==0 && detY==0\n",
    "     println(\"Sistema Possível e Indeterminado (SPI)\")\n",
    "else\n",
    "    println(\"Sistema Impossível (SI)\")\n",
    "end"
   ]
  },
  {
   "cell_type": "markdown",
   "id": "fb5c7b45",
   "metadata": {},
   "source": [
    "<h2> Solução do sistema </h2>\n",
    "\n",
    "Se o sistema for possível e determinado (SPD), calcule os valores das incógnitas $x$ e $y$ utilizando a Regra de Cramer:\n",
    "- $x = \\frac{detX}{detA}$\n",
    "- $y = \\frac{detY}{detA}$"
   ]
  },
  {
   "cell_type": "code",
   "execution_count": 24,
   "id": "0352f50a",
   "metadata": {},
   "outputs": [
    {
     "name": "stdout",
     "output_type": "stream",
     "text": [
      "A solução do sistema é: S = {(5.0; 2.0)}\n"
     ]
    }
   ],
   "source": [
    "x = detX / detA\n",
    "y = detY / detA\n",
    "println(\"A solução do sistema é: S = {($(x); $(y))}\")"
   ]
  },
  {
   "cell_type": "markdown",
   "id": "26112c6b",
   "metadata": {},
   "source": [
    "<hr style=\"border: none; height: 3px; background-color: blue; \">\n",
    "<center> <h1>Calculadora de Sistemas 2x2, versão final</h1></center>\n",
    "<hr style=\"border: none; height: 3px; background-color: blue; \">\n"
   ]
  },
  {
   "cell_type": "markdown",
   "id": "4b43f555",
   "metadata": {},
   "source": [
    "<h2> Cálculo dos Determinantes </h2>\n",
    "\n",
    "Combine todas as células de código da seção anterior em uma única célula de código. Implemente as modificações necessárias no algoritmo para que ele:\n",
    "\n",
    "- Interaja com o usuário, solicitando que ele informe os coeficientes do sistema linear;\n",
    "- Retorne a solução do sistema caso ele seja possível e determinado (SPD);\n",
    "- Classifique o sistema como possível e indeterminado (SPI) ou impossível (SI) quando for o caso."
   ]
  },
  {
   "cell_type": "code",
   "execution_count": 1,
   "id": "96b78ca6",
   "metadata": {},
   "outputs": [
    {
     "name": "stdout",
     "output_type": "stream",
     "text": [
      "*************************************\n",
      "* Calculadora de Sistema Linear 2x2 *\n",
      "*************************************\n",
      "Informe os coeficientes do sistema linear:\n",
      "Digite o valor de a₁: stdin> 1\n",
      "Digite o valor de b₁: stdin> 1\n",
      "Digite o valor de c₁: stdin> 40\n",
      "Digite o valor de a₂: stdin> 4\n",
      "Digite o valor de b₂: stdin> 2\n",
      "Digite o valor de c₂: stdin> 140\n",
      "Sistema Possível e Determinado (SPD)\n",
      "A solução do sistema é: S = {(30.0; 10.0)}\n"
     ]
    }
   ],
   "source": [
    "# Imprimir título\n",
    "println(repeat(\"*\", 37))\n",
    "println(\"* Calculadora de Sistema Linear 2x2 *\")\n",
    "println(repeat(\"*\", 37))\n",
    "\n",
    "# Solicitar coeficientes ao usuário\n",
    "println(\"Informe os coeficientes do sistema linear:\")\n",
    "print(\"Digite o valor de a₁: \")\n",
    "a1 = parse(Float64, readline())\n",
    "print(\"Digite o valor de b₁: \")\n",
    "b1 = parse(Float64, readline())\n",
    "print(\"Digite o valor de c₁: \")\n",
    "c1 = parse(Float64, readline())\n",
    "print(\"Digite o valor de a₂: \")\n",
    "a2 = parse(Float64, readline())\n",
    "print(\"Digite o valor de b₂: \")\n",
    "b2 = parse(Float64, readline())\n",
    "print(\"Digite o valor de c₂: \")\n",
    "c2 = parse(Float64, readline())\n",
    "    \n",
    "# Calculo dos determinantes associados \n",
    "detA = a1*b2 - a2*b1\n",
    "detX = c1*b2 - c2*b1\n",
    "detY = a1*c2 - a2*c1\n",
    "\n",
    "# Classificação e solução do Sistema a partir dos determinantes\n",
    "if detA != 0\n",
    "    println(\"Sistema Possível e Determinado (SPD)\")\n",
    "    println(\"A solução do sistema é: S = {($(detX / detA); $(detY / detA))}\")\n",
    "elseif detA == 0 && detX == 0 && detY == 0\n",
    "    println(\"Sistema Possível e Indeterminado (SPI)\")\n",
    "else\n",
    "    println(\"Sistema Impossível (SI)\")\n",
    "end"
   ]
  }
 ],
 "metadata": {
  "kernelspec": {
   "display_name": "Python 3 (ipykernel)",
   "language": "python",
   "name": "python3"
  },
  "language_info": {
   "codemirror_mode": {
    "name": "ipython",
    "version": 3
   },
   "file_extension": ".py",
   "mimetype": "text/x-python",
   "name": "python",
   "nbconvert_exporter": "python",
   "pygments_lexer": "ipython3",
   "version": "3.9.2"
  }
 },
 "nbformat": 4,
 "nbformat_minor": 5
}
