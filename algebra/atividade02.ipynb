{
 "cells": [
  {
   "cell_type": "markdown",
   "id": "ef7cbaca",
   "metadata": {},
   "source": [
    "#  Levantamento dos conceitos necessários\n",
    "---"
   ]
  },
  {
   "cell_type": "markdown",
   "id": "629d0ed1",
   "metadata": {},
   "source": [
    "## Atividade proposta:\n",
    "\n",
    "> Em equipes, listem quais são as **operações** matemáticas, a **ordem de precedência**, as **variáveis** e **expressões algébricas**. Discutam entre si e anotem no caderno os exemplos e justificativas.\n",
    "\n",
    "---"
   ]
  },
  {
   "cell_type": "markdown",
   "id": "aa89ea9c",
   "metadata": {},
   "source": [
    "### Espera-se que surjam, por exemplo:\n",
    "\n",
    "#### Operações matemáticas e seus símbolos em Julia:\n",
    "- Adição (`+`)\n",
    "- Subtração (`-`)\n",
    "- Multiplicação (`*`)\n",
    "- Divisão (`/`)\n",
    "- Potenciação (`^`)\n",
    "- Radiciação (usando `sqrt()` ou `^0.5`)\n",
    "\n",
    "#### Ordem de precedência:\n",
    "1. Parênteses: resolver expressões entre `()`, `[]`, `{}` — de dentro para fora.\n",
    "2. Potenciação e radiciação\n",
    "3. Multiplicação e divisão (da esquerda para a direita)\n",
    "4. Adição e subtração (da esquerda para a direita)\n",
    "\n",
    "#### Exemplos de expressões algébricas:\n",
    "\n",
    "- $3x + 5$  \n",
    "  *Aqui temos uma variável* $x$, *multiplicada por 3, somada a 5.*\n",
    "\n",
    "- $2a^2 - 4b + 7$  \n",
    "  *Duas variáveis* $a$ *e* $b$, *com expoente em* $a^2$.\n",
    "\n",
    "- $(x + y)(x - y)$  \n",
    "  *Expressão com parênteses para controlar a ordem das operações.*\n",
    "\n",
    "- $\\dfrac{2m + 3}{5}$  \n",
    "  *Expressão que envolve uma divisão entre um polinômio e um número.*\n",
    "\n",
    "- $\\sqrt{z} + 4$ ou $z^{0.5} + 4$  \n",
    "  *Radiciação aplicada à variável* $z$.\n",
    "\n",
    "#### Variáveis:\n",
    "- Representam valores desconhecidos ou que podem variar.\n",
    "- Usualmente representadas por letras: \\( x, y, a, b, m, n, z \\), etc.\n",
    "- Podem ser usadas para generalizar problemas e criar fórmulas.\n",
    "\n",
    "#### Justificativa e explicação:\n",
    "\n",
    "- As **operações matemáticas** permitem combinar números e variáveis para criar expressões.\n",
    "- A **ordem de precedência** é fundamental para garantir que o cálculo seja feito corretamente e sem ambiguidade.\n",
    "- As **variáveis** permitem representar situações em que os valores podem mudar.\n",
    "- As **expressões algébricas** são combinações dessas operações e variáveis que representam relações matemáticas e problemas.\n"
   ]
  },
  {
   "cell_type": "markdown",
   "id": "467d0007",
   "metadata": {},
   "source": [
    "## Resolução de Problemas\n",
    "\n",
    "> Neste passo, vamos aplicar os conhecimentos sobre produtos notáveis na resolução de problemas matemáticos reais.\n",
    "\n",
    "### O que faremos:\n",
    "- Você receberá uma **lista impressa de exercícios** com problemas que envolvam o conteúdo abordado;\n",
    "- Cada **problema será apresentado em uma célula de Markdown** no notebook;\n",
    "- A **resolução será feita nas células de código**, utilizando a linguagem Julia;\n",
    "- Após resolver cada questão no notebook, registre a **resposta final no material impresso** que será entregue ao professor;\n",
    "- Anote também os passos e observações importantes que ajudaram a chegar à solução.\n",
    "\n",
    "---"
   ]
  },
  {
   "cell_type": "markdown",
   "id": "6343e783",
   "metadata": {},
   "source": [
    "## Problemas \n",
    "\n",
    "____"
   ]
  },
  {
   "cell_type": "markdown",
   "id": "bfc0b5e9",
   "metadata": {},
   "source": [
    "### Problema 1\n",
    "\n",
    "(Projeto pro(seguir)). \n",
    "\n",
    "O valor numérico de $2x + y$ para $x = 1$ e $y = 2$ é igual a:  \n",
    "\n",
    "(A) 3 &nbsp;&nbsp;&nbsp; (B) 4 &nbsp;&nbsp;&nbsp; (C) 5 &nbsp;&nbsp;&nbsp; (D) 23\n",
    "\n",
    "---"
   ]
  },
  {
   "cell_type": "markdown",
   "id": "dba5fb5a",
   "metadata": {},
   "source": [
    "#### Solução:"
   ]
  },
  {
   "cell_type": "code",
   "execution_count": 7,
   "id": "05eb4c57",
   "metadata": {},
   "outputs": [
    {
     "data": {
      "text/plain": [
       "2"
      ]
     },
     "execution_count": 7,
     "metadata": {},
     "output_type": "execute_result"
    }
   ],
   "source": [
    "x=1\n",
    "y=2"
   ]
  },
  {
   "cell_type": "code",
   "execution_count": 6,
   "id": "4ce270bf",
   "metadata": {},
   "outputs": [
    {
     "data": {
      "text/plain": [
       "6"
      ]
     },
     "execution_count": 6,
     "metadata": {},
     "output_type": "execute_result"
    }
   ],
   "source": [
    "2x+y"
   ]
  },
  {
   "cell_type": "markdown",
   "id": "67cf8c4e",
   "metadata": {},
   "source": [
    "### Problema 2\n",
    "\n",
    "(Supletivo 2011). Qual é o valor numérico da expressão  \n",
    "$a^2 + 3b$ para $a = 3$ e $b = 2$?\n",
    "\n",
    "A) 12 &nbsp;&nbsp;&nbsp; B) 15 &nbsp;&nbsp;&nbsp; C) 18 &nbsp;&nbsp;&nbsp; D) 24\n",
    "\n",
    "---"
   ]
  },
  {
   "cell_type": "markdown",
   "id": "dae44658",
   "metadata": {},
   "source": [
    "#### Solução:"
   ]
  },
  {
   "cell_type": "markdown",
   "id": "68710e9d",
   "metadata": {},
   "source": [
    "### Problema 3\n",
    "\n",
    "(Projeto pro(seguir)). É um engano pensar que uma pessoa que calça sapatos 38 tem um pé com 38 cm de comprimento.  \n",
    "Veja a fórmula algébrica usada para determinar o tamanho aproximado dos sapatos:  \n",
    "\n",
    "$$ N = \\frac{5P + 28}{4} $$\n",
    "\n",
    "onde $N$ é o número do sapato e $P$ o comprimento do pé em centímetros.  \n",
    "\n",
    "Calcule o número $N$ do sapato de uma pessoa cujo pé mede 24 cm:  \n",
    "(A) 32 &nbsp;&nbsp;&nbsp; (B) 37 &nbsp;&nbsp;&nbsp; (C) 39 &nbsp;&nbsp;&nbsp; (D) 42\n",
    "\n",
    "---\n"
   ]
  },
  {
   "cell_type": "markdown",
   "id": "debfff56",
   "metadata": {},
   "source": [
    "#### Solução:"
   ]
  },
  {
   "cell_type": "markdown",
   "id": "814ea854",
   "metadata": {},
   "source": [
    "### Problema 4\n",
    "\n",
    "(Corpo de Bombeiros – RJ). Qual o valor numérico da expressão  \n",
    "$2x^2 - 16x + 17$ para $x = 2$ e para $x = -2$ é, respectivamente:  \n",
    "\n",
    "(A) 5 e 40 &nbsp;&nbsp;&nbsp; (B) –7 e 57 &nbsp;&nbsp;&nbsp; (C) –11 e –7 &nbsp;&nbsp;&nbsp; (D) –15 e –23\n",
    "\n",
    "---\n"
   ]
  },
  {
   "cell_type": "markdown",
   "id": "47231883",
   "metadata": {},
   "source": [
    "#### Solução:"
   ]
  },
  {
   "cell_type": "markdown",
   "id": "f690be85",
   "metadata": {},
   "source": [
    "### Problema 5\n",
    "\n",
    "(SRE CURVELO). \n",
    "\n",
    "Seja $k = \\sqrt{x^2 + 2x + 1}$. Para $x = -2$, o valor de $k$ é:\n",
    "\n",
    "A) 1 &nbsp;&nbsp;&nbsp; B) –1 &nbsp;&nbsp;&nbsp; C) 2 &nbsp;&nbsp;&nbsp; D) –2\n",
    "\n",
    "---\n"
   ]
  },
  {
   "cell_type": "markdown",
   "id": "dab969f1",
   "metadata": {},
   "source": [
    "#### Solução:"
   ]
  },
  {
   "cell_type": "markdown",
   "id": "c8e96428",
   "metadata": {},
   "source": [
    "### Problema 6\n",
    "\n",
    "(MEARIM – MA). Sabendo que $a = -1$, $b = -6$ e $c = -3$, determine o valor numérico da expressão:  \n",
    "\n",
    "$$b^2 - 4ac$$\n",
    "\n",
    "(A) -24 &nbsp;&nbsp;&nbsp; (B) 0 &nbsp;&nbsp;&nbsp; (C) 24 &nbsp;&nbsp;&nbsp; (D) 48\n",
    "\n",
    "---\n"
   ]
  },
  {
   "cell_type": "markdown",
   "id": "68ed1d7d",
   "metadata": {},
   "source": [
    "#### Solução:"
   ]
  },
  {
   "cell_type": "markdown",
   "id": "b75bf5a2",
   "metadata": {},
   "source": [
    "### Problema 7\n",
    "\n",
    "(PAAE-2013). Uma das formas de se estimar a área aproximada ($A$) da superfície corporal de um adulto, em m², tem como base sua massa ($M$), em quilogramas, e sua altura ($h$), em metros. A fórmula utilizada para esse cálculo é:\n",
    "\n",
    "$$\n",
    "A = \\frac{1}{6} \\sqrt{M \\times h}\n",
    "$$\n",
    "\n",
    "De acordo com essa fórmula, a área, em m², da superfície do corpo de um adulto com 1,80 m de altura e 80 kg de massa é próxima de:  \n",
    "\n",
    "A) 1,8 &nbsp;&nbsp;&nbsp; B) 2,0 &nbsp;&nbsp;&nbsp; C) 2,2 &nbsp;&nbsp;&nbsp; D) 2,4\n",
    "\n",
    "---\n"
   ]
  },
  {
   "cell_type": "markdown",
   "id": "7bd4b0fe",
   "metadata": {},
   "source": [
    "#### Solução:"
   ]
  },
  {
   "cell_type": "markdown",
   "id": "fc3b97c2",
   "metadata": {},
   "source": [
    "### Problema 8\n",
    "\n",
    "Na figura abaixo podemos observar um hexágono e suas diagonais.  \n",
    "\n",
    "<div style=\"text-align:center\">\n",
    "  <img src=\"hexagono.png\" alt=\"Hexágono e suas diagonais\" width=\"200px\"/>\n",
    "</div>\n",
    "\n",
    "Para calcular o número de diagonais de um polígono convexo podemos usar a fórmula:  \n",
    "\n",
    "$$ D = \\frac{n(n-3)}{2} $$\n",
    "\n",
    "onde $D$ é o número de diagonais e $n$ é o número de lados do polígono.  \n",
    "\n",
    "Um polígono de 9 lados tem:  \n",
    "\n",
    "(A) 54 diagonais &nbsp;&nbsp;&nbsp; (B) 27 diagonais &nbsp;&nbsp;&nbsp; (C) 18 diagonais &nbsp;&nbsp;&nbsp; (D) 9 diagonais\n",
    "\n",
    "---\n"
   ]
  },
  {
   "cell_type": "markdown",
   "id": "85c6348a",
   "metadata": {},
   "source": [
    "#### Solução:"
   ]
  },
  {
   "cell_type": "markdown",
   "id": "31ac4ccf",
   "metadata": {},
   "source": [
    "### Problema 9\n",
    "\n",
    "(SAEP 2013). Na escola de Marcos Antônio são realizadas duas avaliações por bimestre, sendo que a primeira tem peso 1 e a segunda tem peso 2, usando a seguinte fórmula:\n",
    "\n",
    "$$\n",
    "M = \\frac{A_1 + 2A_2}{3}\n",
    "$$\n",
    "\n",
    "onde $A_1$ é o valor da primeira avaliação e $A_2$ é o valor da segunda avaliação.  \n",
    "\n",
    "Se Marcos Antônio tirou 5,6 na primeira avaliação e 9,2 na segunda avaliação, a sua média do bimestre em questão foi:  \n",
    "\n",
    "(A) 8,0 &nbsp;&nbsp;&nbsp; (B) 7,4 &nbsp;&nbsp;&nbsp; (C) 6,8 &nbsp;&nbsp;&nbsp; (D) 5,0\n",
    "\n",
    "---\n"
   ]
  },
  {
   "cell_type": "markdown",
   "id": "a0278787",
   "metadata": {},
   "source": [
    "#### Solução:"
   ]
  },
  {
   "cell_type": "markdown",
   "id": "0ae04a98",
   "metadata": {},
   "source": [
    "### Problema 10\n",
    "\n",
    "(Prova Brasil). Dada a expressão:  \n",
    "\n",
    "$$\n",
    "x = \\frac{-b + \\sqrt{b^2 - 4 \\cdot a \\cdot c}}{2 \\cdot a}\n",
    "$$\n",
    "\n",
    "Sendo $a = 1$, $b = -7$ e $c = 10$, o valor numérico de $x$ é:\n",
    "\n",
    "(A) –5 &nbsp;&nbsp;&nbsp; (B) –2 &nbsp;&nbsp;&nbsp; (C) 2 &nbsp;&nbsp;&nbsp; (D) 5\n",
    "\n",
    "---\n",
    "\n"
   ]
  },
  {
   "cell_type": "markdown",
   "id": "02bd5baf",
   "metadata": {},
   "source": [
    "#### Solução:"
   ]
  }
 ],
 "metadata": {
  "kernelspec": {
   "display_name": "Julia 1.10.5",
   "language": "julia",
   "name": "julia-1.10"
  },
  "language_info": {
   "file_extension": ".jl",
   "mimetype": "application/julia",
   "name": "julia",
   "version": "1.10.5"
  }
 },
 "nbformat": 4,
 "nbformat_minor": 5
}
