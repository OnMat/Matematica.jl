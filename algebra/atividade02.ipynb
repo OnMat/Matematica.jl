{
 "cells": [
  {
   "cell_type": "markdown",
   "id": "42f06374",
   "metadata": {},
   "source": [
    "# Valor numérico de uma expressão algébrica"
   ]
  },
  {
   "cell_type": "markdown",
   "id": "467d0007",
   "metadata": {},
   "source": [
    "## O que faremos?\n",
    "- Você receberá uma **lista impressa de exercícios** com problemas que envolvam o conteúdo abordado;\n",
    "- Cada **problema será apresentado em uma célula de Markdown** no notebook;\n",
    "- A **resolução será feita nas células de código**, utilizando a linguagem Julia;\n",
    "- Após resolver cada questão no notebook, registre a **resposta final no material impresso** que será entregue ao professor;\n",
    "- Anote também os passos e observações importantes que ajudaram a chegar à solução.\n",
    "\n",
    "---"
   ]
  },
  {
   "cell_type": "markdown",
   "id": "6343e783",
   "metadata": {},
   "source": [
    "## Problemas \n",
    "\n",
    "____"
   ]
  },
  {
   "cell_type": "markdown",
   "id": "bfc0b5e9",
   "metadata": {},
   "source": [
    "### Problema 1\n",
    "\n",
    "(Projeto pro(seguir)). \n",
    "\n",
    "O valor numérico de $2x + y$ para $x = 1$ e $y = 2$ é igual a:  \n",
    "\n",
    "(A) 3 &nbsp;&nbsp;&nbsp; (B) 4 &nbsp;&nbsp;&nbsp; (C) 5 &nbsp;&nbsp;&nbsp; (D) 23\n",
    "\n",
    "---"
   ]
  },
  {
   "cell_type": "markdown",
   "id": "dba5fb5a",
   "metadata": {},
   "source": [
    "#### Solução:"
   ]
  },
  {
   "cell_type": "code",
   "execution_count": 15,
   "id": "05eb4c57",
   "metadata": {},
   "outputs": [
    {
     "data": {
      "text/plain": [
       "2"
      ]
     },
     "execution_count": 15,
     "metadata": {},
     "output_type": "execute_result"
    }
   ],
   "source": [
    "x=1\n",
    "y=2"
   ]
  },
  {
   "cell_type": "code",
   "execution_count": 16,
   "id": "4ce270bf",
   "metadata": {},
   "outputs": [
    {
     "name": "stdout",
     "output_type": "stream",
     "text": [
      "O valor numérico de 2x + y, para x = 1 e y = 2 é: 4\n"
     ]
    }
   ],
   "source": [
    "println(\"O valor numérico de 2x + y, para x = $x e y = $y é: \", 2x + y)"
   ]
  },
  {
   "cell_type": "markdown",
   "id": "31ac4ccf",
   "metadata": {},
   "source": [
    "### Problema 2\n",
    "\n",
    "(SAEP 2013). Na escola de Marcos Antônio são realizadas duas avaliações por bimestre, sendo que a primeira tem peso 1 e a segunda tem peso 2, usando a seguinte fórmula:\n",
    "\n",
    "$$\n",
    "M = \\frac{A_1 + 2A_2}{3}\n",
    "$$\n",
    "\n",
    "onde $A_1$ é o valor da primeira avaliação e $A_2$ é o valor da segunda avaliação.  \n",
    "\n",
    "Se Marcos Antônio tirou 5,6 na primeira avaliação e 9,2 na segunda avaliação, a sua média do bimestre em questão foi:  \n",
    "\n",
    "(A) 8,0 &nbsp;&nbsp;&nbsp; (B) 7,4 &nbsp;&nbsp;&nbsp; (C) 6,8 &nbsp;&nbsp;&nbsp; (D) 5,0\n",
    "\n",
    "---\n"
   ]
  },
  {
   "cell_type": "markdown",
   "id": "dae44658",
   "metadata": {},
   "source": [
    "#### Solução:"
   ]
  },
  {
   "cell_type": "code",
   "execution_count": 9,
   "id": "12a0fb37",
   "metadata": {},
   "outputs": [
    {
     "data": {
      "text/plain": [
       "9.2"
      ]
     },
     "execution_count": 9,
     "metadata": {},
     "output_type": "execute_result"
    }
   ],
   "source": [
    "A₁=5.6\n",
    "A₂=9.2"
   ]
  },
  {
   "cell_type": "code",
   "execution_count": 12,
   "id": "0e0c826c",
   "metadata": {},
   "outputs": [
    {
     "name": "stdout",
     "output_type": "stream",
     "text": [
      "A média bimestral é 8.0 \n"
     ]
    }
   ],
   "source": [
    "M=(A₁+2A₂)/3\n",
    "println(\"A média bimestral é $M \")"
   ]
  },
  {
   "cell_type": "markdown",
   "id": "814ea854",
   "metadata": {},
   "source": [
    "### Problema 3\n",
    "\n",
    "(Corpo de Bombeiros – RJ). Qual o valor numérico da expressão  \n",
    "$2x^2 - 16x + 17$ para $x = 2$ e para $x = -2$ é, respectivamente:  \n",
    "\n",
    "(A) 5 e 40 &nbsp;&nbsp;&nbsp; (B) –7 e 57 &nbsp;&nbsp;&nbsp; (C) –11 e –7 &nbsp;&nbsp;&nbsp; (D) –15 e –23\n",
    "\n",
    "---\n"
   ]
  },
  {
   "cell_type": "markdown",
   "id": "47231883",
   "metadata": {},
   "source": [
    "#### Solução:"
   ]
  },
  {
   "cell_type": "code",
   "execution_count": 17,
   "id": "2493cb24",
   "metadata": {},
   "outputs": [
    {
     "name": "stdout",
     "output_type": "stream",
     "text": [
      "O valor numérico de 2x²-16x+17 para x = 2 é:-7\n"
     ]
    }
   ],
   "source": [
    "x=2\n",
    "println(\"O valor numérico de 2x²-16x+17 para x = $x é:\", 2x^2-16x+17)"
   ]
  },
  {
   "cell_type": "code",
   "execution_count": 18,
   "id": "fc427d8c",
   "metadata": {},
   "outputs": [
    {
     "name": "stdout",
     "output_type": "stream",
     "text": [
      "O valor numérico de 2x²-16x+17 para x = 2 é:-7\n"
     ]
    }
   ],
   "source": [
    "x=2\n",
    "println(\"O valor numérico de 2x²-16x+17 para x = $x é:\", 2x^2-16x+17)"
   ]
  },
  {
   "cell_type": "markdown",
   "id": "b75bf5a2",
   "metadata": {},
   "source": [
    "### Problema 4\n",
    "\n",
    "(PAAE-2013). Uma das formas de se estimar a área aproximada ($A$) da superfície corporal de um adulto, em m², tem como base sua massa ($M$), em quilogramas, e sua altura ($h$), em metros. A fórmula utilizada para esse cálculo é:\n",
    "\n",
    "$$\n",
    "A = \\frac{1}{6} \\sqrt{M \\times h}\n",
    "$$\n",
    "\n",
    "De acordo com essa fórmula, a área, em m², da superfície do corpo de um adulto com 1,80 m de altura e 80 kg de massa é próxima de:  \n",
    "\n",
    "A) 1,8 &nbsp;&nbsp;&nbsp; B) 2,0 &nbsp;&nbsp;&nbsp; C) 2,2 &nbsp;&nbsp;&nbsp; D) 2,4\n",
    "\n",
    "---\n"
   ]
  },
  {
   "cell_type": "markdown",
   "id": "dab969f1",
   "metadata": {},
   "source": [
    "#### Solução:"
   ]
  },
  {
   "cell_type": "code",
   "execution_count": 20,
   "id": "1df52fb2",
   "metadata": {},
   "outputs": [
    {
     "data": {
      "text/plain": [
       "1.8"
      ]
     },
     "execution_count": 20,
     "metadata": {},
     "output_type": "execute_result"
    }
   ],
   "source": [
    "h=1.80"
   ]
  },
  {
   "cell_type": "code",
   "execution_count": 19,
   "id": "8946245d",
   "metadata": {},
   "outputs": [
    {
     "data": {
      "text/plain": [
       "80"
      ]
     },
     "execution_count": 19,
     "metadata": {},
     "output_type": "execute_result"
    }
   ],
   "source": [
    "M=80"
   ]
  },
  {
   "cell_type": "code",
   "execution_count": 22,
   "id": "beac69af",
   "metadata": {},
   "outputs": [
    {
     "name": "stdout",
     "output_type": "stream",
     "text": [
      "A superfície do corpo de um adulto é: 2.0\n"
     ]
    }
   ],
   "source": [
    "A=(√(M*h))/6\n",
    "println(\"A superfície do corpo de um adulto é: \", A)"
   ]
  },
  {
   "cell_type": "markdown",
   "id": "0ae04a98",
   "metadata": {},
   "source": [
    "### Problema 5\n",
    "\n",
    "(Prova Brasil). Dada a expressão:  \n",
    "\n",
    "$$\n",
    "x = \\frac{-b + \\sqrt{b^2 - 4 \\cdot a \\cdot c}}{2 \\cdot a}\n",
    "$$\n",
    "\n",
    "Sendo $a = 1$, $b = -7$ e $c = 10$, o valor numérico de $x$ é:\n",
    "\n",
    "(A) –5 &nbsp;&nbsp;&nbsp; (B) –2 &nbsp;&nbsp;&nbsp; (C) 2 &nbsp;&nbsp;&nbsp; (D) 5\n",
    "\n",
    "---\n",
    "\n"
   ]
  },
  {
   "cell_type": "markdown",
   "id": "02bd5baf",
   "metadata": {},
   "source": [
    "#### Solução:"
   ]
  },
  {
   "cell_type": "code",
   "execution_count": 25,
   "id": "a1eb5bed",
   "metadata": {},
   "outputs": [
    {
     "data": {
      "text/plain": [
       "10"
      ]
     },
     "execution_count": 25,
     "metadata": {},
     "output_type": "execute_result"
    }
   ],
   "source": [
    "a=1\n",
    "b=-7\n",
    "c=10"
   ]
  },
  {
   "cell_type": "code",
   "execution_count": 26,
   "id": "5297cf1f",
   "metadata": {},
   "outputs": [
    {
     "data": {
      "text/plain": [
       "5.0"
      ]
     },
     "execution_count": 26,
     "metadata": {},
     "output_type": "execute_result"
    }
   ],
   "source": [
    "x=(-b + √(b^2 - 4*a*c))/2a"
   ]
  }
 ],
 "metadata": {
  "kernelspec": {
   "display_name": "Julia 1.11.5",
   "language": "julia",
   "name": "julia-1.11"
  },
  "language_info": {
   "file_extension": ".jl",
   "mimetype": "application/julia",
   "name": "julia",
   "version": "1.11.5"
  }
 },
 "nbformat": 4,
 "nbformat_minor": 5
}
