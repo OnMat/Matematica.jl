{
 "cells": [
  {
   "cell_type": "markdown",
   "id": "23cdc832",
   "metadata": {},
   "source": [
    "# 📘 Produtos Notáveis, Fatoração e Simplificações Algébricas com Julia e SymPy.jl\n",
    "___"
   ]
  },
  {
   "cell_type": "markdown",
   "id": "036a2530",
   "metadata": {},
   "source": [
    "## 📖 Unidade Temática: Álgebra\n",
    "\n",
    "\n",
    "### 📌 Objeto de Conhecimento:\n",
    "Produtos notáveis e simplificações algébricas\n",
    "\n",
    "### 🎯 Habilidades da BNCC:\n",
    "(EF09MA06) Resolver e elaborar problemas que envolvam expressões algébricas, aplicando as propriedades das operações, notadamente os produtos notáveis e a fatoração.\n",
    "\n",
    "### 🎯 Objetivo da Aula:\n",
    "Explorar os produtos notáveis e simplificações algébricas utilizando a linguagem de programação Julia e a biblioteca simbólica SymPy.jl, promovendo o raciocínio algébrico e o pensamento computacional.\n",
    "\n",
    "---"
   ]
  },
  {
   "cell_type": "markdown",
   "id": "5151a30a",
   "metadata": {},
   "source": [
    "### 📝 Justificativa \n",
    "A dificuldade dos alunos com produtos notáveis e simplificações algébricas está ligada, principalmente, à introdução das letras como generalização de padrões e à falta de compreensão das operações com expressões algébricas. Para enfrentar esse desafio, propõe-se uma sequência didática baseada na resolução de problemas, utilizando o ambiente Jupyter Notebook com a linguagem Julia e a biblioteca SymPy.jl. Essa abordagem favorece a visualização simbólica, a experimentação e o desenvolvimento do pensamento algébrico de forma interativa e significativa."
   ]
  },
  {
   "cell_type": "markdown",
   "id": "f4e06623",
   "metadata": {},
   "source": [
    "### 🧪 Metodologia\n",
    "A metodologia adotada nesta sequência didática baseia-se na resolução de problemas. Os alunos são desafiados a resolver questões matemáticas retiradas de vestibulares e concursos, que exigem a aplicação de produtos notáveis e simplificações algébricas. Para isso, utilizam o ambiente computacional Jupyter Notebook, com a linguagem Julia e a biblioteca simbólica SymPy.jl. Durante as atividades, os estudantes também registram suas observações e estratégias em seus cadernos, contribuindo para a consolidação dos conhecimentos.\n",
    "\n",
    "---"
   ]
  },
  {
   "cell_type": "markdown",
   "id": "b9b40a82",
   "metadata": {},
   "source": [
    "## 📚 Produtos Notáveis \n",
    "___"
   ]
  },
  {
   "cell_type": "markdown",
   "id": "ef7cbaca",
   "metadata": {},
   "source": [
    "## ✅ 1º Passo: Levantamento dos conceitos necessários\n",
    "\n",
    "### 🧠 Atividade proposta:\n",
    "\n",
    "> Em equipes, listem quais são os **produtos notáveis** e como é possível obtê-los. Discutam entre si e anotem no caderno os exemplos e justificativas.\n",
    "\n",
    "\n",
    "### 💡 Espera-se que surjam, por exemplo:\n",
    "\n",
    "#### 🔹 1. Quadrado da soma  \n",
    "$$(a + b)^2 = a^2 + 2ab + b^2$$\n",
    "\n",
    "#### 🔹 2. Quadrado da diferença  \n",
    "$$(a - b)^2 = a^2 - 2ab + b^2$$\n",
    "\n",
    "#### 🔹 3. Produto da soma pela diferença  \n",
    "$$(a + b)(a - b) = a^2 - b^2$$\n",
    "\n",
    "---"
   ]
  },
  {
   "cell_type": "markdown",
   "id": "eafc50e9",
   "metadata": {},
   "source": [
    "## ✅ 2º Passo: Verificando os Produtos Notáveis com Julia + SymPy.jl\n",
    "\n",
    "> Neste passo, vamos utilizar a linguagem **Julia** com a biblioteca **SymPy.jl** para expandir expressões algébricas e confirmar os produtos notáveis.\n",
    "\n",
    "### ⚙️  O que faremos:\n",
    "- Mostrar a sintaxe para importar a biblioteca `SymPy.jl`;\n",
    "- Declarar variáveis simbólicas;\n",
    "- Verificar o quadrado da soma;\n",
    "- Verificar o quadrado da diferença;\n",
    "- Verificar o produto da soma pela diferença.\n",
    "---"
   ]
  },
  {
   "cell_type": "code",
   "execution_count": 34,
   "id": "3f8ec281",
   "metadata": {},
   "outputs": [],
   "source": [
    "using SymPy\n",
    "@syms a b;"
   ]
  },
  {
   "cell_type": "code",
   "execution_count": 35,
   "id": "7412155e",
   "metadata": {},
   "outputs": [
    {
     "name": "stdout",
     "output_type": "stream",
     "text": [
      "1. Quadrado da soma:\n"
     ]
    },
    {
     "data": {
      "text/latex": [
       "$a^{2} + 2 a b + b^{2}$"
      ],
      "text/plain": [
       " 2            2\n",
       "a  + 2*a*b + b "
      ]
     },
     "execution_count": 35,
     "metadata": {},
     "output_type": "execute_result"
    }
   ],
   "source": [
    "# Quadrado da soma\n",
    "println(\"1. Quadrado da soma:\")\n",
    "expand((a + b)^2)"
   ]
  },
  {
   "cell_type": "code",
   "execution_count": 36,
   "id": "7d23873a",
   "metadata": {},
   "outputs": [
    {
     "name": "stdout",
     "output_type": "stream",
     "text": [
      "2. Quadrado da diferença:\n"
     ]
    },
    {
     "data": {
      "text/latex": [
       "$a^{2} - 2 a b + b^{2}$"
      ],
      "text/plain": [
       " 2            2\n",
       "a  - 2*a*b + b "
      ]
     },
     "execution_count": 36,
     "metadata": {},
     "output_type": "execute_result"
    }
   ],
   "source": [
    "# Quadrado da diferença\n",
    "println(\"2. Quadrado da diferença:\")\n",
    "expand((a - b)^2)"
   ]
  },
  {
   "cell_type": "code",
   "execution_count": 37,
   "id": "f9102d17",
   "metadata": {},
   "outputs": [
    {
     "name": "stdout",
     "output_type": "stream",
     "text": [
      "3. Produto da soma pela diferença:\n"
     ]
    },
    {
     "data": {
      "text/latex": [
       "$a^{2} - b^{2}$"
      ],
      "text/plain": [
       " 2    2\n",
       "a  - b "
      ]
     },
     "execution_count": 37,
     "metadata": {},
     "output_type": "execute_result"
    }
   ],
   "source": [
    "# Produto da soma pela diferença\n",
    "println(\"3. Produto da soma pela diferença:\")\n",
    "expand((a + b)*(a - b))"
   ]
  },
  {
   "cell_type": "markdown",
   "id": "467d0007",
   "metadata": {},
   "source": [
    "## ✅ 3º Passo: Resolução de Problemas com Julia + SymPy.jl\n",
    "\n",
    "> Neste passo, vamos aplicar os conhecimentos sobre produtos notáveis e simplificações algébricas na resolução de problemas matemáticos reais.\n",
    "\n",
    "### ⚙️  O que faremos:\n",
    "- Você receberá uma **lista impressa de exercícios** com problemas que envolvem produtos notáveis;\n",
    "- Cada **problema será apresentado em uma célula de Markdown** no notebook;\n",
    "- A **resolução será feita nas células de código**, utilizando a linguagem Julia e a biblioteca SymPy.jl;\n",
    "- Após resolver cada questão no notebook, registre a **resposta final no material impresso** que será entregue ao professor;\n",
    "- Anote também os passos e observações importantes que ajudaram a chegar à solução.\n",
    "---"
   ]
  },
  {
   "cell_type": "markdown",
   "id": "6343e783",
   "metadata": {},
   "source": [
    "## 🛠️ Problemas Algébricos: Produtos Notáveis\n",
    "\n",
    "Nesta seção, você irá resolver problemas retirados de fontes externas (como vestibulares, concursos ou listas de exercícios) que envolvem a aplicação de produtos notáveis e simplificações algébricas.\n",
    "___"
   ]
  },
  {
   "cell_type": "markdown",
   "id": "bfc0b5e9",
   "metadata": {},
   "source": [
    "### 🧮 Problema 1\n",
    "\n",
    "Calcule os produtos notáveis a seguir utilizando a função `expand()` da biblioteca **SymPy.jl**:\n",
    "\n",
    "a) $(10 + a)^2$  \n",
    "b) $(2 + 3m)^2$  \n",
    "c) $(a - 5x)^2$  \n",
    "d) $(x^2 - 6)^2$  \n",
    "e) $(x + 9)(x - 9)$  \n",
    "f) $(3x + 5)(3x - 5)$  \n",
    "g) $(7a^2 - b^5)(7a^2 + b^5)$\n",
    "\n",
    "---\n",
    "\n"
   ]
  },
  {
   "cell_type": "markdown",
   "id": "67cf8c4e",
   "metadata": {},
   "source": [
    "### 🧮 Problema 2\n",
    "\n",
    "Simplifique as expressões algébricas abaixo utilizando a função `expand()` da biblioteca **SymPy.jl**:\n",
    "\n",
    "a) $(x + 5)^2 - (x - 5)^2$  \n",
    "b) $(3x - 1)^2 + (x - 1)^2$  \n",
    "c) $(x + 3)(x - 3) + (x - 3)^2$  \n",
    "d) $(7x + y)^2 + (7x - y)(7x + y)$\n",
    "\n",
    "---"
   ]
  },
  {
   "cell_type": "markdown",
   "id": "68710e9d",
   "metadata": {},
   "source": [
    "### 🧮 Problema 3\n",
    "\n",
    "*(Consulplan - 2019)*  \n",
    "Analise as sentenças a seguir:\n",
    "\n",
    "I. $(a - b)^2 = a^2 - 2ab + b^2$  \n",
    "II. $(a + b)^2 = a^2 + b^2$  \n",
    "III. $(ab)^2 = ab^2$\n",
    "\n",
    "Está(ão) correta(s) apenas a(s) sentença(s):\n",
    "\n",
    "A) I.  \n",
    "\n",
    "B) II.  \n",
    "\n",
    "C) III.  \n",
    "\n",
    "D) II e III.\n"
   ]
  },
  {
   "cell_type": "code",
   "execution_count": null,
   "id": "88c617c5",
   "metadata": {},
   "outputs": [],
   "source": []
  },
  {
   "cell_type": "markdown",
   "id": "034ebed6",
   "metadata": {},
   "source": [
    "### 💡 Solução\n",
    "\n",
    "Inicialmente, vamos importar a biblioteca `SymPy.jl` e declarar as variáveis simbólicas conforme o problema.\n",
    "\n",
    "> Usaremos a função `expand()` para desenvolver as expressões algébricas e verificar quais sentenças são verdadeiras.\n",
    "\n",
    "📓 Ao final, registre em seu caderno as sentenças verdadeiras e **justifique com base nos resultados obtidos nos códigos executados no notebook**.\n",
    "\n",
    "---\n"
   ]
  },
  {
   "cell_type": "code",
   "execution_count": 46,
   "id": "d5c74b7d",
   "metadata": {},
   "outputs": [],
   "source": [
    "using SymPy\n",
    "@syms a b;"
   ]
  },
  {
   "cell_type": "code",
   "execution_count": 48,
   "id": "85644f2b",
   "metadata": {},
   "outputs": [
    {
     "name": "stdout",
     "output_type": "stream",
     "text": [
      "Solução da sentença II:\n"
     ]
    },
    {
     "data": {
      "text/latex": [
       "$a^{2} + 2 a b + b^{2}$"
      ],
      "text/plain": [
       " 2            2\n",
       "a  + 2*a*b + b "
      ]
     },
     "execution_count": 48,
     "metadata": {},
     "output_type": "execute_result"
    }
   ],
   "source": [
    "println(\"Solução da sentença II:\")\n",
    "expand((a+b)^2)"
   ]
  },
  {
   "cell_type": "code",
   "execution_count": 50,
   "id": "be5ec01e",
   "metadata": {},
   "outputs": [
    {
     "name": "stdout",
     "output_type": "stream",
     "text": [
      "Solução da sentença III:\n"
     ]
    },
    {
     "data": {
      "text/latex": [
       "$a^{2} b^{2}$"
      ],
      "text/plain": [
       " 2  2\n",
       "a *b "
      ]
     },
     "execution_count": 50,
     "metadata": {},
     "output_type": "execute_result"
    }
   ],
   "source": [
    "println(\"Solução da sentença III:\")\n",
    "expand((a*b)^2)"
   ]
  },
  {
   "cell_type": "markdown",
   "id": "df1e633b",
   "metadata": {},
   "source": [
    "#### ✅ Conclusão:\n",
    "\n",
    "Apenas o item **I** é verdadeiro.\n",
    "___"
   ]
  },
  {
   "cell_type": "markdown",
   "id": "814ea854",
   "metadata": {},
   "source": [
    "### 🧮 Problema 4\n",
    "\n",
    "*(Consulplan – 2024)*  \n",
    "Assinale, a seguir, a solução adequada ao produto notável $(x - 3)^2$.\n",
    "\n",
    "A) $x^2 + 9$\n",
    "\n",
    "B) $x^2 - 9$\n",
    "\n",
    "C) $x^2 + 6x - 9$\n",
    "\n",
    "D) $x^2 - 6x + 9$"
   ]
  },
  {
   "cell_type": "markdown",
   "id": "b7ccc4e5",
   "metadata": {},
   "source": [
    "### 💡 Solução\n",
    "\n",
    "Declare a variável `x` e insira a expressão $(x - 3)^2$ na função `expand()` para obter a solução de imediato.\n",
    "\n",
    "---\n",
    "\n",
    "\n"
   ]
  },
  {
   "cell_type": "code",
   "execution_count": 62,
   "id": "d7e8ca51",
   "metadata": {},
   "outputs": [
    {
     "name": "stdout",
     "output_type": "stream",
     "text": [
      "Solução:\n"
     ]
    },
    {
     "data": {
      "text/latex": [
       "$x^{2} - 6 x + 9$"
      ],
      "text/plain": [
       " 2          \n",
       "x  - 6*x + 9"
      ]
     },
     "execution_count": 62,
     "metadata": {},
     "output_type": "execute_result"
    }
   ],
   "source": [
    "@syms x\n",
    "println(\"Solução:\")\n",
    "expand((x-3)^2)"
   ]
  },
  {
   "cell_type": "markdown",
   "id": "ea4fefc6",
   "metadata": {},
   "source": [
    "#### ✅ Conclusão:\n",
    "\n",
    "Portanto, o item **D** é verdadeiro.\n",
    "___"
   ]
  },
  {
   "cell_type": "markdown",
   "id": "929b33d8",
   "metadata": {},
   "source": [
    "### 🧮 Problema 5\n",
    "\n",
    "Qual é o polinômio que, somado a $(x + 5)(x - 5)$, resulta em $(x + 5)^2$?\n"
   ]
  },
  {
   "cell_type": "markdown",
   "id": "e7f4798d",
   "metadata": {},
   "source": [
    "### 🧮 Problema 6 \n",
    "*(OBMEP)*\n",
    "Na figura abaixo temos dois quadrados. O maior quadrado tem lado $a + b$ e o menor quadrado tem lado $a$.  \n",
    "Qual é a área da **região colorida**?\n",
    "\n",
    "<img src=\"quadrado_obmep.png\" alt=\"Figura com dois quadrados\" width=\"300\"/>\n",
    "\n",
    "A) $2ab + b^2$  \n",
    "B) $b^2$  \n",
    "C) $a + b$  \n",
    "D) $a^2 + 2ab$\n",
    "___"
   ]
  },
  {
   "cell_type": "markdown",
   "id": "d82a6758",
   "metadata": {},
   "source": [
    "### 🧮 Problema 7\n",
    "*(UniRV-2023)*\n",
    "Aplicando a regra de produtos notáveis e efetuada a devida simplificação na expressão algébrica  \n",
    "$$(a + b)^2 + a(a + 2) - 2ab - b^2$$  \n",
    "poderemos representar o seu resultado por:\n",
    "\n",
    "A) $2a(a + 1)$  \n",
    "\n",
    "B) $2(b^2 - 2b)$  \n",
    "\n",
    "C) $a + 2b^2$  \n",
    "\n",
    "D) $2ab^2 - a^2$\n",
    "___\n"
   ]
  },
  {
   "cell_type": "markdown",
   "id": "2e161c80",
   "metadata": {},
   "source": [
    "### 🧮 Problema 8 \n",
    "*(UFRGS 2016)*\n",
    "Se $x + y = 13$ e $x \\cdot y = 1$, então, qual o valor de $x^2 + y^2$?\n",
    "\n",
    "A) 166  \n",
    "B) 167  \n",
    "C) 168  \n",
    "D) 169  \n",
    "E) 170"
   ]
  },
  {
   "cell_type": "markdown",
   "id": "2bafc5ed",
   "metadata": {},
   "source": [
    "### 🧮 Problema 09\n",
    "\n",
    "(PUC-SP)\n",
    "\n",
    "A expressão $(x+y)(x^2+y^2)(x-y)$ é igual a:\n",
    "\n",
    "a) $x^4+y^4$  \n",
    "\n",
    "b) $x^4-y^4$  \n",
    "\n",
    "c) $x^3+xy^2-x^2y-y^3$  \n",
    "\n",
    "d) $x^3+xy^2+x^2y+y^3$  \n",
    "___\n",
    "\n"
   ]
  },
  {
   "cell_type": "markdown",
   "id": "2922ac55",
   "metadata": {},
   "source": [
    "### 🧮 Problema 10\n",
    "\n",
    "(PUC-SP)\n",
    "\n",
    "A expressão $(2a + b)^2 - (a - b)^2$ é igual a:\n",
    "\n",
    "a) $3a^2 + 2b^2$  \n",
    "\n",
    "b) $3a^2 + 6ab$  \n",
    "\n",
    "c) $4a^2b + 2ab^2$  \n",
    "\n",
    "d) $4a^2 + 4ab + b^2$  \n",
    "\n"
   ]
  },
  {
   "cell_type": "markdown",
   "id": "918555a8",
   "metadata": {},
   "source": [
    "### 💡 Solução\n",
    "\n",
    "Para este problema, temos dois métodos de resolução:  \n",
    "- O primeiro, detalhado e passo a passo;  \n",
    "- O segundo, mais direto e objetivo.  \n",
    "\n",
    "> Em ambos os métodos, usaremos a função `expand()` da biblioteca SymPy.jl para desenvolver as expressões algébricas.\n",
    "\n",
    "---"
   ]
  },
  {
   "cell_type": "markdown",
   "id": "c7fb227d",
   "metadata": {},
   "source": [
    "**1º método:**  \n",
    "Podemos separar a expressão em duas partes e atribuir cada parte a uma variável. Como a questão envolve o quadrado da soma e o quadrado da diferença, faremos assim:"
   ]
  },
  {
   "cell_type": "code",
   "execution_count": 38,
   "id": "6c859ecc",
   "metadata": {},
   "outputs": [
    {
     "name": "stdout",
     "output_type": "stream",
     "text": [
      "Quadrado da soma:\n"
     ]
    },
    {
     "data": {
      "text/latex": [
       "$4 a^{2} + 4 a b + b^{2}$"
      ],
      "text/plain": [
       "   2            2\n",
       "4*a  + 4*a*b + b "
      ]
     },
     "metadata": {},
     "output_type": "display_data"
    },
    {
     "name": "stdout",
     "output_type": "stream",
     "text": [
      "Quadrado da diferença:\n"
     ]
    },
    {
     "data": {
      "text/latex": [
       "$a^{2} - 2 a b + b^{2}$"
      ],
      "text/plain": [
       " 2            2\n",
       "a  - 2*a*b + b "
      ]
     },
     "metadata": {},
     "output_type": "display_data"
    }
   ],
   "source": [
    "soma=expand((2a+b)^2)\n",
    "dif=expand((a-b)^2)\n",
    "println(\"Quadrado da soma:\")\n",
    "display(soma)\n",
    "println(\"Quadrado da diferença:\")\n",
    "display(dif)"
   ]
  },
  {
   "cell_type": "code",
   "execution_count": 39,
   "id": "cffe945a",
   "metadata": {},
   "outputs": [
    {
     "name": "stdout",
     "output_type": "stream",
     "text": [
      "Solução:\n"
     ]
    },
    {
     "data": {
      "text/latex": [
       "$3 a^{2} + 6 a b$"
      ],
      "text/plain": [
       "   2        \n",
       "3*a  + 6*a*b"
      ]
     },
     "execution_count": 39,
     "metadata": {},
     "output_type": "execute_result"
    }
   ],
   "source": [
    "println(\"Solução:\")\n",
    "soma-dif"
   ]
  },
  {
   "cell_type": "markdown",
   "id": "70159ee1",
   "metadata": {},
   "source": [
    "Portanto, temos que o item **B)** é a alternativa correta."
   ]
  },
  {
   "cell_type": "markdown",
   "id": "2ff0f315",
   "metadata": {},
   "source": [
    "**2º método:**  \n",
    "Podemos calcular diretamente a expressão completa utilizando a função **expand()**:  \n",
    "```julia\n",
    "expand((2a + b)^2 - (a - b)^2)\n"
   ]
  },
  {
   "cell_type": "code",
   "execution_count": 43,
   "id": "59cf36e4",
   "metadata": {},
   "outputs": [
    {
     "name": "stdout",
     "output_type": "stream",
     "text": [
      "Solução:\n"
     ]
    },
    {
     "data": {
      "text/latex": [
       "$3 a^{2} + 6 a b$"
      ],
      "text/plain": [
       "   2        \n",
       "3*a  + 6*a*b"
      ]
     },
     "execution_count": 43,
     "metadata": {},
     "output_type": "execute_result"
    }
   ],
   "source": [
    "println(\"Solução:\")\n",
    "expand((2a+b)^2-(a-b)^2)"
   ]
  },
  {
   "cell_type": "markdown",
   "id": "e5320eab",
   "metadata": {},
   "source": [
    "Chegando à mesma solução para a expressão, confirmando a equivalência entre os dois métodos.\n",
    "___"
   ]
  },
  {
   "cell_type": "markdown",
   "id": "e1e14f9e",
   "metadata": {},
   "source": [
    "### 🧮 Problema Exploratória\n",
    "\n",
    "Explore outras possibilidades e aprofunde seus conhecimentos!\n",
    "\n",
    "> Investigue expressões envolvendo o **cubo da soma**, o **cubo da diferença** e a aplicação do **Binômio de Newton** para potências maiores.\n",
    "\n",
    "#### 🔍 Sugestões:\n",
    "- Utilize `expand()` para desenvolver as expressões $(a + b)^3$ e $(a - b)^3$;\n",
    "- Teste também outras potências, como $(a + b)^4$ ou $(a - b)^5$;\n",
    "- Observe os padrões algébricos que surgem;\n",
    "- Reflita: qual a relação entre a potência, os termos gerados e seus coeficientes?\n",
    "\n",
    "> 💡 Registre suas observações no caderno e discuta com seus colegas os padrões que você identificou.\n",
    "\n",
    "___"
   ]
  },
  {
   "cell_type": "markdown",
   "id": "a0525ac6",
   "metadata": {},
   "source": [
    "### 🧮 Problema relacionado\n",
    "\n",
    "*(CEV-URCA 2019)* \n",
    "Sabendo que a **soma dos coeficientes** no desenvolvimento de $(7x^6 - 3x^5)^3$ é igual a $p$, determine o valor de:\n",
    "\n",
    "$$\\dfrac{p - 4}{12}$$\n",
    "\n",
    "A) 6  \n",
    "\n",
    "B) 7  \n",
    "\n",
    "C) 8  \n",
    "\n",
    "D) 5  \n",
    "\n",
    "E) 10\n"
   ]
  },
  {
   "cell_type": "markdown",
   "id": "c121eef6",
   "metadata": {},
   "source": [
    "### 💡 Solução\n",
    "\n",
    "Iniciaremos realizando a expansão do cubo da diferença  para obter a expressão desenvolvida do polinômio $(7x^6 - 3x^5)^3$.\n"
   ]
  },
  {
   "cell_type": "code",
   "execution_count": 59,
   "id": "a53584ad",
   "metadata": {},
   "outputs": [
    {
     "name": "stdout",
     "output_type": "stream",
     "text": [
      "Solução:\n"
     ]
    },
    {
     "data": {
      "text/latex": [
       "$343 x^{18} - 441 x^{17} + 189 x^{16} - 27 x^{15}$"
      ],
      "text/plain": [
       "     18        17        16       15\n",
       "343*x   - 441*x   + 189*x   - 27*x  "
      ]
     },
     "execution_count": 59,
     "metadata": {},
     "output_type": "execute_result"
    }
   ],
   "source": [
    "@syms x\n",
    "println(\"Solução:\")\n",
    "expand((7x^6-3x^5)^3)"
   ]
  },
  {
   "cell_type": "markdown",
   "id": "3eda547f",
   "metadata": {},
   "source": [
    " Obtida a expansão do cubo, façamos a soma dos coeficientes e a resolução de $(p - 4) \\div 12$, onde $p$ é a soma dos coeficientes do polinômio expandido."
   ]
  },
  {
   "cell_type": "code",
   "execution_count": 60,
   "id": "01308489",
   "metadata": {},
   "outputs": [
    {
     "data": {
      "text/plain": [
       "5"
      ]
     },
     "execution_count": 60,
     "metadata": {},
     "output_type": "execute_result"
    }
   ],
   "source": [
    "(343-441+189-27)÷12"
   ]
  },
  {
   "cell_type": "markdown",
   "id": "88e4709d",
   "metadata": {},
   "source": [
    "#### ✅ Conclusão\n",
    "\n",
    "Logo, o item **D)** é o correto.\n",
    "___"
   ]
  },
  {
   "cell_type": "markdown",
   "id": "ef3ecf90",
   "metadata": {},
   "source": [
    "### 🧮 Problema Exploratória\n",
    "\n",
    "---\n",
    "\n",
    "Pesquise o que é o **Triângulo de Pascal** e explique sua importância no desenvolvimento do **Binômio de Newton**.\n",
    "\n",
    "> 💡 Dica: relacione os coeficientes de $(a + b)^n$ com as linhas do triângulo.\n",
    "\n",
    "---\n",
    "\n",
    "Em seguida, **construa as 11 primeiras linhas do Triângulo de Pascal** utilizando um **programa em Julia**.  \n",
    "Depois, implemente o código com o comando `for` para gerar as potências de $(a + b)^n$ e visualizar os coeficientes.\n",
    "\n",
    "> Apresente seu **código** e o **resultado obtido** na célula abaixo.\n",
    "\n",
    "📓 Por fim, registre em seu caderno **apenas os coeficientes** obtidos em cada linha.\n",
    "\n"
   ]
  },
  {
   "cell_type": "markdown",
   "id": "6d49314c",
   "metadata": {},
   "source": [
    "#### ✅ Resposta esperada"
   ]
  },
  {
   "cell_type": "code",
   "execution_count": 41,
   "id": "32905138",
   "metadata": {},
   "outputs": [
    {
     "data": {
      "text/latex": [
       "$1$"
      ],
      "text/plain": [
       "1"
      ]
     },
     "metadata": {},
     "output_type": "display_data"
    },
    {
     "data": {
      "text/latex": [
       "$a + b$"
      ],
      "text/plain": [
       "a + b"
      ]
     },
     "metadata": {},
     "output_type": "display_data"
    },
    {
     "data": {
      "text/latex": [
       "$a^{2} + 2 a b + b^{2}$"
      ],
      "text/plain": [
       " 2            2\n",
       "a  + 2*a*b + b "
      ]
     },
     "metadata": {},
     "output_type": "display_data"
    },
    {
     "data": {
      "text/latex": [
       "$a^{3} + 3 a^{2} b + 3 a b^{2} + b^{3}$"
      ],
      "text/plain": [
       " 3      2          2    3\n",
       "a  + 3*a *b + 3*a*b  + b "
      ]
     },
     "metadata": {},
     "output_type": "display_data"
    },
    {
     "data": {
      "text/latex": [
       "$a^{4} + 4 a^{3} b + 6 a^{2} b^{2} + 4 a b^{3} + b^{4}$"
      ],
      "text/plain": [
       " 4      3        2  2        3    4\n",
       "a  + 4*a *b + 6*a *b  + 4*a*b  + b "
      ]
     },
     "metadata": {},
     "output_type": "display_data"
    },
    {
     "data": {
      "text/latex": [
       "$a^{5} + 5 a^{4} b + 10 a^{3} b^{2} + 10 a^{2} b^{3} + 5 a b^{4} + b^{5}$"
      ],
      "text/plain": [
       " 5      4         3  2       2  3        4    5\n",
       "a  + 5*a *b + 10*a *b  + 10*a *b  + 5*a*b  + b "
      ]
     },
     "metadata": {},
     "output_type": "display_data"
    },
    {
     "data": {
      "text/latex": [
       "$a^{6} + 6 a^{5} b + 15 a^{4} b^{2} + 20 a^{3} b^{3} + 15 a^{2} b^{4} + 6 a b^{5} + b^{6}$"
      ],
      "text/plain": [
       " 6      5         4  2       3  3       2  4        5    6\n",
       "a  + 6*a *b + 15*a *b  + 20*a *b  + 15*a *b  + 6*a*b  + b "
      ]
     },
     "metadata": {},
     "output_type": "display_data"
    },
    {
     "data": {
      "text/latex": [
       "$a^{7} + 7 a^{6} b + 21 a^{5} b^{2} + 35 a^{4} b^{3} + 35 a^{3} b^{4} + 21 a^{2} b^{5} + 7 a b^{6} + b^{7}$"
      ],
      "text/plain": [
       " 7      6         5  2       4  3       3  4       2  5        6    7\n",
       "a  + 7*a *b + 21*a *b  + 35*a *b  + 35*a *b  + 21*a *b  + 7*a*b  + b "
      ]
     },
     "metadata": {},
     "output_type": "display_data"
    },
    {
     "data": {
      "text/latex": [
       "$a^{8} + 8 a^{7} b + 28 a^{6} b^{2} + 56 a^{5} b^{3} + 70 a^{4} b^{4} + 56 a^{3} b^{5} + 28 a^{2} b^{6} + 8 a b^{7} + b^{8}$"
      ],
      "text/plain": [
       " 8      7         6  2       5  3       4  4       3  5       2  6        7    8\n",
       "a  + 8*a *b + 28*a *b  + 56*a *b  + 70*a *b  + 56*a *b  + 28*a *b  + 8*a*b  + b "
      ]
     },
     "metadata": {},
     "output_type": "display_data"
    },
    {
     "data": {
      "text/latex": [
       "$a^{9} + 9 a^{8} b + 36 a^{7} b^{2} + 84 a^{6} b^{3} + 126 a^{5} b^{4} + 126 a^{4} b^{5} + 84 a^{3} b^{6} + 36 a^{2} b^{7} + 9 a b^{8} + b^{9}$"
      ],
      "text/plain": [
       " 9      8         7  2       6  3        5  4        4  5       3  6       2   >\n",
       "a  + 9*a *b + 36*a *b  + 84*a *b  + 126*a *b  + 126*a *b  + 84*a *b  + 36*a *b >\n",
       "\n",
       "> 7        8    9\n",
       ">   + 9*a*b  + b "
      ]
     },
     "metadata": {},
     "output_type": "display_data"
    },
    {
     "data": {
      "text/latex": [
       "$a^{10} + 10 a^{9} b + 45 a^{8} b^{2} + 120 a^{7} b^{3} + 210 a^{6} b^{4} + 252 a^{5} b^{5} + 210 a^{4} b^{6} + 120 a^{3} b^{7} + 45 a^{2} b^{8} + 10 a b^{9} + b^{10}$"
      ],
      "text/plain": [
       " 10       9         8  2        7  3        6  4        5  5        4  6       >\n",
       "a   + 10*a *b + 45*a *b  + 120*a *b  + 210*a *b  + 252*a *b  + 210*a *b  + 120 >\n",
       "\n",
       ">   3  7       2  8         9    10\n",
       "> *a *b  + 45*a *b  + 10*a*b  + b  "
      ]
     },
     "metadata": {},
     "output_type": "display_data"
    }
   ],
   "source": [
    "display(expand((a+b)^0))\n",
    "display(expand((a+b)^1))\n",
    "display(expand((a+b)^2))\n",
    "display(expand((a+b)^3))\n",
    "display(expand((a+b)^4))\n",
    "display(expand((a+b)^5))\n",
    "display(expand((a+b)^6))\n",
    "display(expand((a+b)^7))\n",
    "display(expand((a+b)^8))\n",
    "display(expand((a+b)^9))\n",
    "display(expand((a+b)^10))"
   ]
  },
  {
   "cell_type": "markdown",
   "id": "622beafa",
   "metadata": {},
   "source": [
    "#### 🔁 Versão implementada com o `for`\n",
    "\n",
    "Abaixo, utilizamos um laço `for` para expandir as potências de $(a + b)^n$ de 0 até 10, observando os termos algébricos que correspondem às linhas do Triângulo de Pascal.\n"
   ]
  },
  {
   "cell_type": "code",
   "execution_count": 42,
   "id": "b1b47f06",
   "metadata": {},
   "outputs": [
    {
     "data": {
      "text/latex": [
       "$1$"
      ],
      "text/plain": [
       "1"
      ]
     },
     "metadata": {},
     "output_type": "display_data"
    },
    {
     "data": {
      "text/latex": [
       "$a + b$"
      ],
      "text/plain": [
       "a + b"
      ]
     },
     "metadata": {},
     "output_type": "display_data"
    },
    {
     "data": {
      "text/latex": [
       "$a^{2} + 2 a b + b^{2}$"
      ],
      "text/plain": [
       " 2            2\n",
       "a  + 2*a*b + b "
      ]
     },
     "metadata": {},
     "output_type": "display_data"
    },
    {
     "data": {
      "text/latex": [
       "$a^{3} + 3 a^{2} b + 3 a b^{2} + b^{3}$"
      ],
      "text/plain": [
       " 3      2          2    3\n",
       "a  + 3*a *b + 3*a*b  + b "
      ]
     },
     "metadata": {},
     "output_type": "display_data"
    },
    {
     "data": {
      "text/latex": [
       "$a^{4} + 4 a^{3} b + 6 a^{2} b^{2} + 4 a b^{3} + b^{4}$"
      ],
      "text/plain": [
       " 4      3        2  2        3    4\n",
       "a  + 4*a *b + 6*a *b  + 4*a*b  + b "
      ]
     },
     "metadata": {},
     "output_type": "display_data"
    },
    {
     "data": {
      "text/latex": [
       "$a^{5} + 5 a^{4} b + 10 a^{3} b^{2} + 10 a^{2} b^{3} + 5 a b^{4} + b^{5}$"
      ],
      "text/plain": [
       " 5      4         3  2       2  3        4    5\n",
       "a  + 5*a *b + 10*a *b  + 10*a *b  + 5*a*b  + b "
      ]
     },
     "metadata": {},
     "output_type": "display_data"
    },
    {
     "data": {
      "text/latex": [
       "$a^{6} + 6 a^{5} b + 15 a^{4} b^{2} + 20 a^{3} b^{3} + 15 a^{2} b^{4} + 6 a b^{5} + b^{6}$"
      ],
      "text/plain": [
       " 6      5         4  2       3  3       2  4        5    6\n",
       "a  + 6*a *b + 15*a *b  + 20*a *b  + 15*a *b  + 6*a*b  + b "
      ]
     },
     "metadata": {},
     "output_type": "display_data"
    },
    {
     "data": {
      "text/latex": [
       "$a^{7} + 7 a^{6} b + 21 a^{5} b^{2} + 35 a^{4} b^{3} + 35 a^{3} b^{4} + 21 a^{2} b^{5} + 7 a b^{6} + b^{7}$"
      ],
      "text/plain": [
       " 7      6         5  2       4  3       3  4       2  5        6    7\n",
       "a  + 7*a *b + 21*a *b  + 35*a *b  + 35*a *b  + 21*a *b  + 7*a*b  + b "
      ]
     },
     "metadata": {},
     "output_type": "display_data"
    },
    {
     "data": {
      "text/latex": [
       "$a^{8} + 8 a^{7} b + 28 a^{6} b^{2} + 56 a^{5} b^{3} + 70 a^{4} b^{4} + 56 a^{3} b^{5} + 28 a^{2} b^{6} + 8 a b^{7} + b^{8}$"
      ],
      "text/plain": [
       " 8      7         6  2       5  3       4  4       3  5       2  6        7    8\n",
       "a  + 8*a *b + 28*a *b  + 56*a *b  + 70*a *b  + 56*a *b  + 28*a *b  + 8*a*b  + b "
      ]
     },
     "metadata": {},
     "output_type": "display_data"
    },
    {
     "data": {
      "text/latex": [
       "$a^{9} + 9 a^{8} b + 36 a^{7} b^{2} + 84 a^{6} b^{3} + 126 a^{5} b^{4} + 126 a^{4} b^{5} + 84 a^{3} b^{6} + 36 a^{2} b^{7} + 9 a b^{8} + b^{9}$"
      ],
      "text/plain": [
       " 9      8         7  2       6  3        5  4        4  5       3  6       2   >\n",
       "a  + 9*a *b + 36*a *b  + 84*a *b  + 126*a *b  + 126*a *b  + 84*a *b  + 36*a *b >\n",
       "\n",
       "> 7        8    9\n",
       ">   + 9*a*b  + b "
      ]
     },
     "metadata": {},
     "output_type": "display_data"
    },
    {
     "data": {
      "text/latex": [
       "$a^{10} + 10 a^{9} b + 45 a^{8} b^{2} + 120 a^{7} b^{3} + 210 a^{6} b^{4} + 252 a^{5} b^{5} + 210 a^{4} b^{6} + 120 a^{3} b^{7} + 45 a^{2} b^{8} + 10 a b^{9} + b^{10}$"
      ],
      "text/plain": [
       " 10       9         8  2        7  3        6  4        5  5        4  6       >\n",
       "a   + 10*a *b + 45*a *b  + 120*a *b  + 210*a *b  + 252*a *b  + 210*a *b  + 120 >\n",
       "\n",
       ">   3  7       2  8         9    10\n",
       "> *a *b  + 45*a *b  + 10*a*b  + b  "
      ]
     },
     "metadata": {},
     "output_type": "display_data"
    }
   ],
   "source": [
    "for i in (0:10)\n",
    "    display(expand((a+b)^i))\n",
    "end"
   ]
  },
  {
   "cell_type": "markdown",
   "id": "a79fae49",
   "metadata": {},
   "source": [
    "## 📚 Fatoração e simplificação algébrica\n",
    "---\n"
   ]
  },
  {
   "cell_type": "markdown",
   "id": "ce7c9e82",
   "metadata": {},
   "source": [
    "### 📝Justificativa\n",
    "\n",
    "Neste ponto, observa-se a maior dificuldade dos estudantes. Memorizar apenas os resultados dos produtos notáveis não é suficiente para a resolução dos problemas. É fundamental que o aluno compreenda qual das expansões está sendo utilizada em cada situação para realizar a fatoração adequada e, consequentemente, aplicar as devidas simplificações algébricas.\n",
    "\n",
    "---"
   ]
  },
  {
   "cell_type": "markdown",
   "id": "86b1ace5",
   "metadata": {},
   "source": [
    "## ✅ 1º Passo: Verificar fatoração e simplificações em Julia + SymPy.jl\n",
    "\n",
    "> Neste passo, utilizaremos a linguagem **Julia** com a biblioteca **SymPy.jl** para fatorar e simplificar expressões algébricas.\n",
    "\n",
    "### ⚙️ O que faremos:\n",
    "- Revisar a sintaxe para importar a biblioteca `SymPy.jl`;\n",
    "- Revisar a declaração de variáveis simbólicas;\n",
    "- Utilizar a função `factor()` para fatoração;\n",
    "- Utilizar as funções `simplify()` e `cancel()` para simplificação.\n",
    "\n",
    "---\n"
   ]
  },
  {
   "cell_type": "markdown",
   "id": "c4697ab3",
   "metadata": {},
   "source": [
    "### 🧮 Problema 1\n",
    "\n",
    "Qual é a **forma fatorada** do produto entre os polinômios  \n",
    "$$\n",
    "x^2 + 14x + 49\n",
    "\\quad\\text{e}\\quad\n",
    "x^2 - 14x + 49\n",
    "$$\n",
    "\n",
    "A) $(x + 7)^2 \\cdot (x - 7)^2$  \n",
    "B) $(x^2 + 14x + 49) \\cdot (x^2 - 14x + 49)$  \n",
    "C) $(x + 7) \\cdot (x - 7)^2$  \n",
    "D) $(x + 7)^2 \\cdot x - 7^2$  \n",
    "E) $x + 7^2 \\cdot (x - 7)^2$\n",
    "\n",
    "📚 Fonte: [*Mundo Educação*](https://exercicios.mundoeducacao.uol.com.br/exercicios-matematica/exercicios-sobre-fatoracao-expressoes-algebricas.htm)\n",
    "___"
   ]
  },
  {
   "cell_type": "markdown",
   "id": "6e938dde",
   "metadata": {},
   "source": [
    "### 🧮 Problema 2\n",
    "\n",
    "*(FAUEL - 2022)*  \n",
    "Assinale a alternativa que apresenta a fatoração do polinômio  \n",
    "$$x^2 - 81$$\n",
    "\n",
    "A) $x(x - 81)$  \n",
    "\n",
    "B) $(x + 81)(x - 81)$  \n",
    "\n",
    "C) $(x - 1)(x + 81)$  \n",
    "\n",
    "D) $9x(x - 9)$  \n",
    "\n",
    "E) $(x + 9)(x - 9)$\n",
    "\n",
    "___\n"
   ]
  },
  {
   "cell_type": "markdown",
   "id": "ebd074ca",
   "metadata": {},
   "source": [
    "### 🧮 Problema 3\n",
    "\n",
    "Observe a expressão a seguir:  \n",
    "$$(a + b)y + 2(a + b)$$\n",
    "\n",
    "A forma fatorada dessa expressão é:\n",
    "\n",
    "A) $2ay + 2by$  \n",
    "B) $(a + b)(y + 2)$  \n",
    "C) $3(a + b)y$  \n",
    "D) $2y$\n",
    "___\n"
   ]
  },
  {
   "cell_type": "markdown",
   "id": "0e7f21d2",
   "metadata": {},
   "source": [
    "### 🧮 Problema 4\n",
    "*(NOSSO RUMO-2024)*\n",
    "Assinale a alternativa em que a fatoração realizada se encontra **INCORRETA**:\n",
    "\n",
    "A) $2a^2b + 3a^3c - a^4 = a^2(2b + 3ac - a^2)$  \n",
    "\n",
    "B) $6mx - 6my = 6m(x - y)$  \n",
    "\n",
    "C) $x^4 + 7x = x(x^3 + 7)$  \n",
    "\n",
    "D) $20x^5 + 12x^4 + 4x^2 = 4x^3(5x^2 + 3x + 1)$  \n",
    "\n",
    "E) $a^2x^4 + a^3x^2 - 5a^4x = a^2x(x^3 + ax - 5a^2)$\n",
    "___\n"
   ]
  },
  {
   "cell_type": "markdown",
   "id": "0763c160",
   "metadata": {},
   "source": [
    "### 🧮 Problema 5\n",
    "*( APTA Assessoria Consultoria-2022)*\n",
    "\n",
    "Qual é a forma fatorada da expressão  \n",
    "$$\n",
    "2am - an + 6bm - 3bn\n",
    "$$\n",
    "\n",
    "A) $(a + b)(2m - 3n)$\n",
    "\n",
    "B) $(a - b)(2m - 3n)$\n",
    "\n",
    "C) $(2m + n)(a + 6b)$\n",
    "\n",
    "D) $(2m - n)(a + b)$\n",
    "\n",
    "___"
   ]
  },
  {
   "cell_type": "markdown",
   "id": "581fd41f",
   "metadata": {},
   "source": [
    "### 🧮 Problema 6\n",
    "\n",
    "Simplifique a fração algébrica:  \n",
    "$$\n",
    "\\dfrac{4x^2 + 8}{4x}\n",
    "$$\n",
    "\n",
    "A) $x + 2$  \n",
    "\n",
    "B) $2x$  \n",
    "\n",
    "C) $\\dfrac{x}{2}$  \n",
    "\n",
    "D) $\\dfrac{x^2}{2x}$\n",
    "  \n",
    "📚 Fonte: [*Brasil Escola*](https://exercicios.brasilescola.uol.com.br/exercicios-matematica/exercicios-sobre-fracoes-algebricas.htm)\n"
   ]
  },
  {
   "cell_type": "markdown",
   "id": "6cc19245",
   "metadata": {},
   "source": [
    "### 🧮 Problema 7 – (BPW)\n",
    "\n",
    "Observe a expressão algébrica apresentada abaixo:  \n",
    "$$\n",
    "\\dfrac{x^2 - y^2}{x^2 + 2xy + y^2}\n",
    "$$\n",
    "\n",
    "Uma forma simplificada dessa expressão está apresentada em:\n",
    "\n",
    "A) $\\dfrac{x + y}{x - y}$\n",
    "\n",
    "B) $\\dfrac{x - y}{x + y}$\n",
    "\n",
    "C) $\\dfrac{(x - y)(x - y)}{(x + y)^2}$\n",
    "\n",
    "D) $x - y$\n",
    "___"
   ]
  },
  {
   "cell_type": "markdown",
   "id": "e3c455db",
   "metadata": {},
   "source": [
    "### 🧮 Problema 8\n",
    "*(IBFC - 2018)*\n",
    "Fatorando-se a expressão  \n",
    "$$\n",
    "\\dfrac{x^2 - 5x + 4}{x^2 - x}\n",
    "$$\n",
    "obtém-se como resultado:\n",
    "\n",
    "A) $-4$  \n",
    "\n",
    "B) $\\frac{x - 1}{x}$  \n",
    "\n",
    "C) $\\frac{x - 4}{x}$  \n",
    "\n",
    "D) $\\frac{x - 5}{x}$\n",
    "___\n"
   ]
  },
  {
   "cell_type": "markdown",
   "id": "1e34ca10",
   "metadata": {},
   "source": [
    "### 🧮 Problema 9\n",
    "\n",
    "*(RHS Consult - 2016)*\n",
    "\n",
    "Assinale a alternativa que corresponde à expressão:  \n",
    "$$\\dfrac{x^2 - 1}{x + 1}$$\n",
    "\n",
    "A) $x^2 + 2x$  \n",
    "\n",
    "B) $x^3 - x^2$  \n",
    "\n",
    "C) $x - 1$  \n",
    "\n",
    "D) $x + 1$  \n",
    "\n",
    "E) $x^2 - 1$\n",
    "\n",
    "___"
   ]
  },
  {
   "cell_type": "markdown",
   "id": "99e59073",
   "metadata": {},
   "source": [
    "### 🧮 Problema 10\n",
    "\n",
    "*(FGV - 2023)*\n",
    "\n",
    "A diferença entre dois números inteiros positivos é 3 e a diferença entre os seus quadrados é 39.\n",
    "\n",
    "A soma desses números é igual a:\n",
    "\n",
    "**Alternativas:**\n",
    "\n",
    "- A) 13  \n",
    "- B) 15  \n",
    "- C) 17  \n",
    "- D) 19  \n",
    "- E) 21\n",
    "\n",
    "___\n"
   ]
  }
 ],
 "metadata": {
  "kernelspec": {
   "display_name": "Julia 1.10.5",
   "language": "julia",
   "name": "julia-1.10"
  },
  "language_info": {
   "file_extension": ".jl",
   "mimetype": "application/julia",
   "name": "julia",
   "version": "1.10.5"
  }
 },
 "nbformat": 4,
 "nbformat_minor": 5
}
