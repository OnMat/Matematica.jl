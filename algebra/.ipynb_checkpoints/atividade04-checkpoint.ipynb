{
 "cells": [
  {
   "cell_type": "markdown",
   "id": "a79fae49",
   "metadata": {},
   "source": [
    "## Fatoração e simplificação algébrica\n",
    "---\n"
   ]
  },
  {
   "cell_type": "markdown",
   "id": "ce7c9e82",
   "metadata": {},
   "source": [
    "### Justificativa\n",
    "\n",
    "Neste ponto, observa-se a maior dificuldade dos estudantes. Memorizar apenas os resultados dos produtos notáveis não é suficiente para a resolução dos problemas. É fundamental que o aluno compreenda qual das expansões está sendo utilizada em cada situação para realizar a fatoração adequada e, consequentemente, aplicar as devidas simplificações algébricas.\n",
    "\n",
    "---"
   ]
  },
  {
   "cell_type": "markdown",
   "id": "86b1ace5",
   "metadata": {},
   "source": [
    "## Verificar fatoração e simplificações com SymPy.jl\n",
    "\n",
    "> Neste passo, utilizaremos a linguagem **Julia** com a biblioteca **SymPy.jl** para fatorar e simplificar expressões algébricas.\n",
    "\n",
    "###  O que faremos:\n",
    "- Revisar a sintaxe para importar a biblioteca `SymPy.jl`;\n",
    "- Revisar a declaração de variáveis simbólicas;\n",
    "- Utilizar a função `factor()` para fatoração;\n",
    "- Utilizar as funções `simplify()` e `cancel()` para simplificação.\n",
    "\n",
    "---\n"
   ]
  },
  {
   "cell_type": "markdown",
   "id": "c4697ab3",
   "metadata": {},
   "source": [
    "### Problema 1\n",
    "\n",
    "Qual é a **forma fatorada** do produto entre os polinômios  \n",
    "$$\n",
    "x^2 + 14x + 49\n",
    "\\quad\\text{e}\\quad\n",
    "x^2 - 14x + 49\n",
    "$$\n",
    "\n",
    "A) $(x + 7)^2 \\cdot (x - 7)^2$  \n",
    "B) $(x^2 + 14x + 49) \\cdot (x^2 - 14x + 49)$  \n",
    "C) $(x + 7) \\cdot (x - 7)^2$  \n",
    "D) $(x + 7)^2 \\cdot x - 7^2$  \n",
    "E) $x + 7^2 \\cdot (x - 7)^2$\n",
    "\n",
    "📚 Fonte: [*Mundo Educação*](https://exercicios.mundoeducacao.uol.com.br/exercicios-matematica/exercicios-sobre-fatoracao-expressoes-algebricas.htm)\n",
    "___"
   ]
  },
  {
   "cell_type": "markdown",
   "id": "6e938dde",
   "metadata": {},
   "source": [
    "### Problema 2\n",
    "\n",
    "*(FAUEL - 2022)*  \n",
    "Assinale a alternativa que apresenta a fatoração do polinômio  \n",
    "$$x^2 - 81$$\n",
    "\n",
    "A) $x(x - 81)$  \n",
    "\n",
    "B) $(x + 81)(x - 81)$  \n",
    "\n",
    "C) $(x - 1)(x + 81)$  \n",
    "\n",
    "D) $9x(x - 9)$  \n",
    "\n",
    "E) $(x + 9)(x - 9)$\n",
    "\n",
    "___\n"
   ]
  },
  {
   "cell_type": "markdown",
   "id": "ebd074ca",
   "metadata": {},
   "source": [
    "### Problema 3\n",
    "\n",
    "Observe a expressão a seguir:  \n",
    "$$(a + b)y + 2(a + b)$$\n",
    "\n",
    "A forma fatorada dessa expressão é:\n",
    "\n",
    "A) $2ay + 2by$  \n",
    "B) $(a + b)(y + 2)$  \n",
    "C) $3(a + b)y$  \n",
    "D) $2y$\n",
    "___\n"
   ]
  },
  {
   "cell_type": "markdown",
   "id": "0e7f21d2",
   "metadata": {},
   "source": [
    "###  Problema 4\n",
    "*(NOSSO RUMO-2024)*\n",
    "Assinale a alternativa em que a fatoração realizada se encontra **INCORRETA**:\n",
    "\n",
    "A) $2a^2b + 3a^3c - a^4 = a^2(2b + 3ac - a^2)$  \n",
    "\n",
    "B) $6mx - 6my = 6m(x - y)$  \n",
    "\n",
    "C) $x^4 + 7x = x(x^3 + 7)$  \n",
    "\n",
    "D) $20x^5 + 12x^4 + 4x^2 = 4x^3(5x^2 + 3x + 1)$  \n",
    "\n",
    "E) $a^2x^4 + a^3x^2 - 5a^4x = a^2x(x^3 + ax - 5a^2)$\n",
    "___\n"
   ]
  },
  {
   "cell_type": "markdown",
   "id": "0763c160",
   "metadata": {},
   "source": [
    "###  Problema 5\n",
    "*( APTA Assessoria Consultoria-2022)*\n",
    "\n",
    "Qual é a forma fatorada da expressão  \n",
    "$$\n",
    "2am - an + 6bm - 3bn\n",
    "$$\n",
    "\n",
    "A) $(a + b)(2m - 3n)$\n",
    "\n",
    "B) $(a - b)(2m - 3n)$\n",
    "\n",
    "C) $(2m + n)(a + 6b)$\n",
    "\n",
    "D) $(2m - n)(a + b)$\n",
    "\n",
    "___"
   ]
  },
  {
   "cell_type": "markdown",
   "id": "581fd41f",
   "metadata": {},
   "source": [
    "###  Problema 6\n",
    "\n",
    "Simplifique a fração algébrica:  \n",
    "$$\n",
    "\\dfrac{4x^2 + 8}{4x}\n",
    "$$\n",
    "\n",
    "A) $x + 2$  \n",
    "\n",
    "B) $2x$  \n",
    "\n",
    "C) $\\dfrac{x}{2}$  \n",
    "\n",
    "D) $\\dfrac{x^2}{2x}$\n",
    "  \n",
    "📚 Fonte: [*Brasil Escola*](https://exercicios.brasilescola.uol.com.br/exercicios-matematica/exercicios-sobre-fracoes-algebricas.htm)\n"
   ]
  },
  {
   "cell_type": "markdown",
   "id": "6cc19245",
   "metadata": {},
   "source": [
    "### Problema 7 \n",
    "\n",
    "*(BPW)*\n",
    "\n",
    "Observe a expressão algébrica apresentada abaixo:  \n",
    "$$\n",
    "\\dfrac{x^2 - y^2}{x^2 + 2xy + y^2}\n",
    "$$\n",
    "\n",
    "Uma forma simplificada dessa expressão está apresentada em:\n",
    "\n",
    "A) $\\dfrac{x + y}{x - y}$\n",
    "\n",
    "B) $\\dfrac{x - y}{x + y}$\n",
    "\n",
    "C) $\\dfrac{(x - y)(x - y)}{(x + y)^2}$\n",
    "\n",
    "D) $x - y$\n",
    "___"
   ]
  },
  {
   "cell_type": "markdown",
   "id": "e3c455db",
   "metadata": {},
   "source": [
    "### Problema 8\n",
    "*(IBFC - 2018)*\n",
    "Fatorando-se a expressão  \n",
    "$$\n",
    "\\dfrac{x^2 - 5x + 4}{x^2 - x}\n",
    "$$\n",
    "obtém-se como resultado:\n",
    "\n",
    "A) $-4$  \n",
    "\n",
    "B) $\\frac{x - 1}{x}$  \n",
    "\n",
    "C) $\\frac{x - 4}{x}$  \n",
    "\n",
    "D) $\\frac{x - 5}{x}$\n",
    "___\n"
   ]
  },
  {
   "cell_type": "markdown",
   "id": "1e34ca10",
   "metadata": {},
   "source": [
    "### Problema 9\n",
    "\n",
    "*(RHS Consult - 2016)*\n",
    "\n",
    "Assinale a alternativa que corresponde à expressão:  \n",
    "$$\\dfrac{x^2 - 1}{x + 1}$$\n",
    "\n",
    "A) $x^2 + 2x$  \n",
    "\n",
    "B) $x^3 - x^2$  \n",
    "\n",
    "C) $x - 1$  \n",
    "\n",
    "D) $x + 1$  \n",
    "\n",
    "E) $x^2 - 1$\n",
    "\n",
    "___"
   ]
  },
  {
   "cell_type": "markdown",
   "id": "99e59073",
   "metadata": {},
   "source": [
    "### Problema 10\n",
    "\n",
    "*(FGV - 2023)*\n",
    "\n",
    "A diferença entre dois números inteiros positivos é 3 e a diferença entre os seus quadrados é 39.\n",
    "\n",
    "A soma desses números é igual a:\n",
    "\n",
    "\n",
    " A) 13  \n",
    " B) 15  \n",
    " C) 17  \n",
    " D) 19  \n",
    " E) 21\n",
    "\n",
    "___\n"
   ]
  }
 ],
 "metadata": {
  "kernelspec": {
   "display_name": "Julia 1.10.5",
   "language": "julia",
   "name": "julia-1.10"
  },
  "language_info": {
   "file_extension": ".jl",
   "mimetype": "application/julia",
   "name": "julia",
   "version": "1.10.5"
  }
 },
 "nbformat": 4,
 "nbformat_minor": 5
}
