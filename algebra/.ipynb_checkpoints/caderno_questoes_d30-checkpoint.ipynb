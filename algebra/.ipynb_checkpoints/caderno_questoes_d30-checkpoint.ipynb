{
 "cells": [
  {
   "cell_type": "markdown",
   "id": "20f596d3",
   "metadata": {},
   "source": [
    "# Caderno de Questões: Valor Numérico de Expressões Algébricas (Descritor D30)\n",
    "\n",
    "Neste caderno, você vai calcular o valor numérico de expressões algébricas, substituindo as variáveis pelos valores indicados.\n"
   ]
  },
  {
   "cell_type": "code",
   "execution_count": null,
   "id": "852c48b2",
   "metadata": {},
   "outputs": [],
   "source": [
    "# Instalação e uso da biblioteca SymPy para manipulação simbólica\n",
    "using Pkg\n",
    "Pkg.add(\"SymPy\")\n",
    "\n",
    "using SymPy"
   ]
  },
  {
   "cell_type": "code",
   "execution_count": null,
   "id": "0408b775",
   "metadata": {},
   "outputs": [],
   "source": [
    "# Função para calcular valor numérico dado uma expressão e um dicionário de variáveis\n",
    "function calcula_valor(expressao_str, valores)\n",
    "    @vars x y z a b c  # declara variáveis simbólicas\n",
    "    expr = parse_expr(expressao_str)\n",
    "    substituido = subs(expr, valores)\n",
    "    return N(substituido)\n",
    "end"
   ]
  },
  {
   "cell_type": "markdown",
   "id": "40669eec",
   "metadata": {},
   "source": [
    "## Questão 1 (Básico)\n",
    "\n",
    "Calcule o valor numérico da expressão \\(3x + 2y^2\\) para \\(x = 2\\) e \\(y = 3\\)."
   ]
  },
  {
   "cell_type": "code",
   "execution_count": null,
   "id": "43a00643",
   "metadata": {},
   "outputs": [],
   "source": [
    "valores = Dict(:x => 2, :y => 3)\n",
    "resultado = calcula_valor(\"3*x + 2*y^2\", valores)\n",
    "println(\"Resultado: \", resultado)"
   ]
  },
  {
   "cell_type": "markdown",
   "id": "f04578b6",
   "metadata": {},
   "source": [
    "## Questão 2 (Intermediário)\n",
    "\n",
    "Calcule o valor numérico da expressão \\(\\frac{2a^3 - 4b}{c}\\) para \\(a = 2\\), \\(b = 3\\) e \\(c = 2\\)."
   ]
  },
  {
   "cell_type": "code",
   "execution_count": null,
   "id": "d284ef85",
   "metadata": {},
   "outputs": [],
   "source": [
    "valores = Dict(:a => 2, :b => 3, :c => 2)\n",
    "resultado = calcula_valor(\"(2*a^3 - 4*b)/c\", valores)\n",
    "println(\"Resultado: \", resultado)"
   ]
  },
  {
   "cell_type": "markdown",
   "id": "7b98cbfe",
   "metadata": {},
   "source": [
    "## Questão 3 (Avançado)\n",
    "\n",
    "Calcule o valor da expressão \\( \\frac{(x^2 + y)^3}{z - 1} \\) para \\(x = 1\\), \\(y = 2\\) e \\(z = 4\\)."
   ]
  },
  {
   "cell_type": "code",
   "execution_count": null,
   "id": "cc6321ae",
   "metadata": {},
   "outputs": [],
   "source": [
    "valores = Dict(:x => 1, :y => 2, :z => 4)\n",
    "resultado = calcula_valor(\"((x^2 + y)^3)/(z - 1)\", valores)\n",
    "println(\"Resultado: \", resultado)"
   ]
  }
 ],
 "metadata": {
  "kernelspec": {
   "display_name": "Julia 1.10.5",
   "language": "julia",
   "name": "julia-1.10"
  },
  "language_info": {
   "file_extension": ".jl",
   "mimetype": "application/julia",
   "name": "julia",
   "version": "1.10.5"
  }
 },
 "nbformat": 4,
 "nbformat_minor": 5
}
