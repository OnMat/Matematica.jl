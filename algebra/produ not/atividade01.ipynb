{
 "cells": [
  {
   "cell_type": "markdown",
   "id": "b9b40a82",
   "metadata": {},
   "source": [
    "#  Produto Notável e Simplificação com SymPy.jl\n",
    "___"
   ]
  },
  {
   "cell_type": "markdown",
   "id": "036a2530",
   "metadata": {},
   "source": [
    "## Unidade Temática: Álgebra\n",
    "\n",
    "\n",
    "### Objeto de Conhecimento:\n",
    "Produtos notáveis e simplificações algébricas\n",
    "\n",
    "### Habilidades da BNCC:\n",
    "(EF09MA06) Resolver e elaborar problemas que envolvam expressões algébricas, aplicando as propriedades das operações, notadamente os produtos notáveis e a fatoração.\n",
    "\n",
    "### Objetivo da Aula:\n",
    "Explorar os produtos notáveis e simplificações algébricas utilizando a linguagem de programação Julia e a biblioteca simbólica SymPy.jl, promovendo o raciocínio algébrico e o pensamento computacional.\n",
    "\n",
    "### Descritores do SPAECE relacionados:\n",
    "- D12: Resolver problemas que envolvam o uso do sistema de expressões algébricas.\n",
    "- D13: Identificar padrões, regularidades e representações algébricas.\n",
    "- D14: Efetuar simplificações e transformações de expressões algébricas.\n",
    "- D15: Reconhecer e aplicar produtos notáveis e fatorações em expressões algébricas.\n",
    "\n",
    "---"
   ]
  },
  {
   "cell_type": "markdown",
   "id": "5151a30a",
   "metadata": {},
   "source": [
    "### Justificativa \n",
    "A dificuldade dos alunos com produtos notáveis e simplificações algébricas está ligada, principalmente, à introdução das letras como generalização de padrões e à falta de compreensão das operações com expressões algébricas. Para enfrentar esse desafio, propõe-se uma sequência didática baseada na resolução de problemas, utilizando o ambiente Jupyter Notebook com a linguagem Julia e a biblioteca SymPy.jl. Essa abordagem favorece a visualização simbólica, a experimentação e o desenvolvimento do pensamento algébrico de forma interativa e significativa.\n",
    "___"
   ]
  },
  {
   "cell_type": "markdown",
   "id": "f4e06623",
   "metadata": {},
   "source": [
    "### Metodologia\n",
    "A metodologia adotada nesta sequência didática baseia-se na resolução de problemas. Os alunos são desafiados a resolver questões matemáticas retiradas de vestibulares e concursos, que exigem a aplicação de produtos notáveis e simplificações algébricas. Para isso, utilizam o ambiente computacional Jupyter Notebook, com a linguagem Julia e a biblioteca simbólica SymPy.jl. Durante as atividades, os estudantes também registram suas observações e estratégias em seus cadernos, contribuindo para a consolidação dos conhecimentos.\n",
    "\n",
    "---"
   ]
  }
 ],
 "metadata": {
  "kernelspec": {
   "display_name": "Julia 1.10.5",
   "language": "julia",
   "name": "julia-1.10"
  },
  "language_info": {
   "file_extension": ".jl",
   "mimetype": "application/julia",
   "name": "julia",
   "version": "1.10.5"
  }
 },
 "nbformat": 4,
 "nbformat_minor": 5
}
