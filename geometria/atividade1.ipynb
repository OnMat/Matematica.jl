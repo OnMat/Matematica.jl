{
 "cells": [
  {
   "cell_type": "markdown",
   "id": "9d3cf808",
   "metadata": {
    "slideshow": {
     "slide_type": "slide"
    }
   },
   "source": [
    "<hr style=\"border: none; height: 3px; background-color: blue; \">\n",
    "<center><h1>🎮 Jogo do Ângulo Complementar </h1>\n",
    "<hr style=\"border: none; height: 3px; background-color: blue; \">"
   ]
  },
  {
   "cell_type": "markdown",
   "id": "2cf9006d",
   "metadata": {
    "slideshow": {
     "slide_type": "subslide"
    }
   },
   "source": [
    "<hr style=\"border: none; height: 2px; background-color: blue; \">\n",
    "Trata-se de um jogo digital desenvolvido em Julia, baseado na definição de ângulos complementares.\n",
    "\n",
    "### 📘Definição:\n",
    "Sejam $\\alpha$ e $\\beta$ ângulos compreendidos entre $0^\\circ$ e $90^\\circ$. Dizemos que eles são **complementares** se:\n",
    "\n",
    "\n",
    "$$\\alpha + \\beta = 90^\\circ$$\n",
    "<hr style=\"border: none; height: 2px; background-color: blue; \">"
   ]
  },
  {
   "cell_type": "markdown",
   "id": "5c16ece6",
   "metadata": {
    "slideshow": {
     "slide_type": "subslide"
    }
   },
   "source": [
    "<hr style=\"border: none; height: 2px; background-color: blue; \">\n",
    "\n",
    "## Habilidade BNCC e Descritores do SPAECE/SAEB\n",
    "___\n",
    "\n",
    "### Habilidade BNCC\n",
    "- **(EF06MA25):**\n",
    "  Reconhecer a abertura do ângulo como grandeza associada às figuras geométricas.\n",
    "- **(EF06MA26):**\n",
    "  Resolver problemas que envolvam a noção de ângulo em diferentes contextos e\n",
    "em situações reais, como ângulo de visão.\n",
    "- **(EF06MA27):**\n",
    "  Determinar medidas da abertura de ângulos, por meio de transferidor e/ou\n",
    "tecnologias digitais.\n",
    "\n",
    "\n",
    "### Descritor SPAECE/SAEB\n",
    "- **D06:** Reconhecer ângulos como mudança de direção ou giros, identificando ângulos\n",
    "retos e não- retos.\n",
    "- **D08:** Resolver problema utilizando propriedades dos polígonos (soma de seus ângulos\n",
    "internos, número de diagonais, cálculo da medida de cada ângulo interno nos polígonos\n",
    "regulares).\n",
    "\n",
    "<hr style=\"border: none; height: 2px; background-color: blue; \">"
   ]
  },
  {
   "cell_type": "markdown",
   "id": "16e49a0c",
   "metadata": {
    "slideshow": {
     "slide_type": "subslide"
    }
   },
   "source": [
    "<hr style=\"border: none; height: 2px; background-color: blue; \">\n",
    "\n",
    "### 🎯 Objetivo do Jogo\n",
    "\n",
    "Neste jogo, o código irá **sortear aleatoriamente a medida de um ângulo** $\\alpha$ entre $0^\\circ$ e $90^\\circ$.\n",
    "\n",
    "Seu objetivo é:\n",
    "\n",
    "- 🧠 **Calcular o ângulo complementar** de $\\alpha$, ou seja, o valor de $\\beta$ tal que $\\alpha + \\beta = 90^\\circ$;\n",
    "- ⌨️ Informar sua resposta digitando no terminal;\n",
    "- ✅ Receber um **feedback automático**, informando se a resposta está correta ou não.\n",
    "---\n",
    "\n",
    "### ⚙️ Como funciona\n",
    "\n",
    "1. O código sorteia um valor para $\\alpha \\in [0^\\circ, 90^\\circ]$;\n",
    "2. Você calcula o ângulo complementar: $\\beta = 90^\\circ - \\alpha$;\n",
    "3. O código compara sua resposta com o valor correto e exibe o resultado.\n",
    "\n",
    "<hr style=\"border: none; height: 2px; background-color: blue; \">"
   ]
  },
  {
   "cell_type": "markdown",
   "id": "740390cd",
   "metadata": {
    "slideshow": {
     "slide_type": "skip"
    }
   },
   "source": [
    "<hr style=\"border: none; height: 2px; background-color: blue; \">\n",
    "\n",
    "### 💻 Código em Julia:"
   ]
  },
  {
   "cell_type": "code",
   "execution_count": 10,
   "id": "c5a4cfe6",
   "metadata": {
    "slideshow": {
     "slide_type": "skip"
    }
   },
   "outputs": [
    {
     "data": {
      "text/plain": [
       "jogo_ang_comp (generic function with 1 method)"
      ]
     },
     "execution_count": 10,
     "metadata": {},
     "output_type": "execute_result"
    }
   ],
   "source": [
    "function jogo_ang_comp()\n",
    "println(repeat(\"*\", 34))\n",
    "println(\"🏆 JOGO DO ÂNGULO COMPLEMENTAR 🏆\")\n",
    "println(repeat(\"*\", 34))\n",
    "\n",
    "α = rand(0:90) \n",
    "println(\"Qual o ângulo COMPLEMENTAR de $(α)° graus? \")\n",
    "β = parse(Int, readline())\n",
    "\n",
    "if α + β == 90\n",
    "        println(\"✅ Resposta correta! $(α)° + $(β)° = 90°.\")\n",
    "        println(\"👏👏👏👏👏👏👏👏👏👏\")\n",
    "    else\n",
    "        println(\"❌ Não foi dessa vez! 😭😭😭😭😭😭😭\")\n",
    "        println(\"O ângulo complementar de $(α)° é $(90 - α)°.\")\n",
    "    end\n",
    "end"
   ]
  },
  {
   "cell_type": "markdown",
   "id": "2a5d1896",
   "metadata": {
    "slideshow": {
     "slide_type": "subslide"
    }
   },
   "source": [
    "<hr style=\"border: none; height: 2px; background-color: blue; \">\n",
    "\n",
    "## 🚀 Vamos lá..."
   ]
  },
  {
   "cell_type": "code",
   "execution_count": 11,
   "id": "19ebd939",
   "metadata": {
    "slideshow": {
     "slide_type": "fragment"
    }
   },
   "outputs": [
    {
     "name": "stdout",
     "output_type": "stream",
     "text": [
      "**********************************\n",
      "🏆 JOGO DO ÂNGULO COMPLEMENTAR 🏆\n",
      "**********************************\n",
      "Qual o ângulo COMPLEMENTAR de 58° graus? \n",
      "stdin> 32\n",
      "✅ Resposta correta! 58° + 32° = 90°.\n",
      "👏👏👏👏👏👏👏👏👏👏\n"
     ]
    }
   ],
   "source": [
    "jogo_ang_comp()"
   ]
  },
  {
   "cell_type": "markdown",
   "id": "a82efbe8",
   "metadata": {
    "slideshow": {
     "slide_type": "fragment"
    }
   },
   "source": [
    "<hr style=\"border: none; height: 2px; background-color: blue; \">"
   ]
  }
 ],
 "metadata": {
  "@webio": {
   "lastCommId": null,
   "lastKernelId": null
  },
  "kernelspec": {
   "display_name": "Julia 1.10.5",
   "language": "julia",
   "name": "julia-1.10"
  },
  "language_info": {
   "file_extension": ".jl",
   "mimetype": "application/julia",
   "name": "julia",
   "version": "1.10.5"
  }
 },
 "nbformat": 4,
 "nbformat_minor": 5
}
