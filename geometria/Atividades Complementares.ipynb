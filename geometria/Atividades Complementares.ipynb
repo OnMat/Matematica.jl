{
 "cells": [
  {
   "cell_type": "markdown",
   "id": "eed45e54",
   "metadata": {},
   "source": [
    "# 📚 Atividades Complementares\n",
    "---\n",
    "\n",
    "Nesta seção, você encontrará uma lista de exercícios semelhantes aos aplicados nas avaliações SAEB e SPAECE, com o objetivo de aprofundar a compreensão dos conteúdos trabalhados e verificar seu domínio sobre os temas estudados.\n",
    "\n",
    "## Objetivos das atividades:\n",
    "- Fixar os conceitos fundamentais.\n",
    "- Desenvolver habilidades para resolver problemas envolvendo os **objetos de conhecimento** estudados.\n",
    "- Preparar para avaliações externas com questões no estilo SAEB/SPAECE.\n",
    "\n",
    "---\n"
   ]
  }
 ],
 "metadata": {
  "kernelspec": {
   "display_name": "Julia 1.10.5",
   "language": "julia",
   "name": "julia-1.10"
  },
  "language_info": {
   "file_extension": ".jl",
   "mimetype": "application/julia",
   "name": "julia",
   "version": "1.10.5"
  }
 },
 "nbformat": 4,
 "nbformat_minor": 5
}
