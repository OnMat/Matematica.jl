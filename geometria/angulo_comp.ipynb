{
 "cells": [
  {
   "cell_type": "markdown",
   "id": "9d3cf808",
   "metadata": {
    "slideshow": {
     "slide_type": "slide"
    }
   },
   "source": [
    "<hr style=\"border: none; height: 3px; background-color: blue; \">\n",
    "<center><h1>Ângulos complementares e suplementares </h1>\n",
    "<hr style=\"border: none; height: 3px; background-color: blue; \">"
   ]
  },
  {
   "cell_type": "markdown",
   "id": "2cf9006d",
   "metadata": {
    "slideshow": {
     "slide_type": "subslide"
    }
   },
   "source": [
    "<h2>Ângulos complementares</h2>\n",
    "<hr style=\"border: none; height: 2px; background-color: blue; \">"
   ]
  },
  {
   "cell_type": "markdown",
   "id": "16e49a0c",
   "metadata": {
    "slideshow": {
     "slide_type": "fragment"
    }
   },
   "source": [
    "## 🎮 Jogo do Ângulo Complementar\n",
    "\n",
    "### Objetivo:\n",
    "Neste desafio, o código vai fornecer a medida de **um ângulo** compreendido entre 0 e 90 graus. Seu objetivo é **descobrir** e **informar** a medida do **ângulo complementar** a esse, com base na definição de ângulo complementar.\n",
    "\n",
    "### Como funciona:\n",
    "1. O código gerará um ângulo aleatório entre 0 e 90 graus, múltiplos de 5.\n",
    "2. Você deve calcular o valor do **ângulo complementar**.\n",
    "3. O código verificará sua resposta e fornecerá feedback.\n"
   ]
  },
  {
   "cell_type": "markdown",
   "id": "740390cd",
   "metadata": {
    "slideshow": {
     "slide_type": "subslide"
    }
   },
   "source": [
    "**Definição:** Sejam $\\alpha$ e $\\beta$ ângulos compreendidos entre $0^\\circ$ e $90^\\circ$. Dizemos que eles são complementares se $\\alpha + \\beta = 90^\\circ$."
   ]
  },
  {
   "cell_type": "code",
   "execution_count": 2,
   "id": "1d55f189",
   "metadata": {
    "slideshow": {
     "slide_type": "subslide"
    }
   },
   "outputs": [
    {
     "name": "stdout",
     "output_type": "stream",
     "text": [
      "**********************************\n",
      "🏆 JOGO DO ÂNGULO COMPLEMENTAR 🏆\n",
      "**********************************\n",
      "Qual o ângulo COMPLEMENTAR de 14 graus? \n",
      "stdin> 76\n",
      "Parabéns, você acertou! 👏👏👏👏👏👏👏👏👏👏\n"
     ]
    }
   ],
   "source": [
    "println(repeat(\"*\", 34))\n",
    "println(\"🏆 JOGO DO ÂNGULO COMPLEMENTAR 🏆\")\n",
    "println(repeat(\"*\", 34))\n",
    "\n",
    "α = rand(0:90)\n",
    "println(\"Qual o ângulo COMPLEMENTAR de $α graus? \")\n",
    "β = parse(Int, readline())\n",
    "\n",
    "if α + β == 90\n",
    "    println(\"Parabéns, você acertou! 👏👏👏👏👏👏👏👏👏👏\")\n",
    "else\n",
    "    println(\"Não foi dessa vez! 😭😭😭😭😭😭😭\")\n",
    "end"
   ]
  },
  {
   "cell_type": "markdown",
   "id": "736b6bb9",
   "metadata": {
    "slideshow": {
     "slide_type": "subslide"
    }
   },
   "source": [
    "<h2>Ângulos suplementares</h2>"
   ]
  },
  {
   "cell_type": "markdown",
   "id": "2ce6f6f4",
   "metadata": {
    "slideshow": {
     "slide_type": "fragment"
    }
   },
   "source": [
    "## 🎮 Desafio 1: Jogo do Ângulo Suplementar\n",
    "\n",
    "### Objetivo:\n",
    "Neste desafio, o código vai fornecer a medida de **um ângulo** compreendido entre 0 e 180 graus. Seu objetivo é **descobrir** e **informar** a medida do **ângulo suplementar** a esse, com base na definição de ângulo suplementar.\n",
    "\n",
    "### Como funciona:\n",
    "1. O código gerará um ângulo aleatório entre 0 e 180 graus, multiplos de 5.\n",
    "2. Você deve calcular o valor do **ângulo suplementar**.\n",
    "3. O código verificará sua resposta e fornecerá feedback.\n"
   ]
  },
  {
   "cell_type": "markdown",
   "id": "ce830850",
   "metadata": {
    "slideshow": {
     "slide_type": "subslide"
    }
   },
   "source": [
    "**Definição:** Sejam $\\alpha$ e $\\beta$ ângulos compreendidos entre $0^\\circ$ e $180^\\circ$. Dizemos que eles são suplementares se $\\alpha + \\beta = 180^\\circ$.\n"
   ]
  },
  {
   "cell_type": "markdown",
   "id": "bc53a465",
   "metadata": {
    "slideshow": {
     "slide_type": "subslide"
    }
   },
   "source": [
    "<h3>Digite o código na celula abaixo.</h3>"
   ]
  },
  {
   "cell_type": "code",
   "execution_count": 120,
   "id": "40215fe9",
   "metadata": {
    "slideshow": {
     "slide_type": "fragment"
    }
   },
   "outputs": [
    {
     "name": "stdout",
     "output_type": "stream",
     "text": [
      "**********************************\n",
      "🏆 JOGO DO ÂNGULO SUPLEMENTAR 🏆\n",
      "**********************************\n",
      "Qual o ângulo SUPLEMENTAR de 70 graus? \n",
      "stdin> 110\n",
      "Parabéns, você acertou! 👏👏👏👏👏👏👏👏👏👏\n"
     ]
    }
   ],
   "source": [
    "println(repeat(\"*\", 34))\n",
    "println(\"🏆 JOGO DO ÂNGULO SUPLEMENTAR 🏆\")\n",
    "println(repeat(\"*\", 34))\n",
    "\n",
    "α = rand(0:10:180)\n",
    "println(\"Qual o ângulo SUPLEMENTAR de $α graus? \")\n",
    "β = parse(Int, readline())\n",
    "\n",
    "if α + β == 180\n",
    "    println(\"Parabéns, você acertou! 👏👏👏👏👏👏👏👏👏👏\")\n",
    "else\n",
    "    println(\"Não foi dessa vez! 😭😭😭😭😭😭😭\")\n",
    "end"
   ]
  },
  {
   "cell_type": "markdown",
   "id": "818adafe",
   "metadata": {
    "slideshow": {
     "slide_type": "slide"
    }
   },
   "source": [
    "<h2>Triângulos.</h2>"
   ]
  },
  {
   "cell_type": "markdown",
   "id": "81255625",
   "metadata": {
    "slideshow": {
     "slide_type": "fragment"
    }
   },
   "source": [
    "O triângulo é um polígono convexo de três lados. Seja $ \\triangle ABC $ um triângulo, destacaremos abaixo seus principais elementos:\n",
    "\n",
    "- $ A $, $ B $ e $ C $: são seus vértices.\n",
    "- $ AB $, $ AC $ e $ BC $: são seus lados.\n",
    "- $ \\hat{A} $, $ \\hat{B} $ e $ \\hat{C} $: são seus ângulos.\n",
    "\n",
    "Representamos o triângulo como $ \\triangle ABC $.\n",
    "\n"
   ]
  },
  {
   "cell_type": "code",
   "execution_count": null,
   "id": "e08ed796",
   "metadata": {
    "slideshow": {
     "slide_type": "subslide"
    }
   },
   "outputs": [],
   "source": [
    "using Plots\n",
    "plot([0,1,2,0],[0,3,1,0],title=\"Triângulo\", lw=4,label=false)\n",
    "scatter!([0,1,3],[0,3,1],label=false,annotations = ([0,1,3] .+ 0.1, [0,3,1] .+ 0.1, [\"A\", \"B\", \"C\"] ))"
   ]
  },
  {
   "cell_type": "markdown",
   "id": "6c8a84be",
   "metadata": {
    "slideshow": {
     "slide_type": "slide"
    }
   },
   "source": [
    "<h3>Condição de existência de um triângulo</h3>"
   ]
  },
  {
   "cell_type": "markdown",
   "id": "8a7a95c0",
   "metadata": {
    "slideshow": {
     "slide_type": "fragment"
    }
   },
   "source": [
    "<b>Desigualdade triangular:</b></br>\n",
    "Em qualquer triângulo, a medida de um lado deve ser sempre *menor* que a soma das medidas dos outros dois lados. \n",
    "\n",
    "Para três lados $a$,  $b$ e $c$ de um triângulo, as condições que devem ser satisfeitas são:\n",
    "- $ a + b > c $\n",
    "- $ a + c > b $\n",
    "- $ b + c > a $"
   ]
  },
  {
   "cell_type": "markdown",
   "id": "fff0a32a",
   "metadata": {
    "slideshow": {
     "slide_type": "subslide"
    }
   },
   "source": [
    "### Exercícios: <br>\n",
    "#### 01) Verifique se existem triângulos cujos os lado tenham as medidas seguintes:\n",
    "    a) 4 cm, 6 cm e 9 cm \n",
    "    b) 10 cm, 8 cm e 8 cm  \n",
    "    c) 5 cm, 5 cm e 3 cm  \n",
    "    d) 7 cm, 5 cm e 2 cm \n",
    "    e) 15 cm, 8 cm e 6 cm\n",
    "    f) 3.5 cm, 4.2cm e 7.5cm\n",
    "\n",
    "fonte: a conquista da matematica, 7 serie pag. 214 \\\n",
    "**questões do livro do aluno: página 111**"
   ]
  },
  {
   "cell_type": "markdown",
   "id": "70a4465a",
   "metadata": {
    "slideshow": {
     "slide_type": "slide"
    }
   },
   "source": [
    "<h3>Crie um algoritmo que faça a verificação das questoes anteriores."
   ]
  },
  {
   "cell_type": "code",
   "execution_count": 135,
   "id": "191fb37a",
   "metadata": {
    "slideshow": {
     "slide_type": "fragment"
    }
   },
   "outputs": [
    {
     "name": "stdout",
     "output_type": "stream",
     "text": [
      "Os números 30, 12, 12 não formam um triângulo\n"
     ]
    }
   ],
   "source": [
    "# Informe os lados aqui:\n",
    "a=30\n",
    "b=12\n",
    "c=12\n",
    "if a+b>c && a+c>b && b+c>a\n",
    "    println(\"Os números $a, $b, $c formam um triângulo\")\n",
    "else\n",
    "    println(\"Os números $a, $b, $c não formam um triângulo\")\n",
    "end"
   ]
  },
  {
   "cell_type": "code",
   "execution_count": 36,
   "id": "01d46f3b",
   "metadata": {
    "slideshow": {
     "slide_type": "fragment"
    }
   },
   "outputs": [],
   "source": [
    "#Crie o algoritmo aqui:"
   ]
  },
  {
   "cell_type": "markdown",
   "id": "4f363133",
   "metadata": {
    "slideshow": {
     "slide_type": "subslide"
    }
   },
   "source": [
    "## 🎮 Desafio 2: Complete o Triângulo!\n",
    "\n",
    "**Objetivo:**  \n",
    "Neste desafio, o código vai fornecer as medidas de **dois lados de um triângulo**. Seu objetivo é **descobrir** e **informar** a medida do **terceiro lado** do triângulo, com base na **desigualdade triangular**.\n",
    "\n",
    "### O que você precisa fazer:\n",
    "\n",
    "1. O código irá gerar dois lados de um triângulo.\n",
    "2. Você deve usar a **desigualdade triangular** para calcular e informar qual pode ser o valor do **terceiro lado**, ou seja:\n",
    "   - A soma de dois lados deve ser **maior** que o terceiro lado.\n",
    "   - Se o valor fornecido para o terceiro lado não for possível, o código irá te avisar!\n",
    "\n",
    "Se essas condições forem **verdadeiras**, o valor informado pelo jogador será **válido**.\n",
    "\n",
    "### Como funciona o jogo:\n",
    "1. O código informará dois valores de lados do triângulo.\n",
    "2. Você deverá calcular o valor possível para o terceiro lado e inserir a resposta.\n",
    "3. O código verificará se o valor informado está correto, considerando as regras da desigualdade triangular.\n"
   ]
  },
  {
   "cell_type": "markdown",
   "id": "839abf6f",
   "metadata": {},
   "source": [
    "\n",
    "<h3>Classificação de um triâgulo quanto aos lados</h3>"
   ]
  },
  {
   "cell_type": "markdown",
   "id": "e4164d22",
   "metadata": {},
   "source": [
    "Dado um triângulo $\\triangle ABC$ de lados $a$, $b$ e $c$ opostos aos vértices $A$, $B$ e $C$, respectivamente, temos que:\n",
    "\n",
    "- **Triângulo equilátero**: todos os lados são congruentes: $a = b$, $a = c$ e $b = c$.\n",
    "- **Triângulo isósceles**: possui dois lados congruentes: $a = b$ ou $a = c$ ou $b = c$.\n",
    "- **Triângulo escaleno**: possui todos os lados diferentes: $a \\neq b$, $a \\neq c$ e $b \\neq c$.\n",
    "\n"
   ]
  },
  {
   "cell_type": "markdown",
   "id": "04487de2",
   "metadata": {},
   "source": [
    "\n",
    "<h3>Soma dos angulos internos de um triângulo</h3>"
   ]
  },
  {
   "cell_type": "markdown",
   "id": "d04c04c9",
   "metadata": {},
   "source": [
    "\n",
    "<h3>Classificação quanto aos ângulos</h3>"
   ]
  },
  {
   "cell_type": "markdown",
   "id": "72a7a36b",
   "metadata": {},
   "source": [
    "<h3>Classificação quanto aos ângulos usando pitagoras</h3>"
   ]
  },
  {
   "cell_type": "markdown",
   "id": "74bff0d4",
   "metadata": {},
   "source": [
    "<h3>calculo do perímetro</h3>"
   ]
  },
  {
   "cell_type": "markdown",
   "id": "17fac38c",
   "metadata": {},
   "source": [
    "<h3>Cálculo de Áreas</h3><br>\n",
    "    <ul>\n",
    "        <li>Área do triângulo retângulo: \\( A = \\dfrac{\\text{base} \\times \\text{altura}}{2} \\)</li>\n",
    "        <li>Área usando a fórmula de Herão: \\( A = \\sqrt{p(p - a)(p - b)(p - c)} \\), onde \\( p \\) é o semiperímetro</li>\n",
    "        <li>Área do triângulo equilátero: \\( A = \\dfrac{l^2 \\sqrt{3}}{4} \\), onde \\( l \\) é o lado do triângulo</li>\n",
    "    </ul>"
   ]
  },
  {
   "cell_type": "code",
   "execution_count": 137,
   "id": "19052d9a",
   "metadata": {},
   "outputs": [
    {
     "data": {
      "text/plain": [
       "π = 3.1415926535897..."
      ]
     },
     "execution_count": 137,
     "metadata": {},
     "output_type": "execute_result"
    }
   ],
   "source": [
    "π"
   ]
  },
  {
   "cell_type": "code",
   "execution_count": 185,
   "id": "58f163a6",
   "metadata": {},
   "outputs": [
    {
     "data": {
      "text/plain": [
       "10"
      ]
     },
     "execution_count": 185,
     "metadata": {},
     "output_type": "execute_result"
    }
   ],
   "source": [
    "rand(1:1:15)"
   ]
  },
  {
   "cell_type": "code",
   "execution_count": 4,
   "id": "9093a1a1",
   "metadata": {},
   "outputs": [
    {
     "name": "stdout",
     "output_type": "stream",
     "text": [
      "O número -10 é negativo.\n"
     ]
    }
   ],
   "source": [
    "num = -10\n",
    "    if num > 0\n",
    "        println(\"O número $num é positivo.\")\n",
    "    else\n",
    "        println(\"O número $num é negativo.\")\n",
    "    end    "
   ]
  },
  {
   "cell_type": "code",
   "execution_count": 5,
   "id": "2e15399d",
   "metadata": {},
   "outputs": [
    {
     "name": "stdout",
     "output_type": "stream",
     "text": [
      "Resultado para x = 2 e y = 3 é 21\n"
     ]
    }
   ],
   "source": [
    "# Definir as variáveis\n",
    "x = 2\n",
    "y = 3\n",
    "\n",
    "# Cálculo da expressão\n",
    "resultado = 3*x + 5*y\n",
    "\n",
    "# Exibir o resultado\n",
    "println(\"Resultado para x = 2 e y = 3 é \", resultado)"
   ]
  },
  {
   "cell_type": "code",
   "execution_count": 11,
   "id": "bf0aac2c",
   "metadata": {},
   "outputs": [
    {
     "name": "stdout",
     "output_type": "stream",
     "text": [
      "O determinante é: 0\n",
      "O determinante é nulo.\n"
     ]
    }
   ],
   "source": [
    "# Definindo os elementos da matriz\n",
    "a = 1; b = 0\n",
    "c = 0; d = 0\n",
    "\n",
    "# Calculando o determinante\n",
    "det = a * d - b * c\n",
    "\n",
    "# Exibindo o valor e interpretando o sinal\n",
    "println(\"O determinante é: \", det)\n",
    "\n",
    "if det > 0\n",
    "    println(\"O determinante é positivo.\")\n",
    "elseif det < 0\n",
    "    println(\"O determinante é negativo.\")\n",
    "else\n",
    "    println(\"O determinante é nulo.\")\n",
    "end"
   ]
  }
 ],
 "metadata": {
  "kernelspec": {
   "display_name": "Julia 1.10.5",
   "language": "julia",
   "name": "julia-1.10"
  },
  "language_info": {
   "file_extension": ".jl",
   "mimetype": "application/julia",
   "name": "julia",
   "version": "1.10.5"
  }
 },
 "nbformat": 4,
 "nbformat_minor": 5
}
