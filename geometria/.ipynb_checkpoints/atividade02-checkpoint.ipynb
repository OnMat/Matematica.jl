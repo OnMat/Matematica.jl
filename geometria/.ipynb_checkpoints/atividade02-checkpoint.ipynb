{
 "cells": [
  {
   "cell_type": "markdown",
   "id": "9d3cf808",
   "metadata": {
    "slideshow": {
     "slide_type": "slide"
    }
   },
   "source": [
    "<hr style=\"border: none; height: 3px; background-color: blue; \">\n",
    "\n",
    "# Triângulos \n",
    "\n",
    "<hr style=\"border: none; height: 3px; background-color: blue; \">"
   ]
  },
  {
   "cell_type": "markdown",
   "id": "6eea819d",
   "metadata": {
    "slideshow": {
     "slide_type": "slide"
    }
   },
   "source": [
    "## Objeto de conhecimento\n",
    "\n",
    "\n",
    "<hr style=\"border: none; height: 2px; background-color: blue; \">"
   ]
  },
  {
   "cell_type": "markdown",
   "id": "6413fe53",
   "metadata": {
    "slideshow": {
     "slide_type": "subslide"
    }
   },
   "source": [
    "## Habilidade BNCC e Descritores do SPAECE/SAEB\n",
    "___"
   ]
  },
  {
   "cell_type": "markdown",
   "id": "04a651bf",
   "metadata": {
    "slideshow": {
     "slide_type": "subslide"
    }
   },
   "source": [
    "### Habilidade BNCC\n",
    "- **(EF06MA19):** Identificar características dos triângulos e classificá-los em relação às medidas dos\n",
    "lados e dos ângulos.\n",
    "- **(EF09MA16):** Determinar o ponto médio de um segmento de reta e a distância entre dois pontos\n",
    "quaisquer, dadas as coordenadas desses pontos no plano cartesiano, sem o uso de fórmulas, e\n",
    "utilizar esse conhecimento para calcular, por exemplo, medidas de perímetros e áreas de figuras\n",
    "planas construídas no plano.\n",
    "- **(EF05MA20):** Concluir, por meio de investigações, que figuras de perímetros iguais podem\n",
    "ter áreas diferentes e que, também, figuras que têm a mesma área podem ter perímetros\n",
    "diferentes.\n",
    "\n",
    "- **(EF08MA19):** Resolver e elaborar problemas que envolvam medidas de área de figuras\n",
    "geométricas, utilizando expressões de cálculo de área (quadriláteros, triângulos e círculos), em\n",
    "situações como determinar medida de terrenos."
   ]
  },
  {
   "cell_type": "markdown",
   "id": "b63549c0",
   "metadata": {
    "slideshow": {
     "slide_type": "subslide"
    }
   },
   "source": [
    "### Descritores do  SPAECE/SAEB relacionados:\n",
    "- **D03:** Identificar propriedades de triângulos pela comparação de medidas de lados e ângulos. \n",
    "- **D09:** Interpretar informações apresentadas por meio de coordenadas cartesianas.\n",
    "- **D12:** Resolver problema envolvendo o cálculo de perímetro de figuras planas.\n",
    "- **D13:** Resolver problema envolvendo o cálculo de área de figuras planas.\n",
    "\n",
    "<hr style=\"border: none; height: 2px; background-color: blue; \">"
   ]
  },
  {
   "cell_type": "markdown",
   "id": "db9be172",
   "metadata": {
    "slideshow": {
     "slide_type": "slide"
    }
   },
   "source": [
    "## 📖 Definição:\n",
    "---\n",
    "\n",
    "O triângulo é um polígono convexo de três lados. Seja $ ABC $ um triângulo; destacaremos abaixo seus principais elementos:\n",
    "\n",
    "✅ **Vértices** são pontos: $ A $, $ B $ e $ C $.  \n",
    "✅ **Lados** são os sgmentos de retas$ \\overline{AB} $, $ \\overline{AC} $ e $ \\overline{BC} $: são seus **lados**.  \n",
    "✅ **Ângulos internos** são $ \\hat{A} $, $ \\hat{B} $ e $ \\hat{C} $..\n",
    "\n",
    "Representamos o triângulo como $ \\triangle ABC $.\n",
    "\n",
    "---\n",
    "\n",
    "### 📚 Referência Bibliográfica\n",
    "\n",
    "- **Giovanni, J. R., Castrucci, B., & Giovanni Jr., J. R.** (1998). *A Conquista da Matemática - 7ª série* (Vol. 7, 288 p.). São Paulo: FTD. \n"
   ]
  },
  {
   "cell_type": "markdown",
   "id": "8d17f277",
   "metadata": {
    "slideshow": {
     "slide_type": "skip"
    }
   },
   "source": [
    "## ⚠️ Área de Códigos\n",
    "\n",
    "> Nesta seção, você encontrará todos os códigos usados para os desafios e exemplos.\n"
   ]
  },
  {
   "cell_type": "markdown",
   "id": "32ef7185",
   "metadata": {
    "slideshow": {
     "slide_type": "skip"
    }
   },
   "source": [
    "### 💻⚙️ 1. Gera os pontos\n",
    "---"
   ]
  },
  {
   "cell_type": "code",
   "execution_count": null,
   "id": "131f02e2",
   "metadata": {
    "slideshow": {
     "slide_type": "skip"
    }
   },
   "outputs": [],
   "source": [
    "using Plots\n",
    "gr(size=(500,500))\n",
    "a=rand(0:10)\n",
    "b=rand(0:10)\n",
    "x=[a,rand(0:10),rand(0:10), a]\n",
    "y=[b,rand(0:10),rand(0:10), b]\n",
    "println(\"x = $(x[1:3]) e y = $(y[1:3])\")\n",
    "AB =round(hypot(x[1]-x[2], y[1]-y[2]), digits=1)\n",
    "AC =round(hypot(x[1]-x[3], y[1]-y[3]), digits=1)\n",
    "BC =round(hypot(x[2]-x[3], y[2]-y[3]), digits=1);"
   ]
  },
  {
   "cell_type": "markdown",
   "id": "6ab52cf3",
   "metadata": {
    "slideshow": {
     "slide_type": "skip"
    }
   },
   "source": [
    "### 💻⚙️ 2. Gera a figura\n",
    "---"
   ]
  },
  {
   "cell_type": "code",
   "execution_count": null,
   "id": "e08ed796",
   "metadata": {
    "slideshow": {
     "slide_type": "skip"
    }
   },
   "outputs": [],
   "source": [
    "function gerar_tri(x,y) \n",
    "    plot(x,y,\n",
    "        title=\"Triângulo\", \n",
    "        lw=3, \n",
    "        label=false, \n",
    "        xlim = (-1, 11), \n",
    "        ylim = (-1, 11),\n",
    "        aspect_ratio = :equal,\n",
    "        grid=:on, gridalpha=0.7, gridstyle = :dash ,\n",
    "        fillrange=0, fillalpha=0.5 ,fillcolor= :yellow,\n",
    "        xticks = 0:10,    # Ticks no eixo X de 0 a 10\n",
    "        yticks = 0:10)    # Ticks no eixo Y de 0 a 10)\n",
    "\n",
    "    scatter!(x[1:3], y[1:3],\n",
    "             label = false,\n",
    "             annotations = (x[1:3] .+ 0.3, y[1:3] .+ 0.3, [\"A\", \"B\", \"C\"]))\n",
    "end"
   ]
  },
  {
   "cell_type": "markdown",
   "id": "681830cb",
   "metadata": {
    "slideshow": {
     "slide_type": "skip"
    }
   },
   "source": [
    "### 💻⚙️ 3. Teste de existência do triângulo\n",
    "---"
   ]
  },
  {
   "cell_type": "code",
   "execution_count": null,
   "id": "c3867ccb",
   "metadata": {
    "slideshow": {
     "slide_type": "skip"
    }
   },
   "outputs": [],
   "source": [
    "function exist_tri(x, y)\n",
    "    println(\"A figuara é um triângulo?:\")\n",
    "    println(\"Digite (s/n) para informar sua conclusão:\")\n",
    "    d1 = readline()\n",
    "    # Verifica a desigualdade triangular:\n",
    "    if (AB <= AC + BC) && (AC <= AB + BC) && (BC <= AB + AC)\n",
    "        exist = \"s\"  # Sim, triângulo existe\n",
    "    else\n",
    "        exist = \"n\"  # Não, triângulo não existe\n",
    "    end\n",
    "    if exist==d1\n",
    "        println(\"✅ Você acertou!\")\n",
    "    else\n",
    "        println(\"❌ Você errou!\")\n",
    "    end\n",
    "end"
   ]
  },
  {
   "cell_type": "markdown",
   "id": "cb479950",
   "metadata": {
    "slideshow": {
     "slide_type": "skip"
    }
   },
   "source": [
    "### 💻⚙️ 4. Teste de classificação do triângulo\n",
    "---"
   ]
  },
  {
   "cell_type": "code",
   "execution_count": null,
   "id": "09e2147f",
   "metadata": {
    "slideshow": {
     "slide_type": "skip"
    }
   },
   "outputs": [],
   "source": [
    "function class_tri(x,y)\n",
    "    println(\"Qual classificação do triângulo?\")\n",
    "    println(\"1️⃣ Equilátero\")\n",
    "    println(\"2️⃣ Isósceles\")\n",
    "    println(\"3️⃣ Escaleno\")\n",
    "    d2= parse(Int,readline())\n",
    "    if AB == AC && AC == BC\n",
    "        class=1   #Equilátero\n",
    "    elseif AB == AC || AB == BC || AC == BC\n",
    "        class=2   #Isósceles\n",
    "    else\n",
    "        class=3   #Escaleno\n",
    "    end\n",
    "    if class==d2\n",
    "        println(\"✅ Você acertou!\")\n",
    "    else\n",
    "        println(\"❌ Você errou!\")\n",
    "    end\n",
    "end"
   ]
  },
  {
   "cell_type": "markdown",
   "id": "27de6b02",
   "metadata": {
    "slideshow": {
     "slide_type": "skip"
    }
   },
   "source": [
    "### 💻⚙️ 5. Cálculo das medidadas dos lados\n",
    "---"
   ]
  },
  {
   "cell_type": "code",
   "execution_count": null,
   "id": "226aa4e8",
   "metadata": {
    "slideshow": {
     "slide_type": "skip"
    }
   },
   "outputs": [],
   "source": [
    "function med_lados(x,y)\n",
    "    println(\"AB = $AB\")\n",
    "    println(\"AC= $AC\")\n",
    "    println(\"BC = $BC\")\n",
    "end"
   ]
  },
  {
   "cell_type": "markdown",
   "id": "ea6c4cc2",
   "metadata": {
    "slideshow": {
     "slide_type": "skip"
    }
   },
   "source": [
    "### 💻⚙️ 6. Cálculo do perímetro\n",
    "---"
   ]
  },
  {
   "cell_type": "code",
   "execution_count": null,
   "id": "7f07bffb",
   "metadata": {
    "slideshow": {
     "slide_type": "skip"
    }
   },
   "outputs": [],
   "source": [
    "function perimetro(x,y)\n",
    "    p=AB + AC + BC\n",
    "    println(\"O perímetro do triângulo ABC mede: $(p) unidades \")\n",
    "end"
   ]
  },
  {
   "cell_type": "markdown",
   "id": "017666d3",
   "metadata": {
    "slideshow": {
     "slide_type": "skip"
    }
   },
   "source": [
    "### 💻⚙️ 7. Cálculo da área\n",
    "---"
   ]
  },
  {
   "cell_type": "code",
   "execution_count": null,
   "id": "1c5c4675",
   "metadata": {
    "slideshow": {
     "slide_type": "skip"
    }
   },
   "outputs": [],
   "source": [
    "function area(x,y)\n",
    "    sp=(AB + AC + BC)/2 #sp semi-peímetro\n",
    "    area=round(√(sp*(sp-AB)*(sp-AC)*(sp-BC)), digits=2)\n",
    "    println(\"A área do triangulo ABC mede: $(area) unidades²\")\n",
    "end"
   ]
  },
  {
   "cell_type": "markdown",
   "id": "3729c5bd",
   "metadata": {
    "slideshow": {
     "slide_type": "slide"
    }
   },
   "source": [
    "<hr style=\"border: none; height: 3px; background-color: blue; \">\n",
    "<center><h1>🧠 Desafios </center>\n",
    "<hr style=\"border: none; height: 3px; background-color: blue; \">"
   ]
  },
  {
   "cell_type": "markdown",
   "id": "6c8a84be",
   "metadata": {
    "slideshow": {
     "slide_type": "subslide"
    }
   },
   "source": [
    "## 🚀 Com base na figura abaixo conclua dos desafios:\n",
    "\n",
    "<hr style=\"border: none; height: 2px; background-color: black; \">"
   ]
  },
  {
   "cell_type": "code",
   "execution_count": null,
   "id": "b5d36cd9",
   "metadata": {
    "slideshow": {
     "slide_type": "skip"
    }
   },
   "outputs": [],
   "source": [
    "#A função gera as figuras a partir do código anterior.\n",
    "gerar_tri(x,y)"
   ]
  },
  {
   "cell_type": "markdown",
   "id": "4f363133",
   "metadata": {
    "slideshow": {
     "slide_type": "subslide"
    }
   },
   "source": [
    "### 🔺 Desafio 1: Existência do Triângulo\n",
    "\n",
    "**🎯 Objetivo:**  \n",
    "Observar a figura na malha quadriculada e decidir se os três pontos marcados formam um triângulo.\n",
    "\n",
    "**💡 Dica:**  \n",
    "Use o **princípio da desigualdade triangular**:  \n",
    "> A soma das medidas de dois lados de um triângulo deve ser **sempre maior** que a medida do terceiro lado.\n",
    "___"
   ]
  },
  {
   "cell_type": "markdown",
   "id": "b53d98ea",
   "metadata": {
    "slideshow": {
     "slide_type": "subslide"
    }
   },
   "source": [
    "### ✏️ Informe sua resposta abaixo.\n",
    "<hr style=\"border: none; height: 1px; background-color: black; \">"
   ]
  },
  {
   "cell_type": "code",
   "execution_count": null,
   "id": "bfd70a08",
   "metadata": {
    "slideshow": {
     "slide_type": "fragment"
    }
   },
   "outputs": [],
   "source": [
    "exist_tri(x,y)"
   ]
  },
  {
   "cell_type": "markdown",
   "id": "f368e1f5",
   "metadata": {},
   "source": [
    "<hr style=\"border: none; height: 1px; background-color: black; \">"
   ]
  },
  {
   "cell_type": "markdown",
   "id": "a05b7850",
   "metadata": {
    "slideshow": {
     "slide_type": "subslide"
    }
   },
   "source": [
    "### 🔺 Desafio 2: Classificação do Triângulo\n",
    "\n",
    "**🎯 Objetivo:**  \n",
    "Observar a figura na malha quadriculada e decidir se os três pontos marcados formam um triângulo. Se formar, classifique-o como:\n",
    "> **💡 Dica:**\n",
    "- 1️⃣ Equilátero: todos os lados iguais;\n",
    "- 2️⃣ Isósceles: dois lados iguais;\n",
    "- 3️⃣ Escaleno: todos os lados diferentes.\n"
   ]
  },
  {
   "cell_type": "markdown",
   "id": "8465ea05",
   "metadata": {
    "slideshow": {
     "slide_type": "subslide"
    }
   },
   "source": [
    "### 💻 Compile o código abaixo\n",
    "___"
   ]
  },
  {
   "cell_type": "code",
   "execution_count": null,
   "id": "27cc93e3",
   "metadata": {
    "slideshow": {
     "slide_type": "fragment"
    }
   },
   "outputs": [],
   "source": [
    "gerar_tri(x,y)"
   ]
  },
  {
   "cell_type": "code",
   "execution_count": null,
   "id": "21729d29",
   "metadata": {
    "slideshow": {
     "slide_type": "subslide"
    }
   },
   "outputs": [],
   "source": [
    "class_tri(x,y)"
   ]
  },
  {
   "cell_type": "markdown",
   "id": "a9ac3b65",
   "metadata": {
    "slideshow": {
     "slide_type": "fragment"
    }
   },
   "source": [
    "<hr style=\"border: none; height: 1px; background-color: blue; \">"
   ]
  },
  {
   "cell_type": "markdown",
   "id": "d0989194",
   "metadata": {
    "slideshow": {
     "slide_type": "subslide"
    }
   },
   "source": [
    "### 🔺 Desafio 3: Encontre as medidas dos lados com Aproximação de uma Casa Decimal\n",
    "\n",
    "**🎯 Objetivo:**  \n",
    "Com base no **mesmo triângulo do desafio anterior**, calcule o comprimento dos **três lados** e o **perímetro total**, com **aproximação de uma casa decimal**.\n",
    "\n",
    "---\n"
   ]
  },
  {
   "cell_type": "markdown",
   "id": "069356d5",
   "metadata": {
    "slideshow": {
     "slide_type": "subslide"
    }
   },
   "source": [
    "### ⚙️ Como fazer:\n",
    "\n",
    "1. Utilize os **três pontos marcados na malha quadriculada**.\n",
    "2. Calcule as distâncias entre os pares de pontos:\n",
    "      - $AB$\n",
    "      - $AC$\n",
    "      - $BC$\n",
    "3. Use o **Teorema de Pitágoras** para facilitar os cálculos de distância entre dois pontos!\n",
    "4. Arredonde cada medida para **uma casa decimal**.\n",
    "5. Some os três lados para encontrar o **perímetro aproximado**.\n",
    ">**💡 Teorema de Pitágoras**: $a^2= b^2+c^2$, onde $a$ é a hipotenusa e $b$ e $c$ são os catetos."
   ]
  },
  {
   "cell_type": "markdown",
   "id": "621f392f",
   "metadata": {
    "slideshow": {
     "slide_type": "subslide"
    }
   },
   "source": [
    "### 💻 Compile o código abaixo\n",
    "___"
   ]
  },
  {
   "cell_type": "code",
   "execution_count": null,
   "id": "923fc80e",
   "metadata": {
    "slideshow": {
     "slide_type": "fragment"
    }
   },
   "outputs": [],
   "source": [
    "gerar_tri(x,y)"
   ]
  },
  {
   "cell_type": "markdown",
   "id": "b9d420dc",
   "metadata": {
    "slideshow": {
     "slide_type": "subslide"
    }
   },
   "source": [
    "### 📝 Informe sua resposta:\n",
    "\n",
    "- Lado $AB$ ≈ ____________  \n",
    "- Lado $AC$ ≈ ____________  \n",
    "- Lado $BC$ ≈ ____________  \n",
    "\n",
    "### ✅ Confira sua resposta na célula abaixo!"
   ]
  },
  {
   "cell_type": "code",
   "execution_count": null,
   "id": "a5ab7c73",
   "metadata": {
    "slideshow": {
     "slide_type": "fragment"
    }
   },
   "outputs": [],
   "source": [
    "med_lados(x,y)"
   ]
  },
  {
   "cell_type": "markdown",
   "id": "0d35555b",
   "metadata": {
    "slideshow": {
     "slide_type": "fragment"
    }
   },
   "source": [
    "<hr style=\"border: none; height: 1px; background-color: blue; \">"
   ]
  },
  {
   "cell_type": "markdown",
   "id": "839abf6f",
   "metadata": {
    "slideshow": {
     "slide_type": "subslide"
    }
   },
   "source": [
    "\n",
    "### 🔺 Desafio 4: Cálculo do Perímetro com Aproximação de uma Casa Decimal\n",
    "\n",
    "**🎯 Objetivo:**  \n",
    "Com base no **mesmo triângulo do desafio anterior**, calcule o **perímetro total** com arredondamento para **uma casa decimal**.\n",
    "\n",
    "---\n",
    "\n",
    "### ⚙️ Como fazer:\n",
    "\n",
    "1. Some as medidas e **ecpntradas no desafio 3**.\n",
    "2. Informe o valor do **perímetro aproximado**.\n",
    "\n",
    "---\n",
    "\n",
    "**💡 Dica:**  \n",
    "$$\n",
    "\\text{Perímetro} = AB + AC + BC\n",
    "$$\n",
    "\n",
    "---\n"
   ]
  },
  {
   "cell_type": "markdown",
   "id": "8225b1eb",
   "metadata": {
    "slideshow": {
     "slide_type": "subslide"
    }
   },
   "source": [
    "### 💻 Compile o código abaixo\n",
    "___"
   ]
  },
  {
   "cell_type": "code",
   "execution_count": null,
   "id": "253b25da",
   "metadata": {
    "slideshow": {
     "slide_type": "fragment"
    }
   },
   "outputs": [],
   "source": [
    "gerar_tri(x,y)"
   ]
  },
  {
   "cell_type": "markdown",
   "id": "4a32d352",
   "metadata": {
    "slideshow": {
     "slide_type": "subslide"
    }
   },
   "source": [
    "### 📝 Informe sua resposta:\n",
    "\n",
    "- Perímetro: ____________unidades  \n",
    "\n",
    "### ✅ Confira sua resposta na célula abaixo!"
   ]
  },
  {
   "cell_type": "code",
   "execution_count": null,
   "id": "eda434d4",
   "metadata": {
    "slideshow": {
     "slide_type": "fragment"
    }
   },
   "outputs": [],
   "source": [
    "perimetro(x,y)"
   ]
  },
  {
   "cell_type": "markdown",
   "id": "8c58c320",
   "metadata": {
    "slideshow": {
     "slide_type": "subslide"
    }
   },
   "source": [
    "### 🔺 Desafio 5: Cálculo da Área com Aproximação de Duas Casas Decimais\n",
    "\n",
    "**🎯 Objetivo:**  \n",
    "Com base no **mesmo triângulo do desafio anterior**, calcule a **área total** com arredondamento para **duas casas decimais**.\n",
    "\n",
    "---\n",
    "\n",
    "### ⚙️ Como fazer:\n",
    "\n",
    "Você pode escolher uma das abordagens abaixo:\n",
    "\n",
    "1. **Área do triângulo retângulo**:  \n",
    "   Use a fórmula:  \n",
    "   $$\n",
    "   A = \\dfrac{\\text{base} \\times \\text{altura}}{2}\n",
    "   $$\n",
    "---"
   ]
  },
  {
   "cell_type": "markdown",
   "id": "8df42067",
   "metadata": {
    "slideshow": {
     "slide_type": "subslide"
    }
   },
   "source": [
    "### ⚙️ Como fazer:\n",
    "\n",
    "2. **Complete o retângulo** \n",
    "> **💡 Dica:**  \n",
    "    1. ✏️ **Complete o triângulo** com outros triângulos até formar um **retângulo inteiro** ao redor dele.  \n",
    "    2. 📐 **Calcule a área do retângulo completo.**  \n",
    "    3. 🔺 **Calcule a área dos triângulos adicionados** (aqueles que estão fora do triângulo original).  \n",
    "    4. ➖ **Subtraia as áreas adicionadas** da área do retângulo.  \n",
    "&nbsp;&nbsp;&nbsp;&nbsp;✅ O resultado será **a área do triângulo original**!\n",
    "\n",
    "---"
   ]
  },
  {
   "cell_type": "markdown",
   "id": "0cacae5d",
   "metadata": {
    "slideshow": {
     "slide_type": "subslide"
    }
   },
   "source": [
    "### ⚙️ Como fazer:\n",
    "\n",
    "3. **Fórmula de Herão** (para qualquer triângulo):  \n",
    "   Primeiro calcule o semiperímetro:  \n",
    "   $$\n",
    "   p = \\dfrac{a + b + c}{2}\n",
    "   $$  \n",
    "   Depois aplique na fórmula:  \n",
    "   $$\n",
    "   A = \\sqrt{p(p - a)(p - b)(p - c)}\n",
    "   $$  \n",
    "   Onde $a$, $b$, e $c$ são os comprimentos dos lados do triângulo.\n",
    "\n",
    "---"
   ]
  },
  {
   "cell_type": "markdown",
   "id": "c2f221ec",
   "metadata": {
    "slideshow": {
     "slide_type": "subslide"
    }
   },
   "source": [
    "### 💻 Compile o código abaixo\n",
    "___"
   ]
  },
  {
   "cell_type": "code",
   "execution_count": null,
   "id": "31f16033",
   "metadata": {
    "slideshow": {
     "slide_type": "fragment"
    }
   },
   "outputs": [],
   "source": [
    "gerar_tri(x,y)"
   ]
  },
  {
   "cell_type": "markdown",
   "id": "ff691304",
   "metadata": {
    "slideshow": {
     "slide_type": "subslide"
    }
   },
   "source": [
    "### 📝 Informe sua resposta:\n",
    "\n",
    "- Área total ≈ ____________ unidades²\n",
    "\n",
    "### ✅ Confira sua resposta na célula abaixo!"
   ]
  },
  {
   "cell_type": "code",
   "execution_count": null,
   "id": "a6b50882",
   "metadata": {
    "slideshow": {
     "slide_type": "fragment"
    }
   },
   "outputs": [],
   "source": [
    "area(x,y)"
   ]
  },
  {
   "cell_type": "markdown",
   "id": "45e00a42",
   "metadata": {
    "slideshow": {
     "slide_type": "slide"
    }
   },
   "source": [
    "## 📚 Atividades Complementares\n",
    "---\n",
    "\n",
    "Nesta seção, você encontrará uma lista de exercícios semelhantes aos aplicados nas avaliações SAEB e SPAECE, com o objetivo de aprofundar a compreensão dos conteúdos trabalhados e verificar seu domínio sobre os temas estudados.\n",
    "\n",
    "### Objetivos das atividades:\n",
    "- Fixar os conceitos fundamentais.\n",
    "- Desenvolver habilidades para resolver problemas envolvendo os **objetos de conhecimento** estudados.\n",
    "- Preparar para avaliações externas com questões no estilo SAEB/SPAECE.\n",
    "\n",
    "---\n"
   ]
  }
 ],
 "metadata": {
  "@webio": {
   "lastCommId": null,
   "lastKernelId": null
  },
  "celltoolbar": "Slideshow",
  "kernelspec": {
   "display_name": "Julia 1.10.5",
   "language": "julia",
   "name": "julia-1.10"
  },
  "language_info": {
   "file_extension": ".jl",
   "mimetype": "application/julia",
   "name": "julia",
   "version": "1.10.5"
  }
 },
 "nbformat": 4,
 "nbformat_minor": 5
}
