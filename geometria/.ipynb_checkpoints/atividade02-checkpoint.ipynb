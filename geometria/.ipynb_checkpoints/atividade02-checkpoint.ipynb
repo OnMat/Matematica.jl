{
 "cells": [
  {
   "cell_type": "markdown",
   "id": "9d3cf808",
   "metadata": {
    "slideshow": {
     "slide_type": "slide"
    }
   },
   "source": [
    "<hr style=\"border: none; height: 3px; background-color: blue; \">\n",
    "\n",
    "# Triângulos \n",
    "\n",
    "<hr style=\"border: none; height: 3px; background-color: blue; \">"
   ]
  },
  {
   "cell_type": "markdown",
   "id": "6eea819d",
   "metadata": {
    "slideshow": {
     "slide_type": "slide"
    }
   },
   "source": [
    "## Objeto de conhecimento\n",
    "\n",
    "\n",
    "<hr style=\"border: none; height: 2px; background-color: blue; \">"
   ]
  },
  {
   "cell_type": "markdown",
   "id": "6413fe53",
   "metadata": {
    "slideshow": {
     "slide_type": "subslide"
    }
   },
   "source": [
    "## Habilidade BNCC e Descritores do SPAECE/SAEB\n",
    "___"
   ]
  },
  {
   "cell_type": "markdown",
   "id": "04a651bf",
   "metadata": {
    "slideshow": {
     "slide_type": "subslide"
    }
   },
   "source": [
    "### Habilidade BNCC\n",
    "- **(EF06MA19):** Identificar características dos triângulos e classificá-los em relação às medidas dos\n",
    "lados e dos ângulos.\n",
    "- **(EF09MA16):** Determinar o ponto médio de um segmento de reta e a distância entre dois pontos\n",
    "quaisquer, dadas as coordenadas desses pontos no plano cartesiano, sem o uso de fórmulas, e\n",
    "utilizar esse conhecimento para calcular, por exemplo, medidas de perímetros e áreas de figuras\n",
    "planas construídas no plano.\n",
    "- **(EF05MA20):** Concluir, por meio de investigações, que figuras de perímetros iguais podem\n",
    "ter áreas diferentes e que, também, figuras que têm a mesma área podem ter perímetros\n",
    "diferentes.\n",
    "\n",
    "- **(EF08MA19):** Resolver e elaborar problemas que envolvam medidas de área de figuras\n",
    "geométricas, utilizando expressões de cálculo de área (quadriláteros, triângulos e círculos), em\n",
    "situações como determinar medida de terrenos."
   ]
  },
  {
   "cell_type": "markdown",
   "id": "b63549c0",
   "metadata": {
    "slideshow": {
     "slide_type": "subslide"
    }
   },
   "source": [
    "### Descritores do  SPAECE/SAEB relacionados:\n",
    "- **D03:** Identificar propriedades de triângulos pela comparação de medidas de lados e ângulos. \n",
    "- **D09:** Interpretar informações apresentadas por meio de coordenadas cartesianas.\n",
    "- **D12:** Resolver problema envolvendo o cálculo de perímetro de figuras planas.\n",
    "- **D13:** Resolver problema envolvendo o cálculo de área de figuras planas.\n",
    "\n",
    "<hr style=\"border: none; height: 2px; background-color: blue; \">"
   ]
  },
  {
   "cell_type": "markdown",
   "id": "db9be172",
   "metadata": {
    "slideshow": {
     "slide_type": "slide"
    }
   },
   "source": [
    "## 📖 Definição:\n",
    "---\n",
    "\n",
    "O triângulo é um polígono convexo de três lados. Seja $ ABC $ um triângulo; destacaremos abaixo seus principais elementos:\n",
    "\n",
    "✅ **Vértices** são pontos: $ A $, $ B $ e $ C $.  \n",
    "✅ **Lados** são os sgmentos de retas$ \\overline{AB} $, $ \\overline{AC} $ e $ \\overline{BC} $: são seus **lados**.  \n",
    "✅ **Ângulos internos** são $ \\hat{A} $, $ \\hat{B} $ e $ \\hat{C} $..\n",
    "\n",
    "Representamos o triângulo como $ \\triangle ABC $.\n",
    "\n",
    "---\n",
    "\n",
    "### 📚 Referência Bibliográfica\n",
    "\n",
    "- **Giovanni, J. R., Castrucci, B., & Giovanni Jr., J. R.** (1998). *A Conquista da Matemática - 7ª série* (Vol. 7, 288 p.). São Paulo: FTD. \n"
   ]
  },
  {
   "cell_type": "markdown",
   "id": "8d17f277",
   "metadata": {
    "slideshow": {
     "slide_type": "skip"
    }
   },
   "source": [
    "## ⚠️ Área de Códigos\n",
    "\n",
    "> Nesta seção, você encontrará todos os códigos usados para os desafios e exemplos.\n"
   ]
  },
  {
   "cell_type": "markdown",
   "id": "32ef7185",
   "metadata": {
    "slideshow": {
     "slide_type": "skip"
    }
   },
   "source": [
    "### 💻⚙️ 1. Gera os pontos e calcula as medidada dos lados do triângulo\n",
    "---"
   ]
  },
  {
   "cell_type": "code",
   "execution_count": 6,
   "id": "131f02e2",
   "metadata": {
    "slideshow": {
     "slide_type": "skip"
    }
   },
   "outputs": [
    {
     "name": "stdout",
     "output_type": "stream",
     "text": [
      "x = [3, 5, 3] e y = [8, 10, 2]\n"
     ]
    }
   ],
   "source": [
    "using Plots\n",
    "gr(size=(500,500))\n",
    "a=rand(0:10)\n",
    "b=rand(0:10)\n",
    "x=[a,rand(0:10),rand(0:10), a]\n",
    "y=[b,rand(0:10),rand(0:10), b]\n",
    "println(\"x = $(x[1:3]) e y = $(y[1:3])\")\n",
    "AB =hypot(x[1]-x[2], y[1]-y[2])\n",
    "AC =hypot(x[1]-x[3], y[1]-y[3])\n",
    "BC =hypot(x[2]-x[3], y[2]-y[3]);"
   ]
  },
  {
   "cell_type": "markdown",
   "id": "6ab52cf3",
   "metadata": {
    "slideshow": {
     "slide_type": "skip"
    }
   },
   "source": [
    "### 💻⚙️ 2. Gera a figura\n",
    "---"
   ]
  },
  {
   "cell_type": "code",
   "execution_count": 22,
   "id": "e08ed796",
   "metadata": {
    "slideshow": {
     "slide_type": "skip"
    }
   },
   "outputs": [
    {
     "data": {
      "text/plain": [
       "gerar_tri (generic function with 1 method)"
      ]
     },
     "execution_count": 22,
     "metadata": {},
     "output_type": "execute_result"
    }
   ],
   "source": [
    "function gerar_tri(x,y) \n",
    "    plot(x,y,\n",
    "        title=\"Triângulo\", \n",
    "        lw=3, \n",
    "        label=false, \n",
    "        xlim = (-1, 11), \n",
    "        ylim = (-1, 11),\n",
    "        aspect_ratio = :equal,\n",
    "        grid=:on, gridalpha=0.7, gridstyle = :dash ,\n",
    "        fillrange=0, fillalpha=0.5 ,fillcolor= :yellow,\n",
    "        xticks = 0:10,    # Ticks no eixo X de 0 a 10\n",
    "        yticks = 0:10)    # Ticks no eixo Y de 0 a 10)\n",
    "\n",
    "    scatter!(x[1:3], y[1:3],\n",
    "             label = false,\n",
    "             annotations = (x[1:3] .+ 0.3, y[1:3] .+ 0.3, [\"A\", \"B\", \"C\"]))\n",
    "end"
   ]
  },
  {
   "cell_type": "markdown",
   "id": "681830cb",
   "metadata": {
    "slideshow": {
     "slide_type": "skip"
    }
   },
   "source": [
    "### 💻⚙️ 3. Teste de existência do triângulo\n",
    "---"
   ]
  },
  {
   "cell_type": "code",
   "execution_count": 21,
   "id": "c3867ccb",
   "metadata": {
    "slideshow": {
     "slide_type": "skip"
    }
   },
   "outputs": [
    {
     "data": {
      "text/plain": [
       "exist_tri (generic function with 1 method)"
      ]
     },
     "execution_count": 21,
     "metadata": {},
     "output_type": "execute_result"
    }
   ],
   "source": [
    "function exist_tri(x, y)\n",
    "    println(\"A figuara é um triângulo?:\")\n",
    "    println(\"Digite (s/n) para informar sua conclusão:\")\n",
    "    d1 = readline()\n",
    "    # Verifica a desigualdade triangular:\n",
    "    if (AB <= AC + BC) && (AC <= AB + BC) && (BC <= AB + AC)\n",
    "        exist = \"s\"  # Sim, triângulo existe\n",
    "    else\n",
    "        exist = \"n\"  # Não, triângulo não existe\n",
    "    end\n",
    "    if exist==d1\n",
    "        println(\"✅ Você acertou!\")\n",
    "    else\n",
    "        println(\"❌ Você errou!\")\n",
    "    end\n",
    "end"
   ]
  },
  {
   "cell_type": "markdown",
   "id": "cb479950",
   "metadata": {
    "slideshow": {
     "slide_type": "skip"
    }
   },
   "source": [
    "### 💻⚙️ 4. Teste de classificação do triângulo\n",
    "---"
   ]
  },
  {
   "cell_type": "code",
   "execution_count": 20,
   "id": "09e2147f",
   "metadata": {
    "slideshow": {
     "slide_type": "skip"
    }
   },
   "outputs": [
    {
     "data": {
      "text/plain": [
       "class_tri (generic function with 1 method)"
      ]
     },
     "execution_count": 20,
     "metadata": {},
     "output_type": "execute_result"
    }
   ],
   "source": [
    "function class_tri(x,y)\n",
    "    println(\"Qual classificação do triângulo?\")\n",
    "    println(\"1️⃣ Equilátero\")\n",
    "    println(\"2️⃣ Isósceles\")\n",
    "    println(\"3️⃣ Escaleno\")\n",
    "    d2= parse(Int,readline())\n",
    "    if AB == AC && AC == BC\n",
    "        class=1   #Equilátero\n",
    "    elseif AB == AC || AB == BC || AC == BC\n",
    "        class=2   #Isósceles\n",
    "    else\n",
    "        class=3   #Escaleno\n",
    "    end\n",
    "    if class==d2\n",
    "        println(\"✅ Você acertou!\")\n",
    "    else\n",
    "        println(\"❌ Você errou!\")\n",
    "    end\n",
    "end"
   ]
  },
  {
   "cell_type": "markdown",
   "id": "27de6b02",
   "metadata": {
    "slideshow": {
     "slide_type": "skip"
    }
   },
   "source": [
    "### 💻⚙️ 5. Cálculo das medidadas dos lados\n",
    "---"
   ]
  },
  {
   "cell_type": "code",
   "execution_count": 9,
   "id": "226aa4e8",
   "metadata": {
    "slideshow": {
     "slide_type": "skip"
    }
   },
   "outputs": [
    {
     "data": {
      "text/plain": [
       "med_lados (generic function with 1 method)"
      ]
     },
     "execution_count": 9,
     "metadata": {},
     "output_type": "execute_result"
    }
   ],
   "source": [
    "function med_lados(x,y)\n",
    "    println(\"AB = $(round(AB, digits=2))\")\n",
    "    println(\"AC= $(round(AC, digits=2))\")\n",
    "    println(\"BC = $(round(BC, digits=2))\")\n",
    "end"
   ]
  },
  {
   "cell_type": "markdown",
   "id": "ea6c4cc2",
   "metadata": {
    "slideshow": {
     "slide_type": "skip"
    }
   },
   "source": [
    "### 💻⚙️ 6. Cálculo do perímetro\n",
    "---"
   ]
  },
  {
   "cell_type": "code",
   "execution_count": 8,
   "id": "7f07bffb",
   "metadata": {
    "slideshow": {
     "slide_type": "skip"
    }
   },
   "outputs": [
    {
     "data": {
      "text/plain": [
       "perimetro (generic function with 1 method)"
      ]
     },
     "execution_count": 8,
     "metadata": {},
     "output_type": "execute_result"
    }
   ],
   "source": [
    "function perimetro(x,y)\n",
    "    P=AB + AC + BC\n",
    "    println(\"O perímetro do triângulo ABC mede: $(round(P, digits=1)) unidades \")\n",
    "end"
   ]
  },
  {
   "cell_type": "markdown",
   "id": "017666d3",
   "metadata": {
    "slideshow": {
     "slide_type": "skip"
    }
   },
   "source": [
    "### 💻⚙️ 7. Cálculo da área\n",
    "---"
   ]
  },
  {
   "cell_type": "code",
   "execution_count": 10,
   "id": "1c5c4675",
   "metadata": {
    "slideshow": {
     "slide_type": "skip"
    }
   },
   "outputs": [
    {
     "data": {
      "text/plain": [
       "area (generic function with 1 method)"
      ]
     },
     "execution_count": 10,
     "metadata": {},
     "output_type": "execute_result"
    }
   ],
   "source": [
    "function area(x,y)\n",
    "    sp=(AB + AC + BC)/2 #sp semi-peímetro\n",
    "    area=round(√(sp*(sp-AB)*(sp-AC)*(sp-BC)), digits=2)\n",
    "    println(\"A área do triangulo ABC mede: $(area) unidades²\")\n",
    "end"
   ]
  },
  {
   "cell_type": "markdown",
   "id": "3729c5bd",
   "metadata": {
    "slideshow": {
     "slide_type": "slide"
    }
   },
   "source": [
    "<hr style=\"border: none; height: 3px; background-color: blue; \">\n",
    "<center><h1>🧠 Desafios </center>\n",
    "<hr style=\"border: none; height: 3px; background-color: blue; \">"
   ]
  },
  {
   "cell_type": "markdown",
   "id": "6c8a84be",
   "metadata": {
    "slideshow": {
     "slide_type": "subslide"
    }
   },
   "source": [
    "## 🚀 Com base na figura abaixo conclua dos desafios:\n",
    "\n",
    "<hr style=\"border: none; height: 2px; background-color: black; \">"
   ]
  },
  {
   "cell_type": "code",
   "execution_count": 24,
   "id": "b5d36cd9",
   "metadata": {
    "slideshow": {
     "slide_type": "skip"
    }
   },
   "outputs": [
    {
     "data": {
      "image/png": "[encoded data removed]",
      "image/svg+xml": [
       "<?xml version=\"1.0\" encoding=\"utf-8\"?>\n",
       "<svg xmlns=\"http://www.w3.org/2000/svg\" xmlns:xlink=\"http://www.w3.org/1999/xlink\" width=\"500\" height=\"500\" viewBox=\"0 0 2000 2000\">\n",
       "<defs>\n",
       "  <clipPath id=\"clip940\">\n",
       "    <rect x=\"0\" y=\"0\" width=\"2000\" height=\"2000\"/>\n",
       "  </clipPath>\n",
       "</defs>\n",
       "<path clip-path=\"url(#clip940)\" d=\"M0 2000 L2000 2000 L2000 0 L0 0  Z\" fill=\"#ffffff\" fill-rule=\"evenodd\" fill-opacity=\"1\"/>\n",
       "<defs>\n",
       "  <clipPath id=\"clip941\">\n",
       "    <rect x=\"400\" y=\"200\" width=\"1401\" height=\"1401\"/>\n",
       "  </clipPath>\n",
       "</defs>\n",
       "<path clip-path=\"url(#clip940)\" d=\"M188.13 1865.17 L1899.59 1865.17 L1899.59 153.712 L188.13 153.712  Z\" fill=\"#ffffff\" fill-rule=\"evenodd\" fill-opacity=\"1\"/>\n",
       "<defs>\n",
       "  <clipPath id=\"clip942\">\n",
       "    <rect x=\"188\" y=\"153\" width=\"1712\" height=\"1712\"/>\n",
       "  </clipPath>\n",
       "</defs>\n",
       "<polyline clip-path=\"url(#clip942)\" style=\"stroke:#000000; stroke-linecap:round; stroke-linejoin:round; stroke-width:2; stroke-opacity:0.7; fill:none\" stroke-dasharray=\"8, 5\" points=\"330.751,1865.17 330.751,153.712 \"/>\n",
       "<polyline clip-path=\"url(#clip942)\" style=\"stroke:#000000; stroke-linecap:round; stroke-linejoin:round; stroke-width:2; stroke-opacity:0.7; fill:none\" stroke-dasharray=\"8, 5\" points=\"473.372,1865.17 473.372,153.712 \"/>\n",
       "<polyline clip-path=\"url(#clip942)\" style=\"stroke:#000000; stroke-linecap:round; stroke-linejoin:round; stroke-width:2; stroke-opacity:0.7; fill:none\" stroke-dasharray=\"8, 5\" points=\"615.994,1865.17 615.994,153.712 \"/>\n",
       "<polyline clip-path=\"url(#clip942)\" style=\"stroke:#000000; stroke-linecap:round; stroke-linejoin:round; stroke-width:2; stroke-opacity:0.7; fill:none\" stroke-dasharray=\"8, 5\" points=\"758.615,1865.17 758.615,153.712 \"/>\n",
       "<polyline clip-path=\"url(#clip942)\" style=\"stroke:#000000; stroke-linecap:round; stroke-linejoin:round; stroke-width:2; stroke-opacity:0.7; fill:none\" stroke-dasharray=\"8, 5\" points=\"901.236,1865.17 901.236,153.712 \"/>\n",
       "<polyline clip-path=\"url(#clip942)\" style=\"stroke:#000000; stroke-linecap:round; stroke-linejoin:round; stroke-width:2; stroke-opacity:0.7; fill:none\" stroke-dasharray=\"8, 5\" points=\"1043.86,1865.17 1043.86,153.712 \"/>\n",
       "<polyline clip-path=\"url(#clip942)\" style=\"stroke:#000000; stroke-linecap:round; stroke-linejoin:round; stroke-width:2; stroke-opacity:0.7; fill:none\" stroke-dasharray=\"8, 5\" points=\"1186.48,1865.17 1186.48,153.712 \"/>\n",
       "<polyline clip-path=\"url(#clip942)\" style=\"stroke:#000000; stroke-linecap:round; stroke-linejoin:round; stroke-width:2; stroke-opacity:0.7; fill:none\" stroke-dasharray=\"8, 5\" points=\"1329.1,1865.17 1329.1,153.712 \"/>\n",
       "<polyline clip-path=\"url(#clip942)\" style=\"stroke:#000000; stroke-linecap:round; stroke-linejoin:round; stroke-width:2; stroke-opacity:0.7; fill:none\" stroke-dasharray=\"8, 5\" points=\"1471.72,1865.17 1471.72,153.712 \"/>\n",
       "<polyline clip-path=\"url(#clip942)\" style=\"stroke:#000000; stroke-linecap:round; stroke-linejoin:round; stroke-width:2; stroke-opacity:0.7; fill:none\" stroke-dasharray=\"8, 5\" points=\"1614.34,1865.17 1614.34,153.712 \"/>\n",
       "<polyline clip-path=\"url(#clip942)\" style=\"stroke:#000000; stroke-linecap:round; stroke-linejoin:round; stroke-width:2; stroke-opacity:0.7; fill:none\" stroke-dasharray=\"8, 5\" points=\"1756.96,1865.17 1756.96,153.712 \"/>\n",
       "<polyline clip-path=\"url(#clip942)\" style=\"stroke:#000000; stroke-linecap:round; stroke-linejoin:round; stroke-width:2; stroke-opacity:0.7; fill:none\" stroke-dasharray=\"8, 5\" points=\"188.13,1722.55 1899.59,1722.55 \"/>\n",
       "<polyline clip-path=\"url(#clip942)\" style=\"stroke:#000000; stroke-linecap:round; stroke-linejoin:round; stroke-width:2; stroke-opacity:0.7; fill:none\" stroke-dasharray=\"8, 5\" points=\"188.13,1579.93 1899.59,1579.93 \"/>\n",
       "<polyline clip-path=\"url(#clip942)\" style=\"stroke:#000000; stroke-linecap:round; stroke-linejoin:round; stroke-width:2; stroke-opacity:0.7; fill:none\" stroke-dasharray=\"8, 5\" points=\"188.13,1437.3 1899.59,1437.3 \"/>\n",
       "<polyline clip-path=\"url(#clip942)\" style=\"stroke:#000000; stroke-linecap:round; stroke-linejoin:round; stroke-width:2; stroke-opacity:0.7; fill:none\" stroke-dasharray=\"8, 5\" points=\"188.13,1294.68 1899.59,1294.68 \"/>\n",
       "<polyline clip-path=\"url(#clip942)\" style=\"stroke:#000000; stroke-linecap:round; stroke-linejoin:round; stroke-width:2; stroke-opacity:0.7; fill:none\" stroke-dasharray=\"8, 5\" points=\"188.13,1152.06 1899.59,1152.06 \"/>\n",
       "<polyline clip-path=\"url(#clip942)\" style=\"stroke:#000000; stroke-linecap:round; stroke-linejoin:round; stroke-width:2; stroke-opacity:0.7; fill:none\" stroke-dasharray=\"8, 5\" points=\"188.13,1009.44 1899.59,1009.44 \"/>\n",
       "<polyline clip-path=\"url(#clip942)\" style=\"stroke:#000000; stroke-linecap:round; stroke-linejoin:round; stroke-width:2; stroke-opacity:0.7; fill:none\" stroke-dasharray=\"8, 5\" points=\"188.13,866.819 1899.59,866.819 \"/>\n",
       "<polyline clip-path=\"url(#clip942)\" style=\"stroke:#000000; stroke-linecap:round; stroke-linejoin:round; stroke-width:2; stroke-opacity:0.7; fill:none\" stroke-dasharray=\"8, 5\" points=\"188.13,724.197 1899.59,724.197 \"/>\n",
       "<polyline clip-path=\"url(#clip942)\" style=\"stroke:#000000; stroke-linecap:round; stroke-linejoin:round; stroke-width:2; stroke-opacity:0.7; fill:none\" stroke-dasharray=\"8, 5\" points=\"188.13,581.576 1899.59,581.576 \"/>\n",
       "<polyline clip-path=\"url(#clip942)\" style=\"stroke:#000000; stroke-linecap:round; stroke-linejoin:round; stroke-width:2; stroke-opacity:0.7; fill:none\" stroke-dasharray=\"8, 5\" points=\"188.13,438.955 1899.59,438.955 \"/>\n",
       "<polyline clip-path=\"url(#clip942)\" style=\"stroke:#000000; stroke-linecap:round; stroke-linejoin:round; stroke-width:2; stroke-opacity:0.7; fill:none\" stroke-dasharray=\"8, 5\" points=\"188.13,296.333 1899.59,296.333 \"/>\n",
       "<polyline clip-path=\"url(#clip940)\" style=\"stroke:#000000; stroke-linecap:round; stroke-linejoin:round; stroke-width:4; stroke-opacity:1; fill:none\" points=\"188.13,1865.17 1899.59,1865.17 \"/>\n",
       "<polyline clip-path=\"url(#clip940)\" style=\"stroke:#000000; stroke-linecap:round; stroke-linejoin:round; stroke-width:4; stroke-opacity:1; fill:none\" points=\"330.751,1865.17 330.751,1846.27 \"/>\n",
       "<polyline clip-path=\"url(#clip940)\" style=\"stroke:#000000; stroke-linecap:round; stroke-linejoin:round; stroke-width:4; stroke-opacity:1; fill:none\" points=\"473.372,1865.17 473.372,1846.27 \"/>\n",
       "<polyline clip-path=\"url(#clip940)\" style=\"stroke:#000000; stroke-linecap:round; stroke-linejoin:round; stroke-width:4; stroke-opacity:1; fill:none\" points=\"615.994,1865.17 615.994,1846.27 \"/>\n",
       "<polyline clip-path=\"url(#clip940)\" style=\"stroke:#000000; stroke-linecap:round; stroke-linejoin:round; stroke-width:4; stroke-opacity:1; fill:none\" points=\"758.615,1865.17 758.615,1846.27 \"/>\n",
       "<polyline clip-path=\"url(#clip940)\" style=\"stroke:#000000; stroke-linecap:round; stroke-linejoin:round; stroke-width:4; stroke-opacity:1; fill:none\" points=\"901.236,1865.17 901.236,1846.27 \"/>\n",
       "<polyline clip-path=\"url(#clip940)\" style=\"stroke:#000000; stroke-linecap:round; stroke-linejoin:round; stroke-width:4; stroke-opacity:1; fill:none\" points=\"1043.86,1865.17 1043.86,1846.27 \"/>\n",
       "<polyline clip-path=\"url(#clip940)\" style=\"stroke:#000000; stroke-linecap:round; stroke-linejoin:round; stroke-width:4; stroke-opacity:1; fill:none\" points=\"1186.48,1865.17 1186.48,1846.27 \"/>\n",
       "<polyline clip-path=\"url(#clip940)\" style=\"stroke:#000000; stroke-linecap:round; stroke-linejoin:round; stroke-width:4; stroke-opacity:1; fill:none\" points=\"1329.1,1865.17 1329.1,1846.27 \"/>\n",
       "<polyline clip-path=\"url(#clip940)\" style=\"stroke:#000000; stroke-linecap:round; stroke-linejoin:round; stroke-width:4; stroke-opacity:1; fill:none\" points=\"1471.72,1865.17 1471.72,1846.27 \"/>\n",
       "<polyline clip-path=\"url(#clip940)\" style=\"stroke:#000000; stroke-linecap:round; stroke-linejoin:round; stroke-width:4; stroke-opacity:1; fill:none\" points=\"1614.34,1865.17 1614.34,1846.27 \"/>\n",
       "<polyline clip-path=\"url(#clip940)\" style=\"stroke:#000000; stroke-linecap:round; stroke-linejoin:round; stroke-width:4; stroke-opacity:1; fill:none\" points=\"1756.96,1865.17 1756.96,1846.27 \"/>\n",
       "<path clip-path=\"url(#clip940)\" d=\"M330.751 1892.89 Q327.14 1892.89 325.311 1896.45 Q323.506 1899.99 323.506 1907.12 Q323.506 1914.23 325.311 1917.79 Q327.14 1921.34 330.751 1921.34 Q334.385 1921.34 336.191 1917.79 Q338.02 1914.23 338.02 1907.12 Q338.02 1899.99 336.191 1896.45 Q334.385 1892.89 330.751 1892.89 M330.751 1889.18 Q336.561 1889.18 339.617 1893.79 Q342.695 1898.37 342.695 1907.12 Q342.695 1915.85 339.617 1920.46 Q336.561 1925.04 330.751 1925.04 Q324.941 1925.04 321.862 1920.46 Q318.807 1915.85 318.807 1907.12 Q318.807 1898.37 321.862 1893.79 Q324.941 1889.18 330.751 1889.18 Z\" fill=\"#000000\" fill-rule=\"nonzero\" fill-opacity=\"1\" /><path clip-path=\"url(#clip940)\" d=\"M463.754 1920.43 L471.393 1920.43 L471.393 1894.07 L463.083 1895.73 L463.083 1891.47 L471.347 1889.81 L476.023 1889.81 L476.023 1920.43 L483.662 1920.43 L483.662 1924.37 L463.754 1924.37 L463.754 1920.43 Z\" fill=\"#000000\" fill-rule=\"nonzero\" fill-opacity=\"1\" /><path clip-path=\"url(#clip940)\" d=\"M610.647 1920.43 L626.966 1920.43 L626.966 1924.37 L605.022 1924.37 L605.022 1920.43 Q607.684 1917.68 612.267 1913.05 Q616.873 1908.4 618.054 1907.05 Q620.299 1904.53 621.179 1902.79 Q622.082 1901.03 622.082 1899.34 Q622.082 1896.59 620.137 1894.85 Q618.216 1893.12 615.114 1893.12 Q612.915 1893.12 610.461 1893.88 Q608.031 1894.65 605.253 1896.2 L605.253 1891.47 Q608.077 1890.34 610.531 1889.76 Q612.984 1889.18 615.022 1889.18 Q620.392 1889.18 623.586 1891.87 Q626.781 1894.55 626.781 1899.04 Q626.781 1901.17 625.971 1903.09 Q625.184 1904.99 623.077 1907.59 Q622.498 1908.26 619.396 1911.47 Q616.295 1914.67 610.647 1920.43 Z\" fill=\"#000000\" fill-rule=\"nonzero\" fill-opacity=\"1\" /><path clip-path=\"url(#clip940)\" d=\"M762.863 1905.73 Q766.219 1906.45 768.094 1908.72 Q769.992 1910.99 769.992 1914.32 Q769.992 1919.44 766.474 1922.24 Q762.955 1925.04 756.474 1925.04 Q754.298 1925.04 751.983 1924.6 Q749.691 1924.18 747.238 1923.33 L747.238 1918.81 Q749.182 1919.95 751.497 1920.53 Q753.812 1921.1 756.335 1921.1 Q760.733 1921.1 763.025 1919.37 Q765.34 1917.63 765.34 1914.32 Q765.34 1911.27 763.187 1909.55 Q761.057 1907.82 757.238 1907.82 L753.21 1907.82 L753.21 1903.97 L757.423 1903.97 Q760.872 1903.97 762.701 1902.61 Q764.529 1901.22 764.529 1898.63 Q764.529 1895.97 762.631 1894.55 Q760.756 1893.12 757.238 1893.12 Q755.316 1893.12 753.117 1893.53 Q750.918 1893.95 748.279 1894.83 L748.279 1890.66 Q750.941 1889.92 753.256 1889.55 Q755.594 1889.18 757.654 1889.18 Q762.978 1889.18 766.08 1891.61 Q769.182 1894.02 769.182 1898.14 Q769.182 1901.01 767.539 1903 Q765.895 1904.97 762.863 1905.73 Z\" fill=\"#000000\" fill-rule=\"nonzero\" fill-opacity=\"1\" /><path clip-path=\"url(#clip940)\" d=\"M904.246 1893.88 L892.44 1912.33 L904.246 1912.33 L904.246 1893.88 M903.019 1889.81 L908.898 1889.81 L908.898 1912.33 L913.829 1912.33 L913.829 1916.22 L908.898 1916.22 L908.898 1924.37 L904.246 1924.37 L904.246 1916.22 L888.644 1916.22 L888.644 1911.71 L903.019 1889.81 Z\" fill=\"#000000\" fill-rule=\"nonzero\" fill-opacity=\"1\" /><path clip-path=\"url(#clip940)\" d=\"M1034.14 1889.81 L1052.49 1889.81 L1052.49 1893.74 L1038.42 1893.74 L1038.42 1902.22 Q1039.44 1901.87 1040.45 1901.71 Q1041.47 1901.52 1042.49 1901.52 Q1048.28 1901.52 1051.66 1904.69 Q1055.04 1907.86 1055.04 1913.28 Q1055.04 1918.86 1051.57 1921.96 Q1048.09 1925.04 1041.77 1925.04 Q1039.6 1925.04 1037.33 1924.67 Q1035.08 1924.3 1032.68 1923.56 L1032.68 1918.86 Q1034.76 1919.99 1036.98 1920.55 Q1039.2 1921.1 1041.68 1921.1 Q1045.69 1921.1 1048.02 1919 Q1050.36 1916.89 1050.36 1913.28 Q1050.36 1909.67 1048.02 1907.56 Q1045.69 1905.46 1041.68 1905.46 Q1039.81 1905.46 1037.93 1905.87 Q1036.08 1906.29 1034.14 1907.17 L1034.14 1889.81 Z\" fill=\"#000000\" fill-rule=\"nonzero\" fill-opacity=\"1\" /><path clip-path=\"url(#clip940)\" d=\"M1186.88 1905.22 Q1183.74 1905.22 1181.88 1907.38 Q1180.06 1909.53 1180.06 1913.28 Q1180.06 1917.01 1181.88 1919.18 Q1183.74 1921.34 1186.88 1921.34 Q1190.03 1921.34 1191.86 1919.18 Q1193.71 1917.01 1193.71 1913.28 Q1193.71 1909.53 1191.86 1907.38 Q1190.03 1905.22 1186.88 1905.22 M1196.17 1890.57 L1196.17 1894.83 Q1194.41 1894 1192.6 1893.56 Q1190.82 1893.12 1189.06 1893.12 Q1184.43 1893.12 1181.98 1896.24 Q1179.55 1899.37 1179.2 1905.69 Q1180.56 1903.67 1182.62 1902.61 Q1184.69 1901.52 1187.16 1901.52 Q1192.37 1901.52 1195.38 1904.69 Q1198.41 1907.84 1198.41 1913.28 Q1198.41 1918.6 1195.26 1921.82 Q1192.12 1925.04 1186.88 1925.04 Q1180.89 1925.04 1177.72 1920.46 Q1174.55 1915.85 1174.55 1907.12 Q1174.55 1898.93 1178.44 1894.07 Q1182.32 1889.18 1188.87 1889.18 Q1190.63 1889.18 1192.42 1889.53 Q1194.22 1889.88 1196.17 1890.57 Z\" fill=\"#000000\" fill-rule=\"nonzero\" fill-opacity=\"1\" /><path clip-path=\"url(#clip940)\" d=\"M1317.99 1889.81 L1340.21 1889.81 L1340.21 1891.8 L1327.67 1924.37 L1322.78 1924.37 L1334.59 1893.74 L1317.99 1893.74 L1317.99 1889.81 Z\" fill=\"#000000\" fill-rule=\"nonzero\" fill-opacity=\"1\" /><path clip-path=\"url(#clip940)\" d=\"M1471.72 1907.96 Q1468.39 1907.96 1466.47 1909.74 Q1464.57 1911.52 1464.57 1914.65 Q1464.57 1917.77 1466.47 1919.55 Q1468.39 1921.34 1471.72 1921.34 Q1475.05 1921.34 1476.98 1919.55 Q1478.9 1917.75 1478.9 1914.65 Q1478.9 1911.52 1476.98 1909.74 Q1475.08 1907.96 1471.72 1907.96 M1467.05 1905.97 Q1464.04 1905.22 1462.35 1903.16 Q1460.68 1901.1 1460.68 1898.14 Q1460.68 1894 1463.62 1891.59 Q1466.58 1889.18 1471.72 1889.18 Q1476.88 1889.18 1479.82 1891.59 Q1482.76 1894 1482.76 1898.14 Q1482.76 1901.1 1481.07 1903.16 Q1479.41 1905.22 1476.42 1905.97 Q1479.8 1906.75 1481.68 1909.04 Q1483.57 1911.34 1483.57 1914.65 Q1483.57 1919.67 1480.49 1922.35 Q1477.44 1925.04 1471.72 1925.04 Q1466 1925.04 1462.93 1922.35 Q1459.87 1919.67 1459.87 1914.65 Q1459.87 1911.34 1461.77 1909.04 Q1463.67 1906.75 1467.05 1905.97 M1465.33 1898.58 Q1465.33 1901.27 1467 1902.77 Q1468.69 1904.28 1471.72 1904.28 Q1474.73 1904.28 1476.42 1902.77 Q1478.13 1901.27 1478.13 1898.58 Q1478.13 1895.9 1476.42 1894.39 Q1474.73 1892.89 1471.72 1892.89 Q1468.69 1892.89 1467 1894.39 Q1465.33 1895.9 1465.33 1898.58 Z\" fill=\"#000000\" fill-rule=\"nonzero\" fill-opacity=\"1\" /><path clip-path=\"url(#clip940)\" d=\"M1604.64 1923.65 L1604.64 1919.39 Q1606.4 1920.22 1608.21 1920.66 Q1610.01 1921.1 1611.75 1921.1 Q1616.38 1921.1 1618.81 1918 Q1621.26 1914.88 1621.61 1908.53 Q1620.27 1910.53 1618.21 1911.59 Q1616.15 1912.65 1613.65 1912.65 Q1608.46 1912.65 1605.43 1909.53 Q1602.42 1906.38 1602.42 1900.94 Q1602.42 1895.62 1605.57 1892.4 Q1608.72 1889.18 1613.95 1889.18 Q1619.94 1889.18 1623.09 1893.79 Q1626.26 1898.37 1626.26 1907.12 Q1626.26 1915.29 1622.38 1920.18 Q1618.51 1925.04 1611.96 1925.04 Q1610.2 1925.04 1608.39 1924.69 Q1606.59 1924.34 1604.64 1923.65 M1613.95 1909 Q1617.1 1909 1618.93 1906.84 Q1620.78 1904.69 1620.78 1900.94 Q1620.78 1897.22 1618.93 1895.06 Q1617.1 1892.89 1613.95 1892.89 Q1610.8 1892.89 1608.95 1895.06 Q1607.12 1897.22 1607.12 1900.94 Q1607.12 1904.69 1608.95 1906.84 Q1610.8 1909 1613.95 1909 Z\" fill=\"#000000\" fill-rule=\"nonzero\" fill-opacity=\"1\" /><path clip-path=\"url(#clip940)\" d=\"M1731.65 1920.43 L1739.29 1920.43 L1739.29 1894.07 L1730.98 1895.73 L1730.98 1891.47 L1739.24 1889.81 L1743.92 1889.81 L1743.92 1920.43 L1751.56 1920.43 L1751.56 1924.37 L1731.65 1924.37 L1731.65 1920.43 Z\" fill=\"#000000\" fill-rule=\"nonzero\" fill-opacity=\"1\" /><path clip-path=\"url(#clip940)\" d=\"M1771 1892.89 Q1767.39 1892.89 1765.56 1896.45 Q1763.76 1899.99 1763.76 1907.12 Q1763.76 1914.23 1765.56 1917.79 Q1767.39 1921.34 1771 1921.34 Q1774.64 1921.34 1776.44 1917.79 Q1778.27 1914.23 1778.27 1907.12 Q1778.27 1899.99 1776.44 1896.45 Q1774.64 1892.89 1771 1892.89 M1771 1889.18 Q1776.81 1889.18 1779.87 1893.79 Q1782.95 1898.37 1782.95 1907.12 Q1782.95 1915.85 1779.87 1920.46 Q1776.81 1925.04 1771 1925.04 Q1765.19 1925.04 1762.11 1920.46 Q1759.06 1915.85 1759.06 1907.12 Q1759.06 1898.37 1762.11 1893.79 Q1765.19 1889.18 1771 1889.18 Z\" fill=\"#000000\" fill-rule=\"nonzero\" fill-opacity=\"1\" /><polyline clip-path=\"url(#clip940)\" style=\"stroke:#000000; stroke-linecap:round; stroke-linejoin:round; stroke-width:4; stroke-opacity:1; fill:none\" points=\"188.13,1865.17 188.13,153.712 \"/>\n",
       "<polyline clip-path=\"url(#clip940)\" style=\"stroke:#000000; stroke-linecap:round; stroke-linejoin:round; stroke-width:4; stroke-opacity:1; fill:none\" points=\"188.13,1722.55 205.922,1722.55 \"/>\n",
       "<polyline clip-path=\"url(#clip940)\" style=\"stroke:#000000; stroke-linecap:round; stroke-linejoin:round; stroke-width:4; stroke-opacity:1; fill:none\" points=\"188.13,1579.93 205.922,1579.93 \"/>\n",
       "<polyline clip-path=\"url(#clip940)\" style=\"stroke:#000000; stroke-linecap:round; stroke-linejoin:round; stroke-width:4; stroke-opacity:1; fill:none\" points=\"188.13,1437.3 205.922,1437.3 \"/>\n",
       "<polyline clip-path=\"url(#clip940)\" style=\"stroke:#000000; stroke-linecap:round; stroke-linejoin:round; stroke-width:4; stroke-opacity:1; fill:none\" points=\"188.13,1294.68 205.922,1294.68 \"/>\n",
       "<polyline clip-path=\"url(#clip940)\" style=\"stroke:#000000; stroke-linecap:round; stroke-linejoin:round; stroke-width:4; stroke-opacity:1; fill:none\" points=\"188.13,1152.06 205.922,1152.06 \"/>\n",
       "<polyline clip-path=\"url(#clip940)\" style=\"stroke:#000000; stroke-linecap:round; stroke-linejoin:round; stroke-width:4; stroke-opacity:1; fill:none\" points=\"188.13,1009.44 205.922,1009.44 \"/>\n",
       "<polyline clip-path=\"url(#clip940)\" style=\"stroke:#000000; stroke-linecap:round; stroke-linejoin:round; stroke-width:4; stroke-opacity:1; fill:none\" points=\"188.13,866.819 205.922,866.819 \"/>\n",
       "<polyline clip-path=\"url(#clip940)\" style=\"stroke:#000000; stroke-linecap:round; stroke-linejoin:round; stroke-width:4; stroke-opacity:1; fill:none\" points=\"188.13,724.197 205.922,724.197 \"/>\n",
       "<polyline clip-path=\"url(#clip940)\" style=\"stroke:#000000; stroke-linecap:round; stroke-linejoin:round; stroke-width:4; stroke-opacity:1; fill:none\" points=\"188.13,581.576 205.922,581.576 \"/>\n",
       "<polyline clip-path=\"url(#clip940)\" style=\"stroke:#000000; stroke-linecap:round; stroke-linejoin:round; stroke-width:4; stroke-opacity:1; fill:none\" points=\"188.13,438.955 205.922,438.955 \"/>\n",
       "<polyline clip-path=\"url(#clip940)\" style=\"stroke:#000000; stroke-linecap:round; stroke-linejoin:round; stroke-width:4; stroke-opacity:1; fill:none\" points=\"188.13,296.333 205.922,296.333 \"/>\n",
       "<path clip-path=\"url(#clip940)\" d=\"M146.185 1708.35 Q142.574 1708.35 140.746 1711.91 Q138.94 1715.45 138.94 1722.58 Q138.94 1729.69 140.746 1733.25 Q142.574 1736.79 146.185 1736.79 Q149.82 1736.79 151.625 1733.25 Q153.454 1729.69 153.454 1722.58 Q153.454 1715.45 151.625 1711.91 Q149.82 1708.35 146.185 1708.35 M146.185 1704.64 Q151.996 1704.64 155.051 1709.25 Q158.13 1713.83 158.13 1722.58 Q158.13 1731.31 155.051 1735.91 Q151.996 1740.5 146.185 1740.5 Q140.375 1740.5 137.297 1735.91 Q134.241 1731.31 134.241 1722.58 Q134.241 1713.83 137.297 1709.25 Q140.375 1704.64 146.185 1704.64 Z\" fill=\"#000000\" fill-rule=\"nonzero\" fill-opacity=\"1\" /><path clip-path=\"url(#clip940)\" d=\"M138.222 1593.27 L145.861 1593.27 L145.861 1566.9 L137.551 1568.57 L137.551 1564.31 L145.815 1562.65 L150.491 1562.65 L150.491 1593.27 L158.13 1593.27 L158.13 1597.21 L138.222 1597.21 L138.222 1593.27 Z\" fill=\"#000000\" fill-rule=\"nonzero\" fill-opacity=\"1\" /><path clip-path=\"url(#clip940)\" d=\"M141.81 1450.65 L158.13 1450.65 L158.13 1454.58 L136.185 1454.58 L136.185 1450.65 Q138.847 1447.89 143.431 1443.26 Q148.037 1438.61 149.218 1437.27 Q151.463 1434.75 152.343 1433.01 Q153.246 1431.25 153.246 1429.56 Q153.246 1426.81 151.301 1425.07 Q149.38 1423.33 146.278 1423.33 Q144.079 1423.33 141.625 1424.1 Q139.195 1424.86 136.417 1426.41 L136.417 1421.69 Q139.241 1420.56 141.695 1419.98 Q144.148 1419.4 146.185 1419.4 Q151.556 1419.4 154.75 1422.08 Q157.945 1424.77 157.945 1429.26 Q157.945 1431.39 157.134 1433.31 Q156.347 1435.21 154.241 1437.8 Q153.662 1438.47 150.56 1441.69 Q147.459 1444.88 141.81 1450.65 Z\" fill=\"#000000\" fill-rule=\"nonzero\" fill-opacity=\"1\" /><path clip-path=\"url(#clip940)\" d=\"M151 1293.33 Q154.357 1294.05 156.232 1296.31 Q158.13 1298.58 158.13 1301.92 Q158.13 1307.03 154.611 1309.83 Q151.093 1312.63 144.611 1312.63 Q142.435 1312.63 140.121 1312.19 Q137.829 1311.78 135.375 1310.92 L135.375 1306.41 Q137.32 1307.54 139.635 1308.12 Q141.949 1308.7 144.472 1308.7 Q148.871 1308.7 151.162 1306.96 Q153.477 1305.23 153.477 1301.92 Q153.477 1298.86 151.324 1297.15 Q149.195 1295.41 145.375 1295.41 L141.347 1295.41 L141.347 1291.57 L145.56 1291.57 Q149.009 1291.57 150.838 1290.2 Q152.667 1288.81 152.667 1286.22 Q152.667 1283.56 150.769 1282.15 Q148.894 1280.71 145.375 1280.71 Q143.454 1280.71 141.255 1281.13 Q139.056 1281.55 136.417 1282.43 L136.417 1278.26 Q139.079 1277.52 141.394 1277.15 Q143.732 1276.78 145.792 1276.78 Q151.116 1276.78 154.218 1279.21 Q157.32 1281.62 157.32 1285.74 Q157.32 1288.61 155.676 1290.6 Q154.033 1292.56 151 1293.33 Z\" fill=\"#000000\" fill-rule=\"nonzero\" fill-opacity=\"1\" /><path clip-path=\"url(#clip940)\" d=\"M148.547 1138.86 L136.741 1157.3 L148.547 1157.3 L148.547 1138.86 M147.32 1134.78 L153.199 1134.78 L153.199 1157.3 L158.13 1157.3 L158.13 1161.19 L153.199 1161.19 L153.199 1169.34 L148.547 1169.34 L148.547 1161.19 L132.945 1161.19 L132.945 1156.68 L147.32 1134.78 Z\" fill=\"#000000\" fill-rule=\"nonzero\" fill-opacity=\"1\" /><path clip-path=\"url(#clip940)\" d=\"M137.227 992.16 L155.584 992.16 L155.584 996.095 L141.51 996.095 L141.51 1004.57 Q142.528 1004.22 143.547 1004.06 Q144.565 1003.87 145.584 1003.87 Q151.371 1003.87 154.75 1007.04 Q158.13 1010.22 158.13 1015.63 Q158.13 1021.21 154.658 1024.31 Q151.185 1027.39 144.866 1027.39 Q142.69 1027.39 140.422 1027.02 Q138.176 1026.65 135.769 1025.91 L135.769 1021.21 Q137.852 1022.35 140.074 1022.9 Q142.297 1023.46 144.773 1023.46 Q148.778 1023.46 151.116 1021.35 Q153.454 1019.24 153.454 1015.63 Q153.454 1012.02 151.116 1009.91 Q148.778 1007.81 144.773 1007.81 Q142.898 1007.81 141.023 1008.22 Q139.172 1008.64 137.227 1009.52 L137.227 992.16 Z\" fill=\"#000000\" fill-rule=\"nonzero\" fill-opacity=\"1\" /><path clip-path=\"url(#clip940)\" d=\"M146.602 864.955 Q143.454 864.955 141.602 867.108 Q139.773 869.261 139.773 873.011 Q139.773 876.738 141.602 878.914 Q143.454 881.066 146.602 881.066 Q149.75 881.066 151.579 878.914 Q153.431 876.738 153.431 873.011 Q153.431 869.261 151.579 867.108 Q149.75 864.955 146.602 864.955 M155.884 850.303 L155.884 854.562 Q154.125 853.728 152.32 853.289 Q150.537 852.849 148.778 852.849 Q144.148 852.849 141.695 855.974 Q139.264 859.099 138.917 865.418 Q140.283 863.404 142.343 862.34 Q144.403 861.252 146.88 861.252 Q152.088 861.252 155.097 864.423 Q158.13 867.571 158.13 873.011 Q158.13 878.335 154.982 881.552 Q151.834 884.77 146.602 884.77 Q140.607 884.77 137.435 880.187 Q134.264 875.58 134.264 866.853 Q134.264 858.659 138.153 853.798 Q142.042 848.914 148.593 848.914 Q150.352 848.914 152.134 849.261 Q153.94 849.608 155.884 850.303 Z\" fill=\"#000000\" fill-rule=\"nonzero\" fill-opacity=\"1\" /><path clip-path=\"url(#clip940)\" d=\"M135.908 706.917 L158.13 706.917 L158.13 708.908 L145.584 741.477 L140.699 741.477 L152.505 710.853 L135.908 710.853 L135.908 706.917 Z\" fill=\"#000000\" fill-rule=\"nonzero\" fill-opacity=\"1\" /><path clip-path=\"url(#clip940)\" d=\"M146.278 582.444 Q142.945 582.444 141.023 584.227 Q139.125 586.009 139.125 589.134 Q139.125 592.259 141.023 594.041 Q142.945 595.824 146.278 595.824 Q149.611 595.824 151.533 594.041 Q153.454 592.236 153.454 589.134 Q153.454 586.009 151.533 584.227 Q149.634 582.444 146.278 582.444 M141.602 580.453 Q138.593 579.713 136.903 577.652 Q135.236 575.592 135.236 572.629 Q135.236 568.486 138.176 566.078 Q141.139 563.671 146.278 563.671 Q151.44 563.671 154.38 566.078 Q157.32 568.486 157.32 572.629 Q157.32 575.592 155.63 577.652 Q153.963 579.713 150.977 580.453 Q154.357 581.24 156.232 583.532 Q158.13 585.824 158.13 589.134 Q158.13 594.157 155.051 596.842 Q151.996 599.527 146.278 599.527 Q140.56 599.527 137.482 596.842 Q134.426 594.157 134.426 589.134 Q134.426 585.824 136.324 583.532 Q138.222 581.24 141.602 580.453 M139.889 573.069 Q139.889 575.754 141.556 577.259 Q143.246 578.764 146.278 578.764 Q149.287 578.764 150.977 577.259 Q152.69 575.754 152.69 573.069 Q152.69 570.384 150.977 568.879 Q149.287 567.375 146.278 567.375 Q143.246 567.375 141.556 568.879 Q139.889 570.384 139.889 573.069 Z\" fill=\"#000000\" fill-rule=\"nonzero\" fill-opacity=\"1\" /><path clip-path=\"url(#clip940)\" d=\"M136.51 455.517 L136.51 451.258 Q138.269 452.091 140.074 452.531 Q141.88 452.971 143.616 452.971 Q148.246 452.971 150.676 449.869 Q153.13 446.744 153.477 440.402 Q152.134 442.392 150.074 443.457 Q148.014 444.522 145.514 444.522 Q140.329 444.522 137.297 441.397 Q134.287 438.249 134.287 432.809 Q134.287 427.485 137.435 424.267 Q140.584 421.05 145.815 421.05 Q151.81 421.05 154.959 425.656 Q158.13 430.24 158.13 438.989 Q158.13 447.161 154.241 452.045 Q150.375 456.906 143.824 456.906 Q142.065 456.906 140.26 456.559 Q138.454 456.212 136.51 455.517 M145.815 440.864 Q148.963 440.864 150.792 438.712 Q152.644 436.559 152.644 432.809 Q152.644 429.082 150.792 426.929 Q148.963 424.753 145.815 424.753 Q142.667 424.753 140.815 426.929 Q138.986 429.082 138.986 432.809 Q138.986 436.559 140.815 438.712 Q142.667 440.864 145.815 440.864 Z\" fill=\"#000000\" fill-rule=\"nonzero\" fill-opacity=\"1\" /><path clip-path=\"url(#clip940)\" d=\"M106.834 309.678 L114.473 309.678 L114.473 283.313 L106.162 284.979 L106.162 280.72 L114.426 279.053 L119.102 279.053 L119.102 309.678 L126.741 309.678 L126.741 313.613 L106.834 313.613 L106.834 309.678 Z\" fill=\"#000000\" fill-rule=\"nonzero\" fill-opacity=\"1\" /><path clip-path=\"url(#clip940)\" d=\"M146.185 282.132 Q142.574 282.132 140.746 285.697 Q138.94 289.239 138.94 296.368 Q138.94 303.475 140.746 307.039 Q142.574 310.581 146.185 310.581 Q149.82 310.581 151.625 307.039 Q153.454 303.475 153.454 296.368 Q153.454 289.239 151.625 285.697 Q149.82 282.132 146.185 282.132 M146.185 278.428 Q151.996 278.428 155.051 283.035 Q158.13 287.618 158.13 296.368 Q158.13 305.095 155.051 309.701 Q151.996 314.285 146.185 314.285 Q140.375 314.285 137.297 309.701 Q134.241 305.095 134.241 296.368 Q134.241 287.618 137.297 283.035 Q140.375 278.428 146.185 278.428 Z\" fill=\"#000000\" fill-rule=\"nonzero\" fill-opacity=\"1\" /><path clip-path=\"url(#clip940)\" d=\"M856.949 12.096 L908.112 12.096 L908.112 18.9825 L886.642 18.9825 L886.642 72.576 L878.419 72.576 L878.419 18.9825 L856.949 18.9825 L856.949 12.096 Z\" fill=\"#000000\" fill-rule=\"nonzero\" fill-opacity=\"1\" /><path clip-path=\"url(#clip940)\" d=\"M929.784 34.1734 Q928.528 33.4443 927.03 33.1202 Q925.571 32.7556 923.789 32.7556 Q917.469 32.7556 914.067 36.8875 Q910.704 40.9789 910.704 48.6757 L910.704 72.576 L903.21 72.576 L903.21 27.2059 L910.704 27.2059 L910.704 34.2544 Q913.054 30.1225 916.821 28.1376 Q920.589 26.1121 925.976 26.1121 Q926.746 26.1121 927.678 26.2337 Q928.609 26.3147 929.744 26.5172 L929.784 34.1734 Z\" fill=\"#000000\" fill-rule=\"nonzero\" fill-opacity=\"1\" /><path clip-path=\"url(#clip940)\" d=\"M937.602 27.2059 L945.056 27.2059 L945.056 72.576 L937.602 72.576 L937.602 27.2059 M937.602 9.54393 L945.056 9.54393 L945.056 18.9825 L937.602 18.9825 L937.602 9.54393 Z\" fill=\"#000000\" fill-rule=\"nonzero\" fill-opacity=\"1\" /><path clip-path=\"url(#clip940)\" d=\"M981.271 49.7694 Q972.238 49.7694 968.754 51.8354 Q965.27 53.9013 965.27 58.8839 Q965.27 62.8538 967.863 65.2034 Q970.496 67.5124 974.992 67.5124 Q981.19 67.5124 984.917 63.1374 Q988.684 58.7219 988.684 51.4303 L988.684 49.7694 L981.271 49.7694 M996.138 46.6907 L996.138 72.576 L988.684 72.576 L988.684 65.6895 Q986.132 69.8214 982.324 71.8063 Q978.517 73.7508 973.007 73.7508 Q966.04 73.7508 961.908 69.8619 Q957.816 65.9325 957.816 59.3701 Q957.816 51.7138 962.921 47.825 Q968.065 43.9361 978.233 43.9361 L988.684 43.9361 L988.684 43.2069 Q988.684 38.0623 985.282 35.2672 Q981.919 32.4315 975.802 32.4315 Q971.914 32.4315 968.227 33.3632 Q964.541 34.295 961.138 36.1584 L961.138 29.2718 Q965.23 27.692 969.078 26.9223 Q972.926 26.1121 976.572 26.1121 Q986.416 26.1121 991.277 31.2163 Q996.138 36.3204 996.138 46.6907 M973.899 6.22219 L979.894 6.22219 L989.819 21.4536 L984.188 21.4536 L976.896 11.5289 L969.605 21.4536 L963.974 21.4536 L973.899 6.22219 Z\" fill=\"#000000\" fill-rule=\"nonzero\" fill-opacity=\"1\" /><path clip-path=\"url(#clip940)\" d=\"M1049.2 45.1919 L1049.2 72.576 L1041.75 72.576 L1041.75 45.4349 Q1041.75 38.994 1039.24 35.7938 Q1036.73 32.5936 1031.7 32.5936 Q1025.67 32.5936 1022.19 36.4419 Q1018.7 40.2903 1018.7 46.9338 L1018.7 72.576 L1011.21 72.576 L1011.21 27.2059 L1018.7 27.2059 L1018.7 34.2544 Q1021.38 30.163 1024.98 28.1376 Q1028.63 26.1121 1033.37 26.1121 Q1041.18 26.1121 1045.19 30.9732 Q1049.2 35.7938 1049.2 45.1919 Z\" fill=\"#000000\" fill-rule=\"nonzero\" fill-opacity=\"1\" /><path clip-path=\"url(#clip940)\" d=\"M1093.93 49.3643 Q1093.93 41.2625 1090.56 36.8065 Q1087.24 32.3505 1081.21 32.3505 Q1075.21 32.3505 1071.85 36.8065 Q1068.53 41.2625 1068.53 49.3643 Q1068.53 57.4256 1071.85 61.8816 Q1075.21 66.3376 1081.21 66.3376 Q1087.24 66.3376 1090.56 61.8816 Q1093.93 57.4256 1093.93 49.3643 M1101.38 66.9452 Q1101.38 78.5308 1096.24 84.1616 Q1091.09 89.8329 1080.48 89.8329 Q1076.55 89.8329 1073.06 89.2252 Q1069.58 88.6581 1066.3 87.4428 L1066.3 80.1917 Q1069.58 81.9741 1072.78 82.8248 Q1075.98 83.6755 1079.3 83.6755 Q1086.64 83.6755 1090.28 79.8271 Q1093.93 76.0193 1093.93 68.282 L1093.93 64.5957 Q1091.62 68.6061 1088.01 70.5911 Q1084.41 72.576 1079.38 72.576 Q1071.04 72.576 1065.94 66.2161 Q1060.83 59.8562 1060.83 49.3643 Q1060.83 38.832 1065.94 32.472 Q1071.04 26.1121 1079.38 26.1121 Q1084.41 26.1121 1088.01 28.0971 Q1091.62 30.082 1093.93 34.0924 L1093.93 27.2059 L1101.38 27.2059 L1101.38 66.9452 Z\" fill=\"#000000\" fill-rule=\"nonzero\" fill-opacity=\"1\" /><path clip-path=\"url(#clip940)\" d=\"M1115.96 54.671 L1115.96 27.2059 L1123.42 27.2059 L1123.42 54.3874 Q1123.42 60.8284 1125.93 64.0691 Q1128.44 67.2693 1133.46 67.2693 Q1139.5 67.2693 1142.98 63.421 Q1146.51 59.5726 1146.51 52.9291 L1146.51 27.2059 L1153.96 27.2059 L1153.96 72.576 L1146.51 72.576 L1146.51 65.6084 Q1143.79 69.7404 1140.19 71.7658 Q1136.62 73.7508 1131.88 73.7508 Q1124.07 73.7508 1120.01 68.8897 Q1115.96 64.0286 1115.96 54.671 M1134.72 26.1121 L1134.72 26.1121 Z\" fill=\"#000000\" fill-rule=\"nonzero\" fill-opacity=\"1\" /><path clip-path=\"url(#clip940)\" d=\"M1169.31 9.54393 L1176.77 9.54393 L1176.77 72.576 L1169.31 72.576 L1169.31 9.54393 Z\" fill=\"#000000\" fill-rule=\"nonzero\" fill-opacity=\"1\" /><path clip-path=\"url(#clip940)\" d=\"M1209.94 32.4315 Q1203.95 32.4315 1200.47 37.1306 Q1196.98 41.7891 1196.98 49.9314 Q1196.98 58.0738 1200.43 62.7728 Q1203.91 67.4314 1209.94 67.4314 Q1215.9 67.4314 1219.38 62.7323 Q1222.87 58.0333 1222.87 49.9314 Q1222.87 41.8701 1219.38 37.1711 Q1215.9 32.4315 1209.94 32.4315 M1209.94 26.1121 Q1219.67 26.1121 1225.22 32.4315 Q1230.77 38.7509 1230.77 49.9314 Q1230.77 61.0714 1225.22 67.4314 Q1219.67 73.7508 1209.94 73.7508 Q1200.18 73.7508 1194.63 67.4314 Q1189.12 61.0714 1189.12 49.9314 Q1189.12 38.7509 1194.63 32.4315 Q1200.18 26.1121 1209.94 26.1121 Z\" fill=\"#000000\" fill-rule=\"nonzero\" fill-opacity=\"1\" /><path clip-path=\"url(#clip942)\" d=\"M758.615 581.576 L1043.86 296.333 L758.615 1437.3 L758.615 581.576 L758.615 1722.55 L758.615 1722.55 L1043.86 1722.55 L758.615 1722.55  Z\" fill=\"#ffff00\" fill-rule=\"evenodd\" fill-opacity=\"0.5\"/>\n",
       "<polyline clip-path=\"url(#clip942)\" style=\"stroke:#009af9; stroke-linecap:round; stroke-linejoin:round; stroke-width:12; stroke-opacity:1; fill:none\" points=\"758.615,581.576 1043.86,296.333 758.615,1437.3 758.615,581.576 \"/>\n",
       "<circle clip-path=\"url(#clip942)\" cx=\"758.615\" cy=\"581.576\" r=\"14.4\" fill=\"#e26f46\" fill-rule=\"evenodd\" fill-opacity=\"1\" stroke=\"#000000\" stroke-opacity=\"1\" stroke-width=\"4\"/>\n",
       "<circle clip-path=\"url(#clip942)\" cx=\"1043.86\" cy=\"296.333\" r=\"14.4\" fill=\"#e26f46\" fill-rule=\"evenodd\" fill-opacity=\"1\" stroke=\"#000000\" stroke-opacity=\"1\" stroke-width=\"4\"/>\n",
       "<circle clip-path=\"url(#clip942)\" cx=\"758.615\" cy=\"1437.3\" r=\"14.4\" fill=\"#e26f46\" fill-rule=\"evenodd\" fill-opacity=\"1\" stroke=\"#000000\" stroke-opacity=\"1\" stroke-width=\"4\"/>\n",
       "<path clip-path=\"url(#clip940)\" d=\"M801.401 516.611 L790.302 546.709 L812.541 546.709 L801.401 516.611 M796.783 508.55 L806.06 508.55 L829.11 569.03 L820.603 569.03 L815.093 553.515 L787.831 553.515 L782.322 569.03 L773.693 569.03 L796.783 508.55 Z\" fill=\"#000000\" fill-rule=\"nonzero\" fill-opacity=\"1\" /><path clip-path=\"url(#clip940)\" d=\"M1073.38 254.904 L1073.38 277.063 L1086.5 277.063 Q1093.11 277.063 1096.26 274.348 Q1099.47 271.594 1099.47 265.963 Q1099.47 260.292 1096.26 257.618 Q1093.11 254.904 1086.5 254.904 L1073.38 254.904 M1073.38 230.032 L1073.38 248.261 L1085.49 248.261 Q1091.48 248.261 1094.4 246.033 Q1097.36 243.764 1097.36 239.146 Q1097.36 234.569 1094.4 232.3 Q1091.48 230.032 1085.49 230.032 L1073.38 230.032 M1065.19 223.307 L1086.1 223.307 Q1095.45 223.307 1100.52 227.196 Q1105.58 231.085 1105.58 238.255 Q1105.58 243.805 1102.99 247.086 Q1100.4 250.367 1095.37 251.177 Q1101.41 252.474 1104.73 256.605 Q1108.09 260.697 1108.09 266.854 Q1108.09 274.956 1102.58 279.372 Q1097.08 283.787 1086.91 283.787 L1065.19 283.787 L1065.19 223.307 Z\" fill=\"#000000\" fill-rule=\"nonzero\" fill-opacity=\"1\" /><path clip-path=\"url(#clip940)\" d=\"M825.788 1368.94 L825.788 1377.56 Q821.656 1373.72 816.957 1371.81 Q812.298 1369.91 807.032 1369.91 Q796.662 1369.91 791.153 1376.27 Q785.643 1382.59 785.643 1394.58 Q785.643 1406.53 791.153 1412.89 Q796.662 1419.21 807.032 1419.21 Q812.298 1419.21 816.957 1417.3 Q821.656 1415.4 825.788 1411.55 L825.788 1420.1 Q821.494 1423.02 816.673 1424.47 Q811.893 1425.93 806.546 1425.93 Q792.814 1425.93 784.914 1417.55 Q777.015 1409.12 777.015 1394.58 Q777.015 1380 784.914 1371.61 Q792.814 1363.18 806.546 1363.18 Q811.974 1363.18 816.754 1364.64 Q821.575 1366.06 825.788 1368.94 Z\" fill=\"#000000\" fill-rule=\"nonzero\" fill-opacity=\"1\" /></svg>\n"
      ],
      "text/html": [
       "<?xml version=\"1.0\" encoding=\"utf-8\"?>\n",
       "<svg xmlns=\"http://www.w3.org/2000/svg\" xmlns:xlink=\"http://www.w3.org/1999/xlink\" width=\"500\" height=\"500\" viewBox=\"0 0 2000 2000\">\n",
       "<defs>\n",
       "  <clipPath id=\"clip990\">\n",
       "    <rect x=\"0\" y=\"0\" width=\"2000\" height=\"2000\"/>\n",
       "  </clipPath>\n",
       "</defs>\n",
       "<path clip-path=\"url(#clip990)\" d=\"M0 2000 L2000 2000 L2000 0 L0 0  Z\" fill=\"#ffffff\" fill-rule=\"evenodd\" fill-opacity=\"1\"/>\n",
       "<defs>\n",
       "  <clipPath id=\"clip991\">\n",
       "    <rect x=\"400\" y=\"200\" width=\"1401\" height=\"1401\"/>\n",
       "  </clipPath>\n",
       "</defs>\n",
       "<path clip-path=\"url(#clip990)\" d=\"M188.13 1865.17 L1899.59 1865.17 L1899.59 153.712 L188.13 153.712  Z\" fill=\"#ffffff\" fill-rule=\"evenodd\" fill-opacity=\"1\"/>\n",
       "<defs>\n",
       "  <clipPath id=\"clip992\">\n",
       "    <rect x=\"188\" y=\"153\" width=\"1712\" height=\"1712\"/>\n",
       "  </clipPath>\n",
       "</defs>\n",
       "<polyline clip-path=\"url(#clip992)\" style=\"stroke:#000000; stroke-linecap:round; stroke-linejoin:round; stroke-width:2; stroke-opacity:0.7; fill:none\" stroke-dasharray=\"8, 5\" points=\"330.751,1865.17 330.751,153.712 \"/>\n",
       "<polyline clip-path=\"url(#clip992)\" style=\"stroke:#000000; stroke-linecap:round; stroke-linejoin:round; stroke-width:2; stroke-opacity:0.7; fill:none\" stroke-dasharray=\"8, 5\" points=\"473.372,1865.17 473.372,153.712 \"/>\n",
       "<polyline clip-path=\"url(#clip992)\" style=\"stroke:#000000; stroke-linecap:round; stroke-linejoin:round; stroke-width:2; stroke-opacity:0.7; fill:none\" stroke-dasharray=\"8, 5\" points=\"615.994,1865.17 615.994,153.712 \"/>\n",
       "<polyline clip-path=\"url(#clip992)\" style=\"stroke:#000000; stroke-linecap:round; stroke-linejoin:round; stroke-width:2; stroke-opacity:0.7; fill:none\" stroke-dasharray=\"8, 5\" points=\"758.615,1865.17 758.615,153.712 \"/>\n",
       "<polyline clip-path=\"url(#clip992)\" style=\"stroke:#000000; stroke-linecap:round; stroke-linejoin:round; stroke-width:2; stroke-opacity:0.7; fill:none\" stroke-dasharray=\"8, 5\" points=\"901.236,1865.17 901.236,153.712 \"/>\n",
       "<polyline clip-path=\"url(#clip992)\" style=\"stroke:#000000; stroke-linecap:round; stroke-linejoin:round; stroke-width:2; stroke-opacity:0.7; fill:none\" stroke-dasharray=\"8, 5\" points=\"1043.86,1865.17 1043.86,153.712 \"/>\n",
       "<polyline clip-path=\"url(#clip992)\" style=\"stroke:#000000; stroke-linecap:round; stroke-linejoin:round; stroke-width:2; stroke-opacity:0.7; fill:none\" stroke-dasharray=\"8, 5\" points=\"1186.48,1865.17 1186.48,153.712 \"/>\n",
       "<polyline clip-path=\"url(#clip992)\" style=\"stroke:#000000; stroke-linecap:round; stroke-linejoin:round; stroke-width:2; stroke-opacity:0.7; fill:none\" stroke-dasharray=\"8, 5\" points=\"1329.1,1865.17 1329.1,153.712 \"/>\n",
       "<polyline clip-path=\"url(#clip992)\" style=\"stroke:#000000; stroke-linecap:round; stroke-linejoin:round; stroke-width:2; stroke-opacity:0.7; fill:none\" stroke-dasharray=\"8, 5\" points=\"1471.72,1865.17 1471.72,153.712 \"/>\n",
       "<polyline clip-path=\"url(#clip992)\" style=\"stroke:#000000; stroke-linecap:round; stroke-linejoin:round; stroke-width:2; stroke-opacity:0.7; fill:none\" stroke-dasharray=\"8, 5\" points=\"1614.34,1865.17 1614.34,153.712 \"/>\n",
       "<polyline clip-path=\"url(#clip992)\" style=\"stroke:#000000; stroke-linecap:round; stroke-linejoin:round; stroke-width:2; stroke-opacity:0.7; fill:none\" stroke-dasharray=\"8, 5\" points=\"1756.96,1865.17 1756.96,153.712 \"/>\n",
       "<polyline clip-path=\"url(#clip992)\" style=\"stroke:#000000; stroke-linecap:round; stroke-linejoin:round; stroke-width:2; stroke-opacity:0.7; fill:none\" stroke-dasharray=\"8, 5\" points=\"188.13,1722.55 1899.59,1722.55 \"/>\n",
       "<polyline clip-path=\"url(#clip992)\" style=\"stroke:#000000; stroke-linecap:round; stroke-linejoin:round; stroke-width:2; stroke-opacity:0.7; fill:none\" stroke-dasharray=\"8, 5\" points=\"188.13,1579.93 1899.59,1579.93 \"/>\n",
       "<polyline clip-path=\"url(#clip992)\" style=\"stroke:#000000; stroke-linecap:round; stroke-linejoin:round; stroke-width:2; stroke-opacity:0.7; fill:none\" stroke-dasharray=\"8, 5\" points=\"188.13,1437.3 1899.59,1437.3 \"/>\n",
       "<polyline clip-path=\"url(#clip992)\" style=\"stroke:#000000; stroke-linecap:round; stroke-linejoin:round; stroke-width:2; stroke-opacity:0.7; fill:none\" stroke-dasharray=\"8, 5\" points=\"188.13,1294.68 1899.59,1294.68 \"/>\n",
       "<polyline clip-path=\"url(#clip992)\" style=\"stroke:#000000; stroke-linecap:round; stroke-linejoin:round; stroke-width:2; stroke-opacity:0.7; fill:none\" stroke-dasharray=\"8, 5\" points=\"188.13,1152.06 1899.59,1152.06 \"/>\n",
       "<polyline clip-path=\"url(#clip992)\" style=\"stroke:#000000; stroke-linecap:round; stroke-linejoin:round; stroke-width:2; stroke-opacity:0.7; fill:none\" stroke-dasharray=\"8, 5\" points=\"188.13,1009.44 1899.59,1009.44 \"/>\n",
       "<polyline clip-path=\"url(#clip992)\" style=\"stroke:#000000; stroke-linecap:round; stroke-linejoin:round; stroke-width:2; stroke-opacity:0.7; fill:none\" stroke-dasharray=\"8, 5\" points=\"188.13,866.819 1899.59,866.819 \"/>\n",
       "<polyline clip-path=\"url(#clip992)\" style=\"stroke:#000000; stroke-linecap:round; stroke-linejoin:round; stroke-width:2; stroke-opacity:0.7; fill:none\" stroke-dasharray=\"8, 5\" points=\"188.13,724.197 1899.59,724.197 \"/>\n",
       "<polyline clip-path=\"url(#clip992)\" style=\"stroke:#000000; stroke-linecap:round; stroke-linejoin:round; stroke-width:2; stroke-opacity:0.7; fill:none\" stroke-dasharray=\"8, 5\" points=\"188.13,581.576 1899.59,581.576 \"/>\n",
       "<polyline clip-path=\"url(#clip992)\" style=\"stroke:#000000; stroke-linecap:round; stroke-linejoin:round; stroke-width:2; stroke-opacity:0.7; fill:none\" stroke-dasharray=\"8, 5\" points=\"188.13,438.955 1899.59,438.955 \"/>\n",
       "<polyline clip-path=\"url(#clip992)\" style=\"stroke:#000000; stroke-linecap:round; stroke-linejoin:round; stroke-width:2; stroke-opacity:0.7; fill:none\" stroke-dasharray=\"8, 5\" points=\"188.13,296.333 1899.59,296.333 \"/>\n",
       "<polyline clip-path=\"url(#clip990)\" style=\"stroke:#000000; stroke-linecap:round; stroke-linejoin:round; stroke-width:4; stroke-opacity:1; fill:none\" points=\"188.13,1865.17 1899.59,1865.17 \"/>\n",
       "<polyline clip-path=\"url(#clip990)\" style=\"stroke:#000000; stroke-linecap:round; stroke-linejoin:round; stroke-width:4; stroke-opacity:1; fill:none\" points=\"330.751,1865.17 330.751,1846.27 \"/>\n",
       "<polyline clip-path=\"url(#clip990)\" style=\"stroke:#000000; stroke-linecap:round; stroke-linejoin:round; stroke-width:4; stroke-opacity:1; fill:none\" points=\"473.372,1865.17 473.372,1846.27 \"/>\n",
       "<polyline clip-path=\"url(#clip990)\" style=\"stroke:#000000; stroke-linecap:round; stroke-linejoin:round; stroke-width:4; stroke-opacity:1; fill:none\" points=\"615.994,1865.17 615.994,1846.27 \"/>\n",
       "<polyline clip-path=\"url(#clip990)\" style=\"stroke:#000000; stroke-linecap:round; stroke-linejoin:round; stroke-width:4; stroke-opacity:1; fill:none\" points=\"758.615,1865.17 758.615,1846.27 \"/>\n",
       "<polyline clip-path=\"url(#clip990)\" style=\"stroke:#000000; stroke-linecap:round; stroke-linejoin:round; stroke-width:4; stroke-opacity:1; fill:none\" points=\"901.236,1865.17 901.236,1846.27 \"/>\n",
       "<polyline clip-path=\"url(#clip990)\" style=\"stroke:#000000; stroke-linecap:round; stroke-linejoin:round; stroke-width:4; stroke-opacity:1; fill:none\" points=\"1043.86,1865.17 1043.86,1846.27 \"/>\n",
       "<polyline clip-path=\"url(#clip990)\" style=\"stroke:#000000; stroke-linecap:round; stroke-linejoin:round; stroke-width:4; stroke-opacity:1; fill:none\" points=\"1186.48,1865.17 1186.48,1846.27 \"/>\n",
       "<polyline clip-path=\"url(#clip990)\" style=\"stroke:#000000; stroke-linecap:round; stroke-linejoin:round; stroke-width:4; stroke-opacity:1; fill:none\" points=\"1329.1,1865.17 1329.1,1846.27 \"/>\n",
       "<polyline clip-path=\"url(#clip990)\" style=\"stroke:#000000; stroke-linecap:round; stroke-linejoin:round; stroke-width:4; stroke-opacity:1; fill:none\" points=\"1471.72,1865.17 1471.72,1846.27 \"/>\n",
       "<polyline clip-path=\"url(#clip990)\" style=\"stroke:#000000; stroke-linecap:round; stroke-linejoin:round; stroke-width:4; stroke-opacity:1; fill:none\" points=\"1614.34,1865.17 1614.34,1846.27 \"/>\n",
       "<polyline clip-path=\"url(#clip990)\" style=\"stroke:#000000; stroke-linecap:round; stroke-linejoin:round; stroke-width:4; stroke-opacity:1; fill:none\" points=\"1756.96,1865.17 1756.96,1846.27 \"/>\n",
       "<path clip-path=\"url(#clip990)\" d=\"M330.751 1892.89 Q327.14 1892.89 325.311 1896.45 Q323.506 1899.99 323.506 1907.12 Q323.506 1914.23 325.311 1917.79 Q327.14 1921.34 330.751 1921.34 Q334.385 1921.34 336.191 1917.79 Q338.02 1914.23 338.02 1907.12 Q338.02 1899.99 336.191 1896.45 Q334.385 1892.89 330.751 1892.89 M330.751 1889.18 Q336.561 1889.18 339.617 1893.79 Q342.695 1898.37 342.695 1907.12 Q342.695 1915.85 339.617 1920.46 Q336.561 1925.04 330.751 1925.04 Q324.941 1925.04 321.862 1920.46 Q318.807 1915.85 318.807 1907.12 Q318.807 1898.37 321.862 1893.79 Q324.941 1889.18 330.751 1889.18 Z\" fill=\"#000000\" fill-rule=\"nonzero\" fill-opacity=\"1\" /><path clip-path=\"url(#clip990)\" d=\"M463.754 1920.43 L471.393 1920.43 L471.393 1894.07 L463.083 1895.73 L463.083 1891.47 L471.347 1889.81 L476.023 1889.81 L476.023 1920.43 L483.662 1920.43 L483.662 1924.37 L463.754 1924.37 L463.754 1920.43 Z\" fill=\"#000000\" fill-rule=\"nonzero\" fill-opacity=\"1\" /><path clip-path=\"url(#clip990)\" d=\"M610.647 1920.43 L626.966 1920.43 L626.966 1924.37 L605.022 1924.37 L605.022 1920.43 Q607.684 1917.68 612.267 1913.05 Q616.873 1908.4 618.054 1907.05 Q620.299 1904.53 621.179 1902.79 Q622.082 1901.03 622.082 1899.34 Q622.082 1896.59 620.137 1894.85 Q618.216 1893.12 615.114 1893.12 Q612.915 1893.12 610.461 1893.88 Q608.031 1894.65 605.253 1896.2 L605.253 1891.47 Q608.077 1890.34 610.531 1889.76 Q612.984 1889.18 615.022 1889.18 Q620.392 1889.18 623.586 1891.87 Q626.781 1894.55 626.781 1899.04 Q626.781 1901.17 625.971 1903.09 Q625.184 1904.99 623.077 1907.59 Q622.498 1908.26 619.396 1911.47 Q616.295 1914.67 610.647 1920.43 Z\" fill=\"#000000\" fill-rule=\"nonzero\" fill-opacity=\"1\" /><path clip-path=\"url(#clip990)\" d=\"M762.863 1905.73 Q766.219 1906.45 768.094 1908.72 Q769.992 1910.99 769.992 1914.32 Q769.992 1919.44 766.474 1922.24 Q762.955 1925.04 756.474 1925.04 Q754.298 1925.04 751.983 1924.6 Q749.691 1924.18 747.238 1923.33 L747.238 1918.81 Q749.182 1919.95 751.497 1920.53 Q753.812 1921.1 756.335 1921.1 Q760.733 1921.1 763.025 1919.37 Q765.34 1917.63 765.34 1914.32 Q765.34 1911.27 763.187 1909.55 Q761.057 1907.82 757.238 1907.82 L753.21 1907.82 L753.21 1903.97 L757.423 1903.97 Q760.872 1903.97 762.701 1902.61 Q764.529 1901.22 764.529 1898.63 Q764.529 1895.97 762.631 1894.55 Q760.756 1893.12 757.238 1893.12 Q755.316 1893.12 753.117 1893.53 Q750.918 1893.95 748.279 1894.83 L748.279 1890.66 Q750.941 1889.92 753.256 1889.55 Q755.594 1889.18 757.654 1889.18 Q762.978 1889.18 766.08 1891.61 Q769.182 1894.02 769.182 1898.14 Q769.182 1901.01 767.539 1903 Q765.895 1904.97 762.863 1905.73 Z\" fill=\"#000000\" fill-rule=\"nonzero\" fill-opacity=\"1\" /><path clip-path=\"url(#clip990)\" d=\"M904.246 1893.88 L892.44 1912.33 L904.246 1912.33 L904.246 1893.88 M903.019 1889.81 L908.898 1889.81 L908.898 1912.33 L913.829 1912.33 L913.829 1916.22 L908.898 1916.22 L908.898 1924.37 L904.246 1924.37 L904.246 1916.22 L888.644 1916.22 L888.644 1911.71 L903.019 1889.81 Z\" fill=\"#000000\" fill-rule=\"nonzero\" fill-opacity=\"1\" /><path clip-path=\"url(#clip990)\" d=\"M1034.14 1889.81 L1052.49 1889.81 L1052.49 1893.74 L1038.42 1893.74 L1038.42 1902.22 Q1039.44 1901.87 1040.45 1901.71 Q1041.47 1901.52 1042.49 1901.52 Q1048.28 1901.52 1051.66 1904.69 Q1055.04 1907.86 1055.04 1913.28 Q1055.04 1918.86 1051.57 1921.96 Q1048.09 1925.04 1041.77 1925.04 Q1039.6 1925.04 1037.33 1924.67 Q1035.08 1924.3 1032.68 1923.56 L1032.68 1918.86 Q1034.76 1919.99 1036.98 1920.55 Q1039.2 1921.1 1041.68 1921.1 Q1045.69 1921.1 1048.02 1919 Q1050.36 1916.89 1050.36 1913.28 Q1050.36 1909.67 1048.02 1907.56 Q1045.69 1905.46 1041.68 1905.46 Q1039.81 1905.46 1037.93 1905.87 Q1036.08 1906.29 1034.14 1907.17 L1034.14 1889.81 Z\" fill=\"#000000\" fill-rule=\"nonzero\" fill-opacity=\"1\" /><path clip-path=\"url(#clip990)\" d=\"M1186.88 1905.22 Q1183.74 1905.22 1181.88 1907.38 Q1180.06 1909.53 1180.06 1913.28 Q1180.06 1917.01 1181.88 1919.18 Q1183.74 1921.34 1186.88 1921.34 Q1190.03 1921.34 1191.86 1919.18 Q1193.71 1917.01 1193.71 1913.28 Q1193.71 1909.53 1191.86 1907.38 Q1190.03 1905.22 1186.88 1905.22 M1196.17 1890.57 L1196.17 1894.83 Q1194.41 1894 1192.6 1893.56 Q1190.82 1893.12 1189.06 1893.12 Q1184.43 1893.12 1181.98 1896.24 Q1179.55 1899.37 1179.2 1905.69 Q1180.56 1903.67 1182.62 1902.61 Q1184.69 1901.52 1187.16 1901.52 Q1192.37 1901.52 1195.38 1904.69 Q1198.41 1907.84 1198.41 1913.28 Q1198.41 1918.6 1195.26 1921.82 Q1192.12 1925.04 1186.88 1925.04 Q1180.89 1925.04 1177.72 1920.46 Q1174.55 1915.85 1174.55 1907.12 Q1174.55 1898.93 1178.44 1894.07 Q1182.32 1889.18 1188.87 1889.18 Q1190.63 1889.18 1192.42 1889.53 Q1194.22 1889.88 1196.17 1890.57 Z\" fill=\"#000000\" fill-rule=\"nonzero\" fill-opacity=\"1\" /><path clip-path=\"url(#clip990)\" d=\"M1317.99 1889.81 L1340.21 1889.81 L1340.21 1891.8 L1327.67 1924.37 L1322.78 1924.37 L1334.59 1893.74 L1317.99 1893.74 L1317.99 1889.81 Z\" fill=\"#000000\" fill-rule=\"nonzero\" fill-opacity=\"1\" /><path clip-path=\"url(#clip990)\" d=\"M1471.72 1907.96 Q1468.39 1907.96 1466.47 1909.74 Q1464.57 1911.52 1464.57 1914.65 Q1464.57 1917.77 1466.47 1919.55 Q1468.39 1921.34 1471.72 1921.34 Q1475.05 1921.34 1476.98 1919.55 Q1478.9 1917.75 1478.9 1914.65 Q1478.9 1911.52 1476.98 1909.74 Q1475.08 1907.96 1471.72 1907.96 M1467.05 1905.97 Q1464.04 1905.22 1462.35 1903.16 Q1460.68 1901.1 1460.68 1898.14 Q1460.68 1894 1463.62 1891.59 Q1466.58 1889.18 1471.72 1889.18 Q1476.88 1889.18 1479.82 1891.59 Q1482.76 1894 1482.76 1898.14 Q1482.76 1901.1 1481.07 1903.16 Q1479.41 1905.22 1476.42 1905.97 Q1479.8 1906.75 1481.68 1909.04 Q1483.57 1911.34 1483.57 1914.65 Q1483.57 1919.67 1480.49 1922.35 Q1477.44 1925.04 1471.72 1925.04 Q1466 1925.04 1462.93 1922.35 Q1459.87 1919.67 1459.87 1914.65 Q1459.87 1911.34 1461.77 1909.04 Q1463.67 1906.75 1467.05 1905.97 M1465.33 1898.58 Q1465.33 1901.27 1467 1902.77 Q1468.69 1904.28 1471.72 1904.28 Q1474.73 1904.28 1476.42 1902.77 Q1478.13 1901.27 1478.13 1898.58 Q1478.13 1895.9 1476.42 1894.39 Q1474.73 1892.89 1471.72 1892.89 Q1468.69 1892.89 1467 1894.39 Q1465.33 1895.9 1465.33 1898.58 Z\" fill=\"#000000\" fill-rule=\"nonzero\" fill-opacity=\"1\" /><path clip-path=\"url(#clip990)\" d=\"M1604.64 1923.65 L1604.64 1919.39 Q1606.4 1920.22 1608.21 1920.66 Q1610.01 1921.1 1611.75 1921.1 Q1616.38 1921.1 1618.81 1918 Q1621.26 1914.88 1621.61 1908.53 Q1620.27 1910.53 1618.21 1911.59 Q1616.15 1912.65 1613.65 1912.65 Q1608.46 1912.65 1605.43 1909.53 Q1602.42 1906.38 1602.42 1900.94 Q1602.42 1895.62 1605.57 1892.4 Q1608.72 1889.18 1613.95 1889.18 Q1619.94 1889.18 1623.09 1893.79 Q1626.26 1898.37 1626.26 1907.12 Q1626.26 1915.29 1622.38 1920.18 Q1618.51 1925.04 1611.96 1925.04 Q1610.2 1925.04 1608.39 1924.69 Q1606.59 1924.34 1604.64 1923.65 M1613.95 1909 Q1617.1 1909 1618.93 1906.84 Q1620.78 1904.69 1620.78 1900.94 Q1620.78 1897.22 1618.93 1895.06 Q1617.1 1892.89 1613.95 1892.89 Q1610.8 1892.89 1608.95 1895.06 Q1607.12 1897.22 1607.12 1900.94 Q1607.12 1904.69 1608.95 1906.84 Q1610.8 1909 1613.95 1909 Z\" fill=\"#000000\" fill-rule=\"nonzero\" fill-opacity=\"1\" /><path clip-path=\"url(#clip990)\" d=\"M1731.65 1920.43 L1739.29 1920.43 L1739.29 1894.07 L1730.98 1895.73 L1730.98 1891.47 L1739.24 1889.81 L1743.92 1889.81 L1743.92 1920.43 L1751.56 1920.43 L1751.56 1924.37 L1731.65 1924.37 L1731.65 1920.43 Z\" fill=\"#000000\" fill-rule=\"nonzero\" fill-opacity=\"1\" /><path clip-path=\"url(#clip990)\" d=\"M1771 1892.89 Q1767.39 1892.89 1765.56 1896.45 Q1763.76 1899.99 1763.76 1907.12 Q1763.76 1914.23 1765.56 1917.79 Q1767.39 1921.34 1771 1921.34 Q1774.64 1921.34 1776.44 1917.79 Q1778.27 1914.23 1778.27 1907.12 Q1778.27 1899.99 1776.44 1896.45 Q1774.64 1892.89 1771 1892.89 M1771 1889.18 Q1776.81 1889.18 1779.87 1893.79 Q1782.95 1898.37 1782.95 1907.12 Q1782.95 1915.85 1779.87 1920.46 Q1776.81 1925.04 1771 1925.04 Q1765.19 1925.04 1762.11 1920.46 Q1759.06 1915.85 1759.06 1907.12 Q1759.06 1898.37 1762.11 1893.79 Q1765.19 1889.18 1771 1889.18 Z\" fill=\"#000000\" fill-rule=\"nonzero\" fill-opacity=\"1\" /><polyline clip-path=\"url(#clip990)\" style=\"stroke:#000000; stroke-linecap:round; stroke-linejoin:round; stroke-width:4; stroke-opacity:1; fill:none\" points=\"188.13,1865.17 188.13,153.712 \"/>\n",
       "<polyline clip-path=\"url(#clip990)\" style=\"stroke:#000000; stroke-linecap:round; stroke-linejoin:round; stroke-width:4; stroke-opacity:1; fill:none\" points=\"188.13,1722.55 205.922,1722.55 \"/>\n",
       "<polyline clip-path=\"url(#clip990)\" style=\"stroke:#000000; stroke-linecap:round; stroke-linejoin:round; stroke-width:4; stroke-opacity:1; fill:none\" points=\"188.13,1579.93 205.922,1579.93 \"/>\n",
       "<polyline clip-path=\"url(#clip990)\" style=\"stroke:#000000; stroke-linecap:round; stroke-linejoin:round; stroke-width:4; stroke-opacity:1; fill:none\" points=\"188.13,1437.3 205.922,1437.3 \"/>\n",
       "<polyline clip-path=\"url(#clip990)\" style=\"stroke:#000000; stroke-linecap:round; stroke-linejoin:round; stroke-width:4; stroke-opacity:1; fill:none\" points=\"188.13,1294.68 205.922,1294.68 \"/>\n",
       "<polyline clip-path=\"url(#clip990)\" style=\"stroke:#000000; stroke-linecap:round; stroke-linejoin:round; stroke-width:4; stroke-opacity:1; fill:none\" points=\"188.13,1152.06 205.922,1152.06 \"/>\n",
       "<polyline clip-path=\"url(#clip990)\" style=\"stroke:#000000; stroke-linecap:round; stroke-linejoin:round; stroke-width:4; stroke-opacity:1; fill:none\" points=\"188.13,1009.44 205.922,1009.44 \"/>\n",
       "<polyline clip-path=\"url(#clip990)\" style=\"stroke:#000000; stroke-linecap:round; stroke-linejoin:round; stroke-width:4; stroke-opacity:1; fill:none\" points=\"188.13,866.819 205.922,866.819 \"/>\n",
       "<polyline clip-path=\"url(#clip990)\" style=\"stroke:#000000; stroke-linecap:round; stroke-linejoin:round; stroke-width:4; stroke-opacity:1; fill:none\" points=\"188.13,724.197 205.922,724.197 \"/>\n",
       "<polyline clip-path=\"url(#clip990)\" style=\"stroke:#000000; stroke-linecap:round; stroke-linejoin:round; stroke-width:4; stroke-opacity:1; fill:none\" points=\"188.13,581.576 205.922,581.576 \"/>\n",
       "<polyline clip-path=\"url(#clip990)\" style=\"stroke:#000000; stroke-linecap:round; stroke-linejoin:round; stroke-width:4; stroke-opacity:1; fill:none\" points=\"188.13,438.955 205.922,438.955 \"/>\n",
       "<polyline clip-path=\"url(#clip990)\" style=\"stroke:#000000; stroke-linecap:round; stroke-linejoin:round; stroke-width:4; stroke-opacity:1; fill:none\" points=\"188.13,296.333 205.922,296.333 \"/>\n",
       "<path clip-path=\"url(#clip990)\" d=\"M146.185 1708.35 Q142.574 1708.35 140.746 1711.91 Q138.94 1715.45 138.94 1722.58 Q138.94 1729.69 140.746 1733.25 Q142.574 1736.79 146.185 1736.79 Q149.82 1736.79 151.625 1733.25 Q153.454 1729.69 153.454 1722.58 Q153.454 1715.45 151.625 1711.91 Q149.82 1708.35 146.185 1708.35 M146.185 1704.64 Q151.996 1704.64 155.051 1709.25 Q158.13 1713.83 158.13 1722.58 Q158.13 1731.31 155.051 1735.91 Q151.996 1740.5 146.185 1740.5 Q140.375 1740.5 137.297 1735.91 Q134.241 1731.31 134.241 1722.58 Q134.241 1713.83 137.297 1709.25 Q140.375 1704.64 146.185 1704.64 Z\" fill=\"#000000\" fill-rule=\"nonzero\" fill-opacity=\"1\" /><path clip-path=\"url(#clip990)\" d=\"M138.222 1593.27 L145.861 1593.27 L145.861 1566.9 L137.551 1568.57 L137.551 1564.31 L145.815 1562.65 L150.491 1562.65 L150.491 1593.27 L158.13 1593.27 L158.13 1597.21 L138.222 1597.21 L138.222 1593.27 Z\" fill=\"#000000\" fill-rule=\"nonzero\" fill-opacity=\"1\" /><path clip-path=\"url(#clip990)\" d=\"M141.81 1450.65 L158.13 1450.65 L158.13 1454.58 L136.185 1454.58 L136.185 1450.65 Q138.847 1447.89 143.431 1443.26 Q148.037 1438.61 149.218 1437.27 Q151.463 1434.75 152.343 1433.01 Q153.246 1431.25 153.246 1429.56 Q153.246 1426.81 151.301 1425.07 Q149.38 1423.33 146.278 1423.33 Q144.079 1423.33 141.625 1424.1 Q139.195 1424.86 136.417 1426.41 L136.417 1421.69 Q139.241 1420.56 141.695 1419.98 Q144.148 1419.4 146.185 1419.4 Q151.556 1419.4 154.75 1422.08 Q157.945 1424.77 157.945 1429.26 Q157.945 1431.39 157.134 1433.31 Q156.347 1435.21 154.241 1437.8 Q153.662 1438.47 150.56 1441.69 Q147.459 1444.88 141.81 1450.65 Z\" fill=\"#000000\" fill-rule=\"nonzero\" fill-opacity=\"1\" /><path clip-path=\"url(#clip990)\" d=\"M151 1293.33 Q154.357 1294.05 156.232 1296.31 Q158.13 1298.58 158.13 1301.92 Q158.13 1307.03 154.611 1309.83 Q151.093 1312.63 144.611 1312.63 Q142.435 1312.63 140.121 1312.19 Q137.829 1311.78 135.375 1310.92 L135.375 1306.41 Q137.32 1307.54 139.635 1308.12 Q141.949 1308.7 144.472 1308.7 Q148.871 1308.7 151.162 1306.96 Q153.477 1305.23 153.477 1301.92 Q153.477 1298.86 151.324 1297.15 Q149.195 1295.41 145.375 1295.41 L141.347 1295.41 L141.347 1291.57 L145.56 1291.57 Q149.009 1291.57 150.838 1290.2 Q152.667 1288.81 152.667 1286.22 Q152.667 1283.56 150.769 1282.15 Q148.894 1280.71 145.375 1280.71 Q143.454 1280.71 141.255 1281.13 Q139.056 1281.55 136.417 1282.43 L136.417 1278.26 Q139.079 1277.52 141.394 1277.15 Q143.732 1276.78 145.792 1276.78 Q151.116 1276.78 154.218 1279.21 Q157.32 1281.62 157.32 1285.74 Q157.32 1288.61 155.676 1290.6 Q154.033 1292.56 151 1293.33 Z\" fill=\"#000000\" fill-rule=\"nonzero\" fill-opacity=\"1\" /><path clip-path=\"url(#clip990)\" d=\"M148.547 1138.86 L136.741 1157.3 L148.547 1157.3 L148.547 1138.86 M147.32 1134.78 L153.199 1134.78 L153.199 1157.3 L158.13 1157.3 L158.13 1161.19 L153.199 1161.19 L153.199 1169.34 L148.547 1169.34 L148.547 1161.19 L132.945 1161.19 L132.945 1156.68 L147.32 1134.78 Z\" fill=\"#000000\" fill-rule=\"nonzero\" fill-opacity=\"1\" /><path clip-path=\"url(#clip990)\" d=\"M137.227 992.16 L155.584 992.16 L155.584 996.095 L141.51 996.095 L141.51 1004.57 Q142.528 1004.22 143.547 1004.06 Q144.565 1003.87 145.584 1003.87 Q151.371 1003.87 154.75 1007.04 Q158.13 1010.22 158.13 1015.63 Q158.13 1021.21 154.658 1024.31 Q151.185 1027.39 144.866 1027.39 Q142.69 1027.39 140.422 1027.02 Q138.176 1026.65 135.769 1025.91 L135.769 1021.21 Q137.852 1022.35 140.074 1022.9 Q142.297 1023.46 144.773 1023.46 Q148.778 1023.46 151.116 1021.35 Q153.454 1019.24 153.454 1015.63 Q153.454 1012.02 151.116 1009.91 Q148.778 1007.81 144.773 1007.81 Q142.898 1007.81 141.023 1008.22 Q139.172 1008.64 137.227 1009.52 L137.227 992.16 Z\" fill=\"#000000\" fill-rule=\"nonzero\" fill-opacity=\"1\" /><path clip-path=\"url(#clip990)\" d=\"M146.602 864.955 Q143.454 864.955 141.602 867.108 Q139.773 869.261 139.773 873.011 Q139.773 876.738 141.602 878.914 Q143.454 881.066 146.602 881.066 Q149.75 881.066 151.579 878.914 Q153.431 876.738 153.431 873.011 Q153.431 869.261 151.579 867.108 Q149.75 864.955 146.602 864.955 M155.884 850.303 L155.884 854.562 Q154.125 853.728 152.32 853.289 Q150.537 852.849 148.778 852.849 Q144.148 852.849 141.695 855.974 Q139.264 859.099 138.917 865.418 Q140.283 863.404 142.343 862.34 Q144.403 861.252 146.88 861.252 Q152.088 861.252 155.097 864.423 Q158.13 867.571 158.13 873.011 Q158.13 878.335 154.982 881.552 Q151.834 884.77 146.602 884.77 Q140.607 884.77 137.435 880.187 Q134.264 875.58 134.264 866.853 Q134.264 858.659 138.153 853.798 Q142.042 848.914 148.593 848.914 Q150.352 848.914 152.134 849.261 Q153.94 849.608 155.884 850.303 Z\" fill=\"#000000\" fill-rule=\"nonzero\" fill-opacity=\"1\" /><path clip-path=\"url(#clip990)\" d=\"M135.908 706.917 L158.13 706.917 L158.13 708.908 L145.584 741.477 L140.699 741.477 L152.505 710.853 L135.908 710.853 L135.908 706.917 Z\" fill=\"#000000\" fill-rule=\"nonzero\" fill-opacity=\"1\" /><path clip-path=\"url(#clip990)\" d=\"M146.278 582.444 Q142.945 582.444 141.023 584.227 Q139.125 586.009 139.125 589.134 Q139.125 592.259 141.023 594.041 Q142.945 595.824 146.278 595.824 Q149.611 595.824 151.533 594.041 Q153.454 592.236 153.454 589.134 Q153.454 586.009 151.533 584.227 Q149.634 582.444 146.278 582.444 M141.602 580.453 Q138.593 579.713 136.903 577.652 Q135.236 575.592 135.236 572.629 Q135.236 568.486 138.176 566.078 Q141.139 563.671 146.278 563.671 Q151.44 563.671 154.38 566.078 Q157.32 568.486 157.32 572.629 Q157.32 575.592 155.63 577.652 Q153.963 579.713 150.977 580.453 Q154.357 581.24 156.232 583.532 Q158.13 585.824 158.13 589.134 Q158.13 594.157 155.051 596.842 Q151.996 599.527 146.278 599.527 Q140.56 599.527 137.482 596.842 Q134.426 594.157 134.426 589.134 Q134.426 585.824 136.324 583.532 Q138.222 581.24 141.602 580.453 M139.889 573.069 Q139.889 575.754 141.556 577.259 Q143.246 578.764 146.278 578.764 Q149.287 578.764 150.977 577.259 Q152.69 575.754 152.69 573.069 Q152.69 570.384 150.977 568.879 Q149.287 567.375 146.278 567.375 Q143.246 567.375 141.556 568.879 Q139.889 570.384 139.889 573.069 Z\" fill=\"#000000\" fill-rule=\"nonzero\" fill-opacity=\"1\" /><path clip-path=\"url(#clip990)\" d=\"M136.51 455.517 L136.51 451.258 Q138.269 452.091 140.074 452.531 Q141.88 452.971 143.616 452.971 Q148.246 452.971 150.676 449.869 Q153.13 446.744 153.477 440.402 Q152.134 442.392 150.074 443.457 Q148.014 444.522 145.514 444.522 Q140.329 444.522 137.297 441.397 Q134.287 438.249 134.287 432.809 Q134.287 427.485 137.435 424.267 Q140.584 421.05 145.815 421.05 Q151.81 421.05 154.959 425.656 Q158.13 430.24 158.13 438.989 Q158.13 447.161 154.241 452.045 Q150.375 456.906 143.824 456.906 Q142.065 456.906 140.26 456.559 Q138.454 456.212 136.51 455.517 M145.815 440.864 Q148.963 440.864 150.792 438.712 Q152.644 436.559 152.644 432.809 Q152.644 429.082 150.792 426.929 Q148.963 424.753 145.815 424.753 Q142.667 424.753 140.815 426.929 Q138.986 429.082 138.986 432.809 Q138.986 436.559 140.815 438.712 Q142.667 440.864 145.815 440.864 Z\" fill=\"#000000\" fill-rule=\"nonzero\" fill-opacity=\"1\" /><path clip-path=\"url(#clip990)\" d=\"M106.834 309.678 L114.473 309.678 L114.473 283.313 L106.162 284.979 L106.162 280.72 L114.426 279.053 L119.102 279.053 L119.102 309.678 L126.741 309.678 L126.741 313.613 L106.834 313.613 L106.834 309.678 Z\" fill=\"#000000\" fill-rule=\"nonzero\" fill-opacity=\"1\" /><path clip-path=\"url(#clip990)\" d=\"M146.185 282.132 Q142.574 282.132 140.746 285.697 Q138.94 289.239 138.94 296.368 Q138.94 303.475 140.746 307.039 Q142.574 310.581 146.185 310.581 Q149.82 310.581 151.625 307.039 Q153.454 303.475 153.454 296.368 Q153.454 289.239 151.625 285.697 Q149.82 282.132 146.185 282.132 M146.185 278.428 Q151.996 278.428 155.051 283.035 Q158.13 287.618 158.13 296.368 Q158.13 305.095 155.051 309.701 Q151.996 314.285 146.185 314.285 Q140.375 314.285 137.297 309.701 Q134.241 305.095 134.241 296.368 Q134.241 287.618 137.297 283.035 Q140.375 278.428 146.185 278.428 Z\" fill=\"#000000\" fill-rule=\"nonzero\" fill-opacity=\"1\" /><path clip-path=\"url(#clip990)\" d=\"M856.949 12.096 L908.112 12.096 L908.112 18.9825 L886.642 18.9825 L886.642 72.576 L878.419 72.576 L878.419 18.9825 L856.949 18.9825 L856.949 12.096 Z\" fill=\"#000000\" fill-rule=\"nonzero\" fill-opacity=\"1\" /><path clip-path=\"url(#clip990)\" d=\"M929.784 34.1734 Q928.528 33.4443 927.03 33.1202 Q925.571 32.7556 923.789 32.7556 Q917.469 32.7556 914.067 36.8875 Q910.704 40.9789 910.704 48.6757 L910.704 72.576 L903.21 72.576 L903.21 27.2059 L910.704 27.2059 L910.704 34.2544 Q913.054 30.1225 916.821 28.1376 Q920.589 26.1121 925.976 26.1121 Q926.746 26.1121 927.678 26.2337 Q928.609 26.3147 929.744 26.5172 L929.784 34.1734 Z\" fill=\"#000000\" fill-rule=\"nonzero\" fill-opacity=\"1\" /><path clip-path=\"url(#clip990)\" d=\"M937.602 27.2059 L945.056 27.2059 L945.056 72.576 L937.602 72.576 L937.602 27.2059 M937.602 9.54393 L945.056 9.54393 L945.056 18.9825 L937.602 18.9825 L937.602 9.54393 Z\" fill=\"#000000\" fill-rule=\"nonzero\" fill-opacity=\"1\" /><path clip-path=\"url(#clip990)\" d=\"M981.271 49.7694 Q972.238 49.7694 968.754 51.8354 Q965.27 53.9013 965.27 58.8839 Q965.27 62.8538 967.863 65.2034 Q970.496 67.5124 974.992 67.5124 Q981.19 67.5124 984.917 63.1374 Q988.684 58.7219 988.684 51.4303 L988.684 49.7694 L981.271 49.7694 M996.138 46.6907 L996.138 72.576 L988.684 72.576 L988.684 65.6895 Q986.132 69.8214 982.324 71.8063 Q978.517 73.7508 973.007 73.7508 Q966.04 73.7508 961.908 69.8619 Q957.816 65.9325 957.816 59.3701 Q957.816 51.7138 962.921 47.825 Q968.065 43.9361 978.233 43.9361 L988.684 43.9361 L988.684 43.2069 Q988.684 38.0623 985.282 35.2672 Q981.919 32.4315 975.802 32.4315 Q971.914 32.4315 968.227 33.3632 Q964.541 34.295 961.138 36.1584 L961.138 29.2718 Q965.23 27.692 969.078 26.9223 Q972.926 26.1121 976.572 26.1121 Q986.416 26.1121 991.277 31.2163 Q996.138 36.3204 996.138 46.6907 M973.899 6.22219 L979.894 6.22219 L989.819 21.4536 L984.188 21.4536 L976.896 11.5289 L969.605 21.4536 L963.974 21.4536 L973.899 6.22219 Z\" fill=\"#000000\" fill-rule=\"nonzero\" fill-opacity=\"1\" /><path clip-path=\"url(#clip990)\" d=\"M1049.2 45.1919 L1049.2 72.576 L1041.75 72.576 L1041.75 45.4349 Q1041.75 38.994 1039.24 35.7938 Q1036.73 32.5936 1031.7 32.5936 Q1025.67 32.5936 1022.19 36.4419 Q1018.7 40.2903 1018.7 46.9338 L1018.7 72.576 L1011.21 72.576 L1011.21 27.2059 L1018.7 27.2059 L1018.7 34.2544 Q1021.38 30.163 1024.98 28.1376 Q1028.63 26.1121 1033.37 26.1121 Q1041.18 26.1121 1045.19 30.9732 Q1049.2 35.7938 1049.2 45.1919 Z\" fill=\"#000000\" fill-rule=\"nonzero\" fill-opacity=\"1\" /><path clip-path=\"url(#clip990)\" d=\"M1093.93 49.3643 Q1093.93 41.2625 1090.56 36.8065 Q1087.24 32.3505 1081.21 32.3505 Q1075.21 32.3505 1071.85 36.8065 Q1068.53 41.2625 1068.53 49.3643 Q1068.53 57.4256 1071.85 61.8816 Q1075.21 66.3376 1081.21 66.3376 Q1087.24 66.3376 1090.56 61.8816 Q1093.93 57.4256 1093.93 49.3643 M1101.38 66.9452 Q1101.38 78.5308 1096.24 84.1616 Q1091.09 89.8329 1080.48 89.8329 Q1076.55 89.8329 1073.06 89.2252 Q1069.58 88.6581 1066.3 87.4428 L1066.3 80.1917 Q1069.58 81.9741 1072.78 82.8248 Q1075.98 83.6755 1079.3 83.6755 Q1086.64 83.6755 1090.28 79.8271 Q1093.93 76.0193 1093.93 68.282 L1093.93 64.5957 Q1091.62 68.6061 1088.01 70.5911 Q1084.41 72.576 1079.38 72.576 Q1071.04 72.576 1065.94 66.2161 Q1060.83 59.8562 1060.83 49.3643 Q1060.83 38.832 1065.94 32.472 Q1071.04 26.1121 1079.38 26.1121 Q1084.41 26.1121 1088.01 28.0971 Q1091.62 30.082 1093.93 34.0924 L1093.93 27.2059 L1101.38 27.2059 L1101.38 66.9452 Z\" fill=\"#000000\" fill-rule=\"nonzero\" fill-opacity=\"1\" /><path clip-path=\"url(#clip990)\" d=\"M1115.96 54.671 L1115.96 27.2059 L1123.42 27.2059 L1123.42 54.3874 Q1123.42 60.8284 1125.93 64.0691 Q1128.44 67.2693 1133.46 67.2693 Q1139.5 67.2693 1142.98 63.421 Q1146.51 59.5726 1146.51 52.9291 L1146.51 27.2059 L1153.96 27.2059 L1153.96 72.576 L1146.51 72.576 L1146.51 65.6084 Q1143.79 69.7404 1140.19 71.7658 Q1136.62 73.7508 1131.88 73.7508 Q1124.07 73.7508 1120.01 68.8897 Q1115.96 64.0286 1115.96 54.671 M1134.72 26.1121 L1134.72 26.1121 Z\" fill=\"#000000\" fill-rule=\"nonzero\" fill-opacity=\"1\" /><path clip-path=\"url(#clip990)\" d=\"M1169.31 9.54393 L1176.77 9.54393 L1176.77 72.576 L1169.31 72.576 L1169.31 9.54393 Z\" fill=\"#000000\" fill-rule=\"nonzero\" fill-opacity=\"1\" /><path clip-path=\"url(#clip990)\" d=\"M1209.94 32.4315 Q1203.95 32.4315 1200.47 37.1306 Q1196.98 41.7891 1196.98 49.9314 Q1196.98 58.0738 1200.43 62.7728 Q1203.91 67.4314 1209.94 67.4314 Q1215.9 67.4314 1219.38 62.7323 Q1222.87 58.0333 1222.87 49.9314 Q1222.87 41.8701 1219.38 37.1711 Q1215.9 32.4315 1209.94 32.4315 M1209.94 26.1121 Q1219.67 26.1121 1225.22 32.4315 Q1230.77 38.7509 1230.77 49.9314 Q1230.77 61.0714 1225.22 67.4314 Q1219.67 73.7508 1209.94 73.7508 Q1200.18 73.7508 1194.63 67.4314 Q1189.12 61.0714 1189.12 49.9314 Q1189.12 38.7509 1194.63 32.4315 Q1200.18 26.1121 1209.94 26.1121 Z\" fill=\"#000000\" fill-rule=\"nonzero\" fill-opacity=\"1\" /><path clip-path=\"url(#clip992)\" d=\"M758.615 581.576 L1043.86 296.333 L758.615 1437.3 L758.615 581.576 L758.615 1722.55 L758.615 1722.55 L1043.86 1722.55 L758.615 1722.55  Z\" fill=\"#ffff00\" fill-rule=\"evenodd\" fill-opacity=\"0.5\"/>\n",
       "<polyline clip-path=\"url(#clip992)\" style=\"stroke:#009af9; stroke-linecap:round; stroke-linejoin:round; stroke-width:12; stroke-opacity:1; fill:none\" points=\"758.615,581.576 1043.86,296.333 758.615,1437.3 758.615,581.576 \"/>\n",
       "<circle clip-path=\"url(#clip992)\" cx=\"758.615\" cy=\"581.576\" r=\"14.4\" fill=\"#e26f46\" fill-rule=\"evenodd\" fill-opacity=\"1\" stroke=\"#000000\" stroke-opacity=\"1\" stroke-width=\"4\"/>\n",
       "<circle clip-path=\"url(#clip992)\" cx=\"1043.86\" cy=\"296.333\" r=\"14.4\" fill=\"#e26f46\" fill-rule=\"evenodd\" fill-opacity=\"1\" stroke=\"#000000\" stroke-opacity=\"1\" stroke-width=\"4\"/>\n",
       "<circle clip-path=\"url(#clip992)\" cx=\"758.615\" cy=\"1437.3\" r=\"14.4\" fill=\"#e26f46\" fill-rule=\"evenodd\" fill-opacity=\"1\" stroke=\"#000000\" stroke-opacity=\"1\" stroke-width=\"4\"/>\n",
       "<path clip-path=\"url(#clip990)\" d=\"M801.401 516.611 L790.302 546.709 L812.541 546.709 L801.401 516.611 M796.783 508.55 L806.06 508.55 L829.11 569.03 L820.603 569.03 L815.093 553.515 L787.831 553.515 L782.322 569.03 L773.693 569.03 L796.783 508.55 Z\" fill=\"#000000\" fill-rule=\"nonzero\" fill-opacity=\"1\" /><path clip-path=\"url(#clip990)\" d=\"M1073.38 254.904 L1073.38 277.063 L1086.5 277.063 Q1093.11 277.063 1096.26 274.348 Q1099.47 271.594 1099.47 265.963 Q1099.47 260.292 1096.26 257.618 Q1093.11 254.904 1086.5 254.904 L1073.38 254.904 M1073.38 230.032 L1073.38 248.261 L1085.49 248.261 Q1091.48 248.261 1094.4 246.033 Q1097.36 243.764 1097.36 239.146 Q1097.36 234.569 1094.4 232.3 Q1091.48 230.032 1085.49 230.032 L1073.38 230.032 M1065.19 223.307 L1086.1 223.307 Q1095.45 223.307 1100.52 227.196 Q1105.58 231.085 1105.58 238.255 Q1105.58 243.805 1102.99 247.086 Q1100.4 250.367 1095.37 251.177 Q1101.41 252.474 1104.73 256.605 Q1108.09 260.697 1108.09 266.854 Q1108.09 274.956 1102.58 279.372 Q1097.08 283.787 1086.91 283.787 L1065.19 283.787 L1065.19 223.307 Z\" fill=\"#000000\" fill-rule=\"nonzero\" fill-opacity=\"1\" /><path clip-path=\"url(#clip990)\" d=\"M825.788 1368.94 L825.788 1377.56 Q821.656 1373.72 816.957 1371.81 Q812.298 1369.91 807.032 1369.91 Q796.662 1369.91 791.153 1376.27 Q785.643 1382.59 785.643 1394.58 Q785.643 1406.53 791.153 1412.89 Q796.662 1419.21 807.032 1419.21 Q812.298 1419.21 816.957 1417.3 Q821.656 1415.4 825.788 1411.55 L825.788 1420.1 Q821.494 1423.02 816.673 1424.47 Q811.893 1425.93 806.546 1425.93 Q792.814 1425.93 784.914 1417.55 Q777.015 1409.12 777.015 1394.58 Q777.015 1380 784.914 1371.61 Q792.814 1363.18 806.546 1363.18 Q811.974 1363.18 816.754 1364.64 Q821.575 1366.06 825.788 1368.94 Z\" fill=\"#000000\" fill-rule=\"nonzero\" fill-opacity=\"1\" /></svg>\n"
      ]
     },
     "execution_count": 24,
     "metadata": {},
     "output_type": "execute_result"
    }
   ],
   "source": [
    "#A função gera as figuras a partir do código anterior.\n",
    "gerar_tri(x,y)"
   ]
  },
  {
   "cell_type": "markdown",
   "id": "4f363133",
   "metadata": {
    "slideshow": {
     "slide_type": "subslide"
    }
   },
   "source": [
    "### 🔺 Desafio 1: Existência do Triângulo\n",
    "\n",
    "**🎯 Objetivo:**  \n",
    "Observar a figura na malha quadriculada e decidir se os três pontos marcados formam um triângulo.\n",
    "\n",
    "**💡 Dica:**  \n",
    "Use o **princípio da desigualdade triangular**:  \n",
    "> A soma das medidas de dois lados de um triângulo deve ser **sempre maior** que a medida do terceiro lado.\n",
    "___"
   ]
  },
  {
   "cell_type": "markdown",
   "id": "b53d98ea",
   "metadata": {
    "slideshow": {
     "slide_type": "subslide"
    }
   },
   "source": [
    "### ✏️ Informe sua resposta abaixo.\n",
    "<hr style=\"border: none; height: 1px; background-color: black; \">"
   ]
  },
  {
   "cell_type": "code",
   "execution_count": 23,
   "id": "bfd70a08",
   "metadata": {
    "slideshow": {
     "slide_type": "fragment"
    }
   },
   "outputs": [
    {
     "name": "stdout",
     "output_type": "stream",
     "text": [
      "A figuara é um triângulo?:\n",
      "Digite (s/n) para informar sua conclusão:\n",
      "stdin> s\n",
      "✅ Você acertou!\n"
     ]
    }
   ],
   "source": [
    "exist_tri(x,y)"
   ]
  },
  {
   "cell_type": "markdown",
   "id": "f368e1f5",
   "metadata": {},
   "source": [
    "<hr style=\"border: none; height: 1px; background-color: black; \">"
   ]
  },
  {
   "cell_type": "markdown",
   "id": "a05b7850",
   "metadata": {
    "slideshow": {
     "slide_type": "subslide"
    }
   },
   "source": [
    "### 🔺 Desafio 2: Classificação do Triângulo\n",
    "\n",
    "**🎯 Objetivo:**  \n",
    "Observar a figura na malha quadriculada e decidir se os três pontos marcados formam um triângulo. Se formar, classifique-o como:\n",
    "> **💡 Dica:**\n",
    "- 1️⃣ Equilátero: todos os lados iguais;\n",
    "- 2️⃣ Isósceles: dois lados iguais;\n",
    "- 3️⃣ Escaleno: todos os lados diferentes.\n"
   ]
  },
  {
   "cell_type": "markdown",
   "id": "8465ea05",
   "metadata": {
    "slideshow": {
     "slide_type": "subslide"
    }
   },
   "source": [
    "### 💻 Compile o código abaixo\n",
    "___"
   ]
  },
  {
   "cell_type": "code",
   "execution_count": 12,
   "id": "27cc93e3",
   "metadata": {
    "slideshow": {
     "slide_type": "fragment"
    }
   },
   "outputs": [
    {
     "ename": "LoadError",
     "evalue": "UndefVarError: `gerar_tri` not defined",
     "output_type": "error",
     "traceback": [
      "UndefVarError: `gerar_tri` not defined",
      "",
      "Stacktrace:",
      " [1] top-level scope",
      "   @ In[12]:1"
     ]
    }
   ],
   "source": [
    "gerar_tri(x,y)"
   ]
  },
  {
   "cell_type": "code",
   "execution_count": 13,
   "id": "21729d29",
   "metadata": {
    "slideshow": {
     "slide_type": "subslide"
    }
   },
   "outputs": [
    {
     "ename": "LoadError",
     "evalue": "UndefVarError: `class_tri` not defined",
     "output_type": "error",
     "traceback": [
      "UndefVarError: `class_tri` not defined",
      "",
      "Stacktrace:",
      " [1] top-level scope",
      "   @ In[13]:1"
     ]
    }
   ],
   "source": [
    "class_tri(x,y)"
   ]
  },
  {
   "cell_type": "markdown",
   "id": "a9ac3b65",
   "metadata": {
    "slideshow": {
     "slide_type": "fragment"
    }
   },
   "source": [
    "<hr style=\"border: none; height: 1px; background-color: blue; \">"
   ]
  },
  {
   "cell_type": "markdown",
   "id": "d0989194",
   "metadata": {
    "slideshow": {
     "slide_type": "subslide"
    }
   },
   "source": [
    "### 🔺 Desafio 3: Encontre as medidas dos lados com Aproximação de uma Casa Decimal\n",
    "\n",
    "**🎯 Objetivo:**  \n",
    "Com base no **mesmo triângulo do desafio anterior**, calcule o comprimento dos **três lados** e o **perímetro total**, com **aproximação de uma casa decimal**.\n",
    "\n",
    "---\n"
   ]
  },
  {
   "cell_type": "markdown",
   "id": "069356d5",
   "metadata": {
    "slideshow": {
     "slide_type": "subslide"
    }
   },
   "source": [
    "### ⚙️ Como fazer:\n",
    "\n",
    "1. Utilize os **três pontos marcados na malha quadriculada**.\n",
    "2. Calcule as distâncias entre os pares de pontos:\n",
    "      - $AB$\n",
    "      - $AC$\n",
    "      - $BC$\n",
    "3. Use o **Teorema de Pitágoras** para facilitar os cálculos de distância entre dois pontos!\n",
    "4. Arredonde cada medida para **uma casa decimal**.\n",
    "5. Some os três lados para encontrar o **perímetro aproximado**.\n",
    ">**💡 Teorema de Pitágoras**: $a^2= b^2+c^2$, onde $a$ é a hipotenusa e $b$ e $c$ são os catetos."
   ]
  },
  {
   "cell_type": "markdown",
   "id": "621f392f",
   "metadata": {
    "slideshow": {
     "slide_type": "subslide"
    }
   },
   "source": [
    "### 💻 Compile o código abaixo\n",
    "___"
   ]
  },
  {
   "cell_type": "code",
   "execution_count": 14,
   "id": "923fc80e",
   "metadata": {
    "slideshow": {
     "slide_type": "fragment"
    }
   },
   "outputs": [
    {
     "ename": "LoadError",
     "evalue": "UndefVarError: `gerar_tri` not defined",
     "output_type": "error",
     "traceback": [
      "UndefVarError: `gerar_tri` not defined",
      "",
      "Stacktrace:",
      " [1] top-level scope",
      "   @ In[14]:1"
     ]
    }
   ],
   "source": [
    "gerar_tri(x,y)"
   ]
  },
  {
   "cell_type": "markdown",
   "id": "b9d420dc",
   "metadata": {
    "slideshow": {
     "slide_type": "subslide"
    }
   },
   "source": [
    "### 📝 Informe sua resposta:\n",
    "\n",
    "- Lado $AB$ ≈ ____________  \n",
    "- Lado $AC$ ≈ ____________  \n",
    "- Lado $BC$ ≈ ____________  \n",
    "\n",
    "### ✅ Confira sua resposta na célula abaixo!"
   ]
  },
  {
   "cell_type": "code",
   "execution_count": 15,
   "id": "a5ab7c73",
   "metadata": {
    "slideshow": {
     "slide_type": "fragment"
    }
   },
   "outputs": [
    {
     "name": "stdout",
     "output_type": "stream",
     "text": [
      "AB = 2.83\n",
      "AC= 6.0\n",
      "BC = 8.25\n"
     ]
    }
   ],
   "source": [
    "med_lados(x,y)"
   ]
  },
  {
   "cell_type": "markdown",
   "id": "0d35555b",
   "metadata": {
    "slideshow": {
     "slide_type": "fragment"
    }
   },
   "source": [
    "<hr style=\"border: none; height: 1px; background-color: blue; \">"
   ]
  },
  {
   "cell_type": "markdown",
   "id": "839abf6f",
   "metadata": {
    "slideshow": {
     "slide_type": "subslide"
    }
   },
   "source": [
    "\n",
    "### 🔺 Desafio 4: Cálculo do Perímetro com Aproximação de uma Casa Decimal\n",
    "\n",
    "**🎯 Objetivo:**  \n",
    "Com base no **mesmo triângulo do desafio anterior**, calcule o **perímetro total** com arredondamento para **uma casa decimal**.\n",
    "\n",
    "---\n",
    "\n",
    "### ⚙️ Como fazer:\n",
    "\n",
    "1. Some as medidas e **ecpntradas no desafio 3**.\n",
    "2. Informe o valor do **perímetro aproximado**.\n",
    "\n",
    "---\n",
    "\n",
    "**💡 Dica:**  \n",
    "$$\n",
    "\\text{Perímetro} = AB + AC + BC\n",
    "$$\n",
    "\n",
    "---\n"
   ]
  },
  {
   "cell_type": "markdown",
   "id": "8225b1eb",
   "metadata": {
    "slideshow": {
     "slide_type": "subslide"
    }
   },
   "source": [
    "### 💻 Compile o código abaixo\n",
    "___"
   ]
  },
  {
   "cell_type": "code",
   "execution_count": 16,
   "id": "253b25da",
   "metadata": {
    "slideshow": {
     "slide_type": "fragment"
    }
   },
   "outputs": [
    {
     "ename": "LoadError",
     "evalue": "UndefVarError: `gerar_tri` not defined",
     "output_type": "error",
     "traceback": [
      "UndefVarError: `gerar_tri` not defined",
      "",
      "Stacktrace:",
      " [1] top-level scope",
      "   @ In[16]:1"
     ]
    }
   ],
   "source": [
    "gerar_tri(x,y)"
   ]
  },
  {
   "cell_type": "markdown",
   "id": "4a32d352",
   "metadata": {
    "slideshow": {
     "slide_type": "subslide"
    }
   },
   "source": [
    "### 📝 Informe sua resposta:\n",
    "\n",
    "- Perímetro: ____________unidades  \n",
    "\n",
    "### ✅ Confira sua resposta na célula abaixo!"
   ]
  },
  {
   "cell_type": "code",
   "execution_count": 17,
   "id": "eda434d4",
   "metadata": {
    "slideshow": {
     "slide_type": "fragment"
    }
   },
   "outputs": [
    {
     "name": "stdout",
     "output_type": "stream",
     "text": [
      "O perímetro do triângulo ABC mede: 17.1 unidades \n"
     ]
    }
   ],
   "source": [
    "perimetro(x,y)"
   ]
  },
  {
   "cell_type": "markdown",
   "id": "8c58c320",
   "metadata": {
    "slideshow": {
     "slide_type": "subslide"
    }
   },
   "source": [
    "### 🔺 Desafio 5: Cálculo da Área com Aproximação de Duas Casas Decimais\n",
    "\n",
    "**🎯 Objetivo:**  \n",
    "Com base no **mesmo triângulo do desafio anterior**, calcule a **área total** com arredondamento para **duas casas decimais**.\n",
    "\n",
    "---"
   ]
  },
  {
   "cell_type": "markdown",
   "id": "9b0f2bb8",
   "metadata": {
    "slideshow": {
     "slide_type": "subslide"
    }
   },
   "source": [
    "### ⚙️ Como fazer:\n",
    "\n",
    "Você pode escolher uma das abordagens abaixo:\n",
    "\n",
    "1. **Área do triângulo retângulo**:  \n",
    "   Use a fórmula:  \n",
    "   $$\n",
    "   A = \\dfrac{\\text{base} \\times \\text{altura}}{2}\n",
    "   $$\n",
    "---"
   ]
  },
  {
   "cell_type": "markdown",
   "id": "8df42067",
   "metadata": {
    "slideshow": {
     "slide_type": "subslide"
    }
   },
   "source": [
    "### ⚙️ Como fazer:\n",
    "\n",
    "2. **Complete o retângulo** \n",
    "> **💡 Dica:**  \n",
    "    1. ✏️ **Complete o triângulo** com outros triângulos até formar um **retângulo inteiro** ao redor dele.  \n",
    "    2. 📐 **Calcule a área do retângulo completo.**  \n",
    "    3. 🔺 **Calcule a área dos triângulos adicionados** (aqueles que estão fora do triângulo original).  \n",
    "    4. ➖ **Subtraia as áreas adicionadas** da área do retângulo.  \n",
    "&nbsp;&nbsp;&nbsp;&nbsp;✅ O resultado será **a área do triângulo original**!\n",
    "\n",
    "---"
   ]
  },
  {
   "cell_type": "markdown",
   "id": "0cacae5d",
   "metadata": {
    "slideshow": {
     "slide_type": "subslide"
    }
   },
   "source": [
    "### ⚙️ Como fazer:\n",
    "\n",
    "3. **Fórmula de Herão** (para qualquer triângulo):  \n",
    "   Primeiro calcule o semiperímetro:  \n",
    "   $$\n",
    "   p = \\dfrac{a + b + c}{2}\n",
    "   $$  \n",
    "   Depois aplique na fórmula:  \n",
    "   $$\n",
    "   A = \\sqrt{p(p - a)(p - b)(p - c)}\n",
    "   $$  \n",
    "   Onde $a$, $b$, e $c$ são os comprimentos dos lados do triângulo.\n",
    "\n",
    "---"
   ]
  },
  {
   "cell_type": "markdown",
   "id": "c2f221ec",
   "metadata": {
    "slideshow": {
     "slide_type": "subslide"
    }
   },
   "source": [
    "### 💻 Compile o código abaixo\n",
    "___"
   ]
  },
  {
   "cell_type": "code",
   "execution_count": 18,
   "id": "31f16033",
   "metadata": {
    "slideshow": {
     "slide_type": "fragment"
    }
   },
   "outputs": [
    {
     "ename": "LoadError",
     "evalue": "UndefVarError: `gerar_tri` not defined",
     "output_type": "error",
     "traceback": [
      "UndefVarError: `gerar_tri` not defined",
      "",
      "Stacktrace:",
      " [1] top-level scope",
      "   @ In[18]:1"
     ]
    }
   ],
   "source": [
    "gerar_tri(x,y)"
   ]
  },
  {
   "cell_type": "markdown",
   "id": "ff691304",
   "metadata": {
    "slideshow": {
     "slide_type": "subslide"
    }
   },
   "source": [
    "### 📝 Informe sua resposta:\n",
    "\n",
    "- Área total ≈ ____________ unidades²\n",
    "\n",
    "### ✅ Confira sua resposta na célula abaixo!"
   ]
  },
  {
   "cell_type": "code",
   "execution_count": 19,
   "id": "a6b50882",
   "metadata": {
    "slideshow": {
     "slide_type": "fragment"
    }
   },
   "outputs": [
    {
     "name": "stdout",
     "output_type": "stream",
     "text": [
      "A área do triangulo ABC mede: 6.0 unidades²\n"
     ]
    }
   ],
   "source": [
    "area(x,y)"
   ]
  },
  {
   "cell_type": "markdown",
   "id": "45e00a42",
   "metadata": {
    "slideshow": {
     "slide_type": "slide"
    }
   },
   "source": [
    "## 📚 Atividades Complementares\n",
    "---\n",
    "\n",
    "Nesta seção, você encontrará uma lista de exercícios semelhantes aos aplicados nas avaliações SAEB e SPAECE, com o objetivo de aprofundar a compreensão dos conteúdos trabalhados e verificar seu domínio sobre os temas estudados.\n",
    "\n",
    "### Objetivos das atividades:\n",
    "- Fixar os conceitos fundamentais.\n",
    "- Desenvolver habilidades para resolver problemas envolvendo os **objetos de conhecimento** estudados.\n",
    "- Preparar para avaliações externas com questões no estilo SAEB/SPAECE.\n",
    "\n",
    "---\n"
   ]
  }
 ],
 "metadata": {
  "@webio": {
   "lastCommId": null,
   "lastKernelId": null
  },
  "celltoolbar": "Slideshow",
  "kernelspec": {
   "display_name": "Julia 1.10.5",
   "language": "julia",
   "name": "julia-1.10"
  },
  "language_info": {
   "file_extension": ".jl",
   "mimetype": "application/julia",
   "name": "julia",
   "version": "1.10.5"
  }
 },
 "nbformat": 4,
 "nbformat_minor": 5
}
