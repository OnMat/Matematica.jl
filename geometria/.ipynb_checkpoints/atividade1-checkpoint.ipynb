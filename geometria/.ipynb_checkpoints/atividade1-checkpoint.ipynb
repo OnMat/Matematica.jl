{
 "cells": [
  {
   "cell_type": "markdown",
   "id": "9d3cf808",
   "metadata": {
    "slideshow": {
     "slide_type": "slide"
    }
   },
   "source": [
    "<hr style=\"border: none; height: 3px; background-color: blue; \">\n",
    "<center><h1>🎮 Jogo do Ângulo Complementar </h1>\n",
    "<hr style=\"border: none; height: 3px; background-color: blue; \">"
   ]
  },
  {
   "cell_type": "markdown",
   "id": "2cf9006d",
   "metadata": {
    "slideshow": {
     "slide_type": "subslide"
    }
   },
   "source": [
    "<h2>Ângulos complementares</h2>\n",
    "<hr style=\"border: none; height: 2px; background-color: blue; \">"
   ]
  },
  {
   "cell_type": "markdown",
   "id": "16e49a0c",
   "metadata": {
    "slideshow": {
     "slide_type": "fragment"
    }
   },
   "source": [
    "## \n",
    "\n",
    "### Objetivo:\n",
    "Neste desafio, o código vai fornecer a medida de **um ângulo** compreendido entre 0 e 90 graus. Seu objetivo é **descobrir** e **informar** a medida do **ângulo complementar** a esse, com base na definição de ângulo complementar.\n",
    "\n",
    "### Como funciona:\n",
    "1. O código gerará um ângulo aleatório entre 0 e 90 graus, múltiplos de 5.\n",
    "2. Você deve calcular o valor do **ângulo complementar**.\n",
    "3. O código verificará sua resposta e fornecerá feedback.\n"
   ]
  },
  {
   "cell_type": "markdown",
   "id": "740390cd",
   "metadata": {
    "slideshow": {
     "slide_type": "subslide"
    }
   },
   "source": [
    "**Definição:** Sejam $\\alpha$ e $\\beta$ ângulos compreendidos entre $0^\\circ$ e $90^\\circ$. Dizemos que eles são complementares se $\\alpha + \\beta = 90^\\circ$."
   ]
  },
  {
   "cell_type": "code",
   "execution_count": 2,
   "id": "1d55f189",
   "metadata": {
    "slideshow": {
     "slide_type": "subslide"
    }
   },
   "outputs": [
    {
     "name": "stdout",
     "output_type": "stream",
     "text": [
      "**********************************\n",
      "🏆 JOGO DO ÂNGULO COMPLEMENTAR 🏆\n",
      "**********************************\n",
      "Qual o ângulo COMPLEMENTAR de 14 graus? \n",
      "stdin> 76\n",
      "Parabéns, você acertou! 👏👏👏👏👏👏👏👏👏👏\n"
     ]
    }
   ],
   "source": [
    "println(repeat(\"*\", 34))\n",
    "println(\"🏆 JOGO DO ÂNGULO COMPLEMENTAR 🏆\")\n",
    "println(repeat(\"*\", 34))\n",
    "\n",
    "α = rand(0:90)\n",
    "println(\"Qual o ângulo COMPLEMENTAR de $α graus? \")\n",
    "β = parse(Int, readline())\n",
    "\n",
    "if α + β == 90\n",
    "    println(\"Parabéns, você acertou! 👏👏👏👏👏👏👏👏👏👏\")\n",
    "else\n",
    "    println(\"Não foi dessa vez! 😭😭😭😭😭😭😭\")\n",
    "end"
   ]
  },
  {
   "cell_type": "markdown",
   "id": "736b6bb9",
   "metadata": {
    "slideshow": {
     "slide_type": "subslide"
    }
   },
   "source": [
    "<h2>Ângulos suplementares</h2>"
   ]
  },
  {
   "cell_type": "markdown",
   "id": "2ce6f6f4",
   "metadata": {
    "slideshow": {
     "slide_type": "fragment"
    }
   },
   "source": [
    "## 🎮 Desafio 1: Jogo do Ângulo Suplementar\n",
    "\n",
    "### Objetivo:\n",
    "Neste desafio, o código vai fornecer a medida de **um ângulo** compreendido entre 0 e 180 graus. Seu objetivo é **descobrir** e **informar** a medida do **ângulo suplementar** a esse, com base na definição de ângulo suplementar.\n",
    "\n",
    "### Como funciona:\n",
    "1. O código gerará um ângulo aleatório entre 0 e 180 graus, multiplos de 5.\n",
    "2. Você deve calcular o valor do **ângulo suplementar**.\n",
    "3. O código verificará sua resposta e fornecerá feedback.\n"
   ]
  },
  {
   "cell_type": "markdown",
   "id": "ce830850",
   "metadata": {
    "slideshow": {
     "slide_type": "subslide"
    }
   },
   "source": [
    "**Definição:** Sejam $\\alpha$ e $\\beta$ ângulos compreendidos entre $0^\\circ$ e $180^\\circ$. Dizemos que eles são suplementares se $\\alpha + \\beta = 180^\\circ$.\n"
   ]
  },
  {
   "cell_type": "markdown",
   "id": "bc53a465",
   "metadata": {
    "slideshow": {
     "slide_type": "subslide"
    }
   },
   "source": [
    "<h3>Digite o código na celula abaixo.</h3>"
   ]
  },
  {
   "cell_type": "code",
   "execution_count": 120,
   "id": "40215fe9",
   "metadata": {
    "slideshow": {
     "slide_type": "fragment"
    }
   },
   "outputs": [
    {
     "name": "stdout",
     "output_type": "stream",
     "text": [
      "**********************************\n",
      "🏆 JOGO DO ÂNGULO SUPLEMENTAR 🏆\n",
      "**********************************\n",
      "Qual o ângulo SUPLEMENTAR de 70 graus? \n",
      "stdin> 110\n",
      "Parabéns, você acertou! 👏👏👏👏👏👏👏👏👏👏\n"
     ]
    }
   ],
   "source": [
    "println(repeat(\"*\", 34))\n",
    "println(\"🏆 JOGO DO ÂNGULO SUPLEMENTAR 🏆\")\n",
    "println(repeat(\"*\", 34))\n",
    "\n",
    "α = rand(0:10:180)\n",
    "println(\"Qual o ângulo SUPLEMENTAR de $α graus? \")\n",
    "β = parse(Int, readline())\n",
    "\n",
    "if α + β == 180\n",
    "    println(\"Parabéns, você acertou! 👏👏👏👏👏👏👏👏👏👏\")\n",
    "else\n",
    "    println(\"Não foi dessa vez! 😭😭😭😭😭😭😭\")\n",
    "end"
   ]
  }
 ],
 "metadata": {
  "kernelspec": {
   "display_name": "Julia 1.10.5",
   "language": "julia",
   "name": "julia-1.10"
  },
  "language_info": {
   "file_extension": ".jl",
   "mimetype": "application/julia",
   "name": "julia",
   "version": "1.10.5"
  }
 },
 "nbformat": 4,
 "nbformat_minor": 5
}
