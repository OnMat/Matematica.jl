{
 "cells": [
  {
   "cell_type": "markdown",
   "id": "9d3cf808",
   "metadata": {
    "slideshow": {
     "slide_type": "slide"
    }
   },
   "source": [
    "<hr style=\"border: none; height: 3px; background-color: blue; \">\n",
    "\n",
    "# Desafio dos Triângulos \n",
    "\n",
    "<hr style=\"border: none; height: 3px; background-color: blue; \">"
   ]
  },
  {
   "cell_type": "markdown",
   "id": "6eea819d",
   "metadata": {
    "slideshow": {
     "slide_type": "slide"
    }
   },
   "source": [
    "## 📗 Objetos de conhecimento abordado\n",
    "- Triângulos: construção, condição de existência;\n",
    "- Polígonos: classificações quanto ao número de vértices, às medidas de lados;\n",
    "- Distância entre pontos no plano cartesiano;\n",
    "- Áreas e perímetros de figuras poligonais: algumas relações\n",
    "- Equivalência de área de figuras planas: cálculo de áreas de figuras que podem ser decompostas por outras, cujas áreas podem ser facilmente determinadas como triângulos e quadriláteros;\n",
    "- Área de figuras planas.\n",
    "<hr style=\"border: none; height: 2px; background-color: blue; \">"
   ]
  },
  {
   "cell_type": "markdown",
   "id": "6413fe53",
   "metadata": {
    "slideshow": {
     "slide_type": "subslide"
    }
   },
   "source": [
    "## 🧾Habilidade BNCC e Descritores do SPAECE/SAEB\n",
    "___"
   ]
  },
  {
   "cell_type": "markdown",
   "id": "04a651bf",
   "metadata": {
    "slideshow": {
     "slide_type": "subslide"
    }
   },
   "source": [
    "### Habilidade BNCC\n",
    "- **(EF07MA26)** Descrever, por escrito e por meio de um fluxograma, um algoritmo para a construção de um triângulo qualquer, conhecidas as medidas dos três lados.\n",
    "- **(EF06MA19)** Identificar características dos triângulos e classificá-los em relação às medidas dos lados e dos ângulos.\n",
    "- **(EF09MA16):** Determinar o ponto médio de um segmento de reta e a distância entre dois pontos quaisquer, dadas as coordenadas desses pontos no plano cartesiano, sem o uso de fórmulas, e utilizar esse conhecimento para calcular, por exemplo, medidas de perímetros e áreas de figuras planas construídas no plano.\n",
    "- **(EF05MA20)** Concluir, por meio de investigações, que figuras de perímetros iguais podem ter áreas diferentes e que, também, figuras que têm a mesma área podem ter perímetros diferentes.\n",
    "- **(EF07MA31):** Estabelecer expressões de cálculo de área de triângulos e de quadriláteros.\n",
    "\n",
    "- **(EF08MA19):** Resolver e elaborar problemas que envolvam medidas de área de figuras geométricas, utilizando expressões de cálculo de área (quadriláteros, triângulos e círculos), em situações como determinar medida de terrenos."
   ]
  },
  {
   "cell_type": "markdown",
   "id": "b63549c0",
   "metadata": {
    "slideshow": {
     "slide_type": "subslide"
    }
   },
   "source": [
    "### Descritores do  SPAECE/SAEB relacionados:\n",
    "- **D03:** Identificar propriedades de triângulos pela comparação de medidas de lados e ângulos. \n",
    "- **D09:** Interpretar informações apresentadas por meio de coordenadas cartesianas.\n",
    "- **D12:** Resolver problema envolvendo o cálculo de perímetro de figuras planas.\n",
    "- **D13:** Resolver problema envolvendo o cálculo de área de figuras planas.\n",
    "\n",
    "<hr style=\"border: none; height: 2px; background-color: blue; \">"
   ]
  },
  {
   "cell_type": "markdown",
   "id": "db9be172",
   "metadata": {
    "slideshow": {
     "slide_type": "slide"
    }
   },
   "source": [
    "## 📖 Definição:\n",
    "---\n",
    "\n",
    "O triângulo é um polígono convexo de três lados. Seja $ ABC $ um triângulo; destacaremos abaixo seus principais elementos:\n",
    "\n",
    "✅ **Vértices** são pontos: $ A $, $ B $ e $ C $.  \n",
    "✅ **Lados** são os sgmentos de retas$ \\overline{AB} $, $ \\overline{AC} $ e $ \\overline{BC} $: são seus **lados**.  \n",
    "✅ **Ângulos internos** são $ \\hat{A} $, $ \\hat{B} $ e $ \\hat{C} $..\n",
    "\n",
    "Representamos o triângulo como $ \\triangle ABC $.\n",
    "\n",
    "---\n",
    "\n",
    "### 📚 Referência Bibliográfica\n",
    "\n",
    "- **Giovanni, J. R., Castrucci, B., & Giovanni Jr., J. R.** (1998). *A Conquista da Matemática - 7ª série* (Vol. 7, 288 p.). São Paulo: FTD. \n"
   ]
  },
  {
   "cell_type": "markdown",
   "id": "8d17f277",
   "metadata": {
    "slideshow": {
     "slide_type": "skip"
    }
   },
   "source": [
    "## ⚠️ Área de Códigos\n",
    "\n",
    "> Nesta seção, você encontrará todos os códigos usados para os desafios e exemplos.\n"
   ]
  },
  {
   "cell_type": "markdown",
   "id": "2af4d357",
   "metadata": {
    "slideshow": {
     "slide_type": "skip"
    }
   },
   "source": [
    "## 🎮 Como Jogar?\n",
    "\n",
    "🔧 **Passo 1:** Compile todas as células desde o **Código 01** até o **Código 08**.\n",
    "\n",
    "📽️ **Passo 2:** A partir da célula **Desafios**, ative o **modo apresentação de slides** (*slide mode*).\n",
    "\n",
    "🕹️ **Passo 3:** Siga as instruções exibidas e **divirta-se jogando!**\n",
    "\n",
    "---\n",
    "✨ Boa sorte! Que comecem os desafios! ✨\n"
   ]
  },
  {
   "cell_type": "markdown",
   "id": "32ef7185",
   "metadata": {
    "slideshow": {
     "slide_type": "skip"
    }
   },
   "source": [
    "### 💻⚙️ Código 1: Gera os pontos e calcula as medidada dos lados do triângulo\n",
    "---"
   ]
  },
  {
   "cell_type": "code",
   "execution_count": null,
   "id": "131f02e2",
   "metadata": {
    "slideshow": {
     "slide_type": "skip"
    }
   },
   "outputs": [],
   "source": [
    "using Plots\n",
    "gr(size=(500,500))\n",
    "a=rand(0:10)\n",
    "b=rand(0:10)\n",
    "x=[a,rand(0:10),rand(0:10), a]\n",
    "y=[b,rand(0:10),rand(0:10), b]\n",
    "AB =hypot(x[1]-x[2], y[1]-y[2])\n",
    "AC =hypot(x[1]-x[3], y[1]-y[3])\n",
    "BC =hypot(x[2]-x[3], y[2]-y[3]);"
   ]
  },
  {
   "cell_type": "markdown",
   "id": "dacbc376",
   "metadata": {
    "slideshow": {
     "slide_type": "skip"
    }
   },
   "source": [
    "### 💻⚙️ Código 2. Gera a figura\n",
    "---"
   ]
  },
  {
   "cell_type": "code",
   "execution_count": null,
   "id": "e08ed796",
   "metadata": {
    "slideshow": {
     "slide_type": "skip"
    }
   },
   "outputs": [],
   "source": [
    "function gerar_tri(x,y) \n",
    "    plot(x,y,\n",
    "        title=\"Triângulo\", \n",
    "        lw=3, \n",
    "        label=false, \n",
    "        xlim = (-1, 11), \n",
    "        ylim = (-1, 11),\n",
    "        aspect_ratio = :equal,\n",
    "        grid=:on, gridalpha=0.7, gridstyle = :dash ,\n",
    "        fillrange=0, fillalpha=0.5 ,fillcolor= :yellow,\n",
    "        xticks = 0:10,    # Ticks no eixo X de 0 a 10\n",
    "        yticks = 0:10)    # Ticks no eixo Y de 0 a 10)\n",
    "\n",
    "    scatter!(x[1:3], y[1:3],\n",
    "             label = false,\n",
    "             annotations = (x[1:3] .+ 0.3, y[1:3] .+ 0.3, [\"A\", \"B\", \"C\"]))\n",
    "end"
   ]
  },
  {
   "cell_type": "markdown",
   "id": "681830cb",
   "metadata": {
    "slideshow": {
     "slide_type": "skip"
    }
   },
   "source": [
    "### 💻⚙️Código 3: Teste de existência do triângulo\n",
    "---"
   ]
  },
  {
   "cell_type": "code",
   "execution_count": null,
   "id": "c3867ccb",
   "metadata": {
    "slideshow": {
     "slide_type": "skip"
    }
   },
   "outputs": [],
   "source": [
    "function exist_tri(x, y)\n",
    "    println(\"A figuara é um triângulo?:\")\n",
    "    println(\"✍️ Digite (s/n) para informar sua conclusão:\")\n",
    "    d1 = readline()\n",
    "    # Verifica a desigualdade triangular:\n",
    "    if (AB <= AC + BC) && (AC <= AB + BC) && (BC <= AB + AC)\n",
    "        exist = \"s\"  # Sim, triângulo existe\n",
    "    else\n",
    "        exist = \"n\"  # Não, triângulo não existe\n",
    "    end\n",
    "    if exist==d1\n",
    "        println(\"✅ Você acertou!\")\n",
    "    else\n",
    "        println(\"❌ Você errou!\")\n",
    "        println(\"🔄Retorte a célula de código 1 e gere novas coordenas\")\n",
    "    end\n",
    "end"
   ]
  },
  {
   "cell_type": "markdown",
   "id": "6ab52cf3",
   "metadata": {
    "slideshow": {
     "slide_type": "skip"
    }
   },
   "source": [
    "### 💻⚙️ Código 4. Gera os vértices da figura\n",
    "---"
   ]
  },
  {
   "cell_type": "code",
   "execution_count": null,
   "id": "a61c94ea",
   "metadata": {
    "slideshow": {
     "slide_type": "skip"
    }
   },
   "outputs": [],
   "source": [
    "function gerar_vert(x,y)\n",
    "    println(\"Informe as coordenada x e y do ponto A\")\n",
    "    x₁= parse(Int, readline())\n",
    "    y₁ = parse(Int, readline())\n",
    "    println(\"Informe as coordenada x e y do ponto B\")\n",
    "    x₂= parse(Int, readline())\n",
    "    y₂ = parse(Int, readline())\n",
    "    println(\"Informe as coordenada x e y do ponto C\")\n",
    "    x₃= parse(Int, readline())\n",
    "    y₃ = parse(Int, readline())\n",
    "    println(repeat(\"*\", 10))\n",
    "    A = [x[1],y[1]]\n",
    "    B = [x[2],y[2]]\n",
    "    C = [x[3],y[3]]\n",
    "    if A==[x₁,y₁]\n",
    "        println(\"✅ Ponto A!\")\n",
    "    else\n",
    "        println(\"❌ Ponto A!\")\n",
    "        println(\"🔁Tente novamente!\")\n",
    "    end\n",
    "    if B==[x₂,y₂]\n",
    "        println(\"✅ Ponto B!\")\n",
    "    else\n",
    "        println(\"❌ Ponto B!\")\n",
    "        println(\"🔁Tente novamente!\")\n",
    "    end\n",
    "    if C==[x₃,y₃]\n",
    "        println(\"✅ Ponto C!\")\n",
    "    else\n",
    "        println(\"❌Ponto C!\")\n",
    "        println(\"🔁Tente novamente!\")\n",
    "    end    \n",
    "end"
   ]
  },
  {
   "cell_type": "markdown",
   "id": "27de6b02",
   "metadata": {
    "slideshow": {
     "slide_type": "skip"
    }
   },
   "source": [
    "### 💻⚙️ Código 5: Cálculo das medidas dos lados\n",
    "---"
   ]
  },
  {
   "cell_type": "code",
   "execution_count": null,
   "id": "226aa4e8",
   "metadata": {
    "slideshow": {
     "slide_type": "skip"
    }
   },
   "outputs": [],
   "source": [
    "function med_lados(x,y)\n",
    "    println(\"✍ Informe a medida do lado AB\")\n",
    "    AB₁= parse(Float64, readline())\n",
    "    println(\"✍ Informe a medida do lado AC\")\n",
    "    AC₁= parse(Float64, readline())\n",
    "    println(\"✍ Informe a medida do lado BC\")\n",
    "    BC₁= parse(Float64, readline())\n",
    "    if round(AB, digits=1)==AB₁\n",
    "        println(\"O lado AB: ✅\")\n",
    "    else\n",
    "        println(\"O lado AB: ❌\")\n",
    "        println(\"🔁Tente novamente!\")\n",
    "    end\n",
    "    if round(AC, digits=1)==AC₁\n",
    "        println(\"O lado AC: ✅\")\n",
    "    else\n",
    "        println(\"O lado AC: ❌\")\n",
    "        println(\"🔁Tente novamente!\")\n",
    "    end\n",
    "    if round(BC, digits=1)==BC₁\n",
    "        println(\"O lado BC: ✅\")\n",
    "    else\n",
    "        println(\"O lado BC: ❌\")\n",
    "        println(\"🔁Tente novamente!\")\n",
    "    end\n",
    "end"
   ]
  },
  {
   "cell_type": "markdown",
   "id": "cb479950",
   "metadata": {
    "slideshow": {
     "slide_type": "skip"
    }
   },
   "source": [
    "### 💻⚙️ Código 6: Teste de classificação do triângulo\n",
    "---"
   ]
  },
  {
   "cell_type": "code",
   "execution_count": null,
   "id": "09e2147f",
   "metadata": {
    "slideshow": {
     "slide_type": "skip"
    }
   },
   "outputs": [],
   "source": [
    "function class_tri_lados(x,y)\n",
    "    println(\"✍ Qual classificação do triângulo ABC?\")\n",
    "    println(\"1️⃣ Equilátero\")\n",
    "    println(\"2️⃣ Isósceles\")\n",
    "    println(\"3️⃣ Escaleno\")\n",
    "    d2= parse(Int,readline())\n",
    "    if AB == AC && AC == BC\n",
    "        class=1   #Equilátero\n",
    "    elseif AB == AC || AB == BC || AC == BC\n",
    "        class=2   #Isósceles\n",
    "    else\n",
    "        class=3   #Escaleno\n",
    "    end\n",
    "    if class==d2\n",
    "        println(\"✅ Você acertou!\")\n",
    "    else\n",
    "        println(\"❌ Você errou!\")\n",
    "        println(\"🔁Tente novamente!\")\n",
    "    end\n",
    "end"
   ]
  },
  {
   "cell_type": "code",
   "execution_count": null,
   "id": "acf69df3",
   "metadata": {
    "slideshow": {
     "slide_type": "skip"
    }
   },
   "outputs": [],
   "source": [
    "function class_tri_ang(x,y)\n",
    "    println(\"✍ Qual classificação do triângulo ABC?\")\n",
    "    println(\"1️⃣ Acutângulo\")\n",
    "    println(\"2️⃣ Obtusângulo\")\n",
    "    println(\"3️⃣ Retângulo\")\n",
    "    d3= parse(Int,readline()) #Armazena a resposda do usuário\n",
    "    lados = Float64[AB, AC, BC] \n",
    "    l=sort(lados) #coloca o vetor lados em ordem crescente\n",
    "    if l[3] < √(l[1]^2+l[2]^2) \n",
    "        class_a=1  # Triângulo Acutângulo \n",
    "    elseif l[3] > √(l[1]^2+l[2]^2)\n",
    "        class_a=2  # Triângulo Obtusângulo\n",
    "    else\n",
    "        class_a=3  # Triângulo Retângulo\n",
    "    end\n",
    "   if class_a==d3\n",
    "        println(\"✅ Você acertou!\")\n",
    "    else\n",
    "        println(\"❌ Você errou!\")\n",
    "        println(\"🔁Tente novamente!\")\n",
    "end\n",
    "end"
   ]
  },
  {
   "cell_type": "markdown",
   "id": "ea6c4cc2",
   "metadata": {
    "slideshow": {
     "slide_type": "skip"
    }
   },
   "source": [
    "### 💻⚙️ Código 7: Cálculo do perímetro\n",
    "---"
   ]
  },
  {
   "cell_type": "code",
   "execution_count": null,
   "id": "7f07bffb",
   "metadata": {
    "slideshow": {
     "slide_type": "skip"
    }
   },
   "outputs": [],
   "source": [
    "function perimetro(x,y)\n",
    "    println(\"✍ Informe a medida do perímetro do triângulo ABC:\")\n",
    "    d4 = parse(Float64, readline())\n",
    "    # Arredondar os lados\n",
    "    AB₂ = round(AB, digits=1)\n",
    "    AC₂ = round(AC, digits=1)\n",
    "    BC₂ = round(BC, digits=1)\n",
    "    P = AB₂ + AC₂ + BC₂\n",
    "    \n",
    "    if d4 == P\n",
    "        println(\"✅ Sua resposta está correta!\")\n",
    "        println(\"O perímetro do triângulo ABC mede: $P unidades.\")\n",
    "    else\n",
    "        println(\"❌ Sua resposta está incorreta.\")\n",
    "        println(\"🔁Tente novamente!\")\n",
    "    end\n",
    "end"
   ]
  },
  {
   "cell_type": "markdown",
   "id": "017666d3",
   "metadata": {
    "slideshow": {
     "slide_type": "skip"
    }
   },
   "source": [
    "### 💻⚙️ Código 8: Cálculo da área\n",
    "---"
   ]
  },
  {
   "cell_type": "code",
   "execution_count": null,
   "id": "1c5c4675",
   "metadata": {
    "slideshow": {
     "slide_type": "skip"
    }
   },
   "outputs": [],
   "source": [
    "function area(x,y)\n",
    "    println(\"✍ Informe a medida da área do triângulo ABC:\")\n",
    "    d5 = parse(Float64, readline()) #Recebe o valor da área \n",
    "    #area com determinante   \n",
    "    S = abs((x[1]*y[2] + x[2]*y[3] + x[3]*y[1] - y[1]*x[2] - y[2]*x[3] - y[3]*x[1]) / 2)\n",
    "    if d5 == S\n",
    "        println(\"✅ Sua resposta está correta!\")\n",
    "        println(\"A área do triângulo ABC mede: $S unidades².\")\n",
    "        println(\"🎉🏆 PARABÉNS! 🏆🎉\")\n",
    "        println()\n",
    "        println(\"Se você está lendo esta mensagem, significa que venceu **todos os desafios**!\")\n",
    "        println(\"👏 Excelente trabalho, continue praticando e desafiando sua mente!\")\n",
    "        println(\"💡 Até o próximo desafio!\")\n",
    "\n",
    "    else\n",
    "        println(\"❌ Sua resposta está incorreta.\")\n",
    "        println(\"🔁 Tente novamente! Dica: reveja o arredondamento\")\n",
    "    end\n",
    "end"
   ]
  },
  {
   "cell_type": "markdown",
   "id": "3729c5bd",
   "metadata": {
    "slideshow": {
     "slide_type": "slide"
    }
   },
   "source": [
    "<hr style=\"border: none; height: 3px; background-color: blue; \">\n",
    "<center><h1>🧠 Desafios </center>\n",
    "<hr style=\"border: none; height: 3px; background-color: blue; \">"
   ]
  },
  {
   "cell_type": "markdown",
   "id": "6c8a84be",
   "metadata": {
    "slideshow": {
     "slide_type": "subslide"
    }
   },
   "source": [
    "## 🚀 Com base na figura abaixo conclua os desafios:\n",
    "\n",
    "<hr style=\"border: none; height: 2px; background-color: black; \">"
   ]
  },
  {
   "cell_type": "code",
   "execution_count": null,
   "id": "b5d36cd9",
   "metadata": {
    "slideshow": {
     "slide_type": "subslide"
    }
   },
   "outputs": [],
   "source": [
    "#A função gera as figuras a partir do código anterior.\n",
    "gerar_tri(x,y)"
   ]
  },
  {
   "cell_type": "markdown",
   "id": "a2177da5",
   "metadata": {
    "slideshow": {
     "slide_type": "subslide"
    }
   },
   "source": [
    "### 🔺 Desafio 1: Existência do Triângulo\n",
    "\n",
    "**🎯 Objetivo:**  \n",
    "Observar a figura na malha quadriculada e decidir se os três pontos marcados realmente formam um triângulo.\n",
    "\n",
    "**💡 Dicas:**  \n",
    "- Use o **princípio da desigualdade triangular**:  \n",
    "  > A soma das medidas de dois lados deve ser sempre **maior** que a medida do terceiro lado.\n",
    "\n",
    "- Também é possível verificar se os pontos estão **alinhados (colineares)**.  \n",
    "  > Se estiverem em linha reta, **não formam um triângulo**\n",
    "___"
   ]
  },
  {
   "cell_type": "markdown",
   "id": "875387a6",
   "metadata": {
    "slideshow": {
     "slide_type": "subslide"
    }
   },
   "source": [
    "### ✅ Confira sua resposta sobrea existência do triângulo ABC na célula abaixo!\n"
   ]
  },
  {
   "cell_type": "code",
   "execution_count": null,
   "id": "1ec7a993",
   "metadata": {
    "slideshow": {
     "slide_type": "fragment"
    }
   },
   "outputs": [],
   "source": [
    "exist_tri(x, y)"
   ]
  },
  {
   "cell_type": "markdown",
   "id": "4f363133",
   "metadata": {
    "slideshow": {
     "slide_type": "subslide"
    }
   },
   "source": [
    "### 🔺 Desafio 2: Encontrar as coordenadas dos vértices do triângulo\n",
    "\n",
    "**🎯 Objetivo:**  \n",
    "Identificar as coordenadas dos vértices $A$, $B$ e $C$ do triângulo fornecido.\n",
    "\n",
    "---\n",
    "\n",
    "💡 **Dica:** \n",
    ">Lembre-se da ordem das coordenadas: o primeiro valor é a coordenada $x$ **horizontal** e o segundo valor é a coordenada $y$ **vertical**.\n"
   ]
  },
  {
   "cell_type": "markdown",
   "id": "4f2924b3",
   "metadata": {
    "slideshow": {
     "slide_type": "subslide"
    }
   },
   "source": [
    "### ✅ Confira sua resposta sobre os vértices na célula abaixo!\n"
   ]
  },
  {
   "cell_type": "code",
   "execution_count": null,
   "id": "a3de3d72",
   "metadata": {
    "slideshow": {
     "slide_type": "fragment"
    }
   },
   "outputs": [],
   "source": [
    "gerar_vert(x,y)"
   ]
  },
  {
   "cell_type": "markdown",
   "id": "d0989194",
   "metadata": {
    "slideshow": {
     "slide_type": "subslide"
    }
   },
   "source": [
    "### 🔺 Desafio 3: Encontre as medidas dos lados com aproximação de uma casa decimal\n",
    "\n",
    "**🎯 Objetivo:**  \n",
    "Com base no **mesmo triângulo do desafio anterior**, calcule o comprimento dos **três lados** com **aproximação de uma casa decimal**.\n",
    "\n",
    "---\n"
   ]
  },
  {
   "cell_type": "markdown",
   "id": "069356d5",
   "metadata": {
    "slideshow": {
     "slide_type": "subslide"
    }
   },
   "source": [
    "### ⚙️ Como fazer:\n",
    "\n",
    "1. **Observe os três pontos** marcados na malha quadriculada.\n",
    "2. **Calcule as distâncias** entre os pares de pontos: $AB$, $AC$ e $BC$.\n",
    "3. Para facilitar os cálculos, use o **Teorema de Pitágoras**:\n",
    "   > 💡 Dica: $a^2 = b^2 + c^2$, onde $a$ é a hipotenusa e $b$, $c$ são os catetos.\n",
    "4. Para estimar raízes quadradas, use a fórmula:\n",
    "   $$\\sqrt{x} \\approx \\frac{x + N}{2 \\cdot \\sqrt{N}}$$\n",
    "   onde $N$ é o **quadrado perfeito mais próximo** de $x$.\n",
    "5. **Arredonde** cada medida para **uma casa decimal**.\n"
   ]
  },
  {
   "cell_type": "markdown",
   "id": "b9d420dc",
   "metadata": {
    "slideshow": {
     "slide_type": "subslide"
    }
   },
   "source": [
    "### ✅ Confira sua resposta sobre as medidas dos lados, na célula abaixo!"
   ]
  },
  {
   "cell_type": "code",
   "execution_count": null,
   "id": "a5ab7c73",
   "metadata": {
    "slideshow": {
     "slide_type": "fragment"
    }
   },
   "outputs": [],
   "source": [
    "med_lados(x,y)"
   ]
  },
  {
   "cell_type": "markdown",
   "id": "a05b7850",
   "metadata": {
    "slideshow": {
     "slide_type": "subslide"
    }
   },
   "source": [
    "### 🔺 Desafio 4: Classificar o Triângulo quanto aos lados\n",
    "\n",
    "**🎯 Objetivo:**  \n",
    "Observar a figura representada na malha quadriculada e classificar o triângulo **quanto aos lados**.\n",
    "> **💡 Dica:**\n",
    "> - 1️⃣ Equilátero: todos os lados iguais;\n",
    "> - 2️⃣ Isósceles: dois lados iguais;\n",
    "> - 3️⃣ Escaleno: todos os lados diferentes.\n"
   ]
  },
  {
   "cell_type": "markdown",
   "id": "45394b76",
   "metadata": {
    "slideshow": {
     "slide_type": "subslide"
    }
   },
   "source": [
    "### ✅ Confira sua resposta sobre a classificação do triângulo na célula abaixo!\n"
   ]
  },
  {
   "cell_type": "code",
   "execution_count": null,
   "id": "21729d29",
   "metadata": {
    "slideshow": {
     "slide_type": "fragment"
    }
   },
   "outputs": [],
   "source": [
    "class_tri_lados(x,y)"
   ]
  },
  {
   "cell_type": "markdown",
   "id": "713e57ae",
   "metadata": {
    "slideshow": {
     "slide_type": "subslide"
    }
   },
   "source": [
    "### 🔺 Desafio 5: Classificar o Triângulo quanto aos ângulos\n",
    "\n",
    "**🎯 Objetivo:**  \n",
    "Observar a figura representada na malha quadriculada e classificar o triângulo **quanto aos ângulos**.\n",
    "\n",
    "> **💡 Dica:**\n",
    "> - 1️⃣ Acutângulo: todos os ângulos internos são menores que 90°;\n",
    "> - 2️⃣ Obtusângulo: possui um ângulo interno maior que 90°;\n",
    "> - 3️⃣ Retângulo: possui um ângulo interno igual a 90°.\n",
    "\n"
   ]
  },
  {
   "cell_type": "markdown",
   "id": "430e34d3",
   "metadata": {
    "slideshow": {
     "slide_type": "subslide"
    }
   },
   "source": [
    "### ✅ Confira sua resposta sobre a classificação do triângulo na célula abaixo!\n"
   ]
  },
  {
   "cell_type": "code",
   "execution_count": null,
   "id": "bb94893c",
   "metadata": {
    "slideshow": {
     "slide_type": "fragment"
    }
   },
   "outputs": [],
   "source": [
    "class_tri_ang(x,y)"
   ]
  },
  {
   "cell_type": "markdown",
   "id": "621f392f",
   "metadata": {
    "slideshow": {
     "slide_type": "subslide"
    }
   },
   "source": [
    "### 💻 Compile o código abaixo\n",
    "___"
   ]
  },
  {
   "cell_type": "code",
   "execution_count": null,
   "id": "923fc80e",
   "metadata": {
    "slideshow": {
     "slide_type": "fragment"
    }
   },
   "outputs": [],
   "source": [
    "gerar_tri(x,y)"
   ]
  },
  {
   "cell_type": "markdown",
   "id": "839abf6f",
   "metadata": {
    "slideshow": {
     "slide_type": "subslide"
    }
   },
   "source": [
    "### 🔺 Desafio 6: Perímetro do Triângulo\n",
    "\n",
    "**🎯 Objetivo:**  \n",
    "Utilizar os dados obtidos no desafio anterior para **calcular** o **perímetro total da figura**.  \n",
    "**Informar** o resultado com **uma casa decimal de precisão**.\n",
    "\n",
    "### ⚙️ Como fazer:\n",
    "\n",
    "1. **Somar** as medidas **encontradas no Desafio 3**.\n",
    "2. **Informar** o valor do **perímetro aproximado**.\n",
    "---\n",
    "\n",
    ">**💡 Dica:**  \n",
    "$$\n",
    "\\text{Perímetro} = AB + AC + BC\n",
    "$$\n",
    "\n",
    "---\n"
   ]
  },
  {
   "cell_type": "markdown",
   "id": "4a32d352",
   "metadata": {
    "slideshow": {
     "slide_type": "subslide"
    }
   },
   "source": [
    "### ✅ Confira sua resposta sobre perímetro na célula abaixo!"
   ]
  },
  {
   "cell_type": "code",
   "execution_count": null,
   "id": "eda434d4",
   "metadata": {
    "slideshow": {
     "slide_type": "fragment"
    }
   },
   "outputs": [],
   "source": [
    "perimetro(x,y)"
   ]
  },
  {
   "cell_type": "markdown",
   "id": "8c58c320",
   "metadata": {
    "slideshow": {
     "slide_type": "subslide"
    }
   },
   "source": [
    "### 🔺 Desafio 7: Cálculo da Área do triângulo\n",
    "\n",
    "**🎯 Objetivo:**  \n",
    "Com base no **mesmo triângulo do desafio anterior**, calcule a sua **área total**.\n",
    "---"
   ]
  },
  {
   "cell_type": "markdown",
   "id": "9b0f2bb8",
   "metadata": {
    "slideshow": {
     "slide_type": "subslide"
    }
   },
   "source": [
    "### ⚙️ Como fazer:\n",
    "\n",
    "Você pode escolher uma das abordagens abaixo:\n",
    "\n",
    "1. **Área do triângulo retângulo**:  \n",
    "   Use a fórmula:  \n",
    "   $$\n",
    "   A = \\dfrac{\\text{base} \\times \\text{altura}}{2}\n",
    "   $$\n",
    "---"
   ]
  },
  {
   "cell_type": "markdown",
   "id": "8df42067",
   "metadata": {
    "slideshow": {
     "slide_type": "subslide"
    }
   },
   "source": [
    "### ⚙️ Como fazer:\n",
    "\n",
    "2. **Complete o retângulo** \n",
    "> **💡 Dicas:**\n",
    "    1. ✏️ **Complete o triângulo** com outros triângulos e retângulos até formar um **retângulo inteiro** ao redor dele.  \n",
    "    2. 📐 **Calcule a área do retângulo completo.**  \n",
    "    3. 🔺 **Calcule a área dos triângulos adicionados** (aqueles que estão fora do triângulo original).  \n",
    "    4. ➖ **Subtraia as áreas adicionadas** da área do retângulo.  \n",
    "&nbsp;&nbsp;&nbsp;&nbsp;✅ O resultado será **a área do triângulo original**!\n",
    "\n",
    "---"
   ]
  },
  {
   "cell_type": "markdown",
   "id": "c2f221ec",
   "metadata": {
    "slideshow": {
     "slide_type": "subslide"
    }
   },
   "source": [
    "### 💻 Compile o código abaixo\n",
    "___"
   ]
  },
  {
   "cell_type": "code",
   "execution_count": null,
   "id": "31f16033",
   "metadata": {
    "slideshow": {
     "slide_type": "fragment"
    }
   },
   "outputs": [],
   "source": [
    "gerar_tri(x,y)"
   ]
  },
  {
   "cell_type": "markdown",
   "id": "ff691304",
   "metadata": {
    "slideshow": {
     "slide_type": "subslide"
    }
   },
   "source": [
    "### ✅ Confira sua resposta sobre a área na célula abaixo!"
   ]
  },
  {
   "cell_type": "code",
   "execution_count": null,
   "id": "a6b50882",
   "metadata": {
    "slideshow": {
     "slide_type": "fragment"
    }
   },
   "outputs": [],
   "source": [
    "area(x,y)"
   ]
  },
  {
   "cell_type": "markdown",
   "id": "3db97b48",
   "metadata": {
    "slideshow": {
     "slide_type": "slide"
    }
   },
   "source": [
    "## 👀 Observação\n",
    "\n",
    "Para concluir esta sequência, é importante destacar que, como os **vértices da figura são sorteados aleatoriamente**, o desafio pode gerar diferentes tipos de triângulos a cada execução.\n",
    "\n",
    "🔁 **Por isso, é interessante repetir essa atividade várias vezes**, permitindo que os alunos interajam com **diversas construções de triângulos** e desenvolvam sua capacidade de observação, análise e classificação.\n",
    "\n",
    "Essa variação torna o exercício mais **dinâmico, investigativo e formativo**!\n"
   ]
  }
 ],
 "metadata": {
  "@webio": {
   "lastCommId": null,
   "lastKernelId": null
  },
  "celltoolbar": "Slideshow",
  "kernelspec": {
   "display_name": "Julia 1.10.5",
   "language": "julia",
   "name": "julia-1.10"
  },
  "language_info": {
   "file_extension": ".jl",
   "mimetype": "application/julia",
   "name": "julia",
   "version": "1.10.5"
  }
 },
 "nbformat": 4,
 "nbformat_minor": 5
}
