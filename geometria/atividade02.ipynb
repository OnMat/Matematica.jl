{
 "cells": [
  {
   "cell_type": "markdown",
   "id": "8d17f277",
   "metadata": {
    "slideshow": {
     "slide_type": "skip"
    }
   },
   "source": [
    "#  Área de Códigos\n",
    "\n",
    "> Nesta seção, você encontrará todos os códigos usados para os desafios e exemplos.\n"
   ]
  },
  {
   "cell_type": "markdown",
   "id": "32ef7185",
   "metadata": {
    "slideshow": {
     "slide_type": "skip"
    }
   },
   "source": [
    "## Código 1: Gera os pontos, calcula medidas, perímetro e área\n",
    "___"
   ]
  },
  {
   "cell_type": "code",
   "execution_count": 1,
   "id": "131f02e2",
   "metadata": {
    "slideshow": {
     "slide_type": "skip"
    }
   },
   "outputs": [
    {
     "data": {
      "text/plain": [
       "gerar_figura (generic function with 1 method)"
      ]
     },
     "execution_count": 1,
     "metadata": {},
     "output_type": "execute_result"
    }
   ],
   "source": [
    "using Plots\n",
    "gr(size=(500, 500))  # Define o backend gráfico e o tamanho da janela\n",
    "\n",
    "# Declarar fora da função para facilitar o uso depois\n",
    "global x, y, AB, AC, BC, P, S\n",
    "\n",
    "function gerar_figura()\n",
    "    global x, y, AB, AC, BC, P, S  # Necessário para modificar as variáveis globais\n",
    "\n",
    "    # Geração dos pontos A, B e C\n",
    "    a = rand(0:10)\n",
    "    b = rand(0:10)\n",
    "    x = [a, rand(0:10), rand(0:10), a]  # x[1]=Ax, x[2]=Bx, x[3]=Cx, x[4]=Ax\n",
    "    y = [b, rand(0:10), rand(0:10), b]  # y[1]=Ay, y[2]=By, y[3]=Cy, y[4]=Ay\n",
    "\n",
    "    # Cálculo das distâncias entre os pontos\n",
    "    AB = hypot(x[1] - x[2], y[1] - y[2])\n",
    "    AC = hypot(x[1] - x[3], y[1] - y[3])\n",
    "    BC = hypot(x[2] - x[3], y[2] - y[3])\n",
    "\n",
    "    # Perímetro\n",
    "    P = round(AB + AC + BC, digits = 1)\n",
    "\n",
    "    # Área (fórmula do determinante)\n",
    "    S = abs((x[1]*y[2] + x[2]*y[3] + x[3]*y[1] -\n",
    "             y[1]*x[2] - y[2]*x[3] - y[3]*x[1])) / 2\n",
    "    return nothing # Para não “vazar” o valor de S como retorno\n",
    "end"
   ]
  },
  {
   "cell_type": "markdown",
   "id": "44b145eb",
   "metadata": {
    "slideshow": {
     "slide_type": "skip"
    }
   },
   "source": [
    "## Código 2: Plota a figura\n",
    "___"
   ]
  },
  {
   "cell_type": "code",
   "execution_count": 12,
   "id": "4c12cd5d",
   "metadata": {
    "slideshow": {
     "slide_type": "skip"
    }
   },
   "outputs": [
    {
     "data": {
      "text/plain": [
       "plotar_figura (generic function with 1 method)"
      ]
     },
     "execution_count": 12,
     "metadata": {},
     "output_type": "execute_result"
    }
   ],
   "source": [
    "function plotar_figura(x,y)\n",
    "    plot(x, y,\n",
    "        title = \"Triângulo\",\n",
    "        lw = 3,\n",
    "        label = false,\n",
    "        xlim = (-1, 11),\n",
    "        ylim = (-1, 11),\n",
    "        xticks = 0:10,\n",
    "        yticks = 0:10,\n",
    "        aspect_ratio = :equal,\n",
    "        fillrange = 0, fillalpha = 0.5, fillcolor = :yellow,\n",
    "        grid = :on, gridalpha = 0.7, gridstyle = :dash)\n",
    "    scatter!(x[1:3], y[1:3],\n",
    "        label = false,\n",
    "        annotations = (x[1:3] .+ 0.3, y[1:3] .+ 0.3, [\"A\", \"B\", \"C\"]))\n",
    "end"
   ]
  },
  {
   "cell_type": "markdown",
   "id": "681830cb",
   "metadata": {
    "slideshow": {
     "slide_type": "skip"
    }
   },
   "source": [
    "\n",
    "## Código 3: Teste de existência do triângulo\n",
    "---"
   ]
  },
  {
   "cell_type": "code",
   "execution_count": 10,
   "id": "c3867ccb",
   "metadata": {
    "slideshow": {
     "slide_type": "skip"
    }
   },
   "outputs": [
    {
     "data": {
      "text/plain": [
       "existência_triângulo (generic function with 1 method)"
      ]
     },
     "execution_count": 10,
     "metadata": {},
     "output_type": "execute_result"
    }
   ],
   "source": [
    "function existência_triângulo(S)\n",
    "    println(\"A figura é um triângulo?:\")\n",
    "    println(\"\\u270D Digite (s/n) para informar sua conclusão:\")\n",
    "    d1 = readline()\n",
    "    # Verifica a existência através da área:\n",
    "    if S>0\n",
    "        exist = \"s\"  # Sim, o triângulo existe\n",
    "    else\n",
    "        exist = \"n\"  # Não, o triângulo não existe\n",
    "    end\n",
    "    if exist == d1\n",
    "        println(\"\\u2705 Você acertou!\")\n",
    "    else\n",
    "        println(\"\\u274C Você errou!\")\n",
    "        println(\"\\U0001F501 Retorne à célula anterior e gere novas coordenadas\")\n",
    "    end\n",
    "end"
   ]
  },
  {
   "cell_type": "markdown",
   "id": "6ab52cf3",
   "metadata": {
    "slideshow": {
     "slide_type": "skip"
    }
   },
   "source": [
    "\n",
    "##  Código 4. Verifica os  vértices do triângulo \n",
    "---"
   ]
  },
  {
   "cell_type": "code",
   "execution_count": 1,
   "id": "a61c94ea",
   "metadata": {
    "slideshow": {
     "slide_type": "skip"
    }
   },
   "outputs": [
    {
     "data": {
      "text/plain": [
       "verificar_vertices (generic function with 1 method)"
      ]
     },
     "execution_count": 1,
     "metadata": {},
     "output_type": "execute_result"
    }
   ],
   "source": [
    "function verificar_vertices(x, y)\n",
    "    println(\"Informe as coordenadas x e y do ponto A\")\n",
    "    x_1 = parse(Int, readline())\n",
    "    y_1 = parse(Int, readline())\n",
    "    println(\"Informe as coordenadas x e y do ponto B\")\n",
    "    x_2 = parse(Int, readline())\n",
    "    y_2 = parse(Int, readline())\n",
    "    println(\"Informe as coordenadas x e y do ponto C\")\n",
    "    x_3 = parse(Int, readline())\n",
    "    y_3 = parse(Int, readline())\n",
    "    println(repeat(\"*\", 39))\n",
    "    A = [x[1], y[1]]\n",
    "    B = [x[2], y[2]]\n",
    "    C = [x[3], y[3]]\n",
    "    # Verificação das respostas\n",
    "    if A == [x_1, y_1]\n",
    "        println(\"\\u2705 Ponto A!\")\n",
    "    else\n",
    "        println(\"\\u274C Ponto A!\")\n",
    "        println(\"\\U0001F501 Tente novamente!\")\n",
    "    end\n",
    "\n",
    "    if B == [x_2, y_2]\n",
    "        println(\"\\u2705 Ponto B!\")\n",
    "    else\n",
    "        println(\"\\u274C Ponto B!\")\n",
    "        println(\"\\U0001F501 Tente novamente!\")\n",
    "    end\n",
    "    if C == [x_3, y_3]\n",
    "        println(\"\\u2705 Ponto C!\")\n",
    "    else\n",
    "        println(\"\\u274C Ponto C!\")\n",
    "        println(\"\\U0001F501 Tente novamente!\")\n",
    "    end    \n",
    "end"
   ]
  },
  {
   "cell_type": "markdown",
   "id": "27de6b02",
   "metadata": {
    "slideshow": {
     "slide_type": "skip"
    }
   },
   "source": [
    "\n",
    "##  Código 5: Teste das medidas dos lados\n",
    "---"
   ]
  },
  {
   "cell_type": "code",
   "execution_count": 3,
   "id": "226aa4e8",
   "metadata": {
    "slideshow": {
     "slide_type": "skip"
    }
   },
   "outputs": [
    {
     "data": {
      "text/plain": [
       "verificar_lados (generic function with 1 method)"
      ]
     },
     "execution_count": 3,
     "metadata": {},
     "output_type": "execute_result"
    }
   ],
   "source": [
    "function verificar_lados(AB,AC,BC)\n",
    "    println(\"\\u270D Informe a medida do lado AB\")\n",
    "    AB_1 = parse(Float64, readline())\n",
    "    println(\"\\u270D Informe a medida do lado AC\")\n",
    "    AC_1 = parse(Float64, readline())\n",
    "    println(\"\\u270D Informe a medida do lado BC\")\n",
    "    BC_1 = parse(Float64, readline())\n",
    "\n",
    "    if round(AB, digits=1) == AB_1\n",
    "        println(\"O lado AB: \\u2705\")\n",
    "    else\n",
    "        println(\"O lado AB: \\u274C\")\n",
    "        println(\"\\U0001F501 Tente novamente!\")\n",
    "    end\n",
    "\n",
    "    if round(AC, digits=1) == AC_1\n",
    "        println(\"O lado AC: \\u2705\")\n",
    "    else\n",
    "        println(\"O lado AC: \\u274C\")\n",
    "        println(\"\\U0001F501 Tente novamente!\")\n",
    "    end\n",
    "\n",
    "    if round(BC, digits=1) == BC_1\n",
    "        println(\"O lado BC: \\u2705\")\n",
    "    else\n",
    "        println(\"O lado BC: \\u274C\")\n",
    "        println(\"\\U0001F501 Tente novamente!\")\n",
    "    end\n",
    "end "
   ]
  },
  {
   "cell_type": "markdown",
   "id": "cb479950",
   "metadata": {
    "slideshow": {
     "slide_type": "skip"
    }
   },
   "source": [
    "\n",
    "##  Código 6: Teste de classificação do triângulo (lados)\n",
    "---"
   ]
  },
  {
   "cell_type": "code",
   "execution_count": 5,
   "id": "09e2147f",
   "metadata": {
    "slideshow": {
     "slide_type": "skip"
    }
   },
   "outputs": [
    {
     "data": {
      "text/plain": [
       "classificacao_lados (generic function with 1 method)"
      ]
     },
     "execution_count": 5,
     "metadata": {},
     "output_type": "execute_result"
    }
   ],
   "source": [
    "function classificacao_lados(AB, AC, BC)\n",
    "    println(\"\\u270D Qual classificação do triângulo ABC?\")\n",
    "    println(\"1\\u20E3 Equilátero\")\n",
    "    println(\"2\\u20E3 Isósceles\")\n",
    "    println(\"3\\u20E3 Escaleno\")\n",
    "    d2 = parse(Int, readline())\n",
    "    if AB == AC && AC == BC\n",
    "        class = 1   # Equilátero\n",
    "    elseif AB == AC || AB == BC || AC == BC\n",
    "        class = 2   # Isósceles\n",
    "    else\n",
    "        class = 3   # Escaleno\n",
    "    end\n",
    "    if class == d2\n",
    "        println(\"\\u2705 Você acertou!\")\n",
    "    else\n",
    "        println(\"\\u274C Você errou!\")\n",
    "        println(\"\\u27F3 Tente novamente!\")\n",
    "    end\n",
    "end"
   ]
  },
  {
   "cell_type": "markdown",
   "id": "e10a64f0",
   "metadata": {
    "slideshow": {
     "slide_type": "skip"
    }
   },
   "source": [
    "##  Código 7: Cálculo dos ângulos internos\n",
    "---"
   ]
  },
  {
   "cell_type": "code",
   "execution_count": 6,
   "id": "81a1eb17",
   "metadata": {
    "slideshow": {
     "slide_type": "skip"
    }
   },
   "outputs": [
    {
     "data": {
      "text/plain": [
       "ângulo_interno (generic function with 1 method)"
      ]
     },
     "execution_count": 6,
     "metadata": {},
     "output_type": "execute_result"
    }
   ],
   "source": [
    "function ângulo_interno(AB,AC,BC,S)\n",
    "    α = round(Int,asind((2 * S) / (AB * AC)))\n",
    "    β = round(Int,asind((2 * S) / (AB * BC)))\n",
    "    println(\"As medidas de dois dos ângulos internos do triângulo ABC são: $(α)° e $(β)°.\")\n",
    "    println(\"Qual a medida do terceiro ângulo?\")\n",
    "    γ = parse(Int, readline())\n",
    "    if γ == 180 - α - β\n",
    "        println(\"\\u2705 Você acertou!\")\n",
    "    else\n",
    "        println(\"\\u274C Você errou!\")\n",
    "        println(\"\\U0001F501 Refaça seus cálculos e tente novamente\")\n",
    "    end\n",
    "end"
   ]
  },
  {
   "cell_type": "markdown",
   "id": "de9544c4",
   "metadata": {
    "slideshow": {
     "slide_type": "skip"
    }
   },
   "source": [
    "\n",
    "##  Código 8: Teste de classificação do triângulo (ângulos)\n",
    "---"
   ]
  },
  {
   "cell_type": "code",
   "execution_count": 8,
   "id": "acf69df3",
   "metadata": {
    "slideshow": {
     "slide_type": "skip"
    }
   },
   "outputs": [
    {
     "data": {
      "text/plain": [
       "classificacao_ângulos (generic function with 1 method)"
      ]
     },
     "execution_count": 8,
     "metadata": {},
     "output_type": "execute_result"
    }
   ],
   "source": [
    "function classificacao_ângulos(AB, AC, BC)\n",
    "    println(\"\\u270D Qual classificação do triângulo ABC?\")\n",
    "    println(\"1\\u20E3 Acutângulo\")     \n",
    "    println(\"2\\u20E3 Obtusângulo\")   \n",
    "    println(\"3\\u20E3 Retângulo\")     \n",
    "    d3 = parse(Int, readline())  # Armazena a resposta do usuário\n",
    "\n",
    "    lados = Float64[AB, AC, BC]\n",
    "    l = sort(lados)  # Coloca em ordem crescente\n",
    "\n",
    "    if l[3]^2 < l[1]^2 + l[2]^2\n",
    "        class_a = 1  # Acutângulo\n",
    "    elseif l[3]^2 > l[1]^2 + l[2]^2\n",
    "        class_a = 2  # Obtusângulo\n",
    "    else\n",
    "        class_a = 3  # Retângulo\n",
    "    end\n",
    "    if class_a == d3\n",
    "        println(\"\\u2705 Você acertou!\")    \n",
    "    else\n",
    "        println(\"\\u274C Você errou!\")      \n",
    "        println(\"\\U0001F501 Tente novamente!\") \n",
    "    end\n",
    "end"
   ]
  },
  {
   "cell_type": "markdown",
   "id": "ea6c4cc2",
   "metadata": {
    "slideshow": {
     "slide_type": "skip"
    }
   },
   "source": [
    "\n",
    "##  Código 9: Cálculo do perímetro\n",
    "---"
   ]
  },
  {
   "cell_type": "code",
   "execution_count": 9,
   "id": "7f07bffb",
   "metadata": {
    "slideshow": {
     "slide_type": "skip"
    }
   },
   "outputs": [
    {
     "data": {
      "text/plain": [
       "perimetro (generic function with 1 method)"
      ]
     },
     "execution_count": 9,
     "metadata": {},
     "output_type": "execute_result"
    }
   ],
   "source": [
    "function perimetro(P)\n",
    "    println(\"\\u270D Informe a medida do perímetro do triângulo ABC:\")\n",
    "    d4 = parse(Float64, readline())\n",
    "       \n",
    "    if d4 == P\n",
    "        println(\"\\u2705 Sua resposta está correta!\")\n",
    "        println(\"O perímetro do triângulo ABC mede: $P unidades.\")\n",
    "    else\n",
    "        println(\"\\u274C Sua resposta está incorreta.\")\n",
    "        println(\"\\u21BA Tente novamente!\")\n",
    "    end\n",
    "end"
   ]
  },
  {
   "cell_type": "markdown",
   "id": "017666d3",
   "metadata": {
    "slideshow": {
     "slide_type": "skip"
    }
   },
   "source": [
    "\n",
    "##  Código 10: Cálculo da área\n",
    "---"
   ]
  },
  {
   "cell_type": "code",
   "execution_count": 10,
   "id": "1c5c4675",
   "metadata": {
    "slideshow": {
     "slide_type": "skip"
    }
   },
   "outputs": [
    {
     "data": {
      "text/plain": [
       "area (generic function with 1 method)"
      ]
     },
     "execution_count": 10,
     "metadata": {},
     "output_type": "execute_result"
    }
   ],
   "source": [
    "function area(S)\n",
    "    println(\"\\u270D Informe a medida da área do triângulo ABC:\")       \n",
    "    d5 = parse(Float64, readline()) #Recebe o valor da área  \n",
    "    if d5 == S\n",
    "        println(\"\\u2705 Sua resposta está correta!\")                   \n",
    "        println(\"A área do triângulo ABC mede: $S unidades².\")\n",
    "        println(\"\\u2728 PARABÉNS! \\u2728\")                \n",
    "        println()\n",
    "        println(\"Se você está lendo esta mensagem, significa que venceu todos os desafios!\")\n",
    "        println(\"Excelente trabalho, continue praticando e desafiando sua mente!\")  \n",
    "        println(\"Até os próximo desafios!\")                       \n",
    "    else\n",
    "        println(\"\\u274C Sua resposta está incorreta.\")                  \n",
    "        println(\"\\u21BB Tente novamente!\") \n",
    "    end\n",
    "end"
   ]
  }
 ],
 "metadata": {
  "@webio": {
   "lastCommId": null,
   "lastKernelId": null
  },
  "celltoolbar": "Slideshow",
  "kernelspec": {
   "display_name": "Julia 1.10.5",
   "language": "julia",
   "name": "julia-1.10"
  },
  "language_info": {
   "file_extension": ".jl",
   "mimetype": "application/julia",
   "name": "julia",
   "version": "1.10.5"
  }
 },
 "nbformat": 4,
 "nbformat_minor": 5
}
