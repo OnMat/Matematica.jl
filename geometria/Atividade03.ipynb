{
 "cells": [
  {
   "cell_type": "markdown",
   "id": "3729c5bd",
   "metadata": {
    "slideshow": {
     "slide_type": "slide"
    }
   },
   "source": [
    "\n",
    "# Desafios "
   ]
  },
  {
   "cell_type": "markdown",
   "id": "6c8a84be",
   "metadata": {
    "slideshow": {
     "slide_type": "subslide"
    }
   },
   "source": [
    "## 🚀 Com base na figura abaixo conclua os desafios:\n",
    "\n",
    "---"
   ]
  },
  {
   "cell_type": "code",
   "execution_count": null,
   "id": "b5d36cd9",
   "metadata": {
    "slideshow": {
     "slide_type": "subslide"
    }
   },
   "outputs": [],
   "source": [
    "gerar_figura()\n",
    "plotar_figura(x,y)"
   ]
  },
  {
   "cell_type": "markdown",
   "id": "a2177da5",
   "metadata": {
    "slideshow": {
     "slide_type": "subslide"
    }
   },
   "source": [
    "### 🔺 Desafio 1: Existência do Triângulo\n",
    "\n",
    "**🎯 Objetivo:**  \n",
    "Observar a figura na malha quadriculada e decidir se os três pontos marcados realmente formam um triângulo.\n",
    "\n",
    "**💡 Dicas:**  \n",
    "- Use o **princípio da desigualdade triangular**:  \n",
    "  > A soma das medidas de dois lados deve ser sempre **maior** que a medida do terceiro lado.\n",
    "\n",
    "- Também é possível verificar se os pontos estão **alinhados (colineares)**.  \n",
    "  > Se estiverem em linha reta, **não formam um triângulo**\n",
    "___"
   ]
  },
  {
   "cell_type": "markdown",
   "id": "875387a6",
   "metadata": {
    "slideshow": {
     "slide_type": "subslide"
    }
   },
   "source": [
    "### ✅ Confira sua resposta sobrea existência do triângulo ABC na célula abaixo!\n"
   ]
  },
  {
   "cell_type": "code",
   "execution_count": null,
   "id": "1ec7a993",
   "metadata": {
    "slideshow": {
     "slide_type": "fragment"
    }
   },
   "outputs": [],
   "source": [
    "existência_triângulo(S)"
   ]
  },
  {
   "cell_type": "markdown",
   "id": "4f363133",
   "metadata": {
    "slideshow": {
     "slide_type": "subslide"
    }
   },
   "source": [
    "### 🔺 Desafio 2: Encontrar as coordenadas dos vértices do triângulo\n",
    "\n",
    "**🎯 Objetivo:**  \n",
    "Identificar as coordenadas dos vértices $A$, $B$ e $C$ do triângulo fornecido.\n",
    "\n",
    "---\n",
    "\n",
    "💡 **Dica:** \n",
    ">Lembre-se da ordem das coordenadas: o primeiro valor é a coordenada $x$ **horizontal** e o segundo valor é a coordenada $y$ **vertical**.\n"
   ]
  },
  {
   "cell_type": "markdown",
   "id": "4f2924b3",
   "metadata": {
    "slideshow": {
     "slide_type": "subslide"
    }
   },
   "source": [
    "### ✅ Confira sua resposta sobre os vértices na célula abaixo!\n"
   ]
  },
  {
   "cell_type": "code",
   "execution_count": null,
   "id": "a3de3d72",
   "metadata": {
    "slideshow": {
     "slide_type": "fragment"
    }
   },
   "outputs": [],
   "source": [
    "verificar_vertices(x, y)"
   ]
  },
  {
   "cell_type": "markdown",
   "id": "d0989194",
   "metadata": {
    "slideshow": {
     "slide_type": "subslide"
    }
   },
   "source": [
    "### 🔺 Desafio 3: Encontre as medidas dos lados com aproximação de uma casa decimal\n",
    "\n",
    "**🎯 Objetivo:**  \n",
    "Com base no **mesmo triângulo do desafio anterior**, calcule o comprimento dos **três lados** com **aproximação de uma casa decimal**.\n",
    "\n",
    "---\n"
   ]
  },
  {
   "cell_type": "markdown",
   "id": "069356d5",
   "metadata": {
    "slideshow": {
     "slide_type": "subslide"
    }
   },
   "source": [
    "### ⚙️ Como fazer:\n",
    "\n",
    "1. **Observe os três pontos** marcados na malha quadriculada.\n",
    "2. **Calcule as distâncias** entre os pares de pontos: $AB$, $AC$ e $BC$.\n",
    "3. Para facilitar os cálculos, use o **Teorema de Pitágoras**:\n",
    "   > 💡 Dica: $a^2 = b^2 + c^2$, onde $a$ é a hipotenusa e $b$, $c$ são os catetos.\n",
    "4. Para estimar raízes quadradas, use a fórmula:\n",
    "   $$\\sqrt{x} \\approx \\frac{x + N}{2 \\cdot \\sqrt{N}}$$\n",
    "   onde $N$ é o **quadrado perfeito mais próximo** de $x$.\n",
    "5. **Arredonde** cada medida para **uma casa decimal**.\n"
   ]
  },
  {
   "cell_type": "markdown",
   "id": "b9d420dc",
   "metadata": {
    "slideshow": {
     "slide_type": "subslide"
    }
   },
   "source": [
    "### ✅ Confira sua resposta sobre as medidas dos lados, na célula abaixo!"
   ]
  },
  {
   "cell_type": "code",
   "execution_count": null,
   "id": "a5ab7c73",
   "metadata": {
    "scrolled": true,
    "slideshow": {
     "slide_type": "fragment"
    }
   },
   "outputs": [],
   "source": [
    "verificar_lados(AB,AC,BC)"
   ]
  },
  {
   "cell_type": "markdown",
   "id": "a05b7850",
   "metadata": {
    "slideshow": {
     "slide_type": "subslide"
    }
   },
   "source": [
    "### 🔺 Desafio 4: Classificar o Triângulo quanto aos lados\n",
    "\n",
    "**🎯 Objetivo:**  \n",
    "Observar a figura representada na malha quadriculada e classificar o triângulo **quanto aos lados**.\n",
    "> **💡 Dica:**\n",
    "> - 1️⃣ Equilátero: todos os lados iguais;\n",
    "> - 2️⃣ Isósceles: dois lados iguais;\n",
    "> - 3️⃣ Escaleno: todos os lados diferentes.\n"
   ]
  },
  {
   "cell_type": "markdown",
   "id": "45394b76",
   "metadata": {
    "slideshow": {
     "slide_type": "subslide"
    }
   },
   "source": [
    "### ✅ Confira sua resposta sobre a classificação do triângulo na célula abaixo!\n"
   ]
  },
  {
   "cell_type": "code",
   "execution_count": null,
   "id": "21729d29",
   "metadata": {
    "slideshow": {
     "slide_type": "fragment"
    }
   },
   "outputs": [],
   "source": [
    "classificacao_lados(AB, AC, BC)"
   ]
  },
  {
   "cell_type": "markdown",
   "id": "713e57ae",
   "metadata": {
    "slideshow": {
     "slide_type": "subslide"
    }
   },
   "source": [
    "### 🔺 Desafio 5: Encontrar a medida do ângulo no triângulo\n",
    "\n",
    "**🎯 Objetivo:**  \n",
    "Compreender e aplicar a **soma dos ângulos internos de um triângulo**.\n",
    "\n",
    "> **💡 Dica:**  \n",
    "> - $\\alpha + \\beta + \\gamma = 180^\\circ$  \n",
    "> - Onde $\\alpha$, $\\beta$ e $\\gamma$ são as medidas dos ângulos internos do triângulo ABC.\n",
    "\n",
    "\n"
   ]
  },
  {
   "cell_type": "markdown",
   "id": "e9bbf87d",
   "metadata": {
    "slideshow": {
     "slide_type": "subslide"
    }
   },
   "source": [
    "### ✅ Confira sua resposta sobre a classificação do triângulo na célula abaixo!\n"
   ]
  },
  {
   "cell_type": "code",
   "execution_count": null,
   "id": "61f73cad",
   "metadata": {
    "slideshow": {
     "slide_type": "fragment"
    }
   },
   "outputs": [],
   "source": [
    "ângulo_interno(x,y,S)"
   ]
  },
  {
   "cell_type": "markdown",
   "id": "c0a84d4d",
   "metadata": {
    "slideshow": {
     "slide_type": "subslide"
    }
   },
   "source": [
    "### 🔺 Desafio 6: Classificar o Triângulo quanto aos ângulos\n",
    "\n",
    "**🎯 Objetivo:**  \n",
    "Observar a figura representada na malha quadriculada e classificar o triângulo **quanto aos ângulos**.\n",
    "\n",
    "> **💡 Dica:**\n",
    "> - 1️⃣ Acutângulo: todos os ângulos internos são menores que 90°;\n",
    "> - 2️⃣ Obtusângulo: possui um ângulo interno maior que 90°;\n",
    "> - 3️⃣ Retângulo: possui um ângulo interno igual a 90°.\n",
    "\n"
   ]
  },
  {
   "cell_type": "markdown",
   "id": "430e34d3",
   "metadata": {
    "slideshow": {
     "slide_type": "subslide"
    }
   },
   "source": [
    "### ✅ Confira sua resposta sobre a classificação do triângulo na célula abaixo!\n"
   ]
  },
  {
   "cell_type": "code",
   "execution_count": null,
   "id": "bb94893c",
   "metadata": {
    "slideshow": {
     "slide_type": "fragment"
    }
   },
   "outputs": [],
   "source": [
    "classificacao_angulos(AB, AC, BC)"
   ]
  },
  {
   "cell_type": "markdown",
   "id": "839abf6f",
   "metadata": {
    "slideshow": {
     "slide_type": "subslide"
    }
   },
   "source": [
    "### 🔺 Desafio 7: Perímetro do Triângulo\n",
    "\n",
    "**🎯 Objetivo:**  \n",
    "Utilizar os dados obtidos no desafio anterior para **calcular** o **perímetro total da figura**.  \n",
    "**Informar** o resultado com **uma casa decimal de precisão**.\n",
    "\n",
    "### ⚙️ Como fazer:\n",
    "\n",
    "1. **Somar** as medidas **encontradas no Desafio 3**.\n",
    "2. **Informar** o valor do **perímetro aproximado**.\n",
    "---\n",
    "\n",
    ">**💡 Dica:**  \n",
    "$$\n",
    "\\text{Perímetro} = AB + AC + BC\n",
    "$$\n",
    "\n",
    "---\n"
   ]
  },
  {
   "cell_type": "markdown",
   "id": "4a32d352",
   "metadata": {
    "slideshow": {
     "slide_type": "subslide"
    }
   },
   "source": [
    "### ✅ Confira sua resposta sobre perímetro na célula abaixo!"
   ]
  },
  {
   "cell_type": "code",
   "execution_count": null,
   "id": "eda434d4",
   "metadata": {
    "slideshow": {
     "slide_type": "fragment"
    }
   },
   "outputs": [],
   "source": [
    "perimetro(P)"
   ]
  },
  {
   "cell_type": "markdown",
   "id": "8c58c320",
   "metadata": {
    "slideshow": {
     "slide_type": "subslide"
    }
   },
   "source": [
    "### 🔺 Desafio 8: Cálculo da Área do triângulo\n",
    "\n",
    "**🎯 Objetivo:**  \n",
    "Com base no **mesmo triângulo do desafio anterior**, calcule a sua **área total**.\n",
    "---"
   ]
  },
  {
   "cell_type": "markdown",
   "id": "9b0f2bb8",
   "metadata": {
    "slideshow": {
     "slide_type": "subslide"
    }
   },
   "source": [
    "### ⚙️ Como fazer:\n",
    "\n",
    "Você pode escolher uma das abordagens abaixo:\n",
    "\n",
    "1. **Área do triângulo retângulo**:  \n",
    "   Use a fórmula:  \n",
    "   $$\n",
    "   A = \\dfrac{\\text{base} \\times \\text{altura}}{2}\n",
    "   $$\n",
    "---"
   ]
  },
  {
   "cell_type": "markdown",
   "id": "8df42067",
   "metadata": {
    "slideshow": {
     "slide_type": "subslide"
    }
   },
   "source": [
    "### ⚙️ Como fazer:\n",
    "\n",
    "2. **Complete o retângulo** \n",
    "> **💡 Dicas:**\n",
    "    1. ✏️ **Complete o triângulo** com outros triângulos e retângulos até formar um **retângulo inteiro** ao redor dele.  \n",
    "    2. 📐 **Calcule a área do retângulo completo.**  \n",
    "    3. 🔺 **Calcule a área dos triângulos adicionados** (aqueles que estão fora do triângulo original).  \n",
    "    4. ➖ **Subtraia as áreas adicionadas** da área do retângulo.  \n",
    "&nbsp;&nbsp;&nbsp;&nbsp;✅ O resultado será **a área do triângulo original**!\n",
    "\n",
    "---"
   ]
  },
  {
   "cell_type": "markdown",
   "id": "c2f221ec",
   "metadata": {
    "slideshow": {
     "slide_type": "subslide"
    }
   },
   "source": [
    "### 💻 Compile o código abaixo\n",
    "___"
   ]
  },
  {
   "cell_type": "code",
   "execution_count": null,
   "id": "31f16033",
   "metadata": {
    "slideshow": {
     "slide_type": "fragment"
    }
   },
   "outputs": [],
   "source": [
    "plotar_figura(x,y)"
   ]
  },
  {
   "cell_type": "markdown",
   "id": "ff691304",
   "metadata": {
    "slideshow": {
     "slide_type": "subslide"
    }
   },
   "source": [
    "### ✅ Confira sua resposta sobre a área na célula abaixo!"
   ]
  },
  {
   "cell_type": "code",
   "execution_count": null,
   "id": "a6b50882",
   "metadata": {
    "slideshow": {
     "slide_type": "fragment"
    }
   },
   "outputs": [],
   "source": [
    "area(S)"
   ]
  },
  {
   "cell_type": "markdown",
   "id": "3db97b48",
   "metadata": {
    "slideshow": {
     "slide_type": "slide"
    }
   },
   "source": [
    "## Observação\n",
    "\n",
    "Para concluir esta sequência, é importante destacar que, como os **vértices da figura são sorteados aleatoriamente**, o desafio pode gerar diferentes tipos de triângulos a cada execução.\n",
    "\n",
    "🔁 **Por isso, é interessante repetir essa atividade várias vezes**, permitindo que os alunos interajam com **diversas construções de triângulos** e desenvolvam sua capacidade de observação, análise e classificação.\n",
    "\n",
    "Essa variação torna o exercício mais **dinâmico, investigativo e formativo**!\n"
   ]
  }
 ],
 "metadata": {
  "@webio": {
   "lastCommId": null,
   "lastKernelId": null
  },
  "celltoolbar": "Slideshow",
  "kernelspec": {
   "display_name": "Julia 1.10.5",
   "language": "julia",
   "name": "julia-1.10"
  },
  "language_info": {
   "file_extension": ".jl",
   "mimetype": "application/julia",
   "name": "julia",
   "version": "1.10.5"
  }
 },
 "nbformat": 4,
 "nbformat_minor": 5
}
