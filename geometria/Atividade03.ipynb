{
 "cells": [
  {
   "cell_type": "markdown",
   "id": "5fa2c936",
   "metadata": {},
   "source": [
    "<hr style=\"border: none; height: 3px; background-color: gray; \">\n",
    "<center><h1> QUADRILÁTEROS </h1>\n",
    "<hr style=\"border: none; height: 3px; background-color: gray; \">"
   ]
  },
  {
   "cell_type": "markdown",
   "id": "274aa1f1",
   "metadata": {},
   "source": [
    "## Objeto de conhecimento\n",
    "\n",
    "\n",
    "<hr style=\"border: none; height: 2px; background-color: gray; \">"
   ]
  }
 ],
 "metadata": {
  "kernelspec": {
   "display_name": "Julia 1.10.5",
   "language": "julia",
   "name": "julia-1.10"
  },
  "language_info": {
   "file_extension": ".jl",
   "mimetype": "application/julia",
   "name": "julia",
   "version": "1.10.5"
  }
 },
 "nbformat": 4,
 "nbformat_minor": 5
}
