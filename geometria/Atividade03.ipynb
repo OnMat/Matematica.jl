{
 "cells": [
  {
   "cell_type": "markdown",
   "id": "5fa2c936",
   "metadata": {},
   "source": [
    "<hr style=\"border: none; height: 3px; background-color: gray; \">\n",
    "<center><h1> QUADRILÁTEROS </h1>\n",
    "<hr style=\"border: none; height: 3px; background-color: gray; \">"
   ]
  },
  {
   "cell_type": "markdown",
   "id": "274aa1f1",
   "metadata": {},
   "source": [
    "## Objeto de conhecimento\n",
    "\n",
    "\n",
    "<hr style=\"border: none; height: 2px; background-color: gray; \">"
   ]
  },
  {
   "cell_type": "markdown",
   "id": "19e513c8",
   "metadata": {},
   "source": [
    "## Habilidade BNCC e Descritores do SPAECE/SAEB\n",
    "___"
   ]
  },
  {
   "cell_type": "markdown",
   "id": "3f22ea6a",
   "metadata": {},
   "source": [
    "### Habilidade BNCC\n",
    "- **(EF06MA19):** Identificar características dos triângulos e classificá-los em relação às medidas dos\n",
    "lados e dos ângulos.\n",
    "- **(EF09MA16):** Determinar o ponto médio de um segmento de reta e a distância entre dois pontos\n",
    "quaisquer, dadas as coordenadas desses pontos no plano cartesiano, sem o uso de fórmulas, e\n",
    "utilizar esse conhecimento para calcular, por exemplo, medidas de perímetros e áreas de figuras\n",
    "planas construídas no plano.\n",
    "- **(EF05MA20):** Concluir, por meio de investigações, que figuras de perímetros iguais podem\n",
    "ter áreas diferentes e que, também, figuras que têm a mesma área podem ter perímetros\n",
    "diferentes.\n",
    "\n",
    "- **(EF08MA19):** Resolver e elaborar problemas que envolvam medidas de área de figuras\n",
    "geométricas, utilizando expressões de cálculo de área (quadriláteros, triângulos e círculos), em\n",
    "situações como determinar medida de terrenos."
   ]
  },
  {
   "cell_type": "markdown",
   "id": "1fbe8535",
   "metadata": {},
   "source": [
    "### Descritores do  SPAECE/SAEB relacionados:\n",
    "- **D03:** Identificar propriedades de triângulos pela comparação de medidas de lados e ângulos. \n",
    "- **D09:** Interpretar informações apresentadas por meio de coordenadas cartesianas.\n",
    "- **D12:** Resolver problema envolvendo o cálculo de perímetro de figuras planas.\n",
    "- **D13:** Resolver problema envolvendo o cálculo de área de figuras planas.\n",
    "\n",
    "<hr style=\"border: none; height: 2px; background-color: gray; \">"
   ]
  }
 ],
 "metadata": {
  "kernelspec": {
   "display_name": "Julia 1.10.5",
   "language": "julia",
   "name": "julia-1.10"
  },
  "language_info": {
   "file_extension": ".jl",
   "mimetype": "application/julia",
   "name": "julia",
   "version": "1.10.5"
  }
 },
 "nbformat": 4,
 "nbformat_minor": 5
}
