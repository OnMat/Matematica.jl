{
 "cells": [
  {
   "cell_type": "markdown",
   "id": "1d0a8007",
   "metadata": {},
   "source": [
    "<h1> Conversora de Unidades de Massa </h1>"
   ]
  },
  {
   "cell_type": "markdown",
   "id": "fb033318",
   "metadata": {},
   "source": [
    "## o que é massa?\n",
    "---\n",
    "De acordo com [autor ou fonte], massa é a quantidade de matéria de um corpo, ou seja, tudo aquilo que possui inércia e ocupa lugar no espaço.\n",
    "\n",
    "\n"
   ]
  },
  {
   "cell_type": "markdown",
   "id": "a010efa9",
   "metadata": {},
   "source": [
    "## como mensurar?\n",
    "---\n",
    "A massa de um corpo pode ser mensurada por meio de balanças, instrumentos que comparam a massa do objeto com padrões de referência.\n",
    "\n",
    "Existem diferentes tipos de balanças, como a balança de prato, a balança digital e a balança de precisão, cada uma adequada para diferentes níveis de exatidão e situações."
   ]
  },
  {
   "cell_type": "markdown",
   "id": "36beb082",
   "metadata": {},
   "source": [
    "## Quais são as unidades de medida de massa no SI?\n",
    "---\n",
    "No Sistema Internacional de Unidades (SI), a unidade padrão de massa é o quilograma (kg).\n",
    "\n",
    "Apesar disso, no cotidiano, também utilizamos outras unidades, como o grama (g), que é muito comum em receitas e embalagens de alimentos, e a tonelada (t), usada para medir grandes massas, como em cargas e veículos pesados.\n"
   ]
  },
  {
   "cell_type": "markdown",
   "id": "00c9a3e3",
   "metadata": {},
   "source": [
    "### Como fazer a conversão entre essas unidades?\n",
    "___\n",
    "\n",
    "Usaremos o **quilograma (kg)** como valor de referência para realizar a conversão entre as unidades **grama (g)** e **tonelada (t)**.\n",
    "\n",
    "As relações mais comuns são:\n",
    "\n",
    "- 1 quilograma (kg) = 1.000 gramas (g)\n",
    "- 1 tonelada (t) = 1.000 quilogramas (kg)\n",
    "\n",
    "Para converter entre essas unidades, basta multiplicar ou dividir por 1.000, dependendo da direção da conversão.\n",
    "\n",
    "**Exemplos:**\n",
    "\n",
    "- 3 kg = 3 × 1.000 = 3.000 g\n",
    "- 2 t = 2 × 1.000 = 2.000 kg\n"
   ]
  },
  {
   "cell_type": "markdown",
   "id": "75b34583",
   "metadata": {},
   "source": [
    "## 🎮 Jogando com as unidades"
   ]
  },
  {
   "cell_type": "code",
   "execution_count": 187,
   "id": "db791cde",
   "metadata": {},
   "outputs": [
    {
     "name": "stdout",
     "output_type": "stream",
     "text": [
      "*****************************************\n",
      "* 🎮 Jogando com Unidades de Massa 🎮 *\n",
      "*****************************************\n",
      "Converta 449 g para toneladas\n",
      "stdin> 0.00\n",
      "VOCÊ ERROU! A resposta correta é: 0.000449\n"
     ]
    }
   ],
   "source": [
    "println(repeat(\"*\",41))\n",
    "println(\"* \\U1F3AE Jogando com Unidades de Massa \\U1F3AE *\")\n",
    "println(repeat(\"*\",41))\n",
    "a=rand(0:1000)\n",
    "b=rand([\"kg\",\"g\",\"T\"])\n",
    "c=rand([\"quilogramas\",\"gramas\",\"toneladas\"])\n",
    "println(\"Converta $a $b para $c\")\n",
    "resp=parse(Float64,readline())\n",
    "if b==\"kg\" && c==\"quilogramas\" || b== \"g\" && c== \"gramas\"|| b== \"T\" && c== \"toneladas\"\n",
    "    if resp==a\n",
    "        println(\"VOCÊ ACERTOU!\")\n",
    "    else\n",
    "        println(\"VOCÊ ERROU! A resposta correta é:$a\")\n",
    "    end\n",
    "elseif b==\"g\" && c==\"quilogramas\" || b==\"kg\" && c==\"toneladas\"\n",
    "    if resp==a/1000\n",
    "        println(\"VOCÊ ACERTOU!\")\n",
    "    else\n",
    "        println(\"VOCÊ ERROU! A resposta correta é: $(a/1000)\")\n",
    "    end\n",
    "elseif b==\"T\" && c==\"quilogramas\" || b==\"kg\" && c==\"gramas\"\n",
    "    if resp==a*1000\n",
    "        println(\"VOCÊ ACERTOU!\")\n",
    "    else\n",
    "        println(\"VOCÊ ERROU! A resposta correta é: $(a*1000)\")\n",
    "    end\n",
    "elseif b==\"g\" && c==\"toneladas\" \n",
    "    if resp==a/1000000\n",
    "        println(\"VOCÊ ACERTOU!\")\n",
    "    else\n",
    "        println(\"VOCÊ ERROU! A resposta correta é: $(a/1000000)\")\n",
    "    end\n",
    "elseif b==\"T\" && c==\"gramas\" \n",
    "    if resp==a*1000000\n",
    "        println(\"VOCÊ ACERTOU!\")\n",
    "    else\n",
    "        println(\"VOCÊ ERROU! A resposta correta é: $(a*1000000)\")\n",
    "    end\n",
    "end"
   ]
  },
  {
   "cell_type": "code",
   "execution_count": 177,
   "id": "4a345bf4",
   "metadata": {},
   "outputs": [
    {
     "data": {
      "text/plain": [
       "0.000256"
      ]
     },
     "execution_count": 177,
     "metadata": {},
     "output_type": "execute_result"
    }
   ],
   "source": [
    "256/1000000"
   ]
  },
  {
   "cell_type": "markdown",
   "id": "a1567e11",
   "metadata": {},
   "source": [
    "## Construção da Conversora de Unidades\n",
    "___\n",
    "\n",
    "A **conversora** funcionará da seguinte maneira:\n",
    "\n",
    "1. Ela solicitará que o usuário informe a **unidade de medida** em que o valor está (grama, quilograma ou tonelada).\n",
    "2. Em seguida, pedirá que o usuário digite o **valor numérico** a ser convertido.\n",
    "3. Após isso, a conversora exibirá três mensagens:\n",
    "   - O **valor original** informado pelo usuário;\n",
    "   - A **conversão para as outras duas unidades** correspondentes.\n",
    "\n",
    "\n"
   ]
  },
  {
   "cell_type": "code",
   "execution_count": null,
   "id": "5cf00fec",
   "metadata": {},
   "outputs": [],
   "source": []
  },
  {
   "cell_type": "markdown",
   "id": "37211023",
   "metadata": {},
   "source": [
    "colocar um menu suspenso para o nome das unidade\n",
    "e criar uma slide para informar o valor da massa\n",
    "digite: kg, T, g, "
   ]
  },
  {
   "cell_type": "code",
   "execution_count": 143,
   "id": "07804725",
   "metadata": {},
   "outputs": [
    {
     "data": {
      "text/plain": [
       "2"
      ]
     },
     "execution_count": 143,
     "metadata": {},
     "output_type": "execute_result"
    }
   ],
   "source": [
    "unid=\"g\"\n",
    "massa=2"
   ]
  },
  {
   "cell_type": "code",
   "execution_count": 144,
   "id": "276e9af0",
   "metadata": {},
   "outputs": [
    {
     "name": "stdout",
     "output_type": "stream",
     "text": [
      "*****************************************\n",
      "* ⚖ Conversora de Unidades de Massa ⚖ *\n",
      "*****************************************\n",
      "O valor informado pelo usário foi: 2g \n",
      "O Valor em QUILOGRAMAS é: 0.002Kg  \n",
      "O Valor em TONELADAS é: 2.0e-6t  \n"
     ]
    }
   ],
   "source": [
    "println(repeat(\"*\",41))\n",
    "println(\"* \\U2696 Conversora de Unidades de Massa \\U2696 *\")\n",
    "println(repeat(\"*\",41))\n",
    "println(\"O valor informado pelo usário foi: $massa$unid \")\n",
    "if unid==\"kg\"\n",
    "    println(\"O Valor em GRAMAS é: $(massa*1000) g  \")\n",
    "    println(\"O Valor em TONELADAS é: $(massa/1000)t  \")\n",
    "elseif unid==\"g\"\n",
    "    println(\"O Valor em QUILOGRAMAS é: $(massa/1000)Kg  \")\n",
    "    println(\"O Valor em TONELADAS é: $(massa/1000000)t  \")\n",
    "elseif unid==\"T\"\n",
    "    println(\"O Valor em GRAMAS é: $(massa*1000000)g  \")\n",
    "    println(\"O Valor em QUILOGRAMAS é: $(massa*1000)kg  \")\n",
    "end"
   ]
  }
 ],
 "metadata": {
  "kernelspec": {
   "display_name": "Julia 1.10.5",
   "language": "julia",
   "name": "julia-1.10"
  },
  "language_info": {
   "file_extension": ".jl",
   "mimetype": "application/julia",
   "name": "julia",
   "version": "1.10.5"
  }
 },
 "nbformat": 4,
 "nbformat_minor": 5
}
