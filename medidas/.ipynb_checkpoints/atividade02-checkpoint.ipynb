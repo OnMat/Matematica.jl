{
 "cells": [
  {
   "cell_type": "markdown",
   "id": "75b34583",
   "metadata": {},
   "source": [
    "# Jogando com as unidades \n",
    "___"
   ]
  },
  {
   "cell_type": "markdown",
   "id": "5e64afc5",
   "metadata": {},
   "source": [
    "## Como Jogar\n",
    "\n",
    "---\n",
    "\n",
    "1. Copie o `código` abaixo e cole em uma célula de código;  \n",
    "2. Pressione `Ctrl + Enter` para **executar** o código do jogo;\n",
    "3. Digite sua resposta no campo indicado pelo programa;\n",
    "4. Pressione `Enter` para **confirmar** sua resposta e receber o feedback.\n",
    "\n",
    "---\n"
   ]
  },
  {
   "cell_type": "code",
   "execution_count": 5,
   "id": "db791cde",
   "metadata": {},
   "outputs": [
    {
     "name": "stdout",
     "output_type": "stream",
     "text": [
      "********************************\n",
      "* 🎮 Jogo das Três Medidas 🎮 *\n",
      "********************************\n",
      "Converta 443T para gramas\n",
      "stdin> 443000000\n",
      "✅ VOCÊ ACERTOU!\n"
     ]
    }
   ],
   "source": [
    "println(repeat(\"*\",32))\n",
    "println(\"* \\U0001F3AE Jogo das Três Medidas \\U0001F3AE *\")\n",
    "println(repeat(\"*\",32))\n",
    "\n",
    "# Sorteios\n",
    "a = rand(0:1000)\n",
    "b = rand([\"kg\", \"g\", \"T\"])\n",
    "c = rand([\"quilogramas\", \"gramas\", \"toneladas\"])\n",
    "\n",
    "# Interação com o usuário\n",
    "println(\"Converta $a$b para $c\")\n",
    "resp = parse(Float64, readline())\n",
    "\n",
    "# Avaliação da resposta informada e feedback\n",
    "if b == \"kg\" && c == \"quilogramas\" || b == \"g\" && c == \"gramas\" || b == \"T\" && c == \"toneladas\"\n",
    "    if resp == a\n",
    "        println(\"\\u2705 VOCÊ ACERTOU!\")    \n",
    "    else\n",
    "        println(\"\\u274C VOCÊ ERROU! A resposta correta é: $a\")   \n",
    "    end\n",
    "elseif b == \"g\" && c == \"quilogramas\" || b == \"kg\" && c == \"toneladas\"\n",
    "    if resp == a / 1000\n",
    "        println(\"\\u2705 VOCÊ ACERTOU!\")\n",
    "    else\n",
    "        println(\"\\u274C VOCÊ ERROU! A resposta correta é: $(a / 1000)\")\n",
    "    end\n",
    "elseif b == \"T\" && c == \"quilogramas\" || b == \"kg\" && c == \"gramas\"\n",
    "    if resp == a * 1000\n",
    "        println(\"\\u2705 VOCÊ ACERTOU!\")\n",
    "    else\n",
    "        println(\"\\u274C VOCÊ ERROU! A resposta correta é: $(a * 1000)\")\n",
    "    end\n",
    "elseif b == \"g\" && c == \"toneladas\"\n",
    "    if resp == a / 1_000_000\n",
    "        println(\"\\u2705 VOCÊ ACERTOU!\")\n",
    "    else\n",
    "        println(\"\\u274C VOCÊ ERROU! A resposta correta é: $(a / 1_000_000)\")\n",
    "    end\n",
    "elseif b == \"T\" && c == \"gramas\"\n",
    "    if resp == a * 1_000_000\n",
    "        println(\"\\u2705 VOCÊ ACERTOU!\")\n",
    "    else\n",
    "        println(\"\\u274C VOCÊ ERROU! A resposta correta é: $(a * 1_000_000)\")\n",
    "    end\n",
    "end\n"
   ]
  }
 ],
 "metadata": {
  "@webio": {
   "lastCommId": "09d769bcaa9c4ba38089d3464b747a30",
   "lastKernelId": "74d5d942-2357-4d45-9808-15e4b32defd3"
  },
  "kernelspec": {
   "display_name": "Julia 1.10.5",
   "language": "julia",
   "name": "julia-1.10"
  },
  "language_info": {
   "file_extension": ".jl",
   "mimetype": "application/julia",
   "name": "julia",
   "version": "1.10.5"
  }
 },
 "nbformat": 4,
 "nbformat_minor": 5
}
