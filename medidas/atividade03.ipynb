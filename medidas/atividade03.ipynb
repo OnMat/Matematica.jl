{
 "cells": [
  {
   "cell_type": "markdown",
   "id": "a1567e11",
   "metadata": {},
   "source": [
    "# Construção da Conversora de Unidades\n",
    "___\n",
    "\n",
    "A **conversora** funcionará da seguinte maneira:\n",
    "1. Ela solicitará que o usuário digite o **valor numérico** a ser convertido.\n",
    "2. Em seguida, pedirá a **unidade de medida** em que o valor está (grama, quilograma ou tonelada).\n",
    "3. Após isso, a conversora exibirá três mensagens:\n",
    "   - O **valor original** informado pelo usuário;\n",
    "   - A **conversão para as outras duas unidades** correspondentes.\n",
    "___"
   ]
  },
  {
   "cell_type": "markdown",
   "id": "7d45cfc7",
   "metadata": {},
   "source": [
    "## Problema\n",
    "___\n",
    "\n",
    "Construa um código que atenda aos seguintes requisitos:\n",
    "\n",
    "- Exiba o título **\"Conversora de Unidade de Massa\"**;\n",
    "- Solicite um **valor numérico** e a respectiva **unidade de medida de massa** (grama, quilograma ou tonelada);\n",
    "- Converta esse valor e exiba o resultado correspondente nas **três unidades de medida de massa**: grama, quilograma e tonelada.\n",
    "___\n"
   ]
  },
  {
   "cell_type": "markdown",
   "id": "3773695f",
   "metadata": {},
   "source": [
    "### O código deve seguir os seguintes passos:\n",
    "___\n",
    "1. Solicitar ao usuário que digite o **valor numérico** a ser convertido;\n",
    "2. Em seguida, perguntar a **unidade de medida de entrada** (g, kg ou T);\n",
    "3. Após isso, exibir três mensagens:\n",
    "   - O **valor original** informado pelo usuário;\n",
    "   - O valor convertido para **gramas (g)**;\n",
    "   - O valor convertido para **quilogramas (kg)**;\n",
    "   - O valor convertido para **toneladas (T)**.\n",
    "___"
   ]
  },
  {
   "cell_type": "code",
   "execution_count": 1,
   "id": "276e9af0",
   "metadata": {},
   "outputs": [
    {
     "name": "stdout",
     "output_type": "stream",
     "text": [
      "*****************************************\n",
      "* ⚖ Conversora de Unidades de Massa ⚖ *\n",
      "*****************************************\n",
      "Informe o valor numérico:\n",
      "stdin> 3.8\n",
      "Informe a unidade de medida (g para gramas, kg para quilogramas, T para toneladas):\n",
      "stdin> T\n",
      "O valor informado pelo usuário foi: 3.8 T\n",
      "O valor em gramas é: 3.8e6 g\n",
      "O valor em quilogramas é: 3800.0 kg\n"
     ]
    }
   ],
   "source": [
    "# Cabeçalho do programa\n",
    "println(repeat(\"*\", 41))\n",
    "println(\"* \\u2696 Conversora de Unidades de Massa \\u2696 *\")\n",
    "println(repeat(\"*\", 41))\n",
    "\n",
    "# Entrada de dados\n",
    "println(\"Informe o valor numérico:\")\n",
    "massa = parse(Float64, readline())\n",
    "\n",
    "println(\"Informe a unidade de medida (g para gramas, kg para quilogramas, T para toneladas):\")\n",
    "unid = readline()\n",
    "\n",
    "println(\"O valor informado pelo usuário foi: $massa $unid\")\n",
    "\n",
    "# Conversões\n",
    "if unid == \"kg\"\n",
    "    println(\"O valor em gramas é: $(massa * 1000) g\")\n",
    "    println(\"O valor em toneladas é: $(massa / 1000) t\")\n",
    "elseif unid == \"g\"\n",
    "    println(\"O valor em quilogramas é: $(massa / 1000) kg\")\n",
    "    valor_t = round(massa / 1000000, digits=7)\n",
    "    println(\"O valor em toneladas é: $(valor_t) t\")\n",
    "elseif unid == \"T\"\n",
    "    println(\"O valor em gramas é: $(massa * 1000000) g\")\n",
    "    println(\"O valor em quilogramas é: $(massa * 1000) kg\")\n",
    "else\n",
    "    println(\"Unidade inválida. Use: g, kg ou T.\")\n",
    "end"
   ]
  },
  {
   "cell_type": "markdown",
   "id": "186b3963",
   "metadata": {},
   "source": [
    "## Resolva os problemas a seguir\n",
    "___\n",
    "> Use o `código` anterior para auxiliar na resolução das questões.\n"
   ]
  },
  {
   "cell_type": "markdown",
   "id": "8770df79",
   "metadata": {},
   "source": [
    "### Problema 01\n",
    "\n",
    "*(IDEPB)*\n",
    "\n",
    "Fernanda usou dois quilogramas de biscoito em uma receita de doce. Quantos gramas desse biscoito ela usou nessa receita?\n",
    "\n",
    "A) 2  \n",
    "B) 100  \n",
    "C) 1 000  \n",
    "D) 2 000\n",
    "____"
   ]
  },
  {
   "cell_type": "markdown",
   "id": "d56f8cce",
   "metadata": {},
   "source": [
    "### Probelma 02\n",
    "\n",
    "*(AREAL)*\n",
    "\n",
    "Observe no caminhão abaixo quantas toneladas de mercadorias ele pode transportar por viagem. \n",
    "<center><img src=\"caminhão.png\" alt=\"Imagem de um caminhão com a capacidade de carga em toneladas\" width=\"400\"></center>\n",
    "No máximo, quantos quilogramas de mercadorias esse caminhão pode transportar em uma viagem?\n",
    "\n",
    "A) 38 kg  \n",
    "B) 380 kg  \n",
    "C) 3 800 kg  \n",
    "D) 38 000 kg\n",
    "___\n"
   ]
  },
  {
   "cell_type": "markdown",
   "id": "6a4007be",
   "metadata": {},
   "source": [
    "### Probelma 03\n",
    "\n",
    "*(SAEMI)*\n",
    "\n",
    "Mário comprou 1 800 kg de cal, 2 300 kg de cimento, 2 000 kg de rejunte e 200 kg de argamassa para serem usados em uma obra.  \n",
    "Quantas toneladas de material, ao todo, Mário comprou para essa obra?\n",
    "\n",
    "A) 5,3  \n",
    "B) 6,3  \n",
    "C) 530  \n",
    "D) 630\n",
    "___"
   ]
  }
 ],
 "metadata": {
  "@webio": {
   "lastCommId": "09d769bcaa9c4ba38089d3464b747a30",
   "lastKernelId": "74d5d942-2357-4d45-9808-15e4b32defd3"
  },
  "kernelspec": {
   "display_name": "Julia 1.10.5",
   "language": "julia",
   "name": "julia-1.10"
  },
  "language_info": {
   "file_extension": ".jl",
   "mimetype": "application/julia",
   "name": "julia",
   "version": "1.10.5"
  }
 },
 "nbformat": 4,
 "nbformat_minor": 5
}
