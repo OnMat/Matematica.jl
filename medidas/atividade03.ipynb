{
 "cells": [
  {
   "cell_type": "markdown",
   "id": "a1567e11",
   "metadata": {},
   "source": [
    "# Construção da Conversora de Unidades\n",
    "___\n",
    "\n",
    "A **conversora** funcionará da seguinte maneira:\n",
    "1. Ela solicitará que o usuário digite o **valor numérico** a ser convertido.\n",
    "2. Em seguida, pedirá a **unidade de medida** em que o valor está (grama, quilograma ou tonelada).\n",
    "3. Após isso, a conversora exibirá três mensagens:\n",
    "   - O **valor original** informado pelo usuário;\n",
    "   - A **conversão para as outras duas unidades** correspondentes.\n",
    "___"
   ]
  },
  {
   "cell_type": "code",
   "execution_count": 10,
   "id": "276e9af0",
   "metadata": {},
   "outputs": [
    {
     "name": "stdout",
     "output_type": "stream",
     "text": [
      "*****************************************\n",
      "* ⚖ Conversora de Unidades de Massa ⚖ *\n",
      "*****************************************\n",
      "Informe o valor numérico:\n",
      "stdin> 234\n",
      "Informe a unidade de medida (g para gramas, kg para quilogramas, T para toneladas):\n",
      "stdin> g\n",
      "O valor informado pelo usuário foi: 234.0 g\n",
      "O valor em quilogramas é: 0.234 kg\n",
      "O valor em toneladas é: 0.000234 t\n"
     ]
    }
   ],
   "source": [
    "# Cabeçalho do programa\n",
    "println(repeat(\"*\", 41))\n",
    "println(\"* \\u2696 Conversora de Unidades de Massa \\u2696 *\")\n",
    "println(repeat(\"*\", 41))\n",
    "\n",
    "# Entrada de dados\n",
    "println(\"Informe o valor numérico:\")\n",
    "massa = parse(Float64, readline())\n",
    "\n",
    "println(\"Informe a unidade de medida (g para gramas, kg para quilogramas, T para toneladas):\")\n",
    "unid = readline()\n",
    "\n",
    "println(\"O valor informado pelo usuário foi: $massa $unid\")\n",
    "\n",
    "# Conversões\n",
    "if unid == \"kg\"\n",
    "    println(\"O valor em gramas é: $(massa * 1000) g\")\n",
    "    println(\"O valor em toneladas é: $(massa / 1000) t\")\n",
    "elseif unid == \"g\"\n",
    "    println(\"O valor em quilogramas é: $(massa / 1000) kg\")\n",
    "    valor_t = round(massa / 1000000, digits=7)\n",
    "    println(\"O valor em toneladas é: $(valor_t) t\")\n",
    "elseif unid == \"T\"\n",
    "    println(\"O valor em gramas é: $(massa * 1000000) g\")\n",
    "    println(\"O valor em quilogramas é: $(massa * 1000) kg\")\n",
    "else\n",
    "    println(\"Unidade inválida. Use: g, kg ou T.\")\n",
    "end"
   ]
  }
 ],
 "metadata": {
  "@webio": {
   "lastCommId": "09d769bcaa9c4ba38089d3464b747a30",
   "lastKernelId": "74d5d942-2357-4d45-9808-15e4b32defd3"
  },
  "kernelspec": {
   "display_name": "Julia 1.10.5",
   "language": "julia",
   "name": "julia-1.10"
  },
  "language_info": {
   "file_extension": ".jl",
   "mimetype": "application/julia",
   "name": "julia",
   "version": "1.10.5"
  }
 },
 "nbformat": 4,
 "nbformat_minor": 5
}
