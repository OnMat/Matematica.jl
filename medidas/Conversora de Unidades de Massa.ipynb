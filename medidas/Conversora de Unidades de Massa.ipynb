{
 "cells": [
  {
   "cell_type": "markdown",
   "id": "1d0a8007",
   "metadata": {},
   "source": [
    "<hr style=\"width: 100%; height: 2px; background-color: blue; border: none;margin: auto;\">\n",
    "<center><h1> ⚖️ Conversora de Unidades de Massa</h1><br>\n",
    "<hr style=\"width: 100%; height: 2px; background-color: blue; border: none;margin: auto;\">"
   ]
  },
  {
   "cell_type": "markdown",
   "id": "fb033318",
   "metadata": {},
   "source": [
    "## 📌 O que é massa?\n",
    "---\n",
    "Gaspar (2009) define massa como a quantidade de matéria de um corpo, característica que o faz ocupar lugar no espaço e apresentar inércia.\n",
    "### Fonte\n",
    "\n",
    "Gaspar, A. M. (2009). *Física para o Ensino Médio*. Scipione.\n"
   ]
  },
  {
   "cell_type": "markdown",
   "id": "a010efa9",
   "metadata": {},
   "source": [
    "## 🧪 Como mensurar?\n",
    "---\n",
    "\n",
    "A massa de um corpo pode ser mensurada por meio de **balanças**, instrumentos que comparam a massa do objeto com padrões de referência.\n",
    "\n",
    "Existem diferentes tipos de balanças, como:\n",
    "- a **balança de prato**, comumente usada em feiras e comércios;\n",
    "- a **balança digital**, bastante presente em residências e laboratórios;\n",
    "- e a **balança de precisão**, ideal para medições em ambientes científicos, que exigem alta exatidão."
   ]
  },
  {
   "cell_type": "markdown",
   "id": "dbf0b477",
   "metadata": {},
   "source": [
    "<img src=\"OIUFH40.jpg\" alt=\"Logo da UFCA\" width=\"300\">"
   ]
  },
  {
   "cell_type": "markdown",
   "id": "36beb082",
   "metadata": {},
   "source": [
    "### ⚖️ Unidades de medida de massa no Sistema Internacional (SI)\n",
    "---\n",
    "No Sistema Internacional de Unidades (SI), a unidade padrão de massa é o **quilograma (kg)**.\n",
    "\n",
    "Apesar disso, no cotidiano, também utilizamos outras unidades, como o **grama (g)** — muito comum em receitas e embalagens de alimentos — e a **tonelada (t)**, usada para medir grandes massas, como cargas e veículos pesados.\n",
    "\n",
    "\n"
   ]
  },
  {
   "cell_type": "markdown",
   "id": "00c9a3e3",
   "metadata": {},
   "source": [
    "### 🔄 Como fazer a conversão entre essas unidades?\n",
    "\n",
    "Usaremos o quilograma (kg) como referência para realizar conversões entre as unidades grama (g) e tonelada (t).\n",
    "\n",
    "As relações mais comuns são:\n",
    "\n",
    "- 1 quilograma (kg) = 1.000 gramas (g)  \n",
    "- 1 tonelada (t) = 1.000 quilogramas (kg)\n",
    "\n",
    "Para converter entre essas unidades, basta multiplicar ou dividir por 1.000, dependendo da direção da conversão.\n",
    "\n",
    "---\n",
    "\n",
    "### 🧮 Exemplos de conversão:\n",
    "\n",
    "- 3 kg = 3 × 1.000 = 3.000 g  \n",
    "- 2 t = 2 × 1.000 = 2.000 kg\n"
   ]
  },
  {
   "cell_type": "markdown",
   "id": "75b34583",
   "metadata": {},
   "source": [
    "## 🎮 Jogando com as unidades\n",
    "___"
   ]
  },
  {
   "cell_type": "code",
   "execution_count": 36,
   "id": "db791cde",
   "metadata": {},
   "outputs": [
    {
     "name": "stdout",
     "output_type": "stream",
     "text": [
      "*****************************************\n",
      "* 🎮 Jogando com Unidades de Massa 🎮 *\n",
      "*****************************************\n",
      "Converta 213kg para gramas\n",
      "stdin> 213000\n",
      "✅VOCÊ ACERTOU!\n"
     ]
    }
   ],
   "source": [
    "println(repeat(\"*\",41))\n",
    "println(\"* \\U1F3AE Jogo das Três Medidas \\U1F3AE *\")\n",
    "println(repeat(\"*\",41))\n",
    "a=rand(0:1000)\n",
    "b=rand([\"kg\",\"g\",\"T\"])\n",
    "c=rand([\"quilogramas\",\"gramas\",\"toneladas\"])\n",
    "println(\"Converta $a$b para $c\")\n",
    "resp=parse(Float64,readline())\n",
    "if b==\"kg\" && c==\"quilogramas\" || b== \"g\" && c== \"gramas\"|| b== \"T\" && c== \"toneladas\"\n",
    "    if resp==a\n",
    "        println(\"✅VOCÊ ACERTOU!\")\n",
    "    else\n",
    "        println(\"❌VOCÊ ERROU! A resposta correta é:$a\")\n",
    "    end\n",
    "elseif b==\"g\" && c==\"quilogramas\" || b==\"kg\" && c==\"toneladas\"\n",
    "    if resp==a/1000\n",
    "        println(\"✅VOCÊ ACERTOU!\")\n",
    "    else\n",
    "        println(\"❌VOCÊ ERROU! A resposta correta é: $(a/1000)\")\n",
    "    end\n",
    "elseif b==\"T\" && c==\"quilogramas\" || b==\"kg\" && c==\"gramas\"\n",
    "    if resp==a*1000\n",
    "        println(\"✅VOCÊ ACERTOU!\")\n",
    "    else\n",
    "        println(\"❌VOCÊ ERROU! A resposta correta é: $(a*1000)\")\n",
    "    end\n",
    "elseif b==\"g\" && c==\"toneladas\" \n",
    "    if resp==a/1000000\n",
    "        println(\"✅VOCÊ ACERTOU!\")\n",
    "    else\n",
    "        println(\"❌VOCÊ ERROU! A resposta correta é: $(a/1000000)\")\n",
    "    end\n",
    "elseif b==\"T\" && c==\"gramas\" \n",
    "    if resp==a*1000000\n",
    "        println(\"✅VOCÊ ACERTOU!\")\n",
    "    else\n",
    "        println(\"❌VOCÊ ERROU! A resposta correta é: $(a*1000000)\")\n",
    "    end\n",
    "end"
   ]
  },
  {
   "cell_type": "markdown",
   "id": "a1567e11",
   "metadata": {},
   "source": [
    "## 🧮 Construção da Conversora de Unidades\n",
    "___\n",
    "\n",
    "A **conversora** funcionará da seguinte maneira:\n",
    "\n",
    "1. 📝 Ela solicitará que o usuário digite o **valor numérico** a ser convertido.\n",
    "2. ⚖️ Em seguida, pedirá a **unidade de medida** em que o valor está (grama, quilograma ou tonelada).\n",
    "3. 📊 Após isso, a conversora exibirá três mensagens:\n",
    "   - 📌 O **valor original** informado pelo usuário;\n",
    "   - 🔁 A **conversão para as outras duas unidades** correspondentes.\n",
    "\n",
    "\n",
    "\n"
   ]
  },
  {
   "cell_type": "code",
   "execution_count": 33,
   "id": "276e9af0",
   "metadata": {},
   "outputs": [
    {
     "name": "stdout",
     "output_type": "stream",
     "text": [
      "*****************************************\n",
      "* ⚖ Conversora de Unidades de Massa ⚖ *\n",
      "*****************************************\n",
      "Informe o valor numerico:\n",
      "stdin> 234\n",
      "Informe a unidade de medida: g grama, kg quilograma, T, tonelda\n",
      "stdin> g\n",
      "O valor informado pelo usário foi: 234.0g \n",
      "O Valor em QUILOGRAMAS é: 0.234Kg  \n",
      "O Valor em TONELADAS é: 0.000234t  \n"
     ]
    }
   ],
   "source": [
    "println(repeat(\"*\",41))\n",
    "println(\"* \\U2696 Conversora de Unidades de Massa \\U2696 *\")\n",
    "println(repeat(\"*\",41))\n",
    "println(\"Informe o valor numerico:\")\n",
    "massa=parse(Float64,readline())\n",
    "println(\"Informe a unidade de medida: g grama, kg quilograma, T, tonelda\")\n",
    "unid=readline()\n",
    "\n",
    "println(\"O valor informado pelo usário foi: $massa$unid \")\n",
    "\n",
    "if unid==\"kg\"\n",
    "    println(\"O Valor em GRAMAS é: $(massa*1000) g  \")\n",
    "    println(\"O Valor em TONELADAS é: $(massa/1000)t  \")\n",
    "elseif unid==\"g\"\n",
    "    println(\"O Valor em QUILOGRAMAS é: $(massa/1000)Kg  \")\n",
    "    valor_t = round(massa/1000000, digits = 7)\n",
    "    println(\"O Valor em TONELADAS é: $(valor_t)t  \")\n",
    "elseif unid==\"T\"\n",
    "    println(\"O Valor em GRAMAS é: $(massa*1000000)g  \")\n",
    "    println(\"O Valor em QUILOGRAMAS é: $(massa*1000)kg  \")\n",
    "end"
   ]
  }
 ],
 "metadata": {
  "@webio": {
   "lastCommId": "09d769bcaa9c4ba38089d3464b747a30",
   "lastKernelId": "74d5d942-2357-4d45-9808-15e4b32defd3"
  },
  "kernelspec": {
   "display_name": "Julia 1.10.5",
   "language": "julia",
   "name": "julia-1.10"
  },
  "language_info": {
   "file_extension": ".jl",
   "mimetype": "application/julia",
   "name": "julia",
   "version": "1.10.5"
  }
 },
 "nbformat": 4,
 "nbformat_minor": 5
}
