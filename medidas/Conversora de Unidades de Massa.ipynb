{
 "cells": [
  {
   "cell_type": "markdown",
   "id": "1d0a8007",
   "metadata": {},
   "source": [
    "<hr style=\"width: 100%; height: 2px; background-color: blue; border: none;margin: auto;\">\n",
    "<center><h1> Conversora de Unidades de Massa </h1>\n",
    "<hr style=\"width: 100%; height: 2px; background-color: blue; border: none;margin: auto;\">"
   ]
  },
  {
   "cell_type": "markdown",
   "id": "fb033318",
   "metadata": {},
   "source": [
    "## o que é massa?\n",
    "---\n",
    "De acordo com [autor ou fonte], massa é a quantidade de matéria de um corpo, ou seja, tudo aquilo que possui inércia e ocupa lugar no espaço.\n",
    "\n",
    "\n"
   ]
  },
  {
   "cell_type": "markdown",
   "id": "a010efa9",
   "metadata": {},
   "source": [
    "## como mensurar?\n",
    "---\n",
    "A massa de um corpo pode ser mensurada por meio de balanças, instrumentos que comparam a massa do objeto com padrões de referência.\n",
    "\n",
    "Existem diferentes tipos de balanças, como a balança de prato, a balança digital e a balança de precisão, cada uma adequada para diferentes níveis de exatidão e situações."
   ]
  },
  {
   "cell_type": "markdown",
   "id": "dbf0b477",
   "metadata": {},
   "source": [
    "<img src=\"OIUFH40.jpg\" alt=\"Logo da UFCA\" width=\"300\">"
   ]
  },
  {
   "cell_type": "markdown",
   "id": "36beb082",
   "metadata": {},
   "source": [
    "## Quais são as unidades de medida de massa no SI?\n",
    "---\n",
    "No Sistema Internacional de Unidades (SI), a unidade padrão de massa é o quilograma (kg).\n",
    "\n",
    "Apesar disso, no cotidiano, também utilizamos outras unidades, como o grama (g), que é muito comum em receitas e embalagens de alimentos, e a tonelada (t), usada para medir grandes massas, como em cargas e veículos pesados.\n"
   ]
  },
  {
   "cell_type": "markdown",
   "id": "00c9a3e3",
   "metadata": {},
   "source": [
    "### Como fazer a conversão entre essas unidades?\n",
    "___\n",
    "\n",
    "Usaremos o **quilograma (kg)** como valor de referência para realizar a conversão entre as unidades **grama (g)** e **tonelada (t)**.\n",
    "\n",
    "As relações mais comuns são:\n",
    "\n",
    "- 1 quilograma (kg) = 1.000 gramas (g)\n",
    "- 1 tonelada (t) = 1.000 quilogramas (kg)\n",
    "\n",
    "Para converter entre essas unidades, basta multiplicar ou dividir por 1.000, dependendo da direção da conversão.\n",
    "\n",
    "**Exemplos:**\n",
    "\n",
    "- 3 kg = 3 × 1.000 = 3.000 g\n",
    "- 2 t = 2 × 1.000 = 2.000 kg\n"
   ]
  },
  {
   "cell_type": "markdown",
   "id": "75b34583",
   "metadata": {},
   "source": [
    "## 🎮 Jogando com as unidades"
   ]
  },
  {
   "cell_type": "code",
   "execution_count": 187,
   "id": "db791cde",
   "metadata": {},
   "outputs": [
    {
     "name": "stdout",
     "output_type": "stream",
     "text": [
      "*****************************************\n",
      "* 🎮 Jogando com Unidades de Massa 🎮 *\n",
      "*****************************************\n",
      "Converta 449 g para toneladas\n",
      "stdin> 0.00\n",
      "VOCÊ ERROU! A resposta correta é: 0.000449\n"
     ]
    }
   ],
   "source": [
    "println(repeat(\"*\",41))\n",
    "println(\"* \\U1F3AE Jogando com Unidades de Massa \\U1F3AE *\")\n",
    "println(repeat(\"*\",41))\n",
    "a=rand(0:1000)\n",
    "b=rand([\"kg\",\"g\",\"T\"])\n",
    "c=rand([\"quilogramas\",\"gramas\",\"toneladas\"])\n",
    "println(\"Converta $a $b para $c\")\n",
    "resp=parse(Float64,readline())\n",
    "if b==\"kg\" && c==\"quilogramas\" || b== \"g\" && c== \"gramas\"|| b== \"T\" && c== \"toneladas\"\n",
    "    if resp==a\n",
    "        println(\"VOCÊ ACERTOU!\")\n",
    "    else\n",
    "        println(\"VOCÊ ERROU! A resposta correta é:$a\")\n",
    "    end\n",
    "elseif b==\"g\" && c==\"quilogramas\" || b==\"kg\" && c==\"toneladas\"\n",
    "    if resp==a/1000\n",
    "        println(\"VOCÊ ACERTOU!\")\n",
    "    else\n",
    "        println(\"VOCÊ ERROU! A resposta correta é: $(a/1000)\")\n",
    "    end\n",
    "elseif b==\"T\" && c==\"quilogramas\" || b==\"kg\" && c==\"gramas\"\n",
    "    if resp==a*1000\n",
    "        println(\"VOCÊ ACERTOU!\")\n",
    "    else\n",
    "        println(\"VOCÊ ERROU! A resposta correta é: $(a*1000)\")\n",
    "    end\n",
    "elseif b==\"g\" && c==\"toneladas\" \n",
    "    if resp==a/1000000\n",
    "        println(\"VOCÊ ACERTOU!\")\n",
    "    else\n",
    "        println(\"VOCÊ ERROU! A resposta correta é: $(a/1000000)\")\n",
    "    end\n",
    "elseif b==\"T\" && c==\"gramas\" \n",
    "    if resp==a*1000000\n",
    "        println(\"VOCÊ ACERTOU!\")\n",
    "    else\n",
    "        println(\"VOCÊ ERROU! A resposta correta é: $(a*1000000)\")\n",
    "    end\n",
    "end"
   ]
  },
  {
   "cell_type": "code",
   "execution_count": 177,
   "id": "4a345bf4",
   "metadata": {},
   "outputs": [
    {
     "data": {
      "text/plain": [
       "0.000256"
      ]
     },
     "execution_count": 177,
     "metadata": {},
     "output_type": "execute_result"
    }
   ],
   "source": [
    "256/1000000"
   ]
  },
  {
   "cell_type": "markdown",
   "id": "a1567e11",
   "metadata": {},
   "source": [
    "## Construção da Conversora de Unidades\n",
    "___\n",
    "\n",
    "A **conversora** funcionará da seguinte maneira:\n",
    "\n",
    "1. Ela solicitará que o usuário informe a **unidade de medida** em que o valor está (grama, quilograma ou tonelada).\n",
    "2. Em seguida, pedirá que o usuário digite o **valor numérico** a ser convertido.\n",
    "3. Após isso, a conversora exibirá três mensagens:\n",
    "   - O **valor original** informado pelo usuário;\n",
    "   - A **conversão para as outras duas unidades** correspondentes.\n",
    "\n",
    "\n"
   ]
  },
  {
   "cell_type": "code",
   "execution_count": null,
   "id": "5cf00fec",
   "metadata": {},
   "outputs": [],
   "source": []
  },
  {
   "cell_type": "markdown",
   "id": "37211023",
   "metadata": {},
   "source": [
    "colocar um menu suspenso para o nome das unidade\n",
    "e criar uma slide para informar o valor da massa\n",
    "digite: kg, T, g, "
   ]
  },
  {
   "cell_type": "code",
   "execution_count": 143,
   "id": "07804725",
   "metadata": {},
   "outputs": [
    {
     "data": {
      "text/plain": [
       "2"
      ]
     },
     "execution_count": 143,
     "metadata": {},
     "output_type": "execute_result"
    }
   ],
   "source": [
    "unid=\"g\"\n",
    "massa=2"
   ]
  },
  {
   "cell_type": "code",
   "execution_count": 144,
   "id": "276e9af0",
   "metadata": {},
   "outputs": [
    {
     "name": "stdout",
     "output_type": "stream",
     "text": [
      "*****************************************\n",
      "* ⚖ Conversora de Unidades de Massa ⚖ *\n",
      "*****************************************\n",
      "O valor informado pelo usário foi: 2g \n",
      "O Valor em QUILOGRAMAS é: 0.002Kg  \n",
      "O Valor em TONELADAS é: 2.0e-6t  \n"
     ]
    }
   ],
   "source": [
    "println(repeat(\"*\",41))\n",
    "println(\"* \\U2696 Conversora de Unidades de Massa \\U2696 *\")\n",
    "println(repeat(\"*\",41))\n",
    "println(\"O valor informado pelo usário foi: $massa$unid \")\n",
    "if unid==\"kg\"\n",
    "    println(\"O Valor em GRAMAS é: $(massa*1000) g  \")\n",
    "    println(\"O Valor em TONELADAS é: $(massa/1000)t  \")\n",
    "elseif unid==\"g\"\n",
    "    println(\"O Valor em QUILOGRAMAS é: $(massa/1000)Kg  \")\n",
    "    println(\"O Valor em TONELADAS é: $(massa/1000000)t  \")\n",
    "elseif unid==\"T\"\n",
    "    println(\"O Valor em GRAMAS é: $(massa*1000000)g  \")\n",
    "    println(\"O Valor em QUILOGRAMAS é: $(massa*1000)kg  \")\n",
    "end"
   ]
  },
  {
   "cell_type": "code",
   "execution_count": 1,
   "id": "a85973a6",
   "metadata": {},
   "outputs": [
    {
     "data": {
      "application/vnd.webio.node+json": {
       "children": [],
       "instanceArgs": {
        "namespace": "html",
        "tag": "div"
       },
       "nodeType": "DOM",
       "props": {},
       "type": "node"
      },
      "text/html": [
       "<div style=\"padding: 1em; background-color: #f8d6da; border: 1px solid #f5c6cb; font-weight: bold;\">\n",
       "<p>The WebIO Jupyter extension was not detected. See the\n",
       "<a href=\"https://juliagizmos.github.io/WebIO.jl/latest/providers/ijulia/\" target=\"_blank\">\n",
       "    WebIO Jupyter integration documentation\n",
       "</a>\n",
       "for more information.\n",
       "</div>\n"
      ],
      "text/plain": [
       "WebIO._IJuliaInit()"
      ]
     },
     "metadata": {},
     "output_type": "display_data"
    },
    {
     "name": "stdout",
     "output_type": "stream",
     "text": [
      "Você escolheu: Matemática\n"
     ]
    },
    {
     "data": {
      "application/vnd.webio.node+json": {
       "children": [
        {
         "children": [
          {
           "children": [
            {
             "children": [
              {
               "children": [
                {
                 "children": [
                  "d"
                 ],
                 "instanceArgs": {
                  "namespace": "html",
                  "tag": "label"
                 },
                 "nodeType": "DOM",
                 "props": {
                  "className": "interact ",
                  "style": {
                   "padding": "5px 10px 0px 10px"
                  }
                 },
                 "type": "node"
                }
               ],
               "instanceArgs": {
                "namespace": "html",
                "tag": "div"
               },
               "nodeType": "DOM",
               "props": {
                "className": "interact-flex-row-left"
               },
               "type": "node"
              },
              {
               "children": [
                {
                 "children": [
                  {
                   "children": [
                    {
                     "children": [],
                     "instanceArgs": {
                      "namespace": "html",
                      "tag": "label"
                     },
                     "nodeType": "DOM",
                     "props": {
                      "attributes": {
                       "data-bind": "text : key"
                      }
                     },
                     "type": "node"
                    }
                   ],
                   "instanceArgs": {
                    "namespace": "html",
                    "tag": "span"
                   },
                   "nodeType": "DOM",
                   "props": {
                    "attributes": {
                     "data-bind": "click: function (){$root.update(val)}, css: {'is-primary is-selected' : $root.index() == val, 'interact-widget is-medium button ' : true}"
                    }
                   },
                   "type": "node"
                  }
                 ],
                 "instanceArgs": {
                  "namespace": "html",
                  "tag": "div"
                 },
                 "nodeType": "DOM",
                 "props": {
                  "attributes": {
                   "data-bind": "foreach : options_js"
                  },
                  "className": "buttons has-addons is-centered"
                 },
                 "type": "node"
                }
               ],
               "instanceArgs": {
                "namespace": "html",
                "tag": "div"
               },
               "nodeType": "DOM",
               "props": {
                "className": "interact-flex-row-center"
               },
               "type": "node"
              },
              {
               "children": [
                {
                 "children": [],
                 "instanceArgs": {
                  "namespace": "html",
                  "tag": "div"
                 },
                 "nodeType": "DOM",
                 "props": {},
                 "type": "node"
                }
               ],
               "instanceArgs": {
                "namespace": "html",
                "tag": "div"
               },
               "nodeType": "DOM",
               "props": {
                "className": "interact-flex-row-right"
               },
               "type": "node"
              }
             ],
             "instanceArgs": {
              "namespace": "html",
              "tag": "div"
             },
             "nodeType": "DOM",
             "props": {
              "className": "interact-flex-row interact-widget"
             },
             "type": "node"
            }
           ],
           "instanceArgs": {
            "handlers": {
             "index": [
              "(function (val){return (val!=this.model[\"index\"]()) ? (this.valueFromJulia[\"index\"]=true, this.model[\"index\"](val)) : undefined})"
             ],
             "options_js": [
              "(function (val){return (val!=this.model[\"options_js\"]()) ? (this.valueFromJulia[\"options_js\"]=true, this.model[\"options_js\"](val)) : undefined})"
             ]
            },
            "id": "11015412332523180798",
            "imports": {
             "data": [
              {
               "name": "knockout",
               "type": "js",
               "url": "/assetserver/6128749f40ce9b582ca271d4e44ad8bca6523bec-knockout.js"
              },
              {
               "name": "knockout_punches",
               "type": "js",
               "url": "/assetserver/e3aa44c566afc0fdc03d0bff1eec6ba009fafa3d-knockout_punches.js"
              },
              {
               "name": null,
               "type": "js",
               "url": "/assetserver/bc3dc56733ee67700b5920e9b3de853bed2be1d5-all.js"
              },
              {
               "name": null,
               "type": "css",
               "url": "/assetserver/fafc16c5e2ee886c4efbf7e34a8802c28102740e-style.css"
              },
              {
               "name": null,
               "type": "css",
               "url": "/assetserver/2f79e9f6c1ed95b38f46627527393ff4697560a7-bulma_confined.min.css"
              }
             ],
             "type": "async_block"
            },
            "mount_callbacks": [
             "function () {\n    var handler = (function (ko, koPunches) {\n    ko.punches.enableAll();\n    ko.bindingHandlers.numericValue = {\n        init: function(element, valueAccessor, allBindings, data, context) {\n            var stringified = ko.observable(ko.unwrap(valueAccessor()));\n            stringified.subscribe(function(value) {\n                var val = parseFloat(value);\n                if (!isNaN(val)) {\n                    valueAccessor()(val);\n                }\n            });\n            valueAccessor().subscribe(function(value) {\n                var str = JSON.stringify(value);\n                if ((str == \"0\") && ([\"-0\", \"-0.\"].indexOf(stringified()) >= 0))\n                     return;\n                 if ([\"null\", \"\"].indexOf(str) >= 0)\n                     return;\n                stringified(str);\n            });\n            ko.applyBindingsToNode(\n                element,\n                {\n                    value: stringified,\n                    valueUpdate: allBindings.get('valueUpdate'),\n                },\n                context,\n            );\n        }\n    };\n    var json_data = {\"options_js\":WebIO.getval({\"name\":\"options_js\",\"scope\":\"11015412332523180798\",\"id\":\"5\",\"type\":\"observable\"}),\"index\":WebIO.getval({\"name\":\"index\",\"scope\":\"11015412332523180798\",\"id\":\"4\",\"type\":\"observable\"})};\n    var self = this;\n    function AppViewModel() {\n        for (var key in json_data) {\n            var el = json_data[key];\n            this[key] = Array.isArray(el) ? ko.observableArray(el) : ko.observable(el);\n        }\n        [this[\"update\"]=function (val) {this.index(val)}]\n        \n        [this[\"options_js\"].subscribe((function (val){!(this.valueFromJulia[\"options_js\"]) ? (WebIO.setval({\"name\":\"options_js\",\"scope\":\"11015412332523180798\",\"id\":\"5\",\"type\":\"observable\"},val)) : undefined; return this.valueFromJulia[\"options_js\"]=false}),self),this[\"index\"].subscribe((function (val){!(this.valueFromJulia[\"index\"]) ? (WebIO.setval({\"name\":\"index\",\"scope\":\"11015412332523180798\",\"id\":\"4\",\"type\":\"observable\"},val)) : undefined; return this.valueFromJulia[\"index\"]=false}),self)]\n        \n    }\n    self.model = new AppViewModel();\n    self.valueFromJulia = {};\n    for (var key in json_data) {\n        self.valueFromJulia[key] = false;\n    }\n    ko.applyBindings(self.model, self.dom);\n}\n);\n    (WebIO.importBlock({\"data\":[{\"name\":\"knockout\",\"type\":\"js\",\"url\":\"/assetserver/6128749f40ce9b582ca271d4e44ad8bca6523bec-knockout.js\"},{\"name\":\"knockout_punches\",\"type\":\"js\",\"url\":\"/assetserver/e3aa44c566afc0fdc03d0bff1eec6ba009fafa3d-knockout_punches.js\"}],\"type\":\"async_block\"})).then((imports) => handler.apply(this, imports));\n}\n"
            ],
            "observables": {
             "index": {
              "id": "4",
              "sync": true,
              "value": 1
             },
             "options_js": {
              "id": "5",
              "sync": false,
              "value": [
               {
                "id": "id5x5JTxTS",
                "key": "Matemática",
                "val": 1
               },
               {
                "id": "idPDlqt4gk",
                "key": "Português",
                "val": 2
               },
               {
                "id": "idp6st2FTj",
                "key": "História",
                "val": 3
               }
              ]
             }
            },
            "systemjs_options": null
           },
           "nodeType": "Scope",
           "props": {},
           "type": "node"
          }
         ],
         "instanceArgs": {
          "namespace": "html",
          "tag": "div"
         },
         "nodeType": "DOM",
         "props": {
          "className": "interact-widget"
         },
         "type": "node"
        },
        {
         "children": [
          {
           "children": [],
           "instanceArgs": {
            "id": "11",
            "name": "obs-node"
           },
           "nodeType": "ObservableNode",
           "props": {},
           "type": "node"
          }
         ],
         "instanceArgs": {
          "handlers": {},
          "id": "1382269218797491512",
          "imports": {
           "data": [],
           "type": "async_block"
          },
          "mount_callbacks": [],
          "observables": {
           "obs-node": {
            "id": "11",
            "sync": false,
            "value": {
             "children": [
              ""
             ],
             "instanceArgs": {
              "namespace": "html",
              "tag": "div"
             },
             "nodeType": "DOM",
             "props": {
              "className": "interact-flex-row interact-widget"
             },
             "type": "node"
            }
           }
          },
          "systemjs_options": null
         },
         "nodeType": "Scope",
         "props": {},
         "type": "node"
        }
       ],
       "instanceArgs": {
        "namespace": "html",
        "tag": "div"
       },
       "nodeType": "DOM",
       "props": {},
       "type": "node"
      },
      "text/html": [
       "<div\n",
       "    class=\"webio-mountpoint\"\n",
       "    data-webio-mountpoint=\"217381151331915830\"\n",
       ">\n",
       "    <script>\n",
       "    (function(){\n",
       "    // Some integrations (namely, IJulia/Jupyter) use an alternate render pathway than\n",
       "    // just putting the html on the page. If WebIO isn't defined, then it's pretty likely\n",
       "    // that we're in one of those situations and the integration just isn't installed\n",
       "    // correctly.\n",
       "    if (typeof window.WebIO === \"undefined\") {\n",
       "        document\n",
       "            .querySelector('[data-webio-mountpoint=\"217381151331915830\"]')\n",
       "            .innerHTML = (\n",
       "                '<div style=\"padding: 1em; background-color: #f8d6da; border: 1px solid #f5c6cb; font-weight: bold;\">' +\n",
       "                '<p><strong>WebIO not detected.</strong></p>' +\n",
       "                '<p>Please read ' +\n",
       "                '<a href=\"https://juliagizmos.github.io/WebIO.jl/latest/troubleshooting/not-detected/\" target=\"_blank\">the troubleshooting guide</a> ' +\n",
       "                'for more information on how to resolve this issue.</p>' +\n",
       "                '<p><a href=\"https://juliagizmos.github.io/WebIO.jl/latest/troubleshooting/not-detected/\" target=\"_blank\">https://juliagizmos.github.io/WebIO.jl/latest/troubleshooting/not-detected/</a></p>' +\n",
       "                '</div>'\n",
       "            );\n",
       "        return;\n",
       "    }\n",
       "    WebIO.mount(\n",
       "        document.querySelector('[data-webio-mountpoint=\"217381151331915830\"]'),\n",
       "        {\"props\":{},\"nodeType\":\"DOM\",\"type\":\"node\",\"instanceArgs\":{\"namespace\":\"html\",\"tag\":\"div\"},\"children\":[{\"props\":{\"className\":\"interact-widget\"},\"nodeType\":\"DOM\",\"type\":\"node\",\"instanceArgs\":{\"namespace\":\"html\",\"tag\":\"div\"},\"children\":[{\"props\":{},\"nodeType\":\"Scope\",\"type\":\"node\",\"instanceArgs\":{\"imports\":{\"data\":[{\"name\":\"knockout\",\"type\":\"js\",\"url\":\"\\/assetserver\\/6128749f40ce9b582ca271d4e44ad8bca6523bec-knockout.js\"},{\"name\":\"knockout_punches\",\"type\":\"js\",\"url\":\"\\/assetserver\\/e3aa44c566afc0fdc03d0bff1eec6ba009fafa3d-knockout_punches.js\"},{\"name\":null,\"type\":\"js\",\"url\":\"\\/assetserver\\/bc3dc56733ee67700b5920e9b3de853bed2be1d5-all.js\"},{\"name\":null,\"type\":\"css\",\"url\":\"\\/assetserver\\/fafc16c5e2ee886c4efbf7e34a8802c28102740e-style.css\"},{\"name\":null,\"type\":\"css\",\"url\":\"\\/assetserver\\/2f79e9f6c1ed95b38f46627527393ff4697560a7-bulma_confined.min.css\"}],\"type\":\"async_block\"},\"id\":\"11015412332523180798\",\"handlers\":{\"options_js\":[\"(function (val){return (val!=this.model[\\\"options_js\\\"]()) ? (this.valueFromJulia[\\\"options_js\\\"]=true, this.model[\\\"options_js\\\"](val)) : undefined})\"],\"index\":[\"(function (val){return (val!=this.model[\\\"index\\\"]()) ? (this.valueFromJulia[\\\"index\\\"]=true, this.model[\\\"index\\\"](val)) : undefined})\"]},\"systemjs_options\":null,\"mount_callbacks\":[\"function () {\\n    var handler = (function (ko, koPunches) {\\n    ko.punches.enableAll();\\n    ko.bindingHandlers.numericValue = {\\n        init: function(element, valueAccessor, allBindings, data, context) {\\n            var stringified = ko.observable(ko.unwrap(valueAccessor()));\\n            stringified.subscribe(function(value) {\\n                var val = parseFloat(value);\\n                if (!isNaN(val)) {\\n                    valueAccessor()(val);\\n                }\\n            });\\n            valueAccessor().subscribe(function(value) {\\n                var str = JSON.stringify(value);\\n                if ((str == \\\"0\\\") && ([\\\"-0\\\", \\\"-0.\\\"].indexOf(stringified()) >= 0))\\n                     return;\\n                 if ([\\\"null\\\", \\\"\\\"].indexOf(str) >= 0)\\n                     return;\\n                stringified(str);\\n            });\\n            ko.applyBindingsToNode(\\n                element,\\n                {\\n                    value: stringified,\\n                    valueUpdate: allBindings.get('valueUpdate'),\\n                },\\n                context,\\n            );\\n        }\\n    };\\n    var json_data = {\\\"options_js\\\":WebIO.getval({\\\"name\\\":\\\"options_js\\\",\\\"scope\\\":\\\"11015412332523180798\\\",\\\"id\\\":\\\"5\\\",\\\"type\\\":\\\"observable\\\"}),\\\"index\\\":WebIO.getval({\\\"name\\\":\\\"index\\\",\\\"scope\\\":\\\"11015412332523180798\\\",\\\"id\\\":\\\"4\\\",\\\"type\\\":\\\"observable\\\"})};\\n    var self = this;\\n    function AppViewModel() {\\n        for (var key in json_data) {\\n            var el = json_data[key];\\n            this[key] = Array.isArray(el) ? ko.observableArray(el) : ko.observable(el);\\n        }\\n        [this[\\\"update\\\"]=function (val) {this.index(val)}]\\n        \\n        [this[\\\"options_js\\\"].subscribe((function (val){!(this.valueFromJulia[\\\"options_js\\\"]) ? (WebIO.setval({\\\"name\\\":\\\"options_js\\\",\\\"scope\\\":\\\"11015412332523180798\\\",\\\"id\\\":\\\"5\\\",\\\"type\\\":\\\"observable\\\"},val)) : undefined; return this.valueFromJulia[\\\"options_js\\\"]=false}),self),this[\\\"index\\\"].subscribe((function (val){!(this.valueFromJulia[\\\"index\\\"]) ? (WebIO.setval({\\\"name\\\":\\\"index\\\",\\\"scope\\\":\\\"11015412332523180798\\\",\\\"id\\\":\\\"4\\\",\\\"type\\\":\\\"observable\\\"},val)) : undefined; return this.valueFromJulia[\\\"index\\\"]=false}),self)]\\n        \\n    }\\n    self.model = new AppViewModel();\\n    self.valueFromJulia = {};\\n    for (var key in json_data) {\\n        self.valueFromJulia[key] = false;\\n    }\\n    ko.applyBindings(self.model, self.dom);\\n}\\n);\\n    (WebIO.importBlock({\\\"data\\\":[{\\\"name\\\":\\\"knockout\\\",\\\"type\\\":\\\"js\\\",\\\"url\\\":\\\"\\/assetserver\\/6128749f40ce9b582ca271d4e44ad8bca6523bec-knockout.js\\\"},{\\\"name\\\":\\\"knockout_punches\\\",\\\"type\\\":\\\"js\\\",\\\"url\\\":\\\"\\/assetserver\\/e3aa44c566afc0fdc03d0bff1eec6ba009fafa3d-knockout_punches.js\\\"}],\\\"type\\\":\\\"async_block\\\"})).then((imports) => handler.apply(this, imports));\\n}\\n\"],\"observables\":{\"options_js\":{\"sync\":false,\"id\":\"5\",\"value\":[{\"key\":\"Matemática\",\"val\":1,\"id\":\"id5x5JTxTS\"},{\"key\":\"Português\",\"val\":2,\"id\":\"idPDlqt4gk\"},{\"key\":\"História\",\"val\":3,\"id\":\"idp6st2FTj\"}]},\"index\":{\"sync\":true,\"id\":\"4\",\"value\":1}}},\"children\":[{\"props\":{\"className\":\"interact-flex-row interact-widget\"},\"nodeType\":\"DOM\",\"type\":\"node\",\"instanceArgs\":{\"namespace\":\"html\",\"tag\":\"div\"},\"children\":[{\"props\":{\"className\":\"interact-flex-row-left\"},\"nodeType\":\"DOM\",\"type\":\"node\",\"instanceArgs\":{\"namespace\":\"html\",\"tag\":\"div\"},\"children\":[{\"props\":{\"className\":\"interact \",\"style\":{\"padding\":\"5px 10px 0px 10px\"}},\"nodeType\":\"DOM\",\"type\":\"node\",\"instanceArgs\":{\"namespace\":\"html\",\"tag\":\"label\"},\"children\":[\"d\"]}]},{\"props\":{\"className\":\"interact-flex-row-center\"},\"nodeType\":\"DOM\",\"type\":\"node\",\"instanceArgs\":{\"namespace\":\"html\",\"tag\":\"div\"},\"children\":[{\"props\":{\"attributes\":{\"data-bind\":\"foreach : options_js\"},\"className\":\"buttons has-addons is-centered\"},\"nodeType\":\"DOM\",\"type\":\"node\",\"instanceArgs\":{\"namespace\":\"html\",\"tag\":\"div\"},\"children\":[{\"props\":{\"attributes\":{\"data-bind\":\"click: function (){$root.update(val)}, css: {'is-primary is-selected' : $root.index() == val, 'interact-widget is-medium button ' : true}\"}},\"nodeType\":\"DOM\",\"type\":\"node\",\"instanceArgs\":{\"namespace\":\"html\",\"tag\":\"span\"},\"children\":[{\"props\":{\"attributes\":{\"data-bind\":\"text : key\"}},\"nodeType\":\"DOM\",\"type\":\"node\",\"instanceArgs\":{\"namespace\":\"html\",\"tag\":\"label\"},\"children\":[]}]}]}]},{\"props\":{\"className\":\"interact-flex-row-right\"},\"nodeType\":\"DOM\",\"type\":\"node\",\"instanceArgs\":{\"namespace\":\"html\",\"tag\":\"div\"},\"children\":[{\"props\":{},\"nodeType\":\"DOM\",\"type\":\"node\",\"instanceArgs\":{\"namespace\":\"html\",\"tag\":\"div\"},\"children\":[]}]}]}]}]},{\"props\":{},\"nodeType\":\"Scope\",\"type\":\"node\",\"instanceArgs\":{\"imports\":{\"data\":[],\"type\":\"async_block\"},\"id\":\"13910913649354186679\",\"handlers\":{},\"systemjs_options\":null,\"mount_callbacks\":[],\"observables\":{\"obs-node\":{\"sync\":false,\"id\":\"9\",\"value\":{\"props\":{\"className\":\"interact-flex-row interact-widget\"},\"nodeType\":\"DOM\",\"type\":\"node\",\"instanceArgs\":{\"namespace\":\"html\",\"tag\":\"div\"},\"children\":[\"\"]}}}},\"children\":[{\"props\":{},\"nodeType\":\"ObservableNode\",\"type\":\"node\",\"instanceArgs\":{\"id\":\"9\",\"name\":\"obs-node\"},\"children\":[]}]}]},\n",
       "        window,\n",
       "    );\n",
       "    })()\n",
       "    </script>\n",
       "</div>\n"
      ],
      "text/plain": [
       "Node{WebIO.DOM}(WebIO.DOM(:html, :div), Any[Node{WebIO.DOM}(WebIO.DOM(:html, :div), Any[Scope(Node{WebIO.DOM}(WebIO.DOM(:html, :div), Any[Node{WebIO.DOM}(WebIO.DOM(:html, :div), Any[Node{WebIO.DOM}(WebIO.DOM(:html, :label), Any[\"d\"], Dict{Symbol, Any}(:className => \"interact \", :style => Dict{Any, Any}(:padding => \"5px 10px 0px 10px\")))], Dict{Symbol, Any}(:className => \"interact-flex-row-left\")), Node{WebIO.DOM}(WebIO.DOM(:html, :div), Any[Node{WebIO.DOM}(WebIO.DOM(:html, :div), Any[Node{WebIO.DOM}(WebIO.DOM(:html, :span), Any[Node{WebIO.DOM}(WebIO.DOM(:html, :label), Any[], Dict{Symbol, Any}(:attributes => Dict(\"data-bind\" => \"text : key\")))], Dict{Symbol, Any}(:attributes => Dict(\"data-bind\" => \"click: function (){\\$root.update(val)}, css: {'is-primary is-selected' : \\$root.index() == val, 'interact-widget is-medium button ' : true}\")))], Dict{Symbol, Any}(:attributes => (\"data-bind\" => \"foreach : options_js\"), :className => \"buttons has-addons is-centered\"))], Dict{Symbol, Any}(:className => \"interact-flex-row-center\")), Node{WebIO.DOM}(WebIO.DOM(:html, :div), Any[Node{WebIO.DOM}(WebIO.DOM(:html, :div), Any[], Dict{Symbol, Any}())], Dict{Symbol, Any}(:className => \"interact-flex-row-right\"))], Dict{Symbol, Any}(:className => \"interact-flex-row interact-widget\")), Dict{String, Tuple{AbstractObservable, Union{Nothing, Bool}}}(\"options_js\" => (Observable(OrderedDict[OrderedDict{String, Any}(\"key\" => \"Matemática\", \"val\" => 1, \"id\" => \"id5x5JTxTS\"), OrderedDict{String, Any}(\"key\" => \"Português\", \"val\" => 2, \"id\" => \"idPDlqt4gk\"), OrderedDict{String, Any}(\"key\" => \"História\", \"val\" => 3, \"id\" => \"idp6st2FTj\")]), nothing), \"index\" => (Observable{Any}(1), nothing)), Set{String}(), nothing, Asset[Asset(\"js\", \"knockout\", \"C:\\\\Users\\\\Emti Prefeita Meire\\\\.julia\\\\packages\\\\Knockout\\\\HReiN\\\\src\\\\..\\\\assets\\\\knockout.js\"), Asset(\"js\", \"knockout_punches\", \"C:\\\\Users\\\\Emti Prefeita Meire\\\\.julia\\\\packages\\\\Knockout\\\\HReiN\\\\src\\\\..\\\\assets\\\\knockout_punches.js\"), Asset(\"js\", nothing, \"C:\\\\Users\\\\Emti Prefeita Meire\\\\.julia\\\\packages\\\\InteractBase\\\\LJXv3\\\\src\\\\..\\\\assets\\\\all.js\"), Asset(\"css\", nothing, \"C:\\\\Users\\\\Emti Prefeita Meire\\\\.julia\\\\packages\\\\InteractBase\\\\LJXv3\\\\src\\\\..\\\\assets\\\\style.css\"), Asset(\"css\", nothing, \"C:\\\\Users\\\\Emti Prefeita Meire\\\\.julia\\\\packages\\\\Interact\\\\PENUy\\\\src\\\\..\\\\assets\\\\bulma_confined.min.css\")], Dict{Any, Any}(\"options_js\" => Any[WebIO.JSString(\"(function (val){return (val!=this.model[\\\"options_js\\\"]()) ? (this.valueFromJulia[\\\"options_js\\\"]=true, this.model[\\\"options_js\\\"](val)) : undefined})\")], \"index\" => Any[WebIO.JSString(\"(function (val){return (val!=this.model[\\\"index\\\"]()) ? (this.valueFromJulia[\\\"index\\\"]=true, this.model[\\\"index\\\"](val)) : undefined})\")]), WebIO.ConnectionPool(Channel{Any}(32), Set{AbstractConnection}(), Base.GenericCondition{ReentrantLock}(Base.IntrusiveLinkedList{Task}(Task (runnable) @0x000001ef1aaf0200, Task (runnable) @0x000001ef1aaf0200), ReentrantLock(nothing, 0x00000000, 0x00, Base.GenericCondition{Base.Threads.SpinLock}(Base.IntrusiveLinkedList{Task}(nothing, nothing), Base.Threads.SpinLock(0)), (0, 0, 418569587045)))), WebIO.JSString[WebIO.JSString(\"function () {\\n    var handler = (function (ko, koPunches) {\\n    ko.punches.enableAll();\\n    ko.bindingHandlers.numericValue = {\\n        init: function(element, valueAccessor, allBindings, data, context) {\\n            var stringified = ko.observable(ko.unwrap(valueAccessor()));\\n            stringified.subscribe(function(value) {\\n                var val = parseFloat(value);\\n                if (!isNaN(val)) {\\n                    valueAccessor()(val);\\n                }\\n            });\\n            valueAccessor().subscribe(function(value) {\\n                var str = JSON.stringify(value);\\n                if ((str == \\\"0\\\") && ([\\\"-0\\\", \\\"-0.\\\"].indexOf(stringified()) >= 0))\\n                     return;\\n                 if ([\\\"null\\\", \\\"\\\"].indexOf(str) >= 0)\\n                     return;\\n                stringified(str);\\n            });\\n            ko.applyBindingsToNode(\\n                element,\\n                {\\n                    value: stringified,\\n                    valueUpdate: allBindings.get('valueUpdate'),\\n                },\\n                context,\\n            );\\n        }\\n    };\\n    var json_data = {\\\"options_js\\\":WebIO.getval({\\\"name\\\":\\\"options_js\\\",\\\"scope\\\":\\\"11015412332523180798\\\",\\\"id\\\":\\\"5\\\",\\\"type\\\":\\\"observable\\\"}),\\\"index\\\":WebIO.getval({\\\"name\\\":\\\"index\\\",\\\"scope\\\":\\\"11015412332523180798\\\",\\\"id\\\":\\\"4\\\",\\\"type\\\":\\\"observable\\\"})};\\n    var self = this;\\n    function AppViewModel() {\\n        for (var key in json_data) {\\n            var el = json_data[key];\\n            this[key] = Array.isArray(el) ? ko.observableArray(el) : ko.observable(el);\\n        }\\n        [this[\\\"update\\\"]=function (val) {this.index(val)}]\\n        \\n        [this[\\\"options_js\\\"].subscribe((function (val){!(this.valueFromJulia[\\\"options_js\\\"]) ? (WebIO.setval({\\\"name\\\":\\\"options_js\\\",\\\"scope\\\":\\\"11015412332523180798\\\",\\\"id\\\":\\\"5\\\",\\\"type\\\":\\\"observable\\\"},val)) : undefined; return this.valueFromJulia[\\\"options_js\\\"]=false}),self),this[\\\"index\\\"].subscribe((function (val){!(this.valueFromJulia[\\\"index\\\"]) ? (WebIO.setval({\\\"name\\\":\\\"index\\\",\\\"scope\\\":\\\"11015412332523180798\\\",\\\"id\\\":\\\"4\\\",\\\"type\\\":\\\"observable\\\"},val)) : undefined; return this.valueFromJulia[\\\"index\\\"]=false}),self)]\\n        \\n    }\\n    self.model = new AppViewModel();\\n    self.valueFromJulia = {};\\n    for (var key in json_data) {\\n        self.valueFromJulia[key] = false;\\n    }\\n    ko.applyBindings(self.model, self.dom);\\n}\\n);\\n    (WebIO.importBlock({\\\"data\\\":[{\\\"name\\\":\\\"knockout\\\",\\\"type\\\":\\\"js\\\",\\\"url\\\":\\\"/assetserver/6128749f40ce9b582ca271d4e44ad8bca6523bec-knockout.js\\\"},{\\\"name\\\":\\\"knockout_punches\\\",\\\"type\\\":\\\"js\\\",\\\"url\\\":\\\"/assetserver/e3aa44c566afc0fdc03d0bff1eec6ba009fafa3d-knockout_punches.js\\\"}],\\\"type\\\":\\\"async_block\\\"})).then((imports) => handler.apply(this, imports));\\n}\\n\")])], Dict{Symbol, Any}(:className => \"interact-widget\")), Observable(Node{WebIO.DOM}(WebIO.DOM(:html, :div), Any[nothing], Dict{Symbol, Any}(:className => \"interact-flex-row interact-widget\")))], Dict{Symbol, Any}())"
      ]
     },
     "execution_count": 1,
     "metadata": {},
     "output_type": "execute_result"
    }
   ],
   "source": [
    "using Interact\n",
    "\n",
    "@manipulate for d in [\"Matemática\", \"Português\", \"História\"]\n",
    "    println(\"Você escolheu: $d\")\n",
    "end"
   ]
  },
  {
   "cell_type": "code",
   "execution_count": 2,
   "id": "36f68273",
   "metadata": {},
   "outputs": [
    {
     "ename": "LoadError",
     "evalue": "UndefVarError: `jupyter` not defined",
     "output_type": "error",
     "traceback": [
      "UndefVarError: `jupyter` not defined",
      ""
     ]
    }
   ],
   "source": [
    "\n"
   ]
  },
  {
   "cell_type": "code",
   "execution_count": null,
   "id": "fbafbfa7",
   "metadata": {},
   "outputs": [],
   "source": []
  }
 ],
 "metadata": {
  "kernelspec": {
   "display_name": "Julia 1.10.5",
   "language": "julia",
   "name": "julia-1.10"
  },
  "language_info": {
   "file_extension": ".jl",
   "mimetype": "application/julia",
   "name": "julia",
   "version": "1.10.5"
  }
 },
 "nbformat": 4,
 "nbformat_minor": 5
}
