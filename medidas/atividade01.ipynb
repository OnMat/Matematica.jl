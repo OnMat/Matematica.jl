{
 "cells": [
  {
   "cell_type": "markdown",
   "id": "1d0a8007",
   "metadata": {},
   "source": [
    "<hr style=\"width: 100%; height: 2px; background-color: blue; border: none;margin: auto;\">\n",
    "<center><h1>  Unidades de Medidas - Massa</h1><br>\n",
    "<hr style=\"width: 100%; height: 2px; background-color: blue; border: none;margin: auto;\">"
   ]
  },
  {
   "cell_type": "markdown",
   "id": "3b20f83e",
   "metadata": {},
   "source": [
    "## Descritores do SPAECE relacionados\n",
    "- **D15:** Resolver problema utilizando relações entre diferentes unidades de medida.\n",
    "---"
   ]
  },
  {
   "cell_type": "markdown",
   "id": "fb033318",
   "metadata": {},
   "source": [
    "## O que é massa?\n",
    "---\n",
    "A massa é uma grandeza física fundamental. Segundo a mecânica newtoniana, ela dá a medida da inércia ou da resistência de um corpo em ter seu movimento acelerado. Ela também é a origem da força gravitacional, atuante sobre os corpos no Univers. \n",
    "\n",
    "Fonte:\n",
    "> [Diferença entre massa e peso — UOL Educação](https://educacao.uol.com.br/disciplinas/fisica/massa-e-peso-descubra-a-diferenca-entre-esses-conceitos.htm?cmpid=copiaecola)"
   ]
  },
  {
   "cell_type": "markdown",
   "id": "a010efa9",
   "metadata": {},
   "source": [
    "## Como mensurar?\n",
    "---\n",
    "\n",
    "A massa de um corpo pode ser mensurada por meio de **balanças**, instrumentos que comparam a massa do objeto com padrões de referência.\n",
    "\n",
    "Existem diferentes tipos de balanças, como:\n",
    "- a **balança de prato**, comumente usada em feiras e comércios;\n",
    "- a **balança digital**, bastante presente em residências e laboratórios;\n",
    "- e a **balança de precisão**, ideal para medições em ambientes científicos, que exigem alta exatidão."
   ]
  },
  {
   "cell_type": "markdown",
   "id": "dbf0b477",
   "metadata": {},
   "source": [
    "<center><img src=\"balança.jpg\" alt=\"imagem de diversas balanças\" width=\"400\"></center>"
   ]
  },
  {
   "cell_type": "markdown",
   "id": "36beb082",
   "metadata": {},
   "source": [
    "###  Unidades de medida de massa no Sistema Internacional (SI)\n",
    "---\n",
    "No Sistema Internacional de Unidades (SI), a unidade padrão de massa é o **quilograma (kg)**.\n",
    "\n",
    "Apesar disso, no cotidiano, também utilizamos outras unidades, como o **grama (g)** — muito comum em receitas e embalagens de alimentos — e a **tonelada (t)**, usada para medir grandes massas, como cargas e veículos pesados.\n",
    "\n",
    "\n"
   ]
  },
  {
   "cell_type": "markdown",
   "id": "00c9a3e3",
   "metadata": {},
   "source": [
    "### Como fazer a conversão entre essas unidades?\n",
    "\n",
    "Usaremos o quilograma (kg) como referência para realizar conversões entre as unidades grama (g) e tonelada (t).\n",
    "\n",
    "As relações mais comuns são:\n",
    "\n",
    "- 1 quilograma (kg) = 1.000 gramas (g)  \n",
    "- 1 tonelada (t) = 1.000 quilogramas (kg)\n",
    "\n",
    "Para converter entre essas unidades, basta multiplicar ou dividir por 1.000, dependendo da direção da conversão.\n",
    "\n",
    "---\n",
    "\n",
    "### Exemplos de conversão:\n",
    "\n",
    "- 3 kg = 3 × 1.000 = 3.000 g  \n",
    "- 2 t = 2 × 1.000 = 2.000 kg\n"
   ]
  }
 ],
 "metadata": {
  "@webio": {
   "lastCommId": "09d769bcaa9c4ba38089d3464b747a30",
   "lastKernelId": "74d5d942-2357-4d45-9808-15e4b32defd3"
  },
  "kernelspec": {
   "display_name": "Julia 1.10.5",
   "language": "julia",
   "name": "julia-1.10"
  },
  "language_info": {
   "file_extension": ".jl",
   "mimetype": "application/julia",
   "name": "julia",
   "version": "1.10.5"
  }
 },
 "nbformat": 4,
 "nbformat_minor": 5
}
